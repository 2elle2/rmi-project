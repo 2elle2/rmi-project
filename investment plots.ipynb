{
 "cells": [
  {
   "cell_type": "code",
   "execution_count": 1,
   "id": "33393989",
   "metadata": {},
   "outputs": [],
   "source": [
    "import pandas as pd\n",
    "import numpy as np\n",
    "import matplotlib.pyplot as plt"
   ]
  },
  {
   "cell_type": "code",
   "execution_count": 4,
   "id": "a43530c1",
   "metadata": {},
   "outputs": [
    {
     "data": {
      "text/html": [
       "<div>\n",
       "<style scoped>\n",
       "    .dataframe tbody tr th:only-of-type {\n",
       "        vertical-align: middle;\n",
       "    }\n",
       "\n",
       "    .dataframe tbody tr th {\n",
       "        vertical-align: top;\n",
       "    }\n",
       "\n",
       "    .dataframe thead th {\n",
       "        text-align: right;\n",
       "    }\n",
       "</style>\n",
       "<table border=\"1\" class=\"dataframe\">\n",
       "  <thead>\n",
       "    <tr style=\"text-align: right;\">\n",
       "      <th></th>\n",
       "      <th>utility_name</th>\n",
       "      <th>year</th>\n",
       "      <th>investment_value</th>\n",
       "    </tr>\n",
       "  </thead>\n",
       "  <tbody>\n",
       "    <tr>\n",
       "      <th>242</th>\n",
       "      <td>Alabama Power Co.</td>\n",
       "      <td>2020</td>\n",
       "      <td>129059811.0</td>\n",
       "    </tr>\n",
       "    <tr>\n",
       "      <th>273</th>\n",
       "      <td>Alabama Power Co.</td>\n",
       "      <td>2019</td>\n",
       "      <td>59700604.0</td>\n",
       "    </tr>\n",
       "    <tr>\n",
       "      <th>304</th>\n",
       "      <td>Alabama Power Co.</td>\n",
       "      <td>2018</td>\n",
       "      <td>104170820.0</td>\n",
       "    </tr>\n",
       "    <tr>\n",
       "      <th>335</th>\n",
       "      <td>Alabama Power Co.</td>\n",
       "      <td>2017</td>\n",
       "      <td>79121368.0</td>\n",
       "    </tr>\n",
       "    <tr>\n",
       "      <th>366</th>\n",
       "      <td>Alabama Power Co.</td>\n",
       "      <td>2016</td>\n",
       "      <td>94585351.0</td>\n",
       "    </tr>\n",
       "    <tr>\n",
       "      <th>...</th>\n",
       "      <td>...</td>\n",
       "      <td>...</td>\n",
       "      <td>...</td>\n",
       "    </tr>\n",
       "    <tr>\n",
       "      <th>51461</th>\n",
       "      <td>Entergy Louisiana, LLC</td>\n",
       "      <td>2019</td>\n",
       "      <td>298466290.0</td>\n",
       "    </tr>\n",
       "    <tr>\n",
       "      <th>51482</th>\n",
       "      <td>Entergy Louisiana, LLC</td>\n",
       "      <td>2018</td>\n",
       "      <td>120892141.0</td>\n",
       "    </tr>\n",
       "    <tr>\n",
       "      <th>51502</th>\n",
       "      <td>Entergy Louisiana, LLC</td>\n",
       "      <td>2017</td>\n",
       "      <td>242376087.0</td>\n",
       "    </tr>\n",
       "    <tr>\n",
       "      <th>51522</th>\n",
       "      <td>Entergy Louisiana, LLC</td>\n",
       "      <td>2016</td>\n",
       "      <td>369484426.0</td>\n",
       "    </tr>\n",
       "    <tr>\n",
       "      <th>51542</th>\n",
       "      <td>Entergy Louisiana, LLC</td>\n",
       "      <td>2015</td>\n",
       "      <td>47022298.0</td>\n",
       "    </tr>\n",
       "  </tbody>\n",
       "</table>\n",
       "<p>513 rows × 3 columns</p>\n",
       "</div>"
      ],
      "text/plain": [
       "                 utility_name  year  investment_value\n",
       "242         Alabama Power Co.  2020       129059811.0\n",
       "273         Alabama Power Co.  2019        59700604.0\n",
       "304         Alabama Power Co.  2018       104170820.0\n",
       "335         Alabama Power Co.  2017        79121368.0\n",
       "366         Alabama Power Co.  2016        94585351.0\n",
       "...                       ...   ...               ...\n",
       "51461  Entergy Louisiana, LLC  2019       298466290.0\n",
       "51482  Entergy Louisiana, LLC  2018       120892141.0\n",
       "51502  Entergy Louisiana, LLC  2017       242376087.0\n",
       "51522  Entergy Louisiana, LLC  2016       369484426.0\n",
       "51542  Entergy Louisiana, LLC  2015        47022298.0\n",
       "\n",
       "[513 rows x 3 columns]"
      ]
     },
     "execution_count": 4,
     "metadata": {},
     "output_type": "execute_result"
    }
   ],
   "source": [
    "df=pd.read_csv('assets_earnings_investments.csv')\n",
    "nuclear=df.loc[(df['asset']=='nuclear')]\n",
    "nuclear=nuclear.drop(columns=['sub_asset','respondent_id','asset_value', 'earnings_value','parent_name','asset'])\n",
    "nuclear"
   ]
  },
  {
   "cell_type": "code",
   "execution_count": 6,
   "id": "512c565c",
   "metadata": {},
   "outputs": [
    {
     "data": {
      "text/plain": [
       "[<matplotlib.lines.Line2D at 0x1d328b93730>]"
      ]
     },
     "execution_count": 6,
     "metadata": {},
     "output_type": "execute_result"
    },
    {
     "data": {
      "image/png": "[encoded data removed]",
      "text/plain": [
       "<Figure size 432x288 with 1 Axes>"
      ]
     },
     "metadata": {
      "needs_background": "light"
     },
     "output_type": "display_data"
    }
   ],
   "source": [
    "coal = df.loc[(df['asset']=='steam')]\n",
    "coal= coal.drop(columns=['asset','sub_asset','respondent_id','parent_name','asset_value', 'earnings_value'])\n",
    "nuclearplot=nuclear.loc[(nuclear['utility_name']=='Alabama Power Co.')]\n",
    "plt.plot(nuclearplot['year'], nuclearplot['investment_value'])"
   ]
  },
  {
   "cell_type": "code",
   "execution_count": null,
   "id": "a88a26f5",
   "metadata": {},
   "outputs": [],
   "source": []
  }
 ],
 "metadata": {
  "kernelspec": {
   "display_name": "Python 3 (ipykernel)",
   "language": "python",
   "name": "python3"
  },
  "language_info": {
   "codemirror_mode": {
    "name": "ipython",
    "version": 3
   },
   "file_extension": ".py",
   "mimetype": "text/x-python",
   "name": "python",
   "nbconvert_exporter": "python",
   "pygments_lexer": "ipython3",
   "version": "3.9.7"
  }
 },
 "nbformat": 4,
 "nbformat_minor": 5
}

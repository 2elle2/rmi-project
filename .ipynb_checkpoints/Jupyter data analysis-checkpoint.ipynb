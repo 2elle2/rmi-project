{
 "cells": [
  {
   "cell_type": "code",
   "execution_count": 5,
   "metadata": {},
   "outputs": [
    {
     "name": "stdout",
     "output_type": "stream",
     "text": [
      "Requirement already satisfied: pandas in /Users/michelleleung/opt/miniconda3/lib/python3.9/site-packages (1.4.1)\n",
      "Requirement already satisfied: python-dateutil>=2.8.1 in /Users/michelleleung/opt/miniconda3/lib/python3.9/site-packages (from pandas) (2.8.2)\n",
      "Requirement already satisfied: pytz>=2020.1 in /Users/michelleleung/opt/miniconda3/lib/python3.9/site-packages (from pandas) (2022.1)\n",
      "Requirement already satisfied: numpy>=1.18.5 in /Users/michelleleung/opt/miniconda3/lib/python3.9/site-packages (from pandas) (1.22.3)\n",
      "Requirement already satisfied: six>=1.5 in /Users/michelleleung/opt/miniconda3/lib/python3.9/site-packages (from python-dateutil>=2.8.1->pandas) (1.16.0)\n"
     ]
    }
   ],
   "source": [
    "!pip3 install pandas --user"
   ]
  },
  {
   "cell_type": "code",
   "execution_count": 4,
   "metadata": {},
   "outputs": [],
   "source": [
    "# Libraries used\n",
    "import pandas as pd\n",
    "import numpy as np\n",
    "import matplotlib.pyplot as plt \n",
    "\n",
    "%matplotlib inline"
   ]
  },
  {
   "cell_type": "code",
   "execution_count": 5,
   "metadata": {},
   "outputs": [
    {
     "name": "stdout",
     "output_type": "stream",
     "text": [
      "                         parent_name        utility_name  respondent_id  year  \\\n",
      "0  American Electric Power Co., Inc.  AEP Generating Co.            1.0  2020   \n",
      "1  American Electric Power Co., Inc.  AEP Generating Co.            1.0  2020   \n",
      "2  American Electric Power Co., Inc.  AEP Generating Co.            1.0  2020   \n",
      "3  American Electric Power Co., Inc.  AEP Generating Co.            1.0  2020   \n",
      "4  American Electric Power Co., Inc.  AEP Generating Co.            1.0  2020   \n",
      "\n",
      "   asset                           sub_asset  asset_value  earnings_value  \\\n",
      "0  other                                AROs  -15405378.0            -0.0   \n",
      "1  other  electric_plant_held_for_future_use    1034099.0             0.0   \n",
      "2  other     electric_plant_leased_to_others  155616036.0             0.0   \n",
      "3  other                       general_plant     427318.0             0.0   \n",
      "4  other                    intangible_plant     724784.0             0.0   \n",
      "\n",
      "   investment_value  \n",
      "0               NaN  \n",
      "1               NaN  \n",
      "2               NaN  \n",
      "3            1846.0  \n",
      "4               NaN  \n"
     ]
    }
   ],
   "source": [
    "investments_df = pd.read_csv('assets_earnings_investments.csv') \n",
    "\n",
    "print(investments_df.head(5))"
   ]
  },
  {
   "cell_type": "code",
   "execution_count": 23,
   "metadata": {},
   "outputs": [
    {
     "name": "stdout",
     "output_type": "stream",
     "text": [
      "['4C Acquisition, LLC', 'AEP Appalachian Transmission Co., Inc.', 'AEP Generating Co.', 'AEP Generation Resources Inc.', 'AEP Indiana Michigan Transmission Co., Inc.', 'AEP Kentucky Transmission Co., Inc.', 'AEP Ohio Transmission Co., Inc.', 'AEP Oklahoma Transmission Co., Inc.', 'AEP Southwestern Transmission Co., Inc.', 'AEP Texas Central Co.']\n"
     ]
    }
   ],
   "source": [
    "utilities = investments_df['utility_name'].unique()\n",
    "print(sorted(utilities)[:10])  # print first 10 utility names"
   ]
  },
  {
   "cell_type": "code",
   "execution_count": 24,
   "metadata": {},
   "outputs": [
    {
     "data": {
      "text/plain": [
       "283"
      ]
     },
     "execution_count": 24,
     "metadata": {},
     "output_type": "execute_result"
    }
   ],
   "source": [
    "np.count_nonzero(utilities)  # 283 total unique utilitie names"
   ]
  },
  {
   "cell_type": "code",
   "execution_count": 25,
   "metadata": {},
   "outputs": [
    {
     "data": {
      "text/plain": [
       "Dominion Energy Virginia                          498\n",
       "Georgia Power Co.                                 487\n",
       "Alabama Power Co.                                 476\n",
       "Southern California Edison Co.                    476\n",
       "Pacific Gas & Electric Co.                        463\n",
       "                                                 ... \n",
       "Citizens Sycamore-Penasquitos Transmission LLC      6\n",
       "Hagerstown Light Department                         6\n",
       "Horizon West Transmission, LLC                      6\n",
       "Pinnacle West Marketing & Trading Co. LLC           5\n",
       "Wilderness Line Holdings, LLC                       4\n",
       "Name: utility_name, Length: 283, dtype: int64"
      ]
     },
     "execution_count": 25,
     "metadata": {},
     "output_type": "execute_result"
    }
   ],
   "source": [
    "investments_df.loc[: , 'utility_name'].value_counts()"
   ]
  },
  {
   "cell_type": "code",
   "execution_count": 6,
   "metadata": {},
   "outputs": [],
   "source": [
    "filt = (assets_earnings_investments['utility_name'] == 'AEP Generating Co.')"
   ]
  },
  {
   "cell_type": "code",
   "execution_count": 13,
   "metadata": {},
   "outputs": [],
   "source": [
    "# testing on the utility \"AEP Generating Co.\"\n",
    "aep = assets_earnings_investments.loc[filt]"
   ]
  },
  {
   "cell_type": "code",
   "execution_count": 38,
   "metadata": {},
   "outputs": [
    {
     "data": {
      "image/png": "[encoded data removed]",
      "text/plain": [
       "<Figure size 432x288 with 1 Axes>"
      ]
     },
     "metadata": {
      "needs_background": "light"
     },
     "output_type": "display_data"
    }
   ],
   "source": [
    "plt.figure() \n",
    "plt.title('Asset Value for the Utility `AEP Generating Co.`\\n2005-2020') \n",
    "                                     \n",
    "plt.scatter(aep['year']\n",
    "            ,aep['asset_value']\n",
    "            ,alpha=0.1\n",
    "           )\n",
    "plt.xlabel('Year')\n",
    "plt.ylabel('Asset Value');"
   ]
  },
  {
   "cell_type": "code",
   "execution_count": 3,
   "metadata": {},
   "outputs": [
    {
     "name": "stdout",
     "output_type": "stream",
     "text": [
      "    parent_name       utility_name  respondent_id  year percent_AMI ownership  \\\n",
      "0  Southern Co.  Alabama Power Co.            2.0  2020       0-30%     owner   \n",
      "1  Southern Co.  Alabama Power Co.            2.0  2020       0-30%     owner   \n",
      "2  Southern Co.  Alabama Power Co.            2.0  2020       0-30%     owner   \n",
      "\n",
      "  electricity_gas_other    technology   expenditure       bill    burden  \n",
      "0           Electricity    adjustment  9.276270e+06   8.394506  0.009773  \n",
      "1           Electricity  distribution  3.017570e+07  27.307328  0.031792  \n",
      "2           Electricity         hydro  4.312818e+06   3.902860  0.004544  \n"
     ]
    }
   ],
   "source": [
    "expenditure_bills_burden = pd.read_csv('expenditure_bills_burden.csv')\n",
    "\n",
    "print(expenditure_bills_burden.head(3))"
   ]
  },
  {
   "cell_type": "code",
   "execution_count": null,
   "metadata": {},
   "outputs": [],
   "source": []
  }
 ],
 "metadata": {
  "kernelspec": {
   "display_name": "Python 3",
   "language": "python",
   "name": "python3"
  },
  "language_info": {
   "codemirror_mode": {
    "name": "ipython",
    "version": 3
   },
   "file_extension": ".py",
   "mimetype": "text/x-python",
   "name": "python",
   "nbconvert_exporter": "python",
   "pygments_lexer": "ipython3",
   "version": "3.8.5"
  }
 },
 "nbformat": 4,
 "nbformat_minor": 4
}

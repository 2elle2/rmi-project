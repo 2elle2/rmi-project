{
 "cells": [
  {
   "cell_type": "markdown",
   "metadata": {},
   "source": [
    "## SEC x RMI Project\n"
   ]
  },
  {
   "cell_type": "code",
   "execution_count": 5,
   "metadata": {},
   "outputs": [
    {
     "name": "stdout",
     "output_type": "stream",
     "text": [
      "Requirement already satisfied: pandas in /Users/michelleleung/opt/miniconda3/lib/python3.9/site-packages (1.4.1)\n",
      "Requirement already satisfied: python-dateutil>=2.8.1 in /Users/michelleleung/opt/miniconda3/lib/python3.9/site-packages (from pandas) (2.8.2)\n",
      "Requirement already satisfied: pytz>=2020.1 in /Users/michelleleung/opt/miniconda3/lib/python3.9/site-packages (from pandas) (2022.1)\n",
      "Requirement already satisfied: numpy>=1.18.5 in /Users/michelleleung/opt/miniconda3/lib/python3.9/site-packages (from pandas) (1.22.3)\n",
      "Requirement already satisfied: six>=1.5 in /Users/michelleleung/opt/miniconda3/lib/python3.9/site-packages (from python-dateutil>=2.8.1->pandas) (1.16.0)\n"
     ]
    }
   ],
   "source": [
    "!pip3 install pandas --user"
   ]
  },
  {
   "cell_type": "markdown",
   "metadata": {},
   "source": [
    "### Imports"
   ]
  },
  {
   "cell_type": "code",
   "execution_count": 1,
   "metadata": {},
   "outputs": [],
   "source": [
    "# Libraries used\n",
    "import pandas as pd\n",
    "import numpy as np\n",
    "import matplotlib.pyplot as plt \n",
    "\n",
    "%matplotlib inline"
   ]
  },
  {
   "cell_type": "markdown",
   "metadata": {},
   "source": [
    "### Burden calculation"
   ]
  },
  {
   "cell_type": "markdown",
   "metadata": {},
   "source": [
    "#### Initial look at expenditure_bills_burden.csv file"
   ]
  },
  {
   "cell_type": "code",
   "execution_count": 4,
   "metadata": {},
   "outputs": [],
   "source": [
    "# Load the expenditure_bills_burden.csv file into a pandas DataFrame\n",
    "expenditure_bills_burden = pd.read_csv('expenditure_bills_burden.csv')"
   ]
  },
  {
   "cell_type": "code",
   "execution_count": 30,
   "metadata": {},
   "outputs": [
    {
     "data": {
      "text/plain": [
       "Index(['parent_name', 'utility_name', 'respondent_id', 'year', 'percent_AMI',\n",
       "       'ownership', 'electricity_gas_other', 'technology', 'expenditure',\n",
       "       'bill', 'burden'],\n",
       "      dtype='object')"
      ]
     },
     "execution_count": 30,
     "metadata": {},
     "output_type": "execute_result"
    }
   ],
   "source": [
    "# Print column names of the dataframe\n",
    "print(expenditure_bills_burden.columns)"
   ]
  },
  {
   "cell_type": "code",
   "execution_count": 29,
   "metadata": {},
   "outputs": [
    {
     "data": {
      "text/html": [
       "<div>\n",
       "<style scoped>\n",
       "    .dataframe tbody tr th:only-of-type {\n",
       "        vertical-align: middle;\n",
       "    }\n",
       "\n",
       "    .dataframe tbody tr th {\n",
       "        vertical-align: top;\n",
       "    }\n",
       "\n",
       "    .dataframe thead th {\n",
       "        text-align: right;\n",
       "    }\n",
       "</style>\n",
       "<table border=\"1\" class=\"dataframe\">\n",
       "  <thead>\n",
       "    <tr style=\"text-align: right;\">\n",
       "      <th></th>\n",
       "      <th>parent_name</th>\n",
       "      <th>utility_name</th>\n",
       "      <th>respondent_id</th>\n",
       "      <th>year</th>\n",
       "      <th>percent_AMI</th>\n",
       "      <th>ownership</th>\n",
       "      <th>electricity_gas_other</th>\n",
       "      <th>technology</th>\n",
       "      <th>expenditure</th>\n",
       "      <th>bill</th>\n",
       "      <th>burden</th>\n",
       "    </tr>\n",
       "  </thead>\n",
       "  <tbody>\n",
       "    <tr>\n",
       "      <th>0</th>\n",
       "      <td>Southern Co.</td>\n",
       "      <td>Alabama Power Co.</td>\n",
       "      <td>2.0</td>\n",
       "      <td>2020</td>\n",
       "      <td>0-30%</td>\n",
       "      <td>owner</td>\n",
       "      <td>Electricity</td>\n",
       "      <td>adjustment</td>\n",
       "      <td>9.276270e+06</td>\n",
       "      <td>8.394506</td>\n",
       "      <td>0.009773</td>\n",
       "    </tr>\n",
       "    <tr>\n",
       "      <th>1</th>\n",
       "      <td>Southern Co.</td>\n",
       "      <td>Alabama Power Co.</td>\n",
       "      <td>2.0</td>\n",
       "      <td>2020</td>\n",
       "      <td>0-30%</td>\n",
       "      <td>owner</td>\n",
       "      <td>Electricity</td>\n",
       "      <td>distribution</td>\n",
       "      <td>3.017570e+07</td>\n",
       "      <td>27.307328</td>\n",
       "      <td>0.031792</td>\n",
       "    </tr>\n",
       "    <tr>\n",
       "      <th>2</th>\n",
       "      <td>Southern Co.</td>\n",
       "      <td>Alabama Power Co.</td>\n",
       "      <td>2.0</td>\n",
       "      <td>2020</td>\n",
       "      <td>0-30%</td>\n",
       "      <td>owner</td>\n",
       "      <td>Electricity</td>\n",
       "      <td>hydro</td>\n",
       "      <td>4.312818e+06</td>\n",
       "      <td>3.902860</td>\n",
       "      <td>0.004544</td>\n",
       "    </tr>\n",
       "    <tr>\n",
       "      <th>3</th>\n",
       "      <td>Southern Co.</td>\n",
       "      <td>Alabama Power Co.</td>\n",
       "      <td>2.0</td>\n",
       "      <td>2020</td>\n",
       "      <td>0-30%</td>\n",
       "      <td>owner</td>\n",
       "      <td>Electricity</td>\n",
       "      <td>nuclear</td>\n",
       "      <td>1.912960e+07</td>\n",
       "      <td>17.311221</td>\n",
       "      <td>0.020154</td>\n",
       "    </tr>\n",
       "    <tr>\n",
       "      <th>4</th>\n",
       "      <td>Southern Co.</td>\n",
       "      <td>Alabama Power Co.</td>\n",
       "      <td>2.0</td>\n",
       "      <td>2020</td>\n",
       "      <td>0-30%</td>\n",
       "      <td>owner</td>\n",
       "      <td>Electricity</td>\n",
       "      <td>other</td>\n",
       "      <td>1.578084e+07</td>\n",
       "      <td>14.280782</td>\n",
       "      <td>0.016626</td>\n",
       "    </tr>\n",
       "  </tbody>\n",
       "</table>\n",
       "</div>"
      ],
      "text/plain": [
       "    parent_name       utility_name  respondent_id  year percent_AMI ownership  \\\n",
       "0  Southern Co.  Alabama Power Co.            2.0  2020       0-30%     owner   \n",
       "1  Southern Co.  Alabama Power Co.            2.0  2020       0-30%     owner   \n",
       "2  Southern Co.  Alabama Power Co.            2.0  2020       0-30%     owner   \n",
       "3  Southern Co.  Alabama Power Co.            2.0  2020       0-30%     owner   \n",
       "4  Southern Co.  Alabama Power Co.            2.0  2020       0-30%     owner   \n",
       "\n",
       "  electricity_gas_other    technology   expenditure       bill    burden  \n",
       "0           Electricity    adjustment  9.276270e+06   8.394506  0.009773  \n",
       "1           Electricity  distribution  3.017570e+07  27.307328  0.031792  \n",
       "2           Electricity         hydro  4.312818e+06   3.902860  0.004544  \n",
       "3           Electricity       nuclear  1.912960e+07  17.311221  0.020154  \n",
       "4           Electricity         other  1.578084e+07  14.280782  0.016626  "
      ]
     },
     "execution_count": 29,
     "metadata": {},
     "output_type": "execute_result"
    }
   ],
   "source": [
    "# Show first 5 rows of dataframe\n",
    "expenditure_bills_burden.head(5)"
   ]
  },
  {
   "cell_type": "code",
   "execution_count": 32,
   "metadata": {},
   "outputs": [
    {
     "name": "stdout",
     "output_type": "stream",
     "text": [
      "              parent_name       utility_name  respondent_id           year  \\\n",
      "count              222720             222720   222720.00000  222720.000000   \n",
      "unique                 58                116            NaN            NaN   \n",
      "top     FirstEnergy Corp.  Alabama Power Co.            NaN            NaN   \n",
      "freq                19200               1920            NaN            NaN   \n",
      "mean                  NaN                NaN      115.12069    2012.500000   \n",
      "std                   NaN                NaN       74.08029       4.609783   \n",
      "min                   NaN                NaN        2.00000    2005.000000   \n",
      "25%                   NaN                NaN       56.75000    2008.750000   \n",
      "50%                   NaN                NaN      118.00000    2012.500000   \n",
      "75%                   NaN                NaN      152.75000    2016.250000   \n",
      "max                   NaN                NaN      428.00000    2020.000000   \n",
      "\n",
      "       percent_AMI ownership electricity_gas_other  technology   expenditure  \\\n",
      "count       222720    222720                222720      222720  2.227200e+05   \n",
      "unique           5         2                     3          12           NaN   \n",
      "top          0-30%     owner           Electricity  adjustment           NaN   \n",
      "freq         44544    111360                185600       18560           NaN   \n",
      "mean           NaN       NaN                   NaN         NaN  1.140471e+07   \n",
      "std            NaN       NaN                   NaN         NaN  4.541764e+07   \n",
      "min            NaN       NaN                   NaN         NaN -1.073775e+09   \n",
      "25%            NaN       NaN                   NaN         NaN  0.000000e+00   \n",
      "50%            NaN       NaN                   NaN         NaN  1.214465e+06   \n",
      "75%            NaN       NaN                   NaN         NaN  7.606203e+06   \n",
      "max            NaN       NaN                   NaN         NaN  1.950885e+09   \n",
      "\n",
      "                 bill         burden  \n",
      "count   222720.000000  222720.000000  \n",
      "unique            NaN            NaN  \n",
      "top               NaN            NaN  \n",
      "freq              NaN            NaN  \n",
      "mean        12.775329       0.005935  \n",
      "std         21.431868       0.013904  \n",
      "min       -108.411350      -0.141670  \n",
      "25%          0.000000       0.000000  \n",
      "50%          5.715011       0.001694  \n",
      "75%         17.393293       0.006411  \n",
      "max        481.785353       0.606265  \n"
     ]
    }
   ],
   "source": [
    "# Show basic statistical details of the dataframe\n",
    "print(expenditure_bills_burden.describe(include='all'))"
   ]
  },
  {
   "cell_type": "markdown",
   "metadata": {},
   "source": [
    "#### Initial look at housing_units_income.csv file"
   ]
  },
  {
   "cell_type": "code",
   "execution_count": 18,
   "metadata": {},
   "outputs": [],
   "source": [
    "# Load the housing_units_income.csv file into a pandas DataFrame\n",
    "housing_units_income = pd.read_csv('housing_units_income.csv')"
   ]
  },
  {
   "cell_type": "code",
   "execution_count": 19,
   "metadata": {},
   "outputs": [
    {
     "name": "stdout",
     "output_type": "stream",
     "text": [
      "Index(['parent_name', 'utility_name', 'respondent_id', 'year', 'percent_AMI',\n",
      "       'ownership', 'housing_units', 'income'],\n",
      "      dtype='object')\n"
     ]
    }
   ],
   "source": [
    "# Print columns of dataframe\n",
    "print(housing_units_income.columns)"
   ]
  },
  {
   "cell_type": "code",
   "execution_count": 33,
   "metadata": {},
   "outputs": [
    {
     "data": {
      "text/html": [
       "<div>\n",
       "<style scoped>\n",
       "    .dataframe tbody tr th:only-of-type {\n",
       "        vertical-align: middle;\n",
       "    }\n",
       "\n",
       "    .dataframe tbody tr th {\n",
       "        vertical-align: top;\n",
       "    }\n",
       "\n",
       "    .dataframe thead th {\n",
       "        text-align: right;\n",
       "    }\n",
       "</style>\n",
       "<table border=\"1\" class=\"dataframe\">\n",
       "  <thead>\n",
       "    <tr style=\"text-align: right;\">\n",
       "      <th></th>\n",
       "      <th>parent_name</th>\n",
       "      <th>utility_name</th>\n",
       "      <th>respondent_id</th>\n",
       "      <th>year</th>\n",
       "      <th>percent_AMI</th>\n",
       "      <th>ownership</th>\n",
       "      <th>housing_units</th>\n",
       "      <th>income</th>\n",
       "    </tr>\n",
       "  </thead>\n",
       "  <tbody>\n",
       "    <tr>\n",
       "      <th>0</th>\n",
       "      <td>Southern Co.</td>\n",
       "      <td>Alabama Power Co.</td>\n",
       "      <td>2.0</td>\n",
       "      <td>2020</td>\n",
       "      <td>0-30%</td>\n",
       "      <td>owner</td>\n",
       "      <td>92086.710664</td>\n",
       "      <td>9.491514e+08</td>\n",
       "    </tr>\n",
       "    <tr>\n",
       "      <th>1</th>\n",
       "      <td>Southern Co.</td>\n",
       "      <td>Alabama Power Co.</td>\n",
       "      <td>2.0</td>\n",
       "      <td>2020</td>\n",
       "      <td>0-30%</td>\n",
       "      <td>renter</td>\n",
       "      <td>126159.321739</td>\n",
       "      <td>1.238083e+09</td>\n",
       "    </tr>\n",
       "    <tr>\n",
       "      <th>2</th>\n",
       "      <td>Southern Co.</td>\n",
       "      <td>Alabama Power Co.</td>\n",
       "      <td>2.0</td>\n",
       "      <td>2020</td>\n",
       "      <td>100%+</td>\n",
       "      <td>owner</td>\n",
       "      <td>521425.299562</td>\n",
       "      <td>6.049073e+10</td>\n",
       "    </tr>\n",
       "    <tr>\n",
       "      <th>3</th>\n",
       "      <td>Southern Co.</td>\n",
       "      <td>Alabama Power Co.</td>\n",
       "      <td>2.0</td>\n",
       "      <td>2020</td>\n",
       "      <td>100%+</td>\n",
       "      <td>renter</td>\n",
       "      <td>111421.757248</td>\n",
       "      <td>9.494001e+09</td>\n",
       "    </tr>\n",
       "    <tr>\n",
       "      <th>4</th>\n",
       "      <td>Southern Co.</td>\n",
       "      <td>Alabama Power Co.</td>\n",
       "      <td>2.0</td>\n",
       "      <td>2020</td>\n",
       "      <td>30-60%</td>\n",
       "      <td>owner</td>\n",
       "      <td>108469.889403</td>\n",
       "      <td>2.541532e+09</td>\n",
       "    </tr>\n",
       "  </tbody>\n",
       "</table>\n",
       "</div>"
      ],
      "text/plain": [
       "    parent_name       utility_name  respondent_id  year percent_AMI ownership  \\\n",
       "0  Southern Co.  Alabama Power Co.            2.0  2020       0-30%     owner   \n",
       "1  Southern Co.  Alabama Power Co.            2.0  2020       0-30%    renter   \n",
       "2  Southern Co.  Alabama Power Co.            2.0  2020       100%+     owner   \n",
       "3  Southern Co.  Alabama Power Co.            2.0  2020       100%+    renter   \n",
       "4  Southern Co.  Alabama Power Co.            2.0  2020      30-60%     owner   \n",
       "\n",
       "   housing_units        income  \n",
       "0   92086.710664  9.491514e+08  \n",
       "1  126159.321739  1.238083e+09  \n",
       "2  521425.299562  6.049073e+10  \n",
       "3  111421.757248  9.494001e+09  \n",
       "4  108469.889403  2.541532e+09  "
      ]
     },
     "execution_count": 33,
     "metadata": {},
     "output_type": "execute_result"
    }
   ],
   "source": [
    "# Print first 5 rows of dataframe\n",
    "housing_units_income.head(5)"
   ]
  },
  {
   "cell_type": "code",
   "execution_count": 21,
   "metadata": {},
   "outputs": [
    {
     "name": "stdout",
     "output_type": "stream",
     "text": [
      "              parent_name       utility_name  respondent_id          year  \\\n",
      "count               18560              18560    18560.00000  18560.000000   \n",
      "unique                 58                116            NaN           NaN   \n",
      "top     FirstEnergy Corp.  Alabama Power Co.            NaN           NaN   \n",
      "freq                 1600                160            NaN           NaN   \n",
      "mean                  NaN                NaN      115.12069   2012.500000   \n",
      "std                   NaN                NaN       74.08212      4.609896   \n",
      "min                   NaN                NaN        2.00000   2005.000000   \n",
      "25%                   NaN                NaN       56.75000   2008.750000   \n",
      "50%                   NaN                NaN      118.00000   2012.500000   \n",
      "75%                   NaN                NaN      152.75000   2016.250000   \n",
      "max                   NaN                NaN      428.00000   2020.000000   \n",
      "\n",
      "       percent_AMI ownership  housing_units        income  \n",
      "count        18560     18560   1.856000e+04  1.856000e+04  \n",
      "unique           5         2            NaN           NaN  \n",
      "top          0-30%     owner            NaN           NaN  \n",
      "freq          3712      9280            NaN           NaN  \n",
      "mean           NaN       NaN   7.096505e+04  5.406210e+09  \n",
      "std            NaN       NaN   1.379333e+05  1.826350e+10  \n",
      "min            NaN       NaN   1.970677e+00  3.930809e+04  \n",
      "25%            NaN       NaN   1.185107e+04  2.797427e+08  \n",
      "50%            NaN       NaN   3.083964e+04  8.648981e+08  \n",
      "75%            NaN       NaN   7.167208e+04  2.620953e+09  \n",
      "max            NaN       NaN   1.760749e+06  3.271560e+11  \n"
     ]
    }
   ],
   "source": [
    "# Show basic statistical details of the dataframe\n",
    "print(housing_units_income.describe(include='all'))"
   ]
  },
  {
   "cell_type": "code",
   "execution_count": 44,
   "metadata": {},
   "outputs": [],
   "source": [
    "expenditure_df = expenditure_bills_burden[['respondent_id', 'year', 'expenditure', 'percent_AMI', 'technology']]"
   ]
  },
  {
   "cell_type": "code",
   "execution_count": 45,
   "metadata": {},
   "outputs": [],
   "source": [
    "income_df = housing_units_income[['respondent_id', 'year', 'income', 'percent_AMI']]"
   ]
  },
  {
   "cell_type": "code",
   "execution_count": 50,
   "metadata": {},
   "outputs": [
    {
     "data": {
      "text/html": [
       "<div>\n",
       "<style scoped>\n",
       "    .dataframe tbody tr th:only-of-type {\n",
       "        vertical-align: middle;\n",
       "    }\n",
       "\n",
       "    .dataframe tbody tr th {\n",
       "        vertical-align: top;\n",
       "    }\n",
       "\n",
       "    .dataframe thead th {\n",
       "        text-align: right;\n",
       "    }\n",
       "</style>\n",
       "<table border=\"1\" class=\"dataframe\">\n",
       "  <thead>\n",
       "    <tr style=\"text-align: right;\">\n",
       "      <th></th>\n",
       "      <th>respondent_id</th>\n",
       "      <th>year</th>\n",
       "      <th>expenditure</th>\n",
       "      <th>percent_AMI</th>\n",
       "      <th>technology</th>\n",
       "      <th>income</th>\n",
       "    </tr>\n",
       "  </thead>\n",
       "  <tbody>\n",
       "    <tr>\n",
       "      <th>0</th>\n",
       "      <td>2.0</td>\n",
       "      <td>2020</td>\n",
       "      <td>9.276270e+06</td>\n",
       "      <td>0-30%</td>\n",
       "      <td>adjustment</td>\n",
       "      <td>9.491514e+08</td>\n",
       "    </tr>\n",
       "    <tr>\n",
       "      <th>1</th>\n",
       "      <td>2.0</td>\n",
       "      <td>2020</td>\n",
       "      <td>9.276270e+06</td>\n",
       "      <td>0-30%</td>\n",
       "      <td>adjustment</td>\n",
       "      <td>1.238083e+09</td>\n",
       "    </tr>\n",
       "    <tr>\n",
       "      <th>2</th>\n",
       "      <td>2.0</td>\n",
       "      <td>2020</td>\n",
       "      <td>3.017570e+07</td>\n",
       "      <td>0-30%</td>\n",
       "      <td>distribution</td>\n",
       "      <td>9.491514e+08</td>\n",
       "    </tr>\n",
       "    <tr>\n",
       "      <th>3</th>\n",
       "      <td>2.0</td>\n",
       "      <td>2020</td>\n",
       "      <td>3.017570e+07</td>\n",
       "      <td>0-30%</td>\n",
       "      <td>distribution</td>\n",
       "      <td>1.238083e+09</td>\n",
       "    </tr>\n",
       "    <tr>\n",
       "      <th>4</th>\n",
       "      <td>2.0</td>\n",
       "      <td>2020</td>\n",
       "      <td>4.312818e+06</td>\n",
       "      <td>0-30%</td>\n",
       "      <td>hydro</td>\n",
       "      <td>9.491514e+08</td>\n",
       "    </tr>\n",
       "    <tr>\n",
       "      <th>...</th>\n",
       "      <td>...</td>\n",
       "      <td>...</td>\n",
       "      <td>...</td>\n",
       "      <td>...</td>\n",
       "      <td>...</td>\n",
       "      <td>...</td>\n",
       "    </tr>\n",
       "    <tr>\n",
       "      <th>445435</th>\n",
       "      <td>428.0</td>\n",
       "      <td>2005</td>\n",
       "      <td>1.093298e+05</td>\n",
       "      <td>80-100%</td>\n",
       "      <td>transmission</td>\n",
       "      <td>5.083671e+07</td>\n",
       "    </tr>\n",
       "    <tr>\n",
       "      <th>445436</th>\n",
       "      <td>428.0</td>\n",
       "      <td>2005</td>\n",
       "      <td>3.647324e+05</td>\n",
       "      <td>80-100%</td>\n",
       "      <td>Gas</td>\n",
       "      <td>1.343656e+08</td>\n",
       "    </tr>\n",
       "    <tr>\n",
       "      <th>445437</th>\n",
       "      <td>428.0</td>\n",
       "      <td>2005</td>\n",
       "      <td>3.647324e+05</td>\n",
       "      <td>80-100%</td>\n",
       "      <td>Gas</td>\n",
       "      <td>5.083671e+07</td>\n",
       "    </tr>\n",
       "    <tr>\n",
       "      <th>445438</th>\n",
       "      <td>428.0</td>\n",
       "      <td>2005</td>\n",
       "      <td>3.564423e+05</td>\n",
       "      <td>80-100%</td>\n",
       "      <td>Other Fuel</td>\n",
       "      <td>1.343656e+08</td>\n",
       "    </tr>\n",
       "    <tr>\n",
       "      <th>445439</th>\n",
       "      <td>428.0</td>\n",
       "      <td>2005</td>\n",
       "      <td>3.564423e+05</td>\n",
       "      <td>80-100%</td>\n",
       "      <td>Other Fuel</td>\n",
       "      <td>5.083671e+07</td>\n",
       "    </tr>\n",
       "  </tbody>\n",
       "</table>\n",
       "<p>445440 rows × 6 columns</p>\n",
       "</div>"
      ],
      "text/plain": [
       "        respondent_id  year   expenditure percent_AMI    technology  \\\n",
       "0                 2.0  2020  9.276270e+06       0-30%    adjustment   \n",
       "1                 2.0  2020  9.276270e+06       0-30%    adjustment   \n",
       "2                 2.0  2020  3.017570e+07       0-30%  distribution   \n",
       "3                 2.0  2020  3.017570e+07       0-30%  distribution   \n",
       "4                 2.0  2020  4.312818e+06       0-30%         hydro   \n",
       "...               ...   ...           ...         ...           ...   \n",
       "445435          428.0  2005  1.093298e+05     80-100%  transmission   \n",
       "445436          428.0  2005  3.647324e+05     80-100%           Gas   \n",
       "445437          428.0  2005  3.647324e+05     80-100%           Gas   \n",
       "445438          428.0  2005  3.564423e+05     80-100%    Other Fuel   \n",
       "445439          428.0  2005  3.564423e+05     80-100%    Other Fuel   \n",
       "\n",
       "              income  \n",
       "0       9.491514e+08  \n",
       "1       1.238083e+09  \n",
       "2       9.491514e+08  \n",
       "3       1.238083e+09  \n",
       "4       9.491514e+08  \n",
       "...              ...  \n",
       "445435  5.083671e+07  \n",
       "445436  1.343656e+08  \n",
       "445437  5.083671e+07  \n",
       "445438  1.343656e+08  \n",
       "445439  5.083671e+07  \n",
       "\n",
       "[445440 rows x 6 columns]"
      ]
     },
     "execution_count": 50,
     "metadata": {},
     "output_type": "execute_result"
    }
   ],
   "source": [
    "# Joining on the utility ID and year\n",
    "merged_burden_df = pd.merge(expenditure_df, income_df, how='inner', on=['respondent_id', 'year', 'percent_AMI'])\n",
    "merged_burden_df"
   ]
  },
  {
   "cell_type": "code",
   "execution_count": 70,
   "metadata": {},
   "outputs": [],
   "source": [
    "grouped_burden_df = merged_burden_df.groupby(['respondent_id', 'year', 'percent_AMI', 'technology'])\\\n",
    "                                .agg({'expenditure': ['sum'], 'income': ['sum']})\\\n",
    "                                .reset_index()"
   ]
  },
  {
   "cell_type": "code",
   "execution_count": 71,
   "metadata": {},
   "outputs": [
    {
     "data": {
      "text/plain": [
       "Index(['respondent_id', 'year', 'percent_AMI', 'technology', 'sum_expenditure',\n",
       "       'sum_income'],\n",
       "      dtype='object')"
      ]
     },
     "execution_count": 71,
     "metadata": {},
     "output_type": "execute_result"
    }
   ],
   "source": [
    "grouped_burden_df.columns = ['respondent_id', 'year', 'percent_AMI', 'technology', 'sum_expenditure', 'sum_income']\n",
    "grouped_burden_df.columns"
   ]
  },
  {
   "cell_type": "code",
   "execution_count": 73,
   "metadata": {},
   "outputs": [],
   "source": [
    "# Adding a column for the burden calculation\n",
    "grouped_burden_df['burden'] = grouped_burden_df['sum_expenditure']/grouped_burden_df['sum_income']"
   ]
  },
  {
   "cell_type": "code",
   "execution_count": 75,
   "metadata": {},
   "outputs": [
    {
     "name": "stdout",
     "output_type": "stream",
     "text": [
      "[  2.   3.   6.   7.   8.   9.  10.  11.  17.  19.  22.  23.  27.  30.\n",
      "  32.  36.  39.  40.  41.  42.  43.  44.  45.  46.  49.  51.  54.  55.\n",
      "  56.  57.  59.  61.  62.  70.  73.  74.  77.  79.  80.  81.  82.  83.\n",
      "  84.  88.  89.  93.  95.  96.  98.  99. 100. 101. 105. 107. 108. 114.\n",
      " 115. 117. 119. 120. 121. 122. 123. 126. 127. 130. 131. 132. 133. 134.\n",
      " 135. 136. 137. 138. 140. 141. 142. 143. 144. 145. 146. 147. 148. 149.\n",
      " 150. 151. 152. 155. 157. 159. 161. 163. 164. 166. 167. 170. 175. 176.\n",
      " 177. 179. 181. 186. 187. 188. 191. 192. 193. 194. 195. 202. 210. 281.\n",
      " 288. 290. 403. 428.]\n"
     ]
    }
   ],
   "source": [
    "# Print unique utility IDs\n",
    "print(grouped_burden_df['respondent_id'].unique())"
   ]
  },
  {
   "cell_type": "code",
   "execution_count": 77,
   "metadata": {},
   "outputs": [
    {
     "data": {
      "text/html": [
       "<div>\n",
       "<style scoped>\n",
       "    .dataframe tbody tr th:only-of-type {\n",
       "        vertical-align: middle;\n",
       "    }\n",
       "\n",
       "    .dataframe tbody tr th {\n",
       "        vertical-align: top;\n",
       "    }\n",
       "\n",
       "    .dataframe thead th {\n",
       "        text-align: right;\n",
       "    }\n",
       "</style>\n",
       "<table border=\"1\" class=\"dataframe\">\n",
       "  <thead>\n",
       "    <tr style=\"text-align: right;\">\n",
       "      <th></th>\n",
       "      <th>respondent_id</th>\n",
       "      <th>year</th>\n",
       "      <th>percent_AMI</th>\n",
       "      <th>technology</th>\n",
       "      <th>sum_expenditure</th>\n",
       "      <th>sum_income</th>\n",
       "      <th>burden</th>\n",
       "    </tr>\n",
       "  </thead>\n",
       "  <tbody>\n",
       "    <tr>\n",
       "      <th>0</th>\n",
       "      <td>2.0</td>\n",
       "      <td>2005</td>\n",
       "      <td>0-30%</td>\n",
       "      <td>Gas</td>\n",
       "      <td>1.832905e+08</td>\n",
       "      <td>3.001005e+09</td>\n",
       "      <td>0.061076</td>\n",
       "    </tr>\n",
       "    <tr>\n",
       "      <th>1</th>\n",
       "      <td>2.0</td>\n",
       "      <td>2005</td>\n",
       "      <td>0-30%</td>\n",
       "      <td>Other Fuel</td>\n",
       "      <td>3.484668e+06</td>\n",
       "      <td>3.001005e+09</td>\n",
       "      <td>0.001161</td>\n",
       "    </tr>\n",
       "    <tr>\n",
       "      <th>2</th>\n",
       "      <td>2.0</td>\n",
       "      <td>2005</td>\n",
       "      <td>0-30%</td>\n",
       "      <td>adjustment</td>\n",
       "      <td>4.456437e+06</td>\n",
       "      <td>3.001005e+09</td>\n",
       "      <td>0.001485</td>\n",
       "    </tr>\n",
       "    <tr>\n",
       "      <th>3</th>\n",
       "      <td>2.0</td>\n",
       "      <td>2005</td>\n",
       "      <td>0-30%</td>\n",
       "      <td>distribution</td>\n",
       "      <td>6.567577e+07</td>\n",
       "      <td>3.001005e+09</td>\n",
       "      <td>0.021885</td>\n",
       "    </tr>\n",
       "    <tr>\n",
       "      <th>4</th>\n",
       "      <td>2.0</td>\n",
       "      <td>2005</td>\n",
       "      <td>0-30%</td>\n",
       "      <td>hydro</td>\n",
       "      <td>1.164797e+07</td>\n",
       "      <td>3.001005e+09</td>\n",
       "      <td>0.003881</td>\n",
       "    </tr>\n",
       "    <tr>\n",
       "      <th>5</th>\n",
       "      <td>2.0</td>\n",
       "      <td>2005</td>\n",
       "      <td>0-30%</td>\n",
       "      <td>nuclear</td>\n",
       "      <td>3.729100e+07</td>\n",
       "      <td>3.001005e+09</td>\n",
       "      <td>0.012426</td>\n",
       "    </tr>\n",
       "    <tr>\n",
       "      <th>6</th>\n",
       "      <td>2.0</td>\n",
       "      <td>2005</td>\n",
       "      <td>0-30%</td>\n",
       "      <td>other</td>\n",
       "      <td>4.345116e+07</td>\n",
       "      <td>3.001005e+09</td>\n",
       "      <td>0.014479</td>\n",
       "    </tr>\n",
       "    <tr>\n",
       "      <th>7</th>\n",
       "      <td>2.0</td>\n",
       "      <td>2005</td>\n",
       "      <td>0-30%</td>\n",
       "      <td>other_fossil</td>\n",
       "      <td>5.404809e+07</td>\n",
       "      <td>3.001005e+09</td>\n",
       "      <td>0.018010</td>\n",
       "    </tr>\n",
       "    <tr>\n",
       "      <th>8</th>\n",
       "      <td>2.0</td>\n",
       "      <td>2005</td>\n",
       "      <td>0-30%</td>\n",
       "      <td>purchased_power</td>\n",
       "      <td>5.847944e+07</td>\n",
       "      <td>3.001005e+09</td>\n",
       "      <td>0.019487</td>\n",
       "    </tr>\n",
       "    <tr>\n",
       "      <th>9</th>\n",
       "      <td>2.0</td>\n",
       "      <td>2005</td>\n",
       "      <td>0-30%</td>\n",
       "      <td>renewables</td>\n",
       "      <td>0.000000e+00</td>\n",
       "      <td>3.001005e+09</td>\n",
       "      <td>0.000000</td>\n",
       "    </tr>\n",
       "    <tr>\n",
       "      <th>10</th>\n",
       "      <td>2.0</td>\n",
       "      <td>2005</td>\n",
       "      <td>0-30%</td>\n",
       "      <td>steam</td>\n",
       "      <td>1.555418e+08</td>\n",
       "      <td>3.001005e+09</td>\n",
       "      <td>0.051830</td>\n",
       "    </tr>\n",
       "    <tr>\n",
       "      <th>11</th>\n",
       "      <td>2.0</td>\n",
       "      <td>2005</td>\n",
       "      <td>0-30%</td>\n",
       "      <td>transmission</td>\n",
       "      <td>3.103221e+07</td>\n",
       "      <td>3.001005e+09</td>\n",
       "      <td>0.010341</td>\n",
       "    </tr>\n",
       "    <tr>\n",
       "      <th>12</th>\n",
       "      <td>2.0</td>\n",
       "      <td>2005</td>\n",
       "      <td>100%+</td>\n",
       "      <td>Gas</td>\n",
       "      <td>5.866866e+08</td>\n",
       "      <td>9.654108e+10</td>\n",
       "      <td>0.006077</td>\n",
       "    </tr>\n",
       "    <tr>\n",
       "      <th>13</th>\n",
       "      <td>2.0</td>\n",
       "      <td>2005</td>\n",
       "      <td>100%+</td>\n",
       "      <td>Other Fuel</td>\n",
       "      <td>8.048864e+06</td>\n",
       "      <td>9.654108e+10</td>\n",
       "      <td>0.000083</td>\n",
       "    </tr>\n",
       "    <tr>\n",
       "      <th>14</th>\n",
       "      <td>2.0</td>\n",
       "      <td>2005</td>\n",
       "      <td>100%+</td>\n",
       "      <td>adjustment</td>\n",
       "      <td>1.484367e+07</td>\n",
       "      <td>9.654108e+10</td>\n",
       "      <td>0.000154</td>\n",
       "    </tr>\n",
       "    <tr>\n",
       "      <th>15</th>\n",
       "      <td>2.0</td>\n",
       "      <td>2005</td>\n",
       "      <td>100%+</td>\n",
       "      <td>distribution</td>\n",
       "      <td>2.187553e+08</td>\n",
       "      <td>9.654108e+10</td>\n",
       "      <td>0.002266</td>\n",
       "    </tr>\n",
       "    <tr>\n",
       "      <th>16</th>\n",
       "      <td>2.0</td>\n",
       "      <td>2005</td>\n",
       "      <td>100%+</td>\n",
       "      <td>hydro</td>\n",
       "      <td>3.879751e+07</td>\n",
       "      <td>9.654108e+10</td>\n",
       "      <td>0.000402</td>\n",
       "    </tr>\n",
       "    <tr>\n",
       "      <th>17</th>\n",
       "      <td>2.0</td>\n",
       "      <td>2005</td>\n",
       "      <td>100%+</td>\n",
       "      <td>nuclear</td>\n",
       "      <td>1.242103e+08</td>\n",
       "      <td>9.654108e+10</td>\n",
       "      <td>0.001287</td>\n",
       "    </tr>\n",
       "    <tr>\n",
       "      <th>18</th>\n",
       "      <td>2.0</td>\n",
       "      <td>2005</td>\n",
       "      <td>100%+</td>\n",
       "      <td>other</td>\n",
       "      <td>1.447288e+08</td>\n",
       "      <td>9.654108e+10</td>\n",
       "      <td>0.001499</td>\n",
       "    </tr>\n",
       "    <tr>\n",
       "      <th>19</th>\n",
       "      <td>2.0</td>\n",
       "      <td>2005</td>\n",
       "      <td>100%+</td>\n",
       "      <td>other_fossil</td>\n",
       "      <td>1.800254e+08</td>\n",
       "      <td>9.654108e+10</td>\n",
       "      <td>0.001865</td>\n",
       "    </tr>\n",
       "    <tr>\n",
       "      <th>20</th>\n",
       "      <td>2.0</td>\n",
       "      <td>2005</td>\n",
       "      <td>100%+</td>\n",
       "      <td>purchased_power</td>\n",
       "      <td>1.947855e+08</td>\n",
       "      <td>9.654108e+10</td>\n",
       "      <td>0.002018</td>\n",
       "    </tr>\n",
       "    <tr>\n",
       "      <th>21</th>\n",
       "      <td>2.0</td>\n",
       "      <td>2005</td>\n",
       "      <td>100%+</td>\n",
       "      <td>renewables</td>\n",
       "      <td>0.000000e+00</td>\n",
       "      <td>9.654108e+10</td>\n",
       "      <td>0.000000</td>\n",
       "    </tr>\n",
       "    <tr>\n",
       "      <th>22</th>\n",
       "      <td>2.0</td>\n",
       "      <td>2005</td>\n",
       "      <td>100%+</td>\n",
       "      <td>steam</td>\n",
       "      <td>5.180846e+08</td>\n",
       "      <td>9.654108e+10</td>\n",
       "      <td>0.005366</td>\n",
       "    </tr>\n",
       "    <tr>\n",
       "      <th>23</th>\n",
       "      <td>2.0</td>\n",
       "      <td>2005</td>\n",
       "      <td>100%+</td>\n",
       "      <td>transmission</td>\n",
       "      <td>1.033633e+08</td>\n",
       "      <td>9.654108e+10</td>\n",
       "      <td>0.001071</td>\n",
       "    </tr>\n",
       "  </tbody>\n",
       "</table>\n",
       "</div>"
      ],
      "text/plain": [
       "    respondent_id  year percent_AMI       technology  sum_expenditure  \\\n",
       "0             2.0  2005       0-30%              Gas     1.832905e+08   \n",
       "1             2.0  2005       0-30%       Other Fuel     3.484668e+06   \n",
       "2             2.0  2005       0-30%       adjustment     4.456437e+06   \n",
       "3             2.0  2005       0-30%     distribution     6.567577e+07   \n",
       "4             2.0  2005       0-30%            hydro     1.164797e+07   \n",
       "5             2.0  2005       0-30%          nuclear     3.729100e+07   \n",
       "6             2.0  2005       0-30%            other     4.345116e+07   \n",
       "7             2.0  2005       0-30%     other_fossil     5.404809e+07   \n",
       "8             2.0  2005       0-30%  purchased_power     5.847944e+07   \n",
       "9             2.0  2005       0-30%       renewables     0.000000e+00   \n",
       "10            2.0  2005       0-30%            steam     1.555418e+08   \n",
       "11            2.0  2005       0-30%     transmission     3.103221e+07   \n",
       "12            2.0  2005       100%+              Gas     5.866866e+08   \n",
       "13            2.0  2005       100%+       Other Fuel     8.048864e+06   \n",
       "14            2.0  2005       100%+       adjustment     1.484367e+07   \n",
       "15            2.0  2005       100%+     distribution     2.187553e+08   \n",
       "16            2.0  2005       100%+            hydro     3.879751e+07   \n",
       "17            2.0  2005       100%+          nuclear     1.242103e+08   \n",
       "18            2.0  2005       100%+            other     1.447288e+08   \n",
       "19            2.0  2005       100%+     other_fossil     1.800254e+08   \n",
       "20            2.0  2005       100%+  purchased_power     1.947855e+08   \n",
       "21            2.0  2005       100%+       renewables     0.000000e+00   \n",
       "22            2.0  2005       100%+            steam     5.180846e+08   \n",
       "23            2.0  2005       100%+     transmission     1.033633e+08   \n",
       "\n",
       "      sum_income    burden  \n",
       "0   3.001005e+09  0.061076  \n",
       "1   3.001005e+09  0.001161  \n",
       "2   3.001005e+09  0.001485  \n",
       "3   3.001005e+09  0.021885  \n",
       "4   3.001005e+09  0.003881  \n",
       "5   3.001005e+09  0.012426  \n",
       "6   3.001005e+09  0.014479  \n",
       "7   3.001005e+09  0.018010  \n",
       "8   3.001005e+09  0.019487  \n",
       "9   3.001005e+09  0.000000  \n",
       "10  3.001005e+09  0.051830  \n",
       "11  3.001005e+09  0.010341  \n",
       "12  9.654108e+10  0.006077  \n",
       "13  9.654108e+10  0.000083  \n",
       "14  9.654108e+10  0.000154  \n",
       "15  9.654108e+10  0.002266  \n",
       "16  9.654108e+10  0.000402  \n",
       "17  9.654108e+10  0.001287  \n",
       "18  9.654108e+10  0.001499  \n",
       "19  9.654108e+10  0.001865  \n",
       "20  9.654108e+10  0.002018  \n",
       "21  9.654108e+10  0.000000  \n",
       "22  9.654108e+10  0.005366  \n",
       "23  9.654108e+10  0.001071  "
      ]
     },
     "execution_count": 77,
     "metadata": {},
     "output_type": "execute_result"
    }
   ],
   "source": [
    "grouped_burden_df.head(24)"
   ]
  },
  {
   "cell_type": "code",
   "execution_count": 78,
   "metadata": {},
   "outputs": [
    {
     "name": "stdout",
     "output_type": "stream",
     "text": [
      "        respondent_id           year percent_AMI technology  sum_expenditure  \\\n",
      "count   111360.000000  111360.000000      111360     111360     1.113600e+05   \n",
      "unique            NaN            NaN           5         12              NaN   \n",
      "top               NaN            NaN       0-30%        Gas              NaN   \n",
      "freq              NaN            NaN       22272       9280              NaN   \n",
      "mean       115.120690    2012.500000         NaN        NaN     4.561883e+07   \n",
      "std         74.080456       4.609793         NaN        NaN     1.494183e+08   \n",
      "min          2.000000    2005.000000         NaN        NaN    -2.617367e+09   \n",
      "25%         56.750000    2008.750000         NaN        NaN     0.000000e+00   \n",
      "50%        118.000000    2012.500000         NaN        NaN     6.004265e+06   \n",
      "75%        152.750000    2016.250000         NaN        NaN     3.532157e+07   \n",
      "max        428.000000    2020.000000         NaN        NaN     4.564462e+09   \n",
      "\n",
      "          sum_income         burden  \n",
      "count   1.113600e+05  111360.000000  \n",
      "unique           NaN            NaN  \n",
      "top              NaN            NaN  \n",
      "freq             NaN            NaN  \n",
      "mean    2.162484e+10       0.005901  \n",
      "std     6.099243e+10       0.013017  \n",
      "min     1.869527e+05      -0.131850  \n",
      "25%     1.171608e+09       0.000000  \n",
      "50%     3.785241e+09       0.001768  \n",
      "75%     1.233997e+10       0.006645  \n",
      "max     8.597243e+11       0.460636  \n"
     ]
    }
   ],
   "source": [
    "print(grouped_burden_df.describe(include='all'))"
   ]
  },
  {
   "cell_type": "markdown",
   "metadata": {},
   "source": [
    "#### Exploring the assets_earnings_investments.csv file"
   ]
  },
  {
   "cell_type": "code",
   "execution_count": 8,
   "metadata": {},
   "outputs": [],
   "source": [
    "# Load the assets_earnings_investments.csv file into a pandas dataframe\n",
    "investments_df = pd.read_csv('assets_earnings_investments.csv') "
   ]
  },
  {
   "cell_type": "code",
   "execution_count": 9,
   "metadata": {},
   "outputs": [
    {
     "name": "stdout",
     "output_type": "stream",
     "text": [
      "                         parent_name        utility_name  respondent_id  year  \\\n",
      "0  American Electric Power Co., Inc.  AEP Generating Co.            1.0  2020   \n",
      "1  American Electric Power Co., Inc.  AEP Generating Co.            1.0  2020   \n",
      "2  American Electric Power Co., Inc.  AEP Generating Co.            1.0  2020   \n",
      "3  American Electric Power Co., Inc.  AEP Generating Co.            1.0  2020   \n",
      "4  American Electric Power Co., Inc.  AEP Generating Co.            1.0  2020   \n",
      "\n",
      "   asset                           sub_asset  asset_value  earnings_value  \\\n",
      "0  other                                AROs  -15405378.0            -0.0   \n",
      "1  other  electric_plant_held_for_future_use    1034099.0             0.0   \n",
      "2  other     electric_plant_leased_to_others  155616036.0             0.0   \n",
      "3  other                       general_plant     427318.0             0.0   \n",
      "4  other                    intangible_plant     724784.0             0.0   \n",
      "\n",
      "   investment_value  \n",
      "0               NaN  \n",
      "1               NaN  \n",
      "2               NaN  \n",
      "3            1846.0  \n",
      "4               NaN  \n"
     ]
    }
   ],
   "source": [
    "# Print first 5 rows\n",
    "print(investments_df.head(5))"
   ]
  },
  {
   "cell_type": "code",
   "execution_count": 11,
   "metadata": {},
   "outputs": [
    {
     "name": "stdout",
     "output_type": "stream",
     "text": [
      "                              parent_name              utility_name  \\\n",
      "count                               52136                     52136   \n",
      "unique                                111                       283   \n",
      "top     American Electric Power Co., Inc.  Dominion Energy Virginia   \n",
      "freq                                 4038                       498   \n",
      "mean                                  NaN                       NaN   \n",
      "std                                   NaN                       NaN   \n",
      "min                                   NaN                       NaN   \n",
      "25%                                   NaN                       NaN   \n",
      "50%                                   NaN                       NaN   \n",
      "75%                                   NaN                       NaN   \n",
      "max                                   NaN                       NaN   \n",
      "\n",
      "        respondent_id          year  asset            sub_asset   asset_value  \\\n",
      "count    52136.000000  52136.000000  52136                52136  5.162700e+04   \n",
      "unique            NaN           NaN      8                   37           NaN   \n",
      "top               NaN           NaN  other  net_working_capital           NaN   \n",
      "freq              NaN           NaN  41794                 3354           NaN   \n",
      "mean       143.386547   2012.514692    NaN                  NaN  1.758833e+08   \n",
      "std        106.745164      4.614821    NaN                  NaN  9.476544e+08   \n",
      "min          1.000000   2005.000000    NaN                  NaN -2.106580e+10   \n",
      "25%         68.000000   2009.000000    NaN                  NaN -1.354721e+06   \n",
      "50%        130.000000   2012.000000    NaN                  NaN  1.555553e+06   \n",
      "75%        183.000000   2017.000000    NaN                  NaN  1.012342e+08   \n",
      "max        541.000000   2020.000000    NaN                  NaN  2.173853e+10   \n",
      "\n",
      "        earnings_value  investment_value  \n",
      "count     5.056500e+04      1.537100e+04  \n",
      "unique             NaN               NaN  \n",
      "top                NaN               NaN  \n",
      "freq               NaN               NaN  \n",
      "mean      8.774715e+06      6.369226e+07  \n",
      "std       4.812260e+07      1.665318e+08  \n",
      "min      -1.122807e+09     -8.594840e+08  \n",
      "25%      -4.032954e+04      1.067442e+06  \n",
      "50%       2.947548e+04      1.008802e+07  \n",
      "75%       4.625627e+06      5.144194e+07  \n",
      "max       1.119534e+09      2.952290e+09  \n"
     ]
    }
   ],
   "source": [
    "print(investments_df.describe(include='all'))"
   ]
  },
  {
   "cell_type": "markdown",
   "metadata": {},
   "source": [
    "### Seems like there are 283 unique utility names for the `assets_earnings_investments.csv` file but only 116 for `expenditure_bills_burden.csv` file?"
   ]
  },
  {
   "cell_type": "code",
   "execution_count": null,
   "metadata": {},
   "outputs": [],
   "source": []
  },
  {
   "cell_type": "code",
   "execution_count": null,
   "metadata": {},
   "outputs": [],
   "source": []
  },
  {
   "cell_type": "code",
   "execution_count": null,
   "metadata": {},
   "outputs": [],
   "source": []
  },
  {
   "cell_type": "code",
   "execution_count": null,
   "metadata": {},
   "outputs": [],
   "source": []
  },
  {
   "cell_type": "code",
   "execution_count": null,
   "metadata": {},
   "outputs": [],
   "source": []
  },
  {
   "cell_type": "code",
   "execution_count": null,
   "metadata": {},
   "outputs": [],
   "source": []
  },
  {
   "cell_type": "code",
   "execution_count": 4,
   "metadata": {},
   "outputs": [
    {
     "name": "stdout",
     "output_type": "stream",
     "text": [
      "['4C Acquisition, LLC', 'AEP Appalachian Transmission Co., Inc.', 'AEP Generating Co.', 'AEP Generation Resources Inc.', 'AEP Indiana Michigan Transmission Co., Inc.', 'AEP Kentucky Transmission Co., Inc.', 'AEP Ohio Transmission Co., Inc.', 'AEP Oklahoma Transmission Co., Inc.', 'AEP Southwestern Transmission Co., Inc.', 'AEP Texas Central Co.']\n"
     ]
    }
   ],
   "source": [
    "utilities = investments_df['utility_name'].unique()\n",
    "print(sorted(utilities)[:10])  # print first 10 utility names"
   ]
  },
  {
   "cell_type": "code",
   "execution_count": 24,
   "metadata": {},
   "outputs": [
    {
     "data": {
      "text/plain": [
       "283"
      ]
     },
     "execution_count": 24,
     "metadata": {},
     "output_type": "execute_result"
    }
   ],
   "source": [
    "np.count_nonzero(utilities)  # 283 total unique utilitie names"
   ]
  },
  {
   "cell_type": "code",
   "execution_count": 25,
   "metadata": {},
   "outputs": [
    {
     "data": {
      "text/plain": [
       "Dominion Energy Virginia                          498\n",
       "Georgia Power Co.                                 487\n",
       "Alabama Power Co.                                 476\n",
       "Southern California Edison Co.                    476\n",
       "Pacific Gas & Electric Co.                        463\n",
       "                                                 ... \n",
       "Citizens Sycamore-Penasquitos Transmission LLC      6\n",
       "Hagerstown Light Department                         6\n",
       "Horizon West Transmission, LLC                      6\n",
       "Pinnacle West Marketing & Trading Co. LLC           5\n",
       "Wilderness Line Holdings, LLC                       4\n",
       "Name: utility_name, Length: 283, dtype: int64"
      ]
     },
     "execution_count": 25,
     "metadata": {},
     "output_type": "execute_result"
    }
   ],
   "source": [
    "investments_df.loc[: , 'utility_name'].value_counts()"
   ]
  },
  {
   "cell_type": "code",
   "execution_count": 27,
   "metadata": {},
   "outputs": [],
   "source": [
    "filt = (investments_df['utility_name'] == 'AEP Generating Co.')"
   ]
  },
  {
   "cell_type": "code",
   "execution_count": 28,
   "metadata": {},
   "outputs": [],
   "source": [
    "# testing on the utility \"AEP Generating Co.\"\n",
    "aep = investments_df.loc[filt]"
   ]
  },
  {
   "cell_type": "code",
   "execution_count": 29,
   "metadata": {},
   "outputs": [
    {
     "data": {
      "image/png": "[encoded data removed]",
      "text/plain": [
       "<Figure size 432x288 with 1 Axes>"
      ]
     },
     "metadata": {
      "needs_background": "light"
     },
     "output_type": "display_data"
    }
   ],
   "source": [
    "plt.figure() \n",
    "plt.title('Asset Value for the Utility `AEP Generating Co.`\\n2005-2020') \n",
    "                                     \n",
    "plt.scatter(aep['year']\n",
    "            ,aep['asset_value']\n",
    "            ,alpha=0.1\n",
    "           )\n",
    "plt.xlabel('Year')\n",
    "plt.ylabel('Asset Value');"
   ]
  },
  {
   "cell_type": "code",
   "execution_count": 30,
   "metadata": {},
   "outputs": [
    {
     "name": "stdout",
     "output_type": "stream",
     "text": [
      "    parent_name       utility_name  respondent_id  year percent_AMI ownership  \\\n",
      "0  Southern Co.  Alabama Power Co.            2.0  2020       0-30%     owner   \n",
      "1  Southern Co.  Alabama Power Co.            2.0  2020       0-30%     owner   \n",
      "2  Southern Co.  Alabama Power Co.            2.0  2020       0-30%     owner   \n",
      "3  Southern Co.  Alabama Power Co.            2.0  2020       0-30%     owner   \n",
      "4  Southern Co.  Alabama Power Co.            2.0  2020       0-30%     owner   \n",
      "\n",
      "  electricity_gas_other    technology   expenditure       bill    burden  \n",
      "0           Electricity    adjustment  9.276270e+06   8.394506  0.009773  \n",
      "1           Electricity  distribution  3.017570e+07  27.307328  0.031792  \n",
      "2           Electricity         hydro  4.312818e+06   3.902860  0.004544  \n",
      "3           Electricity       nuclear  1.912960e+07  17.311221  0.020154  \n",
      "4           Electricity         other  1.578084e+07  14.280782  0.016626  \n"
     ]
    }
   ],
   "source": []
  },
  {
   "cell_type": "code",
   "execution_count": null,
   "metadata": {},
   "outputs": [],
   "source": []
  }
 ],
 "metadata": {
  "kernelspec": {
   "display_name": "Python 3",
   "language": "python",
   "name": "python3"
  },
  "language_info": {
   "codemirror_mode": {
    "name": "ipython",
    "version": 3
   },
   "file_extension": ".py",
   "mimetype": "text/x-python",
   "name": "python",
   "nbconvert_exporter": "python",
   "pygments_lexer": "ipython3",
   "version": "3.8.5"
  }
 },
 "nbformat": 4,
 "nbformat_minor": 4
}

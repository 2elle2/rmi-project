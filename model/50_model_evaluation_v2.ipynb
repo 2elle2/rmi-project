{
 "cells": [
  {
   "cell_type": "markdown",
   "id": "3e436b0c",
   "metadata": {},
   "source": [
    "## Model Evaluation (model v2)"
   ]
  },
  {
   "cell_type": "markdown",
   "id": "46999caf",
   "metadata": {},
   "source": [
    "#### Import relevant libraries"
   ]
  },
  {
   "cell_type": "code",
   "execution_count": 1,
   "id": "659c041f",
   "metadata": {},
   "outputs": [],
   "source": [
    "import os\n",
    "import numpy as np\n",
    "import pandas as pd\n",
    "from joblib import dump, load\n",
    "\n",
    "import matplotlib.pyplot as plt\n",
    "%matplotlib inline"
   ]
  },
  {
   "cell_type": "code",
   "execution_count": 2,
   "id": "0444940c",
   "metadata": {},
   "outputs": [],
   "source": [
    "# Import mean_absolute_error, mean_squared_error from sklearn\n",
    "from sklearn.metrics import mean_absolute_error, mean_squared_error, r2_score"
   ]
  },
  {
   "cell_type": "markdown",
   "id": "8c1de150",
   "metadata": {},
   "source": [
    "#### Load model_fit file"
   ]
  },
  {
   "cell_type": "code",
   "execution_count": 3,
   "id": "ddcb0591",
   "metadata": {},
   "outputs": [],
   "source": [
    "#directory (folder) for model v2\n",
    "input_dir = os.path.join('..', 'data', 'processed', 'model_v2')\n",
    "\n",
    "plots_dir = os.path.join('..', 'data', 'figures', 'model_v2')\n",
    "\n",
    "lin_model = load(os.path.join(input_dir, 'lin_model_v2_1.joblib'))\n",
    "rf_model = load(os.path.join(input_dir, 'forest_model_v2_1.joblib'))\n",
    "nnet_model = load(os.path.join(input_dir, 'neural_model_v2_1.joblib'))"
   ]
  },
  {
   "cell_type": "markdown",
   "id": "2c261627",
   "metadata": {},
   "source": [
    "#### Load in test and train data"
   ]
  },
  {
   "cell_type": "code",
   "execution_count": 4,
   "id": "dfe3c17b",
   "metadata": {},
   "outputs": [],
   "source": [
    "X_train = pd.read_csv(os.path.join(input_dir, 'X_train.csv'))\n",
    "X_test = pd.read_csv(os.path.join(input_dir, 'X_test.csv'))\n",
    "y_train = np.array(pd.read_csv(os.path.join(input_dir, 'y_train.csv'))['target'])\n",
    "y_test = np.array(pd.read_csv(os.path.join(input_dir, 'y_test.csv'))['target'])"
   ]
  },
  {
   "cell_type": "code",
   "execution_count": 5,
   "id": "edb5fda3",
   "metadata": {},
   "outputs": [],
   "source": [
    "X_train = X_train.rename(columns={\n",
    "    'c10_other_wires': 'c10a',\n",
    "    'c10_restructured': 'c10b',\n",
    "    'c10_vert_int': 'c10c',\n",
    "    \n",
    "})\n",
    "X_test = X_test.rename(columns={\n",
    "    'c10_other_wires': 'c10a',\n",
    "    'c10_restructured': 'c10b',\n",
    "    'c10_vert_int': 'c10c',\n",
    "    \n",
    "})"
   ]
  },
  {
   "cell_type": "markdown",
   "id": "ef314312",
   "metadata": {},
   "source": [
    "#### Predict on test set using trained models"
   ]
  },
  {
   "cell_type": "code",
   "execution_count": 6,
   "id": "1e53cdd6",
   "metadata": {},
   "outputs": [
    {
     "name": "stderr",
     "output_type": "stream",
     "text": [
      "/home/julian/anaconda3/lib/python3.9/site-packages/sklearn/base.py:488: FutureWarning: The feature names should match those that were passed during fit. Starting version 1.2, an error will be raised.\n",
      "Feature names unseen at fit time:\n",
      "- c10a\n",
      "- c10b\n",
      "- c10c\n",
      "Feature names seen at fit time, yet now missing:\n",
      "- c10_other_wires\n",
      "- c10_restructured\n",
      "- c10_vert_int\n",
      "\n",
      "  warnings.warn(message, FutureWarning)\n",
      "/home/julian/anaconda3/lib/python3.9/site-packages/sklearn/base.py:488: FutureWarning: The feature names should match those that were passed during fit. Starting version 1.2, an error will be raised.\n",
      "Feature names unseen at fit time:\n",
      "- c10a\n",
      "- c10b\n",
      "- c10c\n",
      "Feature names seen at fit time, yet now missing:\n",
      "- c10_other_wires\n",
      "- c10_restructured\n",
      "- c10_vert_int\n",
      "\n",
      "  warnings.warn(message, FutureWarning)\n",
      "/home/julian/anaconda3/lib/python3.9/site-packages/sklearn/base.py:488: FutureWarning: The feature names should match those that were passed during fit. Starting version 1.2, an error will be raised.\n",
      "Feature names unseen at fit time:\n",
      "- c10a\n",
      "- c10b\n",
      "- c10c\n",
      "Feature names seen at fit time, yet now missing:\n",
      "- c10_other_wires\n",
      "- c10_restructured\n",
      "- c10_vert_int\n",
      "\n",
      "  warnings.warn(message, FutureWarning)\n"
     ]
    }
   ],
   "source": [
    "y_pred_lin = lin_model.predict(X_test)\n",
    "y_pred_rf = rf_model.predict(X_test)\n",
    "y_pred_nnet = nnet_model.predict(X_test)"
   ]
  },
  {
   "cell_type": "code",
   "execution_count": 7,
   "id": "f7ce3a3d",
   "metadata": {},
   "outputs": [
    {
     "data": {
      "image/png": "[encoded data removed]",
      "text/plain": [
       "<Figure size 432x288 with 1 Axes>"
      ]
     },
     "metadata": {
      "needs_background": "light"
     },
     "output_type": "display_data"
    }
   ],
   "source": [
    "lin_df = pd.DataFrame({'Actual': y_test, 'Predicted': y_pred_lin})\n",
    "\n",
    "fig, ax = plt.subplots()\n",
    "ax.scatter(y_pred_lin, y_test)\n",
    "lims = [\n",
    "    np.min([ax.get_xlim(), ax.get_ylim()]),  # min of both axes\n",
    "    np.max([ax.get_xlim(), ax.get_ylim()]),  # max of both axes\n",
    "]\n",
    "ax.plot(lims, lims, 'k-', alpha=0.75, zorder=0)\n",
    "ax.set_aspect('equal')\n",
    "ax.set_xlabel('Predicted')\n",
    "ax.set_ylabel('Actual')\n",
    "ax.set_title('Predicted vs Actual Normalized Cost of Energy')\n",
    "ax.set_xlim(lims)\n",
    "ax.set_ylim(lims)\n",
    "\n",
    "fig.savefig(os.path.join(plots_dir, 'lm_actual_vs_pred_scatter.png'), dpi=300)"
   ]
  },
  {
   "cell_type": "code",
   "execution_count": 8,
   "id": "75ef61c7",
   "metadata": {},
   "outputs": [
    {
     "data": {
      "text/html": [
       "<div>\n",
       "<style scoped>\n",
       "    .dataframe tbody tr th:only-of-type {\n",
       "        vertical-align: middle;\n",
       "    }\n",
       "\n",
       "    .dataframe tbody tr th {\n",
       "        vertical-align: top;\n",
       "    }\n",
       "\n",
       "    .dataframe thead th {\n",
       "        text-align: right;\n",
       "    }\n",
       "</style>\n",
       "<table border=\"1\" class=\"dataframe\">\n",
       "  <thead>\n",
       "    <tr style=\"text-align: right;\">\n",
       "      <th></th>\n",
       "      <th>Actual</th>\n",
       "      <th>Predicted</th>\n",
       "    </tr>\n",
       "  </thead>\n",
       "  <tbody>\n",
       "    <tr>\n",
       "      <th>0</th>\n",
       "      <td>0.012256</td>\n",
       "      <td>0.004952</td>\n",
       "    </tr>\n",
       "    <tr>\n",
       "      <th>1</th>\n",
       "      <td>-0.189246</td>\n",
       "      <td>0.010058</td>\n",
       "    </tr>\n",
       "    <tr>\n",
       "      <th>2</th>\n",
       "      <td>0.033146</td>\n",
       "      <td>0.013345</td>\n",
       "    </tr>\n",
       "    <tr>\n",
       "      <th>3</th>\n",
       "      <td>0.109113</td>\n",
       "      <td>-0.008330</td>\n",
       "    </tr>\n",
       "    <tr>\n",
       "      <th>4</th>\n",
       "      <td>0.023391</td>\n",
       "      <td>0.006736</td>\n",
       "    </tr>\n",
       "    <tr>\n",
       "      <th>...</th>\n",
       "      <td>...</td>\n",
       "      <td>...</td>\n",
       "    </tr>\n",
       "    <tr>\n",
       "      <th>209</th>\n",
       "      <td>-0.463100</td>\n",
       "      <td>-0.009949</td>\n",
       "    </tr>\n",
       "    <tr>\n",
       "      <th>210</th>\n",
       "      <td>-0.004762</td>\n",
       "      <td>0.017223</td>\n",
       "    </tr>\n",
       "    <tr>\n",
       "      <th>211</th>\n",
       "      <td>0.035918</td>\n",
       "      <td>0.030361</td>\n",
       "    </tr>\n",
       "    <tr>\n",
       "      <th>212</th>\n",
       "      <td>0.041148</td>\n",
       "      <td>0.012949</td>\n",
       "    </tr>\n",
       "    <tr>\n",
       "      <th>213</th>\n",
       "      <td>-0.041442</td>\n",
       "      <td>-0.008552</td>\n",
       "    </tr>\n",
       "  </tbody>\n",
       "</table>\n",
       "<p>214 rows × 2 columns</p>\n",
       "</div>"
      ],
      "text/plain": [
       "       Actual  Predicted\n",
       "0    0.012256   0.004952\n",
       "1   -0.189246   0.010058\n",
       "2    0.033146   0.013345\n",
       "3    0.109113  -0.008330\n",
       "4    0.023391   0.006736\n",
       "..        ...        ...\n",
       "209 -0.463100  -0.009949\n",
       "210 -0.004762   0.017223\n",
       "211  0.035918   0.030361\n",
       "212  0.041148   0.012949\n",
       "213 -0.041442  -0.008552\n",
       "\n",
       "[214 rows x 2 columns]"
      ]
     },
     "execution_count": 8,
     "metadata": {},
     "output_type": "execute_result"
    }
   ],
   "source": [
    "# lin_df[lin_df['Actual'] > 10]\n",
    "lin_df"
   ]
  },
  {
   "cell_type": "code",
   "execution_count": 9,
   "id": "93d48fd7",
   "metadata": {},
   "outputs": [
    {
     "data": {
      "image/png": "[encoded data removed]",
      "text/plain": [
       "<Figure size 432x288 with 1 Axes>"
      ]
     },
     "metadata": {
      "needs_background": "light"
     },
     "output_type": "display_data"
    }
   ],
   "source": [
    "rf_df = pd.DataFrame({'Actual': y_test, 'Predicted': y_pred_rf})\n",
    "\n",
    "fig, ax = plt.subplots()\n",
    "ax.scatter(y_pred_rf, y_test)\n",
    "lims = [\n",
    "    np.min([ax.get_xlim(), ax.get_ylim()]),  # min of both axes\n",
    "    np.max([ax.get_xlim(), ax.get_ylim()]),  # max of both axes\n",
    "]\n",
    "ax.plot(lims, lims, 'k-', alpha=0.75, zorder=0)\n",
    "ax.set_aspect('equal')\n",
    "ax.set_xlabel('Predicted')\n",
    "ax.set_ylabel('Actual')\n",
    "ax.set_title('Predicted vs Actual Normalized Cost of Energy')\n",
    "ax.set_xlim(lims)\n",
    "ax.set_ylim(lims)\n",
    "\n",
    "fig.savefig(os.path.join(plots_dir, 'rf_actual_vs_pred_scatter.png'), dpi=300)"
   ]
  },
  {
   "cell_type": "markdown",
   "id": "931cb631",
   "metadata": {},
   "source": [
    "#### Compute fit statistics"
   ]
  },
  {
   "cell_type": "markdown",
   "id": "8c7ef014",
   "metadata": {},
   "source": [
    "(a) Bias := $\\sum (\\hat{y_i} - y_i) $"
   ]
  },
  {
   "cell_type": "code",
   "execution_count": 10,
   "id": "bb25b647",
   "metadata": {},
   "outputs": [
    {
     "name": "stdout",
     "output_type": "stream",
     "text": [
      "Bias of Linear Regression: -1.0465061056847573\n",
      "Bias of Random Forest: -1.532730765775381\n"
     ]
    }
   ],
   "source": [
    "bias_lin = sum(y_pred_lin - y_test)\n",
    "bias_rf = sum(y_pred_rf - y_test)\n",
    "\n",
    "print(\"Bias of Linear Regression: {}\".format(bias_lin))\n",
    "print(\"Bias of Random Forest: {}\".format(bias_rf))"
   ]
  },
  {
   "cell_type": "markdown",
   "id": "f2e13044",
   "metadata": {},
   "source": [
    "(b) Mean Absolute Error := $\\frac{1}{n} \\sum |\\hat{y_i} - y_i|$"
   ]
  },
  {
   "cell_type": "code",
   "execution_count": 11,
   "id": "76992d48",
   "metadata": {},
   "outputs": [
    {
     "name": "stdout",
     "output_type": "stream",
     "text": [
      "MAE of Linear Regression: 0.06945483772912858\n",
      "MAE of Random Forest Model: 0.07791700427824529\n"
     ]
    }
   ],
   "source": [
    "mae_lin = mean_absolute_error(y_test, y_pred_lin)\n",
    "mae_rf = mean_absolute_error(y_test, y_pred_rf)\n",
    "\n",
    "print(\"MAE of Linear Regression: {}\".format(mae_lin))\n",
    "print(\"MAE of Random Forest Model: {}\".format(mae_rf))"
   ]
  },
  {
   "cell_type": "markdown",
   "id": "91f63bd0",
   "metadata": {},
   "source": [
    "(c) Root Mean Square Error := $\\sqrt{\\frac{1}{n} \\sum (\\hat{y_i} - y_i)^2}$"
   ]
  },
  {
   "cell_type": "code",
   "execution_count": 12,
   "id": "9e1b0037",
   "metadata": {},
   "outputs": [
    {
     "name": "stdout",
     "output_type": "stream",
     "text": [
      "RMSE of Linear Regression: 0.11900883349546829\n",
      "RMSE of Random Forest: 0.12828052961945458\n"
     ]
    }
   ],
   "source": [
    "rmse_lin = np.sqrt(mean_squared_error(y_test, y_pred_lin))\n",
    "rmse_rf = np.sqrt(mean_squared_error(y_test, y_pred_rf))\n",
    "\n",
    "print(\"RMSE of Linear Regression: {}\".format(rmse_lin))\n",
    "print(\"RMSE of Random Forest: {}\".format(rmse_rf))"
   ]
  },
  {
   "cell_type": "markdown",
   "id": "00d5933d",
   "metadata": {},
   "source": [
    "(d) R squared := $1 - \\frac{RSS}{TSS}$ := $1- \\frac{\\sum (\\hat{y_i}-y_i)^2}{\\sum (y_i - \\mu)^2}$"
   ]
  },
  {
   "cell_type": "code",
   "execution_count": 13,
   "id": "127408c3",
   "metadata": {},
   "outputs": [
    {
     "name": "stdout",
     "output_type": "stream",
     "text": [
      "R^2 of Linear Regression: -0.0425941063161448\n",
      "R^2 of Random Forest: -0.2113743052089434\n"
     ]
    }
   ],
   "source": [
    "r2_lin = r2_score(y_test, y_pred_lin)\n",
    "r2_rf = r2_score(y_test, y_pred_rf)\n",
    "\n",
    "print(\"R^2 of Linear Regression: {}\".format(r2_lin))\n",
    "print(\"R^2 of Random Forest: {}\".format(r2_rf))"
   ]
  },
  {
   "cell_type": "code",
   "execution_count": 14,
   "id": "c3c840d4",
   "metadata": {},
   "outputs": [
    {
     "name": "stdout",
     "output_type": "stream",
     "text": [
      "[0.16289627 0.06888482 0.18715575 0.14345853 0.15467481 0.0667995\n",
      " 0.05931025 0.02914767 0.10035449 0.01626613 0.00336824 0.00768353]\n"
     ]
    },
    {
     "data": {
      "image/png": "[encoded data removed]",
      "text/plain": [
       "<Figure size 432x288 with 1 Axes>"
      ]
     },
     "metadata": {
      "needs_background": "light"
     },
     "output_type": "display_data"
    }
   ],
   "source": [
    "print(rf_model.feature_importances_)\n",
    "variable_importance_df = pd.DataFrame({\n",
    "    'variable': np.array(['x01', 'x02', 'x03', 'x04', 'x05', 'x06', 'x07', 'x08', 'x09', 'c10a', 'c10b', 'c10c']),\n",
    "    'values': rf_model.feature_importances_,\n",
    "})\n",
    "variable_importance_df = variable_importance_df.sort_values(by=['values'])\n",
    "plt.barh(variable_importance_df['variable'], variable_importance_df['values'])\n",
    "plt.savefig(os.path.join(plots_dir, 'rf_variable_importance_plot.png'), dpi=300)"
   ]
  },
  {
   "cell_type": "markdown",
   "id": "11527382",
   "metadata": {},
   "source": [
    "#### Coefficient value estimates, p-values and std error for each feature variable"
   ]
  },
  {
   "cell_type": "code",
   "execution_count": 15,
   "id": "8261a706",
   "metadata": {},
   "outputs": [
    {
     "data": {
      "text/html": [
       "<div>\n",
       "<style scoped>\n",
       "    .dataframe tbody tr th:only-of-type {\n",
       "        vertical-align: middle;\n",
       "    }\n",
       "\n",
       "    .dataframe tbody tr th {\n",
       "        vertical-align: top;\n",
       "    }\n",
       "\n",
       "    .dataframe thead th {\n",
       "        text-align: right;\n",
       "    }\n",
       "</style>\n",
       "<table border=\"1\" class=\"dataframe\">\n",
       "  <thead>\n",
       "    <tr style=\"text-align: right;\">\n",
       "      <th></th>\n",
       "      <th>variables</th>\n",
       "      <th>coeff</th>\n",
       "    </tr>\n",
       "  </thead>\n",
       "  <tbody>\n",
       "    <tr>\n",
       "      <th>0</th>\n",
       "      <td>x01</td>\n",
       "      <td>-0.003082</td>\n",
       "    </tr>\n",
       "    <tr>\n",
       "      <th>1</th>\n",
       "      <td>x02</td>\n",
       "      <td>0.002972</td>\n",
       "    </tr>\n",
       "    <tr>\n",
       "      <th>2</th>\n",
       "      <td>x03</td>\n",
       "      <td>-0.007127</td>\n",
       "    </tr>\n",
       "    <tr>\n",
       "      <th>3</th>\n",
       "      <td>x04</td>\n",
       "      <td>-0.004355</td>\n",
       "    </tr>\n",
       "    <tr>\n",
       "      <th>4</th>\n",
       "      <td>x05</td>\n",
       "      <td>0.000199</td>\n",
       "    </tr>\n",
       "    <tr>\n",
       "      <th>5</th>\n",
       "      <td>x06</td>\n",
       "      <td>0.004155</td>\n",
       "    </tr>\n",
       "    <tr>\n",
       "      <th>6</th>\n",
       "      <td>x07</td>\n",
       "      <td>0.003576</td>\n",
       "    </tr>\n",
       "    <tr>\n",
       "      <th>7</th>\n",
       "      <td>x08</td>\n",
       "      <td>-0.006764</td>\n",
       "    </tr>\n",
       "    <tr>\n",
       "      <th>8</th>\n",
       "      <td>x09</td>\n",
       "      <td>-0.000722</td>\n",
       "    </tr>\n",
       "    <tr>\n",
       "      <th>9</th>\n",
       "      <td>c10a</td>\n",
       "      <td>-0.042275</td>\n",
       "    </tr>\n",
       "    <tr>\n",
       "      <th>10</th>\n",
       "      <td>c10b</td>\n",
       "      <td>-0.020442</td>\n",
       "    </tr>\n",
       "    <tr>\n",
       "      <th>11</th>\n",
       "      <td>c10c</td>\n",
       "      <td>-0.016600</td>\n",
       "    </tr>\n",
       "  </tbody>\n",
       "</table>\n",
       "</div>"
      ],
      "text/plain": [
       "   variables     coeff\n",
       "0        x01 -0.003082\n",
       "1        x02  0.002972\n",
       "2        x03 -0.007127\n",
       "3        x04 -0.004355\n",
       "4        x05  0.000199\n",
       "5        x06  0.004155\n",
       "6        x07  0.003576\n",
       "7        x08 -0.006764\n",
       "8        x09 -0.000722\n",
       "9       c10a -0.042275\n",
       "10      c10b -0.020442\n",
       "11      c10c -0.016600"
      ]
     },
     "execution_count": 15,
     "metadata": {},
     "output_type": "execute_result"
    }
   ],
   "source": [
    "results = pd.DataFrame({\n",
    "    'variables': X_train.columns,\n",
    "    'coeff': lin_model.coef_,\n",
    "})\n",
    "results"
   ]
  },
  {
   "cell_type": "markdown",
   "id": "1e8ce768",
   "metadata": {},
   "source": [
    "Train fit analysis from OLS statsmodel package"
   ]
  },
  {
   "cell_type": "code",
   "execution_count": 16,
   "id": "09dca64b",
   "metadata": {},
   "outputs": [],
   "source": [
    "import statsmodels.api as sm"
   ]
  },
  {
   "cell_type": "code",
   "execution_count": 17,
   "id": "ba19eb72",
   "metadata": {},
   "outputs": [
    {
     "name": "stderr",
     "output_type": "stream",
     "text": [
      "/home/julian/anaconda3/lib/python3.9/site-packages/statsmodels/tsa/tsatools.py:142: FutureWarning: In a future version of pandas all arguments of concat except for the argument 'objs' will be keyword-only\n",
      "  x = pd.concat(x[::order], 1)\n"
     ]
    },
    {
     "data": {
      "text/html": [
       "<table class=\"simpletable\">\n",
       "<caption>OLS Regression Results</caption>\n",
       "<tr>\n",
       "  <th>Dep. Variable:</th>            <td>y</td>        <th>  R-squared:         </th> <td>   0.021</td>\n",
       "</tr>\n",
       "<tr>\n",
       "  <th>Model:</th>                   <td>OLS</td>       <th>  Adj. R-squared:    </th> <td>   0.007</td>\n",
       "</tr>\n",
       "<tr>\n",
       "  <th>Method:</th>             <td>Least Squares</td>  <th>  F-statistic:       </th> <td>   1.488</td>\n",
       "</tr>\n",
       "<tr>\n",
       "  <th>Date:</th>             <td>Wed, 01 Jun 2022</td> <th>  Prob (F-statistic):</th>  <td> 0.123</td> \n",
       "</tr>\n",
       "<tr>\n",
       "  <th>Time:</th>                 <td>21:08:56</td>     <th>  Log-Likelihood:    </th> <td>  661.74</td>\n",
       "</tr>\n",
       "<tr>\n",
       "  <th>No. Observations:</th>      <td>   852</td>      <th>  AIC:               </th> <td>  -1297.</td>\n",
       "</tr>\n",
       "<tr>\n",
       "  <th>Df Residuals:</th>          <td>   839</td>      <th>  BIC:               </th> <td>  -1236.</td>\n",
       "</tr>\n",
       "<tr>\n",
       "  <th>Df Model:</th>              <td>    12</td>      <th>                     </th>     <td> </td>   \n",
       "</tr>\n",
       "<tr>\n",
       "  <th>Covariance Type:</th>      <td>nonrobust</td>    <th>                     </th>     <td> </td>   \n",
       "</tr>\n",
       "</table>\n",
       "<table class=\"simpletable\">\n",
       "<tr>\n",
       "    <td></td>       <th>coef</th>     <th>std err</th>      <th>t</th>      <th>P>|t|</th>  <th>[0.025</th>    <th>0.975]</th>  \n",
       "</tr>\n",
       "<tr>\n",
       "  <th>const</th> <td>    0.0312</td> <td>    0.075</td> <td>    0.414</td> <td> 0.679</td> <td>   -0.117</td> <td>    0.179</td>\n",
       "</tr>\n",
       "<tr>\n",
       "  <th>x01</th>   <td>   -0.0031</td> <td>    0.005</td> <td>   -0.665</td> <td> 0.506</td> <td>   -0.012</td> <td>    0.006</td>\n",
       "</tr>\n",
       "<tr>\n",
       "  <th>x02</th>   <td>    0.0030</td> <td>    0.004</td> <td>    0.730</td> <td> 0.465</td> <td>   -0.005</td> <td>    0.011</td>\n",
       "</tr>\n",
       "<tr>\n",
       "  <th>x03</th>   <td>   -0.0071</td> <td>    0.004</td> <td>   -1.587</td> <td> 0.113</td> <td>   -0.016</td> <td>    0.002</td>\n",
       "</tr>\n",
       "<tr>\n",
       "  <th>x04</th>   <td>   -0.0044</td> <td>    0.004</td> <td>   -1.125</td> <td> 0.261</td> <td>   -0.012</td> <td>    0.003</td>\n",
       "</tr>\n",
       "<tr>\n",
       "  <th>x05</th>   <td>    0.0002</td> <td>    0.004</td> <td>    0.044</td> <td> 0.965</td> <td>   -0.009</td> <td>    0.009</td>\n",
       "</tr>\n",
       "<tr>\n",
       "  <th>x06</th>   <td>    0.0042</td> <td>    0.005</td> <td>    0.904</td> <td> 0.366</td> <td>   -0.005</td> <td>    0.013</td>\n",
       "</tr>\n",
       "<tr>\n",
       "  <th>x07</th>   <td>    0.0036</td> <td>    0.004</td> <td>    0.911</td> <td> 0.363</td> <td>   -0.004</td> <td>    0.011</td>\n",
       "</tr>\n",
       "<tr>\n",
       "  <th>x08</th>   <td>   -0.0068</td> <td>    0.006</td> <td>   -1.190</td> <td> 0.234</td> <td>   -0.018</td> <td>    0.004</td>\n",
       "</tr>\n",
       "<tr>\n",
       "  <th>x09</th>   <td>   -0.0007</td> <td>    0.007</td> <td>   -0.110</td> <td> 0.912</td> <td>   -0.014</td> <td>    0.012</td>\n",
       "</tr>\n",
       "<tr>\n",
       "  <th>c10a</th>  <td>   -0.0423</td> <td>    0.075</td> <td>   -0.561</td> <td> 0.575</td> <td>   -0.190</td> <td>    0.106</td>\n",
       "</tr>\n",
       "<tr>\n",
       "  <th>c10b</th>  <td>   -0.0204</td> <td>    0.077</td> <td>   -0.266</td> <td> 0.790</td> <td>   -0.171</td> <td>    0.130</td>\n",
       "</tr>\n",
       "<tr>\n",
       "  <th>c10c</th>  <td>   -0.0166</td> <td>    0.076</td> <td>   -0.217</td> <td> 0.828</td> <td>   -0.166</td> <td>    0.133</td>\n",
       "</tr>\n",
       "</table>\n",
       "<table class=\"simpletable\">\n",
       "<tr>\n",
       "  <th>Omnibus:</th>       <td>595.433</td> <th>  Durbin-Watson:     </th> <td>   1.962</td> \n",
       "</tr>\n",
       "<tr>\n",
       "  <th>Prob(Omnibus):</th> <td> 0.000</td>  <th>  Jarque-Bera (JB):  </th> <td>34682.603</td>\n",
       "</tr>\n",
       "<tr>\n",
       "  <th>Skew:</th>          <td> 2.510</td>  <th>  Prob(JB):          </th> <td>    0.00</td> \n",
       "</tr>\n",
       "<tr>\n",
       "  <th>Kurtosis:</th>      <td>33.851</td>  <th>  Cond. No.          </th> <td>    56.6</td> \n",
       "</tr>\n",
       "</table><br/><br/>Notes:<br/>[1] Standard Errors assume that the covariance matrix of the errors is correctly specified."
      ],
      "text/plain": [
       "<class 'statsmodels.iolib.summary.Summary'>\n",
       "\"\"\"\n",
       "                            OLS Regression Results                            \n",
       "==============================================================================\n",
       "Dep. Variable:                      y   R-squared:                       0.021\n",
       "Model:                            OLS   Adj. R-squared:                  0.007\n",
       "Method:                 Least Squares   F-statistic:                     1.488\n",
       "Date:                Wed, 01 Jun 2022   Prob (F-statistic):              0.123\n",
       "Time:                        21:08:56   Log-Likelihood:                 661.74\n",
       "No. Observations:                 852   AIC:                            -1297.\n",
       "Df Residuals:                     839   BIC:                            -1236.\n",
       "Df Model:                          12                                         \n",
       "Covariance Type:            nonrobust                                         \n",
       "==============================================================================\n",
       "                 coef    std err          t      P>|t|      [0.025      0.975]\n",
       "------------------------------------------------------------------------------\n",
       "const          0.0312      0.075      0.414      0.679      -0.117       0.179\n",
       "x01           -0.0031      0.005     -0.665      0.506      -0.012       0.006\n",
       "x02            0.0030      0.004      0.730      0.465      -0.005       0.011\n",
       "x03           -0.0071      0.004     -1.587      0.113      -0.016       0.002\n",
       "x04           -0.0044      0.004     -1.125      0.261      -0.012       0.003\n",
       "x05            0.0002      0.004      0.044      0.965      -0.009       0.009\n",
       "x06            0.0042      0.005      0.904      0.366      -0.005       0.013\n",
       "x07            0.0036      0.004      0.911      0.363      -0.004       0.011\n",
       "x08           -0.0068      0.006     -1.190      0.234      -0.018       0.004\n",
       "x09           -0.0007      0.007     -0.110      0.912      -0.014       0.012\n",
       "c10a          -0.0423      0.075     -0.561      0.575      -0.190       0.106\n",
       "c10b          -0.0204      0.077     -0.266      0.790      -0.171       0.130\n",
       "c10c          -0.0166      0.076     -0.217      0.828      -0.166       0.133\n",
       "==============================================================================\n",
       "Omnibus:                      595.433   Durbin-Watson:                   1.962\n",
       "Prob(Omnibus):                  0.000   Jarque-Bera (JB):            34682.603\n",
       "Skew:                           2.510   Prob(JB):                         0.00\n",
       "Kurtosis:                      33.851   Cond. No.                         56.6\n",
       "==============================================================================\n",
       "\n",
       "Notes:\n",
       "[1] Standard Errors assume that the covariance matrix of the errors is correctly specified.\n",
       "\"\"\""
      ]
     },
     "execution_count": 17,
     "metadata": {},
     "output_type": "execute_result"
    }
   ],
   "source": [
    "X2_train = sm.add_constant(X_train)\n",
    "ols_result = sm.OLS(y_train, X2_train).fit()\n",
    "ols_result.summary()"
   ]
  },
  {
   "cell_type": "markdown",
   "id": "16640895",
   "metadata": {},
   "source": [
    "#### Partial dependence plots"
   ]
  },
  {
   "cell_type": "code",
   "execution_count": null,
   "id": "64cf6c8c",
   "metadata": {},
   "outputs": [],
   "source": []
  }
 ],
 "metadata": {
  "kernelspec": {
   "display_name": "Python 3 (ipykernel)",
   "language": "python",
   "name": "python3"
  },
  "language_info": {
   "codemirror_mode": {
    "name": "ipython",
    "version": 3
   },
   "file_extension": ".py",
   "mimetype": "text/x-python",
   "name": "python",
   "nbconvert_exporter": "python",
   "pygments_lexer": "ipython3",
   "version": "3.9.7"
  }
 },
 "nbformat": 4,
 "nbformat_minor": 5
}

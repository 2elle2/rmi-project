{
 "cells": [
  {
   "cell_type": "markdown",
   "id": "4d174d59",
   "metadata": {},
   "source": [
    "## 03 Feature Engineering"
   ]
  },
  {
   "cell_type": "markdown",
   "id": "702abf73",
   "metadata": {},
   "source": [
    "#### Import relevant libraries"
   ]
  },
  {
   "cell_type": "markdown",
   "id": "5581d63a",
   "metadata": {},
   "source": [
    "#### Load processed dataset"
   ]
  },
  {
   "cell_type": "markdown",
   "id": "c2ae809f",
   "metadata": {},
   "source": [
    "#### Create new features"
   ]
  },
  {
   "cell_type": "markdown",
   "id": "6be88e33",
   "metadata": {},
   "source": [
    "#### Check for covariance"
   ]
  },
  {
   "cell_type": "markdown",
   "id": "a2ad2650",
   "metadata": {},
   "source": [
    "#### Filter for training dataset"
   ]
  },
  {
   "cell_type": "markdown",
   "id": "b9a0be55",
   "metadata": {},
   "source": [
    "#### Save model_data file"
   ]
  },
  {
   "cell_type": "code",
   "execution_count": null,
   "id": "a8ce2c2c",
   "metadata": {},
   "outputs": [],
   "source": []
  }
 ],
 "metadata": {
  "kernelspec": {
   "display_name": "Python [conda env:root] *",
   "language": "python",
   "name": "conda-root-py"
  },
  "language_info": {
   "codemirror_mode": {
    "name": "ipython",
    "version": 3
   },
   "file_extension": ".py",
   "mimetype": "text/x-python",
   "name": "python",
   "nbconvert_exporter": "python",
   "pygments_lexer": "ipython3",
   "version": "3.9.7"
  }
 },
 "nbformat": 4,
 "nbformat_minor": 5
}

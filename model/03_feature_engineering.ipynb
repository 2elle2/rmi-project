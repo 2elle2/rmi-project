{
 "cells": [
  {
   "cell_type": "markdown",
   "id": "73d3a19f",
   "metadata": {},
   "source": [
    "## 03 Feature Engineering"
   ]
  },
  {
   "cell_type": "markdown",
   "id": "ec7c25ac",
   "metadata": {},
   "source": [
    "#### Import relevant libraries"
   ]
  },
  {
   "cell_type": "code",
   "execution_count": 1,
   "id": "0a03320a",
   "metadata": {},
   "outputs": [],
   "source": [
    "import os\n",
    "import pandas as pd\n",
    "import numpy as np\n",
    "\n",
    "# import matplotlib.pyplot as plt\n",
    "# %matplotlib inline"
   ]
  },
  {
   "cell_type": "markdown",
   "id": "766e2517",
   "metadata": {},
   "source": [
    "#### Load processed dataset"
   ]
  },
  {
   "cell_type": "code",
   "execution_count": 2,
   "id": "21aadf1c",
   "metadata": {},
   "outputs": [
    {
     "ename": "FileNotFoundError",
     "evalue": "[Errno 2] No such file or directory: '../data/processed/processed_data.csv'",
     "output_type": "error",
     "traceback": [
      "\u001b[0;31m---------------------------------------------------------------------------\u001b[0m",
      "\u001b[0;31mFileNotFoundError\u001b[0m                         Traceback (most recent call last)",
      "Input \u001b[0;32mIn [2]\u001b[0m, in \u001b[0;36m<cell line: 2>\u001b[0;34m()\u001b[0m\n\u001b[1;32m      1\u001b[0m input_dir \u001b[38;5;241m=\u001b[39m os\u001b[38;5;241m.\u001b[39mpath\u001b[38;5;241m.\u001b[39mjoin(\u001b[38;5;124m'\u001b[39m\u001b[38;5;124m..\u001b[39m\u001b[38;5;124m'\u001b[39m, \u001b[38;5;124m'\u001b[39m\u001b[38;5;124mdata\u001b[39m\u001b[38;5;124m'\u001b[39m, \u001b[38;5;124m'\u001b[39m\u001b[38;5;124mprocessed\u001b[39m\u001b[38;5;124m'\u001b[39m)\n\u001b[0;32m----> 2\u001b[0m data_df \u001b[38;5;241m=\u001b[39m \u001b[43mpd\u001b[49m\u001b[38;5;241;43m.\u001b[39;49m\u001b[43mread_csv\u001b[49m\u001b[43m(\u001b[49m\u001b[43mos\u001b[49m\u001b[38;5;241;43m.\u001b[39;49m\u001b[43mpath\u001b[49m\u001b[38;5;241;43m.\u001b[39;49m\u001b[43mjoin\u001b[49m\u001b[43m(\u001b[49m\u001b[43minput_dir\u001b[49m\u001b[43m,\u001b[49m\u001b[43m \u001b[49m\u001b[38;5;124;43m'\u001b[39;49m\u001b[38;5;124;43mprocessed_data.csv\u001b[39;49m\u001b[38;5;124;43m'\u001b[39;49m\u001b[43m)\u001b[49m\u001b[43m)\u001b[49m\n\u001b[1;32m      3\u001b[0m data_df\n",
      "File \u001b[0;32m~/Library/Python/3.9/lib/python/site-packages/pandas/util/_decorators.py:311\u001b[0m, in \u001b[0;36mdeprecate_nonkeyword_arguments.<locals>.decorate.<locals>.wrapper\u001b[0;34m(*args, **kwargs)\u001b[0m\n\u001b[1;32m    305\u001b[0m \u001b[38;5;28;01mif\u001b[39;00m \u001b[38;5;28mlen\u001b[39m(args) \u001b[38;5;241m>\u001b[39m num_allow_args:\n\u001b[1;32m    306\u001b[0m     warnings\u001b[38;5;241m.\u001b[39mwarn(\n\u001b[1;32m    307\u001b[0m         msg\u001b[38;5;241m.\u001b[39mformat(arguments\u001b[38;5;241m=\u001b[39marguments),\n\u001b[1;32m    308\u001b[0m         \u001b[38;5;167;01mFutureWarning\u001b[39;00m,\n\u001b[1;32m    309\u001b[0m         stacklevel\u001b[38;5;241m=\u001b[39mstacklevel,\n\u001b[1;32m    310\u001b[0m     )\n\u001b[0;32m--> 311\u001b[0m \u001b[38;5;28;01mreturn\u001b[39;00m \u001b[43mfunc\u001b[49m\u001b[43m(\u001b[49m\u001b[38;5;241;43m*\u001b[39;49m\u001b[43margs\u001b[49m\u001b[43m,\u001b[49m\u001b[43m \u001b[49m\u001b[38;5;241;43m*\u001b[39;49m\u001b[38;5;241;43m*\u001b[39;49m\u001b[43mkwargs\u001b[49m\u001b[43m)\u001b[49m\n",
      "File \u001b[0;32m~/Library/Python/3.9/lib/python/site-packages/pandas/io/parsers/readers.py:680\u001b[0m, in \u001b[0;36mread_csv\u001b[0;34m(filepath_or_buffer, sep, delimiter, header, names, index_col, usecols, squeeze, prefix, mangle_dupe_cols, dtype, engine, converters, true_values, false_values, skipinitialspace, skiprows, skipfooter, nrows, na_values, keep_default_na, na_filter, verbose, skip_blank_lines, parse_dates, infer_datetime_format, keep_date_col, date_parser, dayfirst, cache_dates, iterator, chunksize, compression, thousands, decimal, lineterminator, quotechar, quoting, doublequote, escapechar, comment, encoding, encoding_errors, dialect, error_bad_lines, warn_bad_lines, on_bad_lines, delim_whitespace, low_memory, memory_map, float_precision, storage_options)\u001b[0m\n\u001b[1;32m    665\u001b[0m kwds_defaults \u001b[38;5;241m=\u001b[39m _refine_defaults_read(\n\u001b[1;32m    666\u001b[0m     dialect,\n\u001b[1;32m    667\u001b[0m     delimiter,\n\u001b[0;32m   (...)\u001b[0m\n\u001b[1;32m    676\u001b[0m     defaults\u001b[38;5;241m=\u001b[39m{\u001b[38;5;124m\"\u001b[39m\u001b[38;5;124mdelimiter\u001b[39m\u001b[38;5;124m\"\u001b[39m: \u001b[38;5;124m\"\u001b[39m\u001b[38;5;124m,\u001b[39m\u001b[38;5;124m\"\u001b[39m},\n\u001b[1;32m    677\u001b[0m )\n\u001b[1;32m    678\u001b[0m kwds\u001b[38;5;241m.\u001b[39mupdate(kwds_defaults)\n\u001b[0;32m--> 680\u001b[0m \u001b[38;5;28;01mreturn\u001b[39;00m \u001b[43m_read\u001b[49m\u001b[43m(\u001b[49m\u001b[43mfilepath_or_buffer\u001b[49m\u001b[43m,\u001b[49m\u001b[43m \u001b[49m\u001b[43mkwds\u001b[49m\u001b[43m)\u001b[49m\n",
      "File \u001b[0;32m~/Library/Python/3.9/lib/python/site-packages/pandas/io/parsers/readers.py:575\u001b[0m, in \u001b[0;36m_read\u001b[0;34m(filepath_or_buffer, kwds)\u001b[0m\n\u001b[1;32m    572\u001b[0m _validate_names(kwds\u001b[38;5;241m.\u001b[39mget(\u001b[38;5;124m\"\u001b[39m\u001b[38;5;124mnames\u001b[39m\u001b[38;5;124m\"\u001b[39m, \u001b[38;5;28;01mNone\u001b[39;00m))\n\u001b[1;32m    574\u001b[0m \u001b[38;5;66;03m# Create the parser.\u001b[39;00m\n\u001b[0;32m--> 575\u001b[0m parser \u001b[38;5;241m=\u001b[39m \u001b[43mTextFileReader\u001b[49m\u001b[43m(\u001b[49m\u001b[43mfilepath_or_buffer\u001b[49m\u001b[43m,\u001b[49m\u001b[43m \u001b[49m\u001b[38;5;241;43m*\u001b[39;49m\u001b[38;5;241;43m*\u001b[39;49m\u001b[43mkwds\u001b[49m\u001b[43m)\u001b[49m\n\u001b[1;32m    577\u001b[0m \u001b[38;5;28;01mif\u001b[39;00m chunksize \u001b[38;5;129;01mor\u001b[39;00m iterator:\n\u001b[1;32m    578\u001b[0m     \u001b[38;5;28;01mreturn\u001b[39;00m parser\n",
      "File \u001b[0;32m~/Library/Python/3.9/lib/python/site-packages/pandas/io/parsers/readers.py:933\u001b[0m, in \u001b[0;36mTextFileReader.__init__\u001b[0;34m(self, f, engine, **kwds)\u001b[0m\n\u001b[1;32m    930\u001b[0m     \u001b[38;5;28mself\u001b[39m\u001b[38;5;241m.\u001b[39moptions[\u001b[38;5;124m\"\u001b[39m\u001b[38;5;124mhas_index_names\u001b[39m\u001b[38;5;124m\"\u001b[39m] \u001b[38;5;241m=\u001b[39m kwds[\u001b[38;5;124m\"\u001b[39m\u001b[38;5;124mhas_index_names\u001b[39m\u001b[38;5;124m\"\u001b[39m]\n\u001b[1;32m    932\u001b[0m \u001b[38;5;28mself\u001b[39m\u001b[38;5;241m.\u001b[39mhandles: IOHandles \u001b[38;5;241m|\u001b[39m \u001b[38;5;28;01mNone\u001b[39;00m \u001b[38;5;241m=\u001b[39m \u001b[38;5;28;01mNone\u001b[39;00m\n\u001b[0;32m--> 933\u001b[0m \u001b[38;5;28mself\u001b[39m\u001b[38;5;241m.\u001b[39m_engine \u001b[38;5;241m=\u001b[39m \u001b[38;5;28;43mself\u001b[39;49m\u001b[38;5;241;43m.\u001b[39;49m\u001b[43m_make_engine\u001b[49m\u001b[43m(\u001b[49m\u001b[43mf\u001b[49m\u001b[43m,\u001b[49m\u001b[43m \u001b[49m\u001b[38;5;28;43mself\u001b[39;49m\u001b[38;5;241;43m.\u001b[39;49m\u001b[43mengine\u001b[49m\u001b[43m)\u001b[49m\n",
      "File \u001b[0;32m~/Library/Python/3.9/lib/python/site-packages/pandas/io/parsers/readers.py:1217\u001b[0m, in \u001b[0;36mTextFileReader._make_engine\u001b[0;34m(self, f, engine)\u001b[0m\n\u001b[1;32m   1213\u001b[0m     mode \u001b[38;5;241m=\u001b[39m \u001b[38;5;124m\"\u001b[39m\u001b[38;5;124mrb\u001b[39m\u001b[38;5;124m\"\u001b[39m\n\u001b[1;32m   1214\u001b[0m \u001b[38;5;66;03m# error: No overload variant of \"get_handle\" matches argument types\u001b[39;00m\n\u001b[1;32m   1215\u001b[0m \u001b[38;5;66;03m# \"Union[str, PathLike[str], ReadCsvBuffer[bytes], ReadCsvBuffer[str]]\"\u001b[39;00m\n\u001b[1;32m   1216\u001b[0m \u001b[38;5;66;03m# , \"str\", \"bool\", \"Any\", \"Any\", \"Any\", \"Any\", \"Any\"\u001b[39;00m\n\u001b[0;32m-> 1217\u001b[0m \u001b[38;5;28mself\u001b[39m\u001b[38;5;241m.\u001b[39mhandles \u001b[38;5;241m=\u001b[39m \u001b[43mget_handle\u001b[49m\u001b[43m(\u001b[49m\u001b[43m  \u001b[49m\u001b[38;5;66;43;03m# type: ignore[call-overload]\u001b[39;49;00m\n\u001b[1;32m   1218\u001b[0m \u001b[43m    \u001b[49m\u001b[43mf\u001b[49m\u001b[43m,\u001b[49m\n\u001b[1;32m   1219\u001b[0m \u001b[43m    \u001b[49m\u001b[43mmode\u001b[49m\u001b[43m,\u001b[49m\n\u001b[1;32m   1220\u001b[0m \u001b[43m    \u001b[49m\u001b[43mencoding\u001b[49m\u001b[38;5;241;43m=\u001b[39;49m\u001b[38;5;28;43mself\u001b[39;49m\u001b[38;5;241;43m.\u001b[39;49m\u001b[43moptions\u001b[49m\u001b[38;5;241;43m.\u001b[39;49m\u001b[43mget\u001b[49m\u001b[43m(\u001b[49m\u001b[38;5;124;43m\"\u001b[39;49m\u001b[38;5;124;43mencoding\u001b[39;49m\u001b[38;5;124;43m\"\u001b[39;49m\u001b[43m,\u001b[49m\u001b[43m \u001b[49m\u001b[38;5;28;43;01mNone\u001b[39;49;00m\u001b[43m)\u001b[49m\u001b[43m,\u001b[49m\n\u001b[1;32m   1221\u001b[0m \u001b[43m    \u001b[49m\u001b[43mcompression\u001b[49m\u001b[38;5;241;43m=\u001b[39;49m\u001b[38;5;28;43mself\u001b[39;49m\u001b[38;5;241;43m.\u001b[39;49m\u001b[43moptions\u001b[49m\u001b[38;5;241;43m.\u001b[39;49m\u001b[43mget\u001b[49m\u001b[43m(\u001b[49m\u001b[38;5;124;43m\"\u001b[39;49m\u001b[38;5;124;43mcompression\u001b[39;49m\u001b[38;5;124;43m\"\u001b[39;49m\u001b[43m,\u001b[49m\u001b[43m \u001b[49m\u001b[38;5;28;43;01mNone\u001b[39;49;00m\u001b[43m)\u001b[49m\u001b[43m,\u001b[49m\n\u001b[1;32m   1222\u001b[0m \u001b[43m    \u001b[49m\u001b[43mmemory_map\u001b[49m\u001b[38;5;241;43m=\u001b[39;49m\u001b[38;5;28;43mself\u001b[39;49m\u001b[38;5;241;43m.\u001b[39;49m\u001b[43moptions\u001b[49m\u001b[38;5;241;43m.\u001b[39;49m\u001b[43mget\u001b[49m\u001b[43m(\u001b[49m\u001b[38;5;124;43m\"\u001b[39;49m\u001b[38;5;124;43mmemory_map\u001b[39;49m\u001b[38;5;124;43m\"\u001b[39;49m\u001b[43m,\u001b[49m\u001b[43m \u001b[49m\u001b[38;5;28;43;01mFalse\u001b[39;49;00m\u001b[43m)\u001b[49m\u001b[43m,\u001b[49m\n\u001b[1;32m   1223\u001b[0m \u001b[43m    \u001b[49m\u001b[43mis_text\u001b[49m\u001b[38;5;241;43m=\u001b[39;49m\u001b[43mis_text\u001b[49m\u001b[43m,\u001b[49m\n\u001b[1;32m   1224\u001b[0m \u001b[43m    \u001b[49m\u001b[43merrors\u001b[49m\u001b[38;5;241;43m=\u001b[39;49m\u001b[38;5;28;43mself\u001b[39;49m\u001b[38;5;241;43m.\u001b[39;49m\u001b[43moptions\u001b[49m\u001b[38;5;241;43m.\u001b[39;49m\u001b[43mget\u001b[49m\u001b[43m(\u001b[49m\u001b[38;5;124;43m\"\u001b[39;49m\u001b[38;5;124;43mencoding_errors\u001b[39;49m\u001b[38;5;124;43m\"\u001b[39;49m\u001b[43m,\u001b[49m\u001b[43m \u001b[49m\u001b[38;5;124;43m\"\u001b[39;49m\u001b[38;5;124;43mstrict\u001b[39;49m\u001b[38;5;124;43m\"\u001b[39;49m\u001b[43m)\u001b[49m\u001b[43m,\u001b[49m\n\u001b[1;32m   1225\u001b[0m \u001b[43m    \u001b[49m\u001b[43mstorage_options\u001b[49m\u001b[38;5;241;43m=\u001b[39;49m\u001b[38;5;28;43mself\u001b[39;49m\u001b[38;5;241;43m.\u001b[39;49m\u001b[43moptions\u001b[49m\u001b[38;5;241;43m.\u001b[39;49m\u001b[43mget\u001b[49m\u001b[43m(\u001b[49m\u001b[38;5;124;43m\"\u001b[39;49m\u001b[38;5;124;43mstorage_options\u001b[39;49m\u001b[38;5;124;43m\"\u001b[39;49m\u001b[43m,\u001b[49m\u001b[43m \u001b[49m\u001b[38;5;28;43;01mNone\u001b[39;49;00m\u001b[43m)\u001b[49m\u001b[43m,\u001b[49m\n\u001b[1;32m   1226\u001b[0m \u001b[43m\u001b[49m\u001b[43m)\u001b[49m\n\u001b[1;32m   1227\u001b[0m \u001b[38;5;28;01massert\u001b[39;00m \u001b[38;5;28mself\u001b[39m\u001b[38;5;241m.\u001b[39mhandles \u001b[38;5;129;01mis\u001b[39;00m \u001b[38;5;129;01mnot\u001b[39;00m \u001b[38;5;28;01mNone\u001b[39;00m\n\u001b[1;32m   1228\u001b[0m f \u001b[38;5;241m=\u001b[39m \u001b[38;5;28mself\u001b[39m\u001b[38;5;241m.\u001b[39mhandles\u001b[38;5;241m.\u001b[39mhandle\n",
      "File \u001b[0;32m~/Library/Python/3.9/lib/python/site-packages/pandas/io/common.py:789\u001b[0m, in \u001b[0;36mget_handle\u001b[0;34m(path_or_buf, mode, encoding, compression, memory_map, is_text, errors, storage_options)\u001b[0m\n\u001b[1;32m    784\u001b[0m \u001b[38;5;28;01melif\u001b[39;00m \u001b[38;5;28misinstance\u001b[39m(handle, \u001b[38;5;28mstr\u001b[39m):\n\u001b[1;32m    785\u001b[0m     \u001b[38;5;66;03m# Check whether the filename is to be opened in binary mode.\u001b[39;00m\n\u001b[1;32m    786\u001b[0m     \u001b[38;5;66;03m# Binary mode does not support 'encoding' and 'newline'.\u001b[39;00m\n\u001b[1;32m    787\u001b[0m     \u001b[38;5;28;01mif\u001b[39;00m ioargs\u001b[38;5;241m.\u001b[39mencoding \u001b[38;5;129;01mand\u001b[39;00m \u001b[38;5;124m\"\u001b[39m\u001b[38;5;124mb\u001b[39m\u001b[38;5;124m\"\u001b[39m \u001b[38;5;129;01mnot\u001b[39;00m \u001b[38;5;129;01min\u001b[39;00m ioargs\u001b[38;5;241m.\u001b[39mmode:\n\u001b[1;32m    788\u001b[0m         \u001b[38;5;66;03m# Encoding\u001b[39;00m\n\u001b[0;32m--> 789\u001b[0m         handle \u001b[38;5;241m=\u001b[39m \u001b[38;5;28;43mopen\u001b[39;49m\u001b[43m(\u001b[49m\n\u001b[1;32m    790\u001b[0m \u001b[43m            \u001b[49m\u001b[43mhandle\u001b[49m\u001b[43m,\u001b[49m\n\u001b[1;32m    791\u001b[0m \u001b[43m            \u001b[49m\u001b[43mioargs\u001b[49m\u001b[38;5;241;43m.\u001b[39;49m\u001b[43mmode\u001b[49m\u001b[43m,\u001b[49m\n\u001b[1;32m    792\u001b[0m \u001b[43m            \u001b[49m\u001b[43mencoding\u001b[49m\u001b[38;5;241;43m=\u001b[39;49m\u001b[43mioargs\u001b[49m\u001b[38;5;241;43m.\u001b[39;49m\u001b[43mencoding\u001b[49m\u001b[43m,\u001b[49m\n\u001b[1;32m    793\u001b[0m \u001b[43m            \u001b[49m\u001b[43merrors\u001b[49m\u001b[38;5;241;43m=\u001b[39;49m\u001b[43merrors\u001b[49m\u001b[43m,\u001b[49m\n\u001b[1;32m    794\u001b[0m \u001b[43m            \u001b[49m\u001b[43mnewline\u001b[49m\u001b[38;5;241;43m=\u001b[39;49m\u001b[38;5;124;43m\"\u001b[39;49m\u001b[38;5;124;43m\"\u001b[39;49m\u001b[43m,\u001b[49m\n\u001b[1;32m    795\u001b[0m \u001b[43m        \u001b[49m\u001b[43m)\u001b[49m\n\u001b[1;32m    796\u001b[0m     \u001b[38;5;28;01melse\u001b[39;00m:\n\u001b[1;32m    797\u001b[0m         \u001b[38;5;66;03m# Binary mode\u001b[39;00m\n\u001b[1;32m    798\u001b[0m         handle \u001b[38;5;241m=\u001b[39m \u001b[38;5;28mopen\u001b[39m(handle, ioargs\u001b[38;5;241m.\u001b[39mmode)\n",
      "\u001b[0;31mFileNotFoundError\u001b[0m: [Errno 2] No such file or directory: '../data/processed/processed_data.csv'"
     ]
    }
   ],
   "source": [
    "input_dir = os.path.join('..', 'data', 'processed')\n",
    "data_df = pd.read_csv(os.path.join(input_dir, 'processed_data.csv'))\n",
    "data_df"
   ]
  },
  {
   "cell_type": "code",
   "execution_count": null,
   "id": "50ef11e2",
   "metadata": {},
   "outputs": [],
   "source": [
    "is_after_2010 = data_df['year'] >= 2010  #inclusive\n",
    "data_after_2010_df = data_df[is_after_2010]\n",
    "data_after_2010_df\n"
   ]
  },
  {
   "cell_type": "markdown",
   "id": "008ef3c5",
   "metadata": {},
   "source": [
    "#### Create new features"
   ]
  },
  {
   "cell_type": "code",
   "execution_count": null,
   "id": "291ff9c7",
   "metadata": {},
   "outputs": [],
   "source": [
    "data_df.columns"
   ]
  },
  {
   "cell_type": "code",
   "execution_count": null,
   "id": "69d8dea4",
   "metadata": {},
   "outputs": [],
   "source": [
    "# Target variable\n",
    "normalized_expenditure = data_df[['normalized_expenditure', 'year', 'respondent_id']]\n",
    "normalized_expenditure"
   ]
  },
  {
   "cell_type": "code",
   "execution_count": null,
   "id": "79e064d0",
   "metadata": {},
   "outputs": [],
   "source": [
    "pivot_df = normalized_expenditure.pivot('respondent_id', 'year', 'normalized_expenditure')\n",
    "pivot_df"
   ]
  },
  {
   "cell_type": "code",
   "execution_count": null,
   "id": "f7cfc658",
   "metadata": {},
   "outputs": [],
   "source": [
    "#t = 10\n",
    "pivot_df['normalized_expenditure_cagr'] = (pivot_df[2020]/pivot_df[2010])**0.1 - 1\n",
    "pivot_df"
   ]
  },
  {
   "cell_type": "code",
   "execution_count": null,
   "id": "48c28dd6",
   "metadata": {},
   "outputs": [],
   "source": [
    "target = pivot_df['normalized_expenditure_cagr']\n",
    "target"
   ]
  },
  {
   "cell_type": "markdown",
   "id": "789e7c7e",
   "metadata": {},
   "source": [
    "0. Transmission Investments (as % of investments)\n",
    "1. Total Investments / sales\n",
    "2. Renewable Investments (as % of investments)\n",
    "3. \n",
    "4. "
   ]
  },
  {
   "cell_type": "code",
   "execution_count": null,
   "id": "7d3c41de",
   "metadata": {},
   "outputs": [],
   "source": [
    "data_after_2010_df.head()"
   ]
  },
  {
   "cell_type": "markdown",
   "id": "6ccd2b89",
   "metadata": {},
   "source": [
    "#### Create DataFrames for Investments"
   ]
  },
  {
   "cell_type": "code",
   "execution_count": null,
   "id": "cfc2614b",
   "metadata": {},
   "outputs": [],
   "source": [
    "investment_column_names = ['respondent_id', 'investment_value_distribution',\n",
    "       'investment_value_hydro', 'investment_value_nuclear',\n",
    "       'investment_value_other', 'investment_value_other_fossil',\n",
    "       'investment_value_renewables', 'investment_value_steam',\n",
    "       'investment_value_transmission', 'sales']"
   ]
  },
  {
   "cell_type": "code",
   "execution_count": null,
   "id": "ad01e85b",
   "metadata": {},
   "outputs": [],
   "source": [
    "# Create a DataFranme of utility investments\n",
    "\n",
    "sum_investments_sales_df = data_after_2010_df[investment_column_names].groupby(by=[\"respondent_id\"]).sum()\n",
    "investment_column_names.remove('respondent_id')\n",
    "sum_investments_sales_df"
   ]
  },
  {
   "cell_type": "code",
   "execution_count": null,
   "id": "77e33e74",
   "metadata": {},
   "outputs": [],
   "source": [
    "sum_investments_sales_df['sum_investments'] = sum_investments_sales_df[investment_column_names].sum(axis=1)\n",
    "sum_investments_sales_df['sum_investments_generation'] = sum_investments_sales_df['sum_investments'] - sum_investments_sales_df['investment_value_transmission'] - sum_investments_sales_df['investment_value_distribution']\n",
    "sum_investments_sales_df"
   ]
  },
  {
   "cell_type": "markdown",
   "id": "01297809",
   "metadata": {},
   "source": [
    "#### Create DataFrames for Expenditures"
   ]
  },
  {
   "cell_type": "code",
   "execution_count": null,
   "id": "25734bab",
   "metadata": {},
   "outputs": [],
   "source": [
    "expenditure_column_names = ['respondent_id', 'expenditure_gas',\n",
    "       'expenditure_other fuel', 'expenditure_adjustment',\n",
    "       'expenditure_distribution', 'expenditure_hydro', 'expenditure_nuclear',\n",
    "       'expenditure_other', 'expenditure_other_fossil',\n",
    "       'expenditure_purchased_power', 'expenditure_renewables',\n",
    "       'expenditure_steam', 'expenditure_transmission']"
   ]
  },
  {
   "cell_type": "code",
   "execution_count": null,
   "id": "b63a66b3",
   "metadata": {
    "scrolled": true
   },
   "outputs": [],
   "source": [
    "sum_expenditures_df = data_after_2010_df[expenditure_column_names].groupby(by=[\"respondent_id\"]).sum()\n",
    "expenditure_column_names = expenditure_column_names.remove('respondent_id')\n",
    "sum_expenditures_df"
   ]
  },
  {
   "cell_type": "code",
   "execution_count": null,
   "id": "d3f45510",
   "metadata": {
    "scrolled": true
   },
   "outputs": [],
   "source": [
    "# Experiencing some errors selecting columns, so respondent id is included in this sum.\n",
    "# It should not be significant due to the magnitude of the numbers we are working with.\n",
    "sum_expenditures_df['sum_expenditures'] = sum_expenditures_df.sum(axis=1)\n",
    "sum_expenditures_df"
   ]
  },
  {
   "cell_type": "markdown",
   "id": "6cf2bf31",
   "metadata": {},
   "source": [
    "#### Create DataFrames for Bills"
   ]
  },
  {
   "cell_type": "code",
   "execution_count": null,
   "id": "3a851765",
   "metadata": {},
   "outputs": [],
   "source": [
    "bill_column_names = ['respondent_id', 'bill_gas', 'bill_other fuel',\n",
    "       'bill_adjustment', 'bill_distribution', 'bill_hydro', 'bill_nuclear',\n",
    "       'bill_other', 'bill_other_fossil', 'bill_purchased_power',\n",
    "       'bill_renewables', 'bill_steam', 'bill_transmission']"
   ]
  },
  {
   "cell_type": "code",
   "execution_count": null,
   "id": "a855d1a5",
   "metadata": {},
   "outputs": [],
   "source": [
    "sum_bills_df = data_after_2010_df[bill_column_names].groupby(by=[\"respondent_id\"]).sum()\n",
    "bill_column_names = bill_column_names.remove('respondent_id')\n",
    "\n",
    "# Experiencing some errors selecting columns, so respondent id is included in this sum.\n",
    "# It should not be significant due to the magnitude of the numbers we are working with.\n",
    "sum_bills_df['sum_bills'] = sum_bills_df.sum(axis=1)\n",
    "sum_bills_df"
   ]
  },
  {
   "cell_type": "markdown",
   "id": "db50c715",
   "metadata": {},
   "source": [
    "## Set Variables"
   ]
  },
  {
   "cell_type": "markdown",
   "id": "102ceb71",
   "metadata": {},
   "source": [
    "### x1: % of investments that go to transmission and distribution"
   ]
  },
  {
   "cell_type": "code",
   "execution_count": null,
   "id": "7bbccbc7",
   "metadata": {},
   "outputs": [],
   "source": [
    "# x1 is the % of investments that go to transmission\n",
    "x1_transmission = sum_investments_sales_df['investment_value_transmission']/sum_investments_sales_df['sum_investments']\n",
    "x1_transmission"
   ]
  },
  {
   "cell_type": "code",
   "execution_count": null,
   "id": "b33773a6",
   "metadata": {},
   "outputs": [],
   "source": [
    "# x1b is the % of investments that go to distribution\n",
    "x1_distribution = sum_investments_sales_df['investments_value_distribution']/sum_investments_sales_df['sum_investments']"
   ]
  },
  {
   "cell_type": "markdown",
   "id": "0421f559",
   "metadata": {},
   "source": [
    "### x2: % of expenditures spent on clean energy"
   ]
  },
  {
   "cell_type": "code",
   "execution_count": null,
   "id": "9faef198",
   "metadata": {},
   "outputs": [],
   "source": [
    "# x2 measures the % of expenitures for \"clean\" energy (renewables, nuclear, and hydro)\n",
    "expenditure_clean = sum_expenditures_df['expenditure_renewables'] + sum_expenditures_df['expenditure_nuclear'] + sum_expenditures_df['expenditure_hydro']\n",
    "\n",
    "x2_portfolio = expenditure_clean / sum_expenditures_df['sum_expenditures']\n",
    "x2_portfolio"
   ]
  },
  {
   "cell_type": "markdown",
   "id": "840cab2a",
   "metadata": {},
   "source": [
    "### x3a: total investments over sales"
   ]
  },
  {
   "cell_type": "code",
   "execution_count": null,
   "id": "f58b5935",
   "metadata": {},
   "outputs": [],
   "source": [
    "# x3a measures the total investments, divided by sales\n",
    "x3a_total_investment = sum_investments_sales_df['sum_investments']/sum_investments_sales_df['sales']\n",
    "x3a_total_investment"
   ]
  },
  {
   "cell_type": "markdown",
   "id": "2b476ac2",
   "metadata": {},
   "source": [
    "### x3b: Clean/Fossil Investment Ratio"
   ]
  },
  {
   "cell_type": "code",
   "execution_count": null,
   "id": "684a42b1",
   "metadata": {},
   "outputs": [],
   "source": [
    "# x3b measures investments in renewables divided by fossil fuels\n",
    "\n",
    "#columns: investments without transmission\n",
    "investments_fossil = sum_investments_sales_df['investment_value_steam'] + sum_investments_sales_df['investment_value_other_fossil']\n",
    "investments_clean = sum_investments_sales_df['investment_value_renewables'] + sum_investments_sales_df['investment_value_nuclear'] + sum_investments_sales_df['investment_value_hydro']\n",
    "# x3b_renewables_fossil = sum_investments_sales_df['investment_value_renewables']/investments_fossil\n",
    "# x3b_renewables_fossil\n",
    "\n",
    "\n",
    "#renewables divided by total investments\n",
    "\n",
    "# x2_renewables_total = sum_investments_sales_df['investment_value_renewables']/sum_investments_sales_df['sum_investments']\n",
    "# x2_renewables_total\n",
    "\n",
    "x3b_renewable_fossil_investment = (investments_clean - investments_fossil) / sum_investments_sales_df['sum_investments']\n",
    "x3b_renewable_fossil_investment"
   ]
  },
  {
   "cell_type": "markdown",
   "id": "502825fa",
   "metadata": {},
   "source": [
    "### x4: Whether or not the utility is public or private (TBD)"
   ]
  },
  {
   "cell_type": "code",
   "execution_count": null,
   "id": "e4568fe8",
   "metadata": {},
   "outputs": [],
   "source": [
    "x4_public_private = 0"
   ]
  },
  {
   "cell_type": "markdown",
   "id": "2554ff1f",
   "metadata": {},
   "source": [
    "### x5: Residential/Total Customers\n",
    "\n",
    "This is currently done with data from 'housing' and 'customers' columns, but could be done better with the data from customers_sales.csv"
   ]
  },
  {
   "cell_type": "code",
   "execution_count": null,
   "id": "b26dc5d5",
   "metadata": {},
   "outputs": [],
   "source": [
    "customer_names = ['respondent_id', 'housing_units', 'customers']\n",
    "sum_customers_df = data_after_2010_df[customer_names].groupby(by=[\"respondent_id\"]).sum()\n",
    "                                      \n",
    "print(sum_customers_df)"
   ]
  },
  {
   "cell_type": "code",
   "execution_count": null,
   "id": "f341d3f1",
   "metadata": {},
   "outputs": [],
   "source": [
    "x5_residential_ratio = sum_customers_df['housing_units']/sum_customers_df['customers']\n",
    "x5_residential_ratio"
   ]
  },
  {
   "cell_type": "markdown",
   "id": "c29b8671",
   "metadata": {},
   "source": [
    "### x6: Nuclear/Clean Bills"
   ]
  },
  {
   "cell_type": "code",
   "execution_count": null,
   "id": "69b10e6b",
   "metadata": {},
   "outputs": [],
   "source": [
    "# x6 measures the ratio of nuclear to clean bills\n",
    "\n",
    "bills_clean = sum_bills_df['bill_renewables'] + sum_bills_df['bill_nuclear'] + sum_bills_df['bill_hydro']\n",
    "\n",
    "x6_nuclear_renewable_ratio = sum_bills_df['bill_nuclear']/bills_clean\n",
    "\n",
    "for index, value in x6_nuclear_renewable_ratio.items():\n",
    "    v = x6_nuclear_renewable_ratio[index]\n",
    "    if np.isnan(v):\n",
    "        x6_nuclear_renewable_ratio[index] = 0\n",
    "\n",
    "x6_nuclear_renewable_ratio"
   ]
  },
  {
   "cell_type": "markdown",
   "id": "8ca80ee6",
   "metadata": {},
   "source": [
    "### x7: Hydro/Clean Bills"
   ]
  },
  {
   "cell_type": "code",
   "execution_count": null,
   "id": "6d5e9138",
   "metadata": {},
   "outputs": [],
   "source": [
    "# x7 measures the ratio of hydro to clean bills\n",
    "\n",
    "x7_hydro_renewable_ratio = sum_bills_df['bill_hydro']/bills_clean\n",
    "\n",
    "for index, value in x7_hydro_renewable_ratio.items():\n",
    "    v = x7_hydro_renewable_ratio[index]\n",
    "    if np.isnan(v):\n",
    "        x7_hydro_renewable_ratio[index] = 0\n",
    "\n",
    "x7_hydro_renewable_ratio"
   ]
  },
  {
   "cell_type": "markdown",
   "id": "a45fb604",
   "metadata": {},
   "source": [
    "### x8: Regulatory Environment"
   ]
  },
  {
   "cell_type": "code",
   "execution_count": null,
   "id": "c2e0e06d",
   "metadata": {},
   "outputs": [],
   "source": [
    "data_from_2020 = data_after_2010_df[data_after_2010_df['year'] == 2020].copy()\n",
    "data_year_mean = data_after_2010_df.groupby(['respondent_id']).agg({'rps_score': ['mean']})\n",
    "data_year_mean = data_year_mean.droplevel(1, axis=1)\n",
    "x8_regulatory = data_year_mean['rps_score']"
   ]
  },
  {
   "cell_type": "code",
   "execution_count": null,
   "id": "4b61336a",
   "metadata": {},
   "outputs": [],
   "source": [
    "model_data = pd.DataFrame(\n",
    "    {\n",
    "        'target': target, \n",
    "        'x0': x1_transmission,\n",
    "        'x1': x2_portfolio,\n",
    "        'x2': x3a_total_investment,\n",
    "        'x3': x3b_renewable_fossil_investment,\n",
    "        'x4': x4_public_private,\n",
    "        'x5': x5_residential_ratio,\n",
    "        'x6': x6_nuclear_renewable_ratio,\n",
    "        'x7': x7_hydro_renewable_ratio,\n",
    "        'x8': x8_regulatory\n",
    "    }\n",
    ")\n",
    "model_data"
   ]
  },
  {
   "cell_type": "markdown",
   "id": "0a032105",
   "metadata": {},
   "source": [
    "#### Check for covariance"
   ]
  },
  {
   "cell_type": "code",
   "execution_count": null,
   "id": "69f4c44e",
   "metadata": {},
   "outputs": [],
   "source": [
    "corr = model_data.corr()\n",
    "corr.style.background_gradient(cmap='coolwarm')"
   ]
  },
  {
   "cell_type": "markdown",
   "id": "939f0c4d",
   "metadata": {},
   "source": [
    "#### Filter for training dataset"
   ]
  },
  {
   "cell_type": "markdown",
   "id": "58955d2f",
   "metadata": {},
   "source": [
    "#### Save model_data file"
   ]
  },
  {
   "cell_type": "code",
   "execution_count": null,
   "id": "065a0ecf",
   "metadata": {},
   "outputs": [],
   "source": [
    "output_dir = os.path.join('..', 'data', 'processed')"
   ]
  },
  {
   "cell_type": "code",
   "execution_count": null,
   "id": "efd59060",
   "metadata": {},
   "outputs": [],
   "source": [
    "model_data.to_csv(os.path.join(output_dir, 'model_data.csv'), index=False)"
   ]
  },
  {
   "cell_type": "code",
   "execution_count": null,
   "id": "30c32b63",
   "metadata": {},
   "outputs": [],
   "source": []
  }
 ],
 "metadata": {
  "kernelspec": {
   "display_name": "Python 3 (ipykernel)",
   "language": "python",
   "name": "python3"
  },
  "language_info": {
   "codemirror_mode": {
    "name": "ipython",
    "version": 3
   },
   "file_extension": ".py",
   "mimetype": "text/x-python",
   "name": "python",
   "nbconvert_exporter": "python",
   "pygments_lexer": "ipython3",
   "version": "3.9.1"
  }
 },
 "nbformat": 4,
 "nbformat_minor": 5
}

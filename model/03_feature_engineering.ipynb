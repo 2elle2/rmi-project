{
 "cells": [
  {
   "cell_type": "markdown",
   "id": "5b6a967d",
   "metadata": {},
   "source": [
    "## 03 Feature Engineering"
   ]
  },
  {
   "cell_type": "markdown",
   "id": "50ca74e7",
   "metadata": {},
   "source": [
    "#### Import relevant libraries"
   ]
  },
  {
   "cell_type": "markdown",
   "id": "c9cd2113",
   "metadata": {},
   "source": [
    "#### Read processed dataset"
   ]
  },
  {
   "cell_type": "markdown",
   "id": "5791baf7",
   "metadata": {},
   "source": [
    "#### Create new features"
   ]
  },
  {
   "cell_type": "markdown",
   "id": "0079c45f",
   "metadata": {},
   "source": [
    "#### Check for covariance"
   ]
  },
  {
   "cell_type": "markdown",
   "id": "5c693da7",
   "metadata": {},
   "source": [
    "#### Filter for training dataset"
   ]
  },
  {
   "cell_type": "markdown",
   "id": "e3ad026c",
   "metadata": {},
   "source": [
    "#### Pickle model_data file"
   ]
  },
  {
   "cell_type": "code",
   "execution_count": null,
   "id": "9e883f64",
   "metadata": {},
   "outputs": [],
   "source": []
  }
 ],
 "metadata": {
  "kernelspec": {
   "display_name": "Python [conda env:root] *",
   "language": "python",
   "name": "conda-root-py"
  },
  "language_info": {
   "codemirror_mode": {
    "name": "ipython",
    "version": 3
   },
   "file_extension": ".py",
   "mimetype": "text/x-python",
   "name": "python",
   "nbconvert_exporter": "python",
   "pygments_lexer": "ipython3",
   "version": "3.9.7"
  }
 },
 "nbformat": 4,
 "nbformat_minor": 5
}

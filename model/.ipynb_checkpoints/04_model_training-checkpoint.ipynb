{
 "cells": [
  {
   "cell_type": "markdown",
   "id": "e1c12100",
   "metadata": {},
   "source": [
    "## 04 Model Training"
   ]
  },
  {
   "cell_type": "markdown",
   "id": "6ac155f7",
   "metadata": {},
   "source": [
    "#### Import relevant libraries"
   ]
  },
  {
   "cell_type": "code",
   "execution_count": 11,
   "id": "5a82478e",
   "metadata": {},
   "outputs": [],
   "source": [
    "import os\n",
    "import sklearn as skl\n",
    "import pandas as pd\n",
    "import numpy as np"
   ]
  },
  {
   "cell_type": "markdown",
   "id": "7bf12d66",
   "metadata": {},
   "source": [
    "#### Load model training data"
   ]
  },
  {
   "cell_type": "code",
   "execution_count": 12,
   "id": "e33148d7",
   "metadata": {},
   "outputs": [
    {
     "name": "stderr",
     "output_type": "stream",
     "text": [
      "/var/folders/c9/qj7_h93n2zqdn4_67hfnjgkc0000gn/T/ipykernel_14424/2736453946.py:2: DtypeWarning: Columns (5,6,7,8,11,12,13) have mixed types. Specify dtype option on import or set low_memory=False.\n",
      "  df = pd.read_csv(os.path.join(input_dir, 'processed_data.csv'))\n"
     ]
    }
   ],
   "source": [
    "input_dir = os.path.join('..', 'data', 'processed')\n",
    "df = pd.read_csv(os.path.join(input_dir, 'processed_data.csv'))"
   ]
  },
  {
   "cell_type": "code",
   "execution_count": null,
   "id": "536a43f0",
   "metadata": {},
   "outputs": [],
   "source": [
    "# Creating arrays and features for the target variable (expenditure / sales)\n",
    "\n",
    "# 'Normalized Cost of Energy' is a placeholder for the column name with the target variable\n",
    "target = 'Normalized Cost of Energy'\n",
    "\n",
    "y = df[target]\n",
    "x = df.drop(columns = [target])"
   ]
  },
  {
   "cell_type": "markdown",
   "id": "1bc837d8",
   "metadata": {},
   "source": [
    "#### Scale predictor variables"
   ]
  },
  {
   "cell_type": "code",
   "execution_count": null,
   "id": "60478115",
   "metadata": {},
   "outputs": [],
   "source": [
    "# Import scale from sklearn\n",
    "from sklearn.preprocessing import scale\n",
    "\n",
    "# A scaling function that does not affect categorical variables such as respondent id,\n",
    "# year, or regulation\n",
    "def scale_function(X):\n",
    "    x_scaled = X\n",
    "    x_scaled = x_scaled.drop(columns = ['respondent_id', 'year'])\n",
    "    x_scaled = scale(x_scaled)\n",
    "    x_scaled['respondent_id'] = X['respondent_id']\n",
    "    x_scaled['year'] = X['year']\n",
    "    return x_scaled"
   ]
  },
  {
   "cell_type": "code",
   "execution_count": null,
   "id": "4f09aa25",
   "metadata": {},
   "outputs": [],
   "source": [
    "# Scale variables - use scale_function(X) if we use categorical variables\n",
    "X_scaled = scale_function(X)"
   ]
  },
  {
   "cell_type": "markdown",
   "id": "dc62ee1a",
   "metadata": {},
   "source": [
    "#### Split into test and train sets"
   ]
  },
  {
   "cell_type": "code",
   "execution_count": 9,
   "id": "9e83c033",
   "metadata": {},
   "outputs": [],
   "source": [
    "# Import train_test_split from sklearn\n",
    "from sklearn.model_selection import train_test_split\n",
    "\n",
    "# Create training and test sets (not quite sure how to use test_size and random_state)\n",
    "X_train, X_test, y_train, y_test = train_test_split(X_scaled, y, test_size=None, random_state=None)\n"
   ]
  },
  {
   "cell_type": "markdown",
   "id": "6d5d3479",
   "metadata": {},
   "source": [
    "#### Fit regression model"
   ]
  },
  {
   "cell_type": "markdown",
   "id": "b1d69aa3",
   "metadata": {},
   "source": [
    "(a) Linear regression"
   ]
  },
  {
   "cell_type": "code",
   "execution_count": null,
   "id": "f3f3985e",
   "metadata": {},
   "outputs": [],
   "source": [
    "# Import LinearRegression from sklearn\n",
    "from sklearn.linear_model import LinearRegression\n",
    "\n",
    "# Instantiate the regressor\n",
    "reg_lin = LinearRegression()\n",
    "\n",
    "# Fit the regressor to the training data\n",
    "reg_lin.fit(X_train, y_train)"
   ]
  },
  {
   "cell_type": "markdown",
   "id": "ad7934bb",
   "metadata": {},
   "source": [
    "(b) Random forest"
   ]
  },
  {
   "cell_type": "code",
   "execution_count": 10,
   "id": "16ad5e40",
   "metadata": {},
   "outputs": [
    {
     "ename": "NameError",
     "evalue": "name 'X_train' is not defined",
     "output_type": "error",
     "traceback": [
      "\u001b[0;31m---------------------------------------------------------------------------\u001b[0m",
      "\u001b[0;31mNameError\u001b[0m                                 Traceback (most recent call last)",
      "Input \u001b[0;32mIn [10]\u001b[0m, in \u001b[0;36m<cell line: 8>\u001b[0;34m()\u001b[0m\n\u001b[1;32m      5\u001b[0m reg_forest \u001b[38;5;241m=\u001b[39m RandomForestRegressor(random_state\u001b[38;5;241m=\u001b[39m\u001b[38;5;28;01mNone\u001b[39;00m)\n\u001b[1;32m      7\u001b[0m \u001b[38;5;66;03m# Fit the regressor to the training data\u001b[39;00m\n\u001b[0;32m----> 8\u001b[0m reg_forest\u001b[38;5;241m.\u001b[39mfit(\u001b[43mX_train\u001b[49m, y_train)\n\u001b[1;32m     10\u001b[0m \u001b[38;5;66;03m# Predict on the test data\u001b[39;00m\n\u001b[1;32m     11\u001b[0m y_pred_forest \u001b[38;5;241m=\u001b[39m reg_forest\u001b[38;5;241m.\u001b[39mpredict(X_test)\n",
      "\u001b[0;31mNameError\u001b[0m: name 'X_train' is not defined"
     ]
    }
   ],
   "source": [
    "# Import RandomForestRegressor from sklearn\n",
    "from sklearn.ensemble import RandomForestRegressor\n",
    "\n",
    "# Instantiate the regressor with default value for hyperparameters\n",
    "reg_forest = RandomForestRegressor(random_state=None)\n",
    "\n",
    "# Fit the regressor to the training data\n",
    "reg_forest.fit(X_train, y_train)"
   ]
  },
  {
   "cell_type": "markdown",
   "id": "9bf81160",
   "metadata": {},
   "source": [
    "(c) Neural Network"
   ]
  },
  {
   "cell_type": "code",
   "execution_count": null,
   "id": "ddfd465d",
   "metadata": {},
   "outputs": [],
   "source": [
    "# Import MLPRegressor from skleatn\n",
    "from sklearn.neural_network import MLPRegressor\n",
    "\n",
    "#Instantiate the regressor with default values\n",
    "reg_neural = MLPRegressor(random_state=None)\n",
    "\n",
    "# Fit the regressor to the training data\n",
    "reg_neural.fit(X_train, y_train)"
   ]
  },
  {
   "cell_type": "markdown",
   "id": "b7a4b548",
   "metadata": {},
   "source": [
    "#### Pickle model_fit file(s)"
   ]
  },
  {
   "cell_type": "code",
   "execution_count": null,
   "id": "ea7b7d67",
   "metadata": {},
   "outputs": [],
   "source": [
    "# Save linear regression model to disk\n",
    "filename = 'lin_model_1.sav'\n",
    "pickle.dump(reg_lin, open(filename, 'wb'))"
   ]
  },
  {
   "cell_type": "code",
   "execution_count": null,
   "id": "7591eaa5",
   "metadata": {},
   "outputs": [],
   "source": [
    "# Save random forest model to disk\n",
    "filename = 'forest_model_1.sav'\n",
    "pickle.dump(reg_forest, open(filename, 'wb'))"
   ]
  },
  {
   "cell_type": "code",
   "execution_count": null,
   "id": "a8748a45",
   "metadata": {},
   "outputs": [],
   "source": [
    "# Save neural network model to disk\n",
    "filename = 'neural_model_1.sav'\n",
    "pickle.dump(reg_neural, open(filename, 'wb'))"
   ]
  }
 ],
 "metadata": {
  "kernelspec": {
   "display_name": "Python 3 (ipykernel)",
   "language": "python",
   "name": "python3"
  },
  "language_info": {
   "codemirror_mode": {
    "name": "ipython",
    "version": 3
   },
   "file_extension": ".py",
   "mimetype": "text/x-python",
   "name": "python",
   "nbconvert_exporter": "python",
   "pygments_lexer": "ipython3",
   "version": "3.9.1"
  }
 },
 "nbformat": 4,
 "nbformat_minor": 5
}

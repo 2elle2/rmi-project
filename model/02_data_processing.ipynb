{
 "cells": [
  {
   "cell_type": "markdown",
   "id": "b8b3cff5",
   "metadata": {},
   "source": [
    "## 02 Data Processing"
   ]
  },
  {
   "cell_type": "markdown",
   "id": "ec6862f2",
   "metadata": {},
   "source": [
    "#### Import relevant libraries"
   ]
  },
  {
   "cell_type": "code",
   "execution_count": 2,
   "id": "1136c3fe",
   "metadata": {},
   "outputs": [],
   "source": [
    "import os\n",
    "import pandas as pd\n",
    "import numpy as np\n",
    "\n",
    "import matplotlib.pyplot as plt\n",
    "%matplotlib inline"
   ]
  },
  {
   "cell_type": "markdown",
   "id": "c28d02a7",
   "metadata": {},
   "source": [
    "#### Load raw data"
   ]
  },
  {
   "cell_type": "code",
   "execution_count": 3,
   "id": "9cbfa3c3",
   "metadata": {},
   "outputs": [],
   "source": [
    "input_dir = os.path.join('..', 'data', 'original')\n",
    "exp_df = pd.read_csv(os.path.join(input_dir, 'expenditure_bills_burden.csv'))\n",
    "hui_df = pd.read_csv(os.path.join(input_dir, 'housing_units_income.csv'))\n",
    "aei_df = pd.read_csv(os.path.join(input_dir, 'assets_earnings_investments.csv'))"
   ]
  },
  {
   "cell_type": "code",
   "execution_count": 4,
   "id": "505f165c",
   "metadata": {},
   "outputs": [
    {
     "data": {
      "text/html": [
       "<div>\n",
       "<style scoped>\n",
       "    .dataframe tbody tr th:only-of-type {\n",
       "        vertical-align: middle;\n",
       "    }\n",
       "\n",
       "    .dataframe tbody tr th {\n",
       "        vertical-align: top;\n",
       "    }\n",
       "\n",
       "    .dataframe thead th {\n",
       "        text-align: right;\n",
       "    }\n",
       "</style>\n",
       "<table border=\"1\" class=\"dataframe\">\n",
       "  <thead>\n",
       "    <tr style=\"text-align: right;\">\n",
       "      <th></th>\n",
       "      <th>parent_name</th>\n",
       "      <th>utility_name</th>\n",
       "      <th>respondent_id</th>\n",
       "      <th>year</th>\n",
       "      <th>percent_AMI</th>\n",
       "      <th>ownership</th>\n",
       "      <th>electricity_gas_other</th>\n",
       "      <th>technology</th>\n",
       "      <th>expenditure</th>\n",
       "      <th>bill</th>\n",
       "      <th>burden</th>\n",
       "    </tr>\n",
       "  </thead>\n",
       "  <tbody>\n",
       "    <tr>\n",
       "      <th>0</th>\n",
       "      <td>Southern Co.</td>\n",
       "      <td>Alabama Power Co.</td>\n",
       "      <td>2.0</td>\n",
       "      <td>2020</td>\n",
       "      <td>0-30%</td>\n",
       "      <td>owner</td>\n",
       "      <td>Electricity</td>\n",
       "      <td>adjustment</td>\n",
       "      <td>9.276270e+06</td>\n",
       "      <td>8.394506</td>\n",
       "      <td>0.009773</td>\n",
       "    </tr>\n",
       "    <tr>\n",
       "      <th>1</th>\n",
       "      <td>Southern Co.</td>\n",
       "      <td>Alabama Power Co.</td>\n",
       "      <td>2.0</td>\n",
       "      <td>2020</td>\n",
       "      <td>0-30%</td>\n",
       "      <td>owner</td>\n",
       "      <td>Electricity</td>\n",
       "      <td>distribution</td>\n",
       "      <td>3.017570e+07</td>\n",
       "      <td>27.307328</td>\n",
       "      <td>0.031792</td>\n",
       "    </tr>\n",
       "    <tr>\n",
       "      <th>2</th>\n",
       "      <td>Southern Co.</td>\n",
       "      <td>Alabama Power Co.</td>\n",
       "      <td>2.0</td>\n",
       "      <td>2020</td>\n",
       "      <td>0-30%</td>\n",
       "      <td>owner</td>\n",
       "      <td>Electricity</td>\n",
       "      <td>hydro</td>\n",
       "      <td>4.312818e+06</td>\n",
       "      <td>3.902860</td>\n",
       "      <td>0.004544</td>\n",
       "    </tr>\n",
       "    <tr>\n",
       "      <th>3</th>\n",
       "      <td>Southern Co.</td>\n",
       "      <td>Alabama Power Co.</td>\n",
       "      <td>2.0</td>\n",
       "      <td>2020</td>\n",
       "      <td>0-30%</td>\n",
       "      <td>owner</td>\n",
       "      <td>Electricity</td>\n",
       "      <td>nuclear</td>\n",
       "      <td>1.912960e+07</td>\n",
       "      <td>17.311221</td>\n",
       "      <td>0.020154</td>\n",
       "    </tr>\n",
       "    <tr>\n",
       "      <th>4</th>\n",
       "      <td>Southern Co.</td>\n",
       "      <td>Alabama Power Co.</td>\n",
       "      <td>2.0</td>\n",
       "      <td>2020</td>\n",
       "      <td>0-30%</td>\n",
       "      <td>owner</td>\n",
       "      <td>Electricity</td>\n",
       "      <td>other</td>\n",
       "      <td>1.578084e+07</td>\n",
       "      <td>14.280782</td>\n",
       "      <td>0.016626</td>\n",
       "    </tr>\n",
       "  </tbody>\n",
       "</table>\n",
       "</div>"
      ],
      "text/plain": [
       "    parent_name       utility_name  respondent_id  year percent_AMI ownership  \\\n",
       "0  Southern Co.  Alabama Power Co.            2.0  2020       0-30%     owner   \n",
       "1  Southern Co.  Alabama Power Co.            2.0  2020       0-30%     owner   \n",
       "2  Southern Co.  Alabama Power Co.            2.0  2020       0-30%     owner   \n",
       "3  Southern Co.  Alabama Power Co.            2.0  2020       0-30%     owner   \n",
       "4  Southern Co.  Alabama Power Co.            2.0  2020       0-30%     owner   \n",
       "\n",
       "  electricity_gas_other    technology   expenditure       bill    burden  \n",
       "0           Electricity    adjustment  9.276270e+06   8.394506  0.009773  \n",
       "1           Electricity  distribution  3.017570e+07  27.307328  0.031792  \n",
       "2           Electricity         hydro  4.312818e+06   3.902860  0.004544  \n",
       "3           Electricity       nuclear  1.912960e+07  17.311221  0.020154  \n",
       "4           Electricity         other  1.578084e+07  14.280782  0.016626  "
      ]
     },
     "execution_count": 4,
     "metadata": {},
     "output_type": "execute_result"
    }
   ],
   "source": [
    "exp_df.head()"
   ]
  },
  {
   "cell_type": "code",
   "execution_count": 5,
   "id": "c70a72b1",
   "metadata": {},
   "outputs": [
    {
     "data": {
      "text/html": [
       "<div>\n",
       "<style scoped>\n",
       "    .dataframe tbody tr th:only-of-type {\n",
       "        vertical-align: middle;\n",
       "    }\n",
       "\n",
       "    .dataframe tbody tr th {\n",
       "        vertical-align: top;\n",
       "    }\n",
       "\n",
       "    .dataframe thead th {\n",
       "        text-align: right;\n",
       "    }\n",
       "</style>\n",
       "<table border=\"1\" class=\"dataframe\">\n",
       "  <thead>\n",
       "    <tr style=\"text-align: right;\">\n",
       "      <th></th>\n",
       "      <th>parent_name</th>\n",
       "      <th>utility_name</th>\n",
       "      <th>respondent_id</th>\n",
       "      <th>year</th>\n",
       "      <th>percent_AMI</th>\n",
       "      <th>ownership</th>\n",
       "      <th>housing_units</th>\n",
       "      <th>income</th>\n",
       "    </tr>\n",
       "  </thead>\n",
       "  <tbody>\n",
       "    <tr>\n",
       "      <th>0</th>\n",
       "      <td>Southern Co.</td>\n",
       "      <td>Alabama Power Co.</td>\n",
       "      <td>2.0</td>\n",
       "      <td>2020</td>\n",
       "      <td>0-30%</td>\n",
       "      <td>owner</td>\n",
       "      <td>92086.710664</td>\n",
       "      <td>9.491514e+08</td>\n",
       "    </tr>\n",
       "    <tr>\n",
       "      <th>1</th>\n",
       "      <td>Southern Co.</td>\n",
       "      <td>Alabama Power Co.</td>\n",
       "      <td>2.0</td>\n",
       "      <td>2020</td>\n",
       "      <td>0-30%</td>\n",
       "      <td>renter</td>\n",
       "      <td>126159.321739</td>\n",
       "      <td>1.238083e+09</td>\n",
       "    </tr>\n",
       "    <tr>\n",
       "      <th>2</th>\n",
       "      <td>Southern Co.</td>\n",
       "      <td>Alabama Power Co.</td>\n",
       "      <td>2.0</td>\n",
       "      <td>2020</td>\n",
       "      <td>100%+</td>\n",
       "      <td>owner</td>\n",
       "      <td>521425.299562</td>\n",
       "      <td>6.049073e+10</td>\n",
       "    </tr>\n",
       "    <tr>\n",
       "      <th>3</th>\n",
       "      <td>Southern Co.</td>\n",
       "      <td>Alabama Power Co.</td>\n",
       "      <td>2.0</td>\n",
       "      <td>2020</td>\n",
       "      <td>100%+</td>\n",
       "      <td>renter</td>\n",
       "      <td>111421.757248</td>\n",
       "      <td>9.494001e+09</td>\n",
       "    </tr>\n",
       "    <tr>\n",
       "      <th>4</th>\n",
       "      <td>Southern Co.</td>\n",
       "      <td>Alabama Power Co.</td>\n",
       "      <td>2.0</td>\n",
       "      <td>2020</td>\n",
       "      <td>30-60%</td>\n",
       "      <td>owner</td>\n",
       "      <td>108469.889403</td>\n",
       "      <td>2.541532e+09</td>\n",
       "    </tr>\n",
       "  </tbody>\n",
       "</table>\n",
       "</div>"
      ],
      "text/plain": [
       "    parent_name       utility_name  respondent_id  year percent_AMI ownership  \\\n",
       "0  Southern Co.  Alabama Power Co.            2.0  2020       0-30%     owner   \n",
       "1  Southern Co.  Alabama Power Co.            2.0  2020       0-30%    renter   \n",
       "2  Southern Co.  Alabama Power Co.            2.0  2020       100%+     owner   \n",
       "3  Southern Co.  Alabama Power Co.            2.0  2020       100%+    renter   \n",
       "4  Southern Co.  Alabama Power Co.            2.0  2020      30-60%     owner   \n",
       "\n",
       "   housing_units        income  \n",
       "0   92086.710664  9.491514e+08  \n",
       "1  126159.321739  1.238083e+09  \n",
       "2  521425.299562  6.049073e+10  \n",
       "3  111421.757248  9.494001e+09  \n",
       "4  108469.889403  2.541532e+09  "
      ]
     },
     "execution_count": 5,
     "metadata": {},
     "output_type": "execute_result"
    }
   ],
   "source": [
    "hui_df.head()"
   ]
  },
  {
   "cell_type": "code",
   "execution_count": 6,
   "id": "3783bffe",
   "metadata": {},
   "outputs": [
    {
     "data": {
      "text/html": [
       "<div>\n",
       "<style scoped>\n",
       "    .dataframe tbody tr th:only-of-type {\n",
       "        vertical-align: middle;\n",
       "    }\n",
       "\n",
       "    .dataframe tbody tr th {\n",
       "        vertical-align: top;\n",
       "    }\n",
       "\n",
       "    .dataframe thead th {\n",
       "        text-align: right;\n",
       "    }\n",
       "</style>\n",
       "<table border=\"1\" class=\"dataframe\">\n",
       "  <thead>\n",
       "    <tr style=\"text-align: right;\">\n",
       "      <th></th>\n",
       "      <th>parent_name</th>\n",
       "      <th>utility_name</th>\n",
       "      <th>respondent_id</th>\n",
       "      <th>year</th>\n",
       "      <th>asset</th>\n",
       "      <th>sub_asset</th>\n",
       "      <th>asset_value</th>\n",
       "      <th>earnings_value</th>\n",
       "      <th>investment_value</th>\n",
       "    </tr>\n",
       "  </thead>\n",
       "  <tbody>\n",
       "    <tr>\n",
       "      <th>0</th>\n",
       "      <td>American Electric Power Co., Inc.</td>\n",
       "      <td>AEP Generating Co.</td>\n",
       "      <td>1.0</td>\n",
       "      <td>2020</td>\n",
       "      <td>other</td>\n",
       "      <td>AROs</td>\n",
       "      <td>-15405378.0</td>\n",
       "      <td>-0.0</td>\n",
       "      <td>NaN</td>\n",
       "    </tr>\n",
       "    <tr>\n",
       "      <th>1</th>\n",
       "      <td>American Electric Power Co., Inc.</td>\n",
       "      <td>AEP Generating Co.</td>\n",
       "      <td>1.0</td>\n",
       "      <td>2020</td>\n",
       "      <td>other</td>\n",
       "      <td>electric_plant_held_for_future_use</td>\n",
       "      <td>1034099.0</td>\n",
       "      <td>0.0</td>\n",
       "      <td>NaN</td>\n",
       "    </tr>\n",
       "    <tr>\n",
       "      <th>2</th>\n",
       "      <td>American Electric Power Co., Inc.</td>\n",
       "      <td>AEP Generating Co.</td>\n",
       "      <td>1.0</td>\n",
       "      <td>2020</td>\n",
       "      <td>other</td>\n",
       "      <td>electric_plant_leased_to_others</td>\n",
       "      <td>155616036.0</td>\n",
       "      <td>0.0</td>\n",
       "      <td>NaN</td>\n",
       "    </tr>\n",
       "    <tr>\n",
       "      <th>3</th>\n",
       "      <td>American Electric Power Co., Inc.</td>\n",
       "      <td>AEP Generating Co.</td>\n",
       "      <td>1.0</td>\n",
       "      <td>2020</td>\n",
       "      <td>other</td>\n",
       "      <td>general_plant</td>\n",
       "      <td>427318.0</td>\n",
       "      <td>0.0</td>\n",
       "      <td>1846.0</td>\n",
       "    </tr>\n",
       "    <tr>\n",
       "      <th>4</th>\n",
       "      <td>American Electric Power Co., Inc.</td>\n",
       "      <td>AEP Generating Co.</td>\n",
       "      <td>1.0</td>\n",
       "      <td>2020</td>\n",
       "      <td>other</td>\n",
       "      <td>intangible_plant</td>\n",
       "      <td>724784.0</td>\n",
       "      <td>0.0</td>\n",
       "      <td>NaN</td>\n",
       "    </tr>\n",
       "  </tbody>\n",
       "</table>\n",
       "</div>"
      ],
      "text/plain": [
       "                         parent_name        utility_name  respondent_id  year  \\\n",
       "0  American Electric Power Co., Inc.  AEP Generating Co.            1.0  2020   \n",
       "1  American Electric Power Co., Inc.  AEP Generating Co.            1.0  2020   \n",
       "2  American Electric Power Co., Inc.  AEP Generating Co.            1.0  2020   \n",
       "3  American Electric Power Co., Inc.  AEP Generating Co.            1.0  2020   \n",
       "4  American Electric Power Co., Inc.  AEP Generating Co.            1.0  2020   \n",
       "\n",
       "   asset                           sub_asset  asset_value  earnings_value  \\\n",
       "0  other                                AROs  -15405378.0            -0.0   \n",
       "1  other  electric_plant_held_for_future_use    1034099.0             0.0   \n",
       "2  other     electric_plant_leased_to_others  155616036.0             0.0   \n",
       "3  other                       general_plant     427318.0             0.0   \n",
       "4  other                    intangible_plant     724784.0             0.0   \n",
       "\n",
       "   investment_value  \n",
       "0               NaN  \n",
       "1               NaN  \n",
       "2               NaN  \n",
       "3            1846.0  \n",
       "4               NaN  "
      ]
     },
     "execution_count": 6,
     "metadata": {},
     "output_type": "execute_result"
    }
   ],
   "source": [
    "aei_df.head()"
   ]
  },
  {
   "cell_type": "markdown",
   "id": "f41f0f46",
   "metadata": {},
   "source": [
    "#### Formatting data"
   ]
  },
  {
   "cell_type": "markdown",
   "id": "96a59f8b",
   "metadata": {},
   "source": [
    "(a) Rename columns"
   ]
  },
  {
   "cell_type": "code",
   "execution_count": 7,
   "id": "3dd44d56",
   "metadata": {},
   "outputs": [],
   "source": [
    "exp_df = exp_df.rename({'percent_AMI': 'percent_ami'}, axis='columns')\n",
    "hui_df = hui_df.rename({'percent_AMI': 'percent_ami'}, axis='columns')"
   ]
  },
  {
   "cell_type": "markdown",
   "id": "8dae81fc",
   "metadata": {},
   "source": [
    "(b) Data type formatting"
   ]
  },
  {
   "cell_type": "code",
   "execution_count": 8,
   "id": "75c9ba67",
   "metadata": {},
   "outputs": [
    {
     "data": {
      "text/plain": [
       "parent_name               object\n",
       "utility_name              object\n",
       "respondent_id            float64\n",
       "year                       int64\n",
       "percent_ami               object\n",
       "ownership                 object\n",
       "electricity_gas_other     object\n",
       "technology                object\n",
       "expenditure              float64\n",
       "bill                     float64\n",
       "burden                   float64\n",
       "dtype: object"
      ]
     },
     "execution_count": 8,
     "metadata": {},
     "output_type": "execute_result"
    }
   ],
   "source": [
    "exp_df.dtypes"
   ]
  },
  {
   "cell_type": "code",
   "execution_count": 9,
   "id": "16963903",
   "metadata": {},
   "outputs": [
    {
     "data": {
      "text/plain": [
       "parent_name       object\n",
       "utility_name      object\n",
       "respondent_id    float64\n",
       "year               int64\n",
       "percent_ami       object\n",
       "ownership         object\n",
       "housing_units    float64\n",
       "income           float64\n",
       "dtype: object"
      ]
     },
     "execution_count": 9,
     "metadata": {},
     "output_type": "execute_result"
    }
   ],
   "source": [
    "hui_df.dtypes"
   ]
  },
  {
   "cell_type": "code",
   "execution_count": 10,
   "id": "6e6439f6",
   "metadata": {},
   "outputs": [
    {
     "data": {
      "text/plain": [
       "parent_name          object\n",
       "utility_name         object\n",
       "respondent_id       float64\n",
       "year                  int64\n",
       "asset                object\n",
       "sub_asset            object\n",
       "asset_value         float64\n",
       "earnings_value      float64\n",
       "investment_value    float64\n",
       "dtype: object"
      ]
     },
     "execution_count": 10,
     "metadata": {},
     "output_type": "execute_result"
    }
   ],
   "source": [
    "aei_df.dtypes"
   ]
  },
  {
   "cell_type": "markdown",
   "id": "356f5be8",
   "metadata": {},
   "source": [
    "#### Join datasets"
   ]
  },
  {
   "cell_type": "markdown",
   "id": "8f0278a7",
   "metadata": {},
   "source": [
    "Prepare expenditure_bills_burden.csv data frame"
   ]
  },
  {
   "cell_type": "code",
   "execution_count": 11,
   "id": "c1fd3616",
   "metadata": {},
   "outputs": [],
   "source": [
    "# make a copy\n",
    "exp_prepared_df = exp_df.copy()"
   ]
  },
  {
   "cell_type": "code",
   "execution_count": 12,
   "id": "a7b78a21",
   "metadata": {},
   "outputs": [],
   "source": [
    "# groupby utility x year\n",
    "exp_prepared_df = exp_prepared_df.groupby(['respondent_id', 'year', 'technology', 'electricity_gas_other'])\\\n",
    "    .agg({'bill': ['sum'], 'expenditure': ['sum']})\\\n",
    "    .reset_index()"
   ]
  },
  {
   "cell_type": "markdown",
   "id": "49593b5b",
   "metadata": {},
   "source": [
    "Prepare housing_units_income.csv data frame"
   ]
  },
  {
   "cell_type": "code",
   "execution_count": 13,
   "id": "b3092c8d",
   "metadata": {},
   "outputs": [],
   "source": [
    "# make a copy\n",
    "hui_prepared_df = hui_df.copy()"
   ]
  },
  {
   "cell_type": "code",
   "execution_count": 14,
   "id": "23f297a8",
   "metadata": {},
   "outputs": [],
   "source": [
    "# drop repeated columns\n",
    "hui_prepared_df = hui_prepared_df.drop(columns=[\n",
    "    'parent_name', \n",
    "    'utility_name', \n",
    "    'ownership',\n",
    "])"
   ]
  },
  {
   "cell_type": "code",
   "execution_count": 15,
   "id": "ab885165",
   "metadata": {},
   "outputs": [],
   "source": [
    "# groupby utility x year\n",
    "hui_prepared_df = hui_prepared_df.groupby(['respondent_id', 'year'])\\\n",
    "    .agg({'housing_units': ['sum'], 'income': ['sum']})\\\n",
    "    .reset_index()"
   ]
  },
  {
   "cell_type": "markdown",
   "id": "157401be",
   "metadata": {},
   "source": [
    "Prepare assets_earnings_income.csv data frame"
   ]
  },
  {
   "cell_type": "code",
   "execution_count": 16,
   "id": "600b712c",
   "metadata": {},
   "outputs": [],
   "source": [
    "# make a copy\n",
    "aei_prepared_df = aei_df.copy()"
   ]
  },
  {
   "cell_type": "code",
   "execution_count": 17,
   "id": "ef744b0f",
   "metadata": {},
   "outputs": [],
   "source": [
    "# drop repeated columns\n",
    "aei_prepared_df = aei_prepared_df.drop(columns=[\n",
    "    'parent_name', \n",
    "    'utility_name', \n",
    "])"
   ]
  },
  {
   "cell_type": "code",
   "execution_count": 18,
   "id": "767e8f94",
   "metadata": {},
   "outputs": [],
   "source": [
    "# groupby utility x year\n",
    "aei_prepared_df = aei_prepared_df.groupby(['respondent_id', 'year', 'asset', 'sub_asset'])\\\n",
    "    .agg({'asset_value': ['sum'], 'earnings_value': ['sum'], 'investment_value': ['sum']})\\\n",
    "    .reset_index()"
   ]
  },
  {
   "cell_type": "markdown",
   "id": "9f02ec20",
   "metadata": {},
   "source": [
    "Join datasets into one dataframe"
   ]
  },
  {
   "cell_type": "code",
   "execution_count": 19,
   "id": "b4bbae9f",
   "metadata": {},
   "outputs": [
    {
     "name": "stderr",
     "output_type": "stream",
     "text": [
      "/home/julian/anaconda3/lib/python3.9/site-packages/pandas/core/generic.py:4150: PerformanceWarning: dropping on a non-lexsorted multi-index without a level parameter may impact performance.\n",
      "  obj = obj._drop_axis(labels, axis, level=level, errors=errors)\n"
     ]
    },
    {
     "data": {
      "text/html": [
       "<div>\n",
       "<style scoped>\n",
       "    .dataframe tbody tr th:only-of-type {\n",
       "        vertical-align: middle;\n",
       "    }\n",
       "\n",
       "    .dataframe tbody tr th {\n",
       "        vertical-align: top;\n",
       "    }\n",
       "\n",
       "    .dataframe thead tr th {\n",
       "        text-align: left;\n",
       "    }\n",
       "</style>\n",
       "<table border=\"1\" class=\"dataframe\">\n",
       "  <thead>\n",
       "    <tr>\n",
       "      <th></th>\n",
       "      <th>respondent_id</th>\n",
       "      <th>year</th>\n",
       "      <th>technology</th>\n",
       "      <th>electricity_gas_other</th>\n",
       "      <th>bill</th>\n",
       "      <th>expenditure</th>\n",
       "      <th>housing_units</th>\n",
       "      <th>income</th>\n",
       "      <th>asset</th>\n",
       "      <th>sub_asset</th>\n",
       "      <th>asset_value</th>\n",
       "      <th>earnings_value</th>\n",
       "      <th>investment_value</th>\n",
       "    </tr>\n",
       "    <tr>\n",
       "      <th></th>\n",
       "      <th></th>\n",
       "      <th></th>\n",
       "      <th></th>\n",
       "      <th></th>\n",
       "      <th>sum</th>\n",
       "      <th>sum</th>\n",
       "      <th>sum</th>\n",
       "      <th>sum</th>\n",
       "      <th></th>\n",
       "      <th></th>\n",
       "      <th>sum</th>\n",
       "      <th>sum</th>\n",
       "      <th>sum</th>\n",
       "    </tr>\n",
       "  </thead>\n",
       "  <tbody>\n",
       "    <tr>\n",
       "      <th>0</th>\n",
       "      <td>2.0</td>\n",
       "      <td>2005</td>\n",
       "      <td>Gas</td>\n",
       "      <td>Gas</td>\n",
       "      <td>375.031464</td>\n",
       "      <td>5.801132e+08</td>\n",
       "      <td>1177707.0</td>\n",
       "      <td>6.002705e+10</td>\n",
       "      <td>distribution</td>\n",
       "      <td>distribution</td>\n",
       "      <td>2.662308e+09</td>\n",
       "      <td>1.353981e+08</td>\n",
       "      <td>256240572.0</td>\n",
       "    </tr>\n",
       "    <tr>\n",
       "      <th>1</th>\n",
       "      <td>2.0</td>\n",
       "      <td>2005</td>\n",
       "      <td>Gas</td>\n",
       "      <td>Gas</td>\n",
       "      <td>375.031464</td>\n",
       "      <td>5.801132e+08</td>\n",
       "      <td>1177707.0</td>\n",
       "      <td>6.002705e+10</td>\n",
       "      <td>hydro</td>\n",
       "      <td>hydro</td>\n",
       "      <td>6.306366e+08</td>\n",
       "      <td>3.207254e+07</td>\n",
       "      <td>6223361.0</td>\n",
       "    </tr>\n",
       "    <tr>\n",
       "      <th>2</th>\n",
       "      <td>2.0</td>\n",
       "      <td>2005</td>\n",
       "      <td>Gas</td>\n",
       "      <td>Gas</td>\n",
       "      <td>375.031464</td>\n",
       "      <td>5.801132e+08</td>\n",
       "      <td>1177707.0</td>\n",
       "      <td>6.002705e+10</td>\n",
       "      <td>nuclear</td>\n",
       "      <td>nuclear</td>\n",
       "      <td>8.835976e+08</td>\n",
       "      <td>4.493748e+07</td>\n",
       "      <td>46613178.0</td>\n",
       "    </tr>\n",
       "    <tr>\n",
       "      <th>3</th>\n",
       "      <td>2.0</td>\n",
       "      <td>2005</td>\n",
       "      <td>Gas</td>\n",
       "      <td>Gas</td>\n",
       "      <td>375.031464</td>\n",
       "      <td>5.801132e+08</td>\n",
       "      <td>1177707.0</td>\n",
       "      <td>6.002705e+10</td>\n",
       "      <td>other</td>\n",
       "      <td>AROs</td>\n",
       "      <td>-4.462678e+08</td>\n",
       "      <td>-2.269602e+07</td>\n",
       "      <td>0.0</td>\n",
       "    </tr>\n",
       "    <tr>\n",
       "      <th>4</th>\n",
       "      <td>2.0</td>\n",
       "      <td>2005</td>\n",
       "      <td>Gas</td>\n",
       "      <td>Gas</td>\n",
       "      <td>375.031464</td>\n",
       "      <td>5.801132e+08</td>\n",
       "      <td>1177707.0</td>\n",
       "      <td>6.002705e+10</td>\n",
       "      <td>other</td>\n",
       "      <td>construction_work_in_progress</td>\n",
       "      <td>-4.035594e+05</td>\n",
       "      <td>-2.052398e+04</td>\n",
       "      <td>0.0</td>\n",
       "    </tr>\n",
       "  </tbody>\n",
       "</table>\n",
       "</div>"
      ],
      "text/plain": [
       "  respondent_id  year technology electricity_gas_other        bill  \\\n",
       "                                                               sum   \n",
       "0           2.0  2005        Gas                   Gas  375.031464   \n",
       "1           2.0  2005        Gas                   Gas  375.031464   \n",
       "2           2.0  2005        Gas                   Gas  375.031464   \n",
       "3           2.0  2005        Gas                   Gas  375.031464   \n",
       "4           2.0  2005        Gas                   Gas  375.031464   \n",
       "\n",
       "    expenditure housing_units        income         asset  \\\n",
       "            sum           sum           sum                 \n",
       "0  5.801132e+08     1177707.0  6.002705e+10  distribution   \n",
       "1  5.801132e+08     1177707.0  6.002705e+10         hydro   \n",
       "2  5.801132e+08     1177707.0  6.002705e+10       nuclear   \n",
       "3  5.801132e+08     1177707.0  6.002705e+10         other   \n",
       "4  5.801132e+08     1177707.0  6.002705e+10         other   \n",
       "\n",
       "                       sub_asset   asset_value earnings_value investment_value  \n",
       "                                           sum            sum              sum  \n",
       "0                   distribution  2.662308e+09   1.353981e+08      256240572.0  \n",
       "1                          hydro  6.306366e+08   3.207254e+07        6223361.0  \n",
       "2                        nuclear  8.835976e+08   4.493748e+07       46613178.0  \n",
       "3                           AROs -4.462678e+08  -2.269602e+07              0.0  \n",
       "4  construction_work_in_progress -4.035594e+05  -2.052398e+04              0.0  "
      ]
     },
     "execution_count": 19,
     "metadata": {},
     "output_type": "execute_result"
    }
   ],
   "source": [
    "raw_df = pd.merge(exp_prepared_df, hui_prepared_df, how='inner', on=['respondent_id', 'year'])\n",
    "raw_df = pd.merge(raw_df, aei_prepared_df, how='inner', on=['respondent_id', 'year'])\n",
    "raw_df.head()"
   ]
  },
  {
   "cell_type": "code",
   "execution_count": 20,
   "id": "6ae16ad1",
   "metadata": {},
   "outputs": [
    {
     "name": "stderr",
     "output_type": "stream",
     "text": [
      "/home/julian/anaconda3/lib/python3.9/site-packages/pandas/core/generic.py:4150: PerformanceWarning: dropping on a non-lexsorted multi-index without a level parameter may impact performance.\n",
      "  obj = obj._drop_axis(labels, axis, level=level, errors=errors)\n"
     ]
    }
   ],
   "source": [
    "raw_df = raw_df.drop(columns=['electricity_gas_other'])"
   ]
  },
  {
   "cell_type": "code",
   "execution_count": 21,
   "id": "b06d96a0",
   "metadata": {},
   "outputs": [
    {
     "ename": "ValueError",
     "evalue": "Index contains duplicate entries, cannot reshape",
     "output_type": "error",
     "traceback": [
      "\u001b[0;31m---------------------------------------------------------------------------\u001b[0m",
      "\u001b[0;31mValueError\u001b[0m                                Traceback (most recent call last)",
      "\u001b[0;32m/tmp/ipykernel_9636/3593112942.py\u001b[0m in \u001b[0;36m<module>\u001b[0;34m\u001b[0m\n\u001b[0;32m----> 1\u001b[0;31m \u001b[0mpivoted\u001b[0m \u001b[0;34m=\u001b[0m \u001b[0mraw_df\u001b[0m\u001b[0;34m.\u001b[0m\u001b[0mpivot\u001b[0m\u001b[0;34m(\u001b[0m\u001b[0mindex\u001b[0m\u001b[0;34m=\u001b[0m\u001b[0;34m[\u001b[0m\u001b[0;34m'respondent_id'\u001b[0m\u001b[0;34m,\u001b[0m \u001b[0;34m'year'\u001b[0m\u001b[0;34m]\u001b[0m\u001b[0;34m,\u001b[0m \u001b[0mcolumns\u001b[0m\u001b[0;34m=\u001b[0m\u001b[0;34m\"technology\"\u001b[0m\u001b[0;34m,\u001b[0m \u001b[0mvalues\u001b[0m\u001b[0;34m=\u001b[0m\u001b[0;34m[\u001b[0m\u001b[0;34m'expenditure'\u001b[0m\u001b[0;34m]\u001b[0m\u001b[0;34m)\u001b[0m\u001b[0;34m\u001b[0m\u001b[0;34m\u001b[0m\u001b[0m\n\u001b[0m",
      "\u001b[0;32m~/anaconda3/lib/python3.9/site-packages/pandas/core/frame.py\u001b[0m in \u001b[0;36mpivot\u001b[0;34m(self, index, columns, values)\u001b[0m\n\u001b[1;32m   7791\u001b[0m         \u001b[0;32mfrom\u001b[0m \u001b[0mpandas\u001b[0m\u001b[0;34m.\u001b[0m\u001b[0mcore\u001b[0m\u001b[0;34m.\u001b[0m\u001b[0mreshape\u001b[0m\u001b[0;34m.\u001b[0m\u001b[0mpivot\u001b[0m \u001b[0;32mimport\u001b[0m \u001b[0mpivot\u001b[0m\u001b[0;34m\u001b[0m\u001b[0;34m\u001b[0m\u001b[0m\n\u001b[1;32m   7792\u001b[0m \u001b[0;34m\u001b[0m\u001b[0m\n\u001b[0;32m-> 7793\u001b[0;31m         \u001b[0;32mreturn\u001b[0m \u001b[0mpivot\u001b[0m\u001b[0;34m(\u001b[0m\u001b[0mself\u001b[0m\u001b[0;34m,\u001b[0m \u001b[0mindex\u001b[0m\u001b[0;34m=\u001b[0m\u001b[0mindex\u001b[0m\u001b[0;34m,\u001b[0m \u001b[0mcolumns\u001b[0m\u001b[0;34m=\u001b[0m\u001b[0mcolumns\u001b[0m\u001b[0;34m,\u001b[0m \u001b[0mvalues\u001b[0m\u001b[0;34m=\u001b[0m\u001b[0mvalues\u001b[0m\u001b[0;34m)\u001b[0m\u001b[0;34m\u001b[0m\u001b[0;34m\u001b[0m\u001b[0m\n\u001b[0m\u001b[1;32m   7794\u001b[0m \u001b[0;34m\u001b[0m\u001b[0m\n\u001b[1;32m   7795\u001b[0m     _shared_docs[\n",
      "\u001b[0;32m~/anaconda3/lib/python3.9/site-packages/pandas/core/reshape/pivot.py\u001b[0m in \u001b[0;36mpivot\u001b[0;34m(data, index, columns, values)\u001b[0m\n\u001b[1;32m    515\u001b[0m         \u001b[0;32melse\u001b[0m\u001b[0;34m:\u001b[0m\u001b[0;34m\u001b[0m\u001b[0;34m\u001b[0m\u001b[0m\n\u001b[1;32m    516\u001b[0m             \u001b[0mindexed\u001b[0m \u001b[0;34m=\u001b[0m \u001b[0mdata\u001b[0m\u001b[0;34m.\u001b[0m\u001b[0m_constructor_sliced\u001b[0m\u001b[0;34m(\u001b[0m\u001b[0mdata\u001b[0m\u001b[0;34m[\u001b[0m\u001b[0mvalues\u001b[0m\u001b[0;34m]\u001b[0m\u001b[0;34m.\u001b[0m\u001b[0m_values\u001b[0m\u001b[0;34m,\u001b[0m \u001b[0mindex\u001b[0m\u001b[0;34m=\u001b[0m\u001b[0mmultiindex\u001b[0m\u001b[0;34m)\u001b[0m\u001b[0;34m\u001b[0m\u001b[0;34m\u001b[0m\u001b[0m\n\u001b[0;32m--> 517\u001b[0;31m     \u001b[0;32mreturn\u001b[0m \u001b[0mindexed\u001b[0m\u001b[0;34m.\u001b[0m\u001b[0munstack\u001b[0m\u001b[0;34m(\u001b[0m\u001b[0mcolumns_listlike\u001b[0m\u001b[0;34m)\u001b[0m\u001b[0;34m\u001b[0m\u001b[0;34m\u001b[0m\u001b[0m\n\u001b[0m\u001b[1;32m    518\u001b[0m \u001b[0;34m\u001b[0m\u001b[0m\n\u001b[1;32m    519\u001b[0m \u001b[0;34m\u001b[0m\u001b[0m\n",
      "\u001b[0;32m~/anaconda3/lib/python3.9/site-packages/pandas/core/frame.py\u001b[0m in \u001b[0;36munstack\u001b[0;34m(self, level, fill_value)\u001b[0m\n\u001b[1;32m   8322\u001b[0m         \u001b[0;32mfrom\u001b[0m \u001b[0mpandas\u001b[0m\u001b[0;34m.\u001b[0m\u001b[0mcore\u001b[0m\u001b[0;34m.\u001b[0m\u001b[0mreshape\u001b[0m\u001b[0;34m.\u001b[0m\u001b[0mreshape\u001b[0m \u001b[0;32mimport\u001b[0m \u001b[0munstack\u001b[0m\u001b[0;34m\u001b[0m\u001b[0;34m\u001b[0m\u001b[0m\n\u001b[1;32m   8323\u001b[0m \u001b[0;34m\u001b[0m\u001b[0m\n\u001b[0;32m-> 8324\u001b[0;31m         \u001b[0mresult\u001b[0m \u001b[0;34m=\u001b[0m \u001b[0munstack\u001b[0m\u001b[0;34m(\u001b[0m\u001b[0mself\u001b[0m\u001b[0;34m,\u001b[0m \u001b[0mlevel\u001b[0m\u001b[0;34m,\u001b[0m \u001b[0mfill_value\u001b[0m\u001b[0;34m)\u001b[0m\u001b[0;34m\u001b[0m\u001b[0;34m\u001b[0m\u001b[0m\n\u001b[0m\u001b[1;32m   8325\u001b[0m \u001b[0;34m\u001b[0m\u001b[0m\n\u001b[1;32m   8326\u001b[0m         \u001b[0;32mreturn\u001b[0m \u001b[0mresult\u001b[0m\u001b[0;34m.\u001b[0m\u001b[0m__finalize__\u001b[0m\u001b[0;34m(\u001b[0m\u001b[0mself\u001b[0m\u001b[0;34m,\u001b[0m \u001b[0mmethod\u001b[0m\u001b[0;34m=\u001b[0m\u001b[0;34m\"unstack\"\u001b[0m\u001b[0;34m)\u001b[0m\u001b[0;34m\u001b[0m\u001b[0;34m\u001b[0m\u001b[0m\n",
      "\u001b[0;32m~/anaconda3/lib/python3.9/site-packages/pandas/core/reshape/reshape.py\u001b[0m in \u001b[0;36munstack\u001b[0;34m(obj, level, fill_value)\u001b[0m\n\u001b[1;32m    445\u001b[0m     \u001b[0;32mif\u001b[0m \u001b[0misinstance\u001b[0m\u001b[0;34m(\u001b[0m\u001b[0mobj\u001b[0m\u001b[0;34m,\u001b[0m \u001b[0mDataFrame\u001b[0m\u001b[0;34m)\u001b[0m\u001b[0;34m:\u001b[0m\u001b[0;34m\u001b[0m\u001b[0;34m\u001b[0m\u001b[0m\n\u001b[1;32m    446\u001b[0m         \u001b[0;32mif\u001b[0m \u001b[0misinstance\u001b[0m\u001b[0;34m(\u001b[0m\u001b[0mobj\u001b[0m\u001b[0;34m.\u001b[0m\u001b[0mindex\u001b[0m\u001b[0;34m,\u001b[0m \u001b[0mMultiIndex\u001b[0m\u001b[0;34m)\u001b[0m\u001b[0;34m:\u001b[0m\u001b[0;34m\u001b[0m\u001b[0;34m\u001b[0m\u001b[0m\n\u001b[0;32m--> 447\u001b[0;31m             \u001b[0;32mreturn\u001b[0m \u001b[0m_unstack_frame\u001b[0m\u001b[0;34m(\u001b[0m\u001b[0mobj\u001b[0m\u001b[0;34m,\u001b[0m \u001b[0mlevel\u001b[0m\u001b[0;34m,\u001b[0m \u001b[0mfill_value\u001b[0m\u001b[0;34m=\u001b[0m\u001b[0mfill_value\u001b[0m\u001b[0;34m)\u001b[0m\u001b[0;34m\u001b[0m\u001b[0;34m\u001b[0m\u001b[0m\n\u001b[0m\u001b[1;32m    448\u001b[0m         \u001b[0;32melse\u001b[0m\u001b[0;34m:\u001b[0m\u001b[0;34m\u001b[0m\u001b[0;34m\u001b[0m\u001b[0m\n\u001b[1;32m    449\u001b[0m             \u001b[0;32mreturn\u001b[0m \u001b[0mobj\u001b[0m\u001b[0;34m.\u001b[0m\u001b[0mT\u001b[0m\u001b[0;34m.\u001b[0m\u001b[0mstack\u001b[0m\u001b[0;34m(\u001b[0m\u001b[0mdropna\u001b[0m\u001b[0;34m=\u001b[0m\u001b[0;32mFalse\u001b[0m\u001b[0;34m)\u001b[0m\u001b[0;34m\u001b[0m\u001b[0;34m\u001b[0m\u001b[0m\n",
      "\u001b[0;32m~/anaconda3/lib/python3.9/site-packages/pandas/core/reshape/reshape.py\u001b[0m in \u001b[0;36m_unstack_frame\u001b[0;34m(obj, level, fill_value)\u001b[0m\n\u001b[1;32m    472\u001b[0m         \u001b[0;32mreturn\u001b[0m \u001b[0mobj\u001b[0m\u001b[0;34m.\u001b[0m\u001b[0m_constructor\u001b[0m\u001b[0;34m(\u001b[0m\u001b[0mmgr\u001b[0m\u001b[0;34m)\u001b[0m\u001b[0;34m\u001b[0m\u001b[0;34m\u001b[0m\u001b[0m\n\u001b[1;32m    473\u001b[0m     \u001b[0;32melse\u001b[0m\u001b[0;34m:\u001b[0m\u001b[0;34m\u001b[0m\u001b[0;34m\u001b[0m\u001b[0m\n\u001b[0;32m--> 474\u001b[0;31m         \u001b[0munstacker\u001b[0m \u001b[0;34m=\u001b[0m \u001b[0m_Unstacker\u001b[0m\u001b[0;34m(\u001b[0m\u001b[0mobj\u001b[0m\u001b[0;34m.\u001b[0m\u001b[0mindex\u001b[0m\u001b[0;34m,\u001b[0m \u001b[0mlevel\u001b[0m\u001b[0;34m=\u001b[0m\u001b[0mlevel\u001b[0m\u001b[0;34m,\u001b[0m \u001b[0mconstructor\u001b[0m\u001b[0;34m=\u001b[0m\u001b[0mobj\u001b[0m\u001b[0;34m.\u001b[0m\u001b[0m_constructor\u001b[0m\u001b[0;34m)\u001b[0m\u001b[0;34m\u001b[0m\u001b[0;34m\u001b[0m\u001b[0m\n\u001b[0m\u001b[1;32m    475\u001b[0m         return unstacker.get_result(\n\u001b[1;32m    476\u001b[0m             \u001b[0mobj\u001b[0m\u001b[0;34m.\u001b[0m\u001b[0m_values\u001b[0m\u001b[0;34m,\u001b[0m \u001b[0mvalue_columns\u001b[0m\u001b[0;34m=\u001b[0m\u001b[0mobj\u001b[0m\u001b[0;34m.\u001b[0m\u001b[0mcolumns\u001b[0m\u001b[0;34m,\u001b[0m \u001b[0mfill_value\u001b[0m\u001b[0;34m=\u001b[0m\u001b[0mfill_value\u001b[0m\u001b[0;34m\u001b[0m\u001b[0;34m\u001b[0m\u001b[0m\n",
      "\u001b[0;32m~/anaconda3/lib/python3.9/site-packages/pandas/core/reshape/reshape.py\u001b[0m in \u001b[0;36m__init__\u001b[0;34m(self, index, level, constructor)\u001b[0m\n\u001b[1;32m    131\u001b[0m             \u001b[0;32mraise\u001b[0m \u001b[0mValueError\u001b[0m\u001b[0;34m(\u001b[0m\u001b[0;34m\"Unstacked DataFrame is too big, causing int32 overflow\"\u001b[0m\u001b[0;34m)\u001b[0m\u001b[0;34m\u001b[0m\u001b[0;34m\u001b[0m\u001b[0m\n\u001b[1;32m    132\u001b[0m \u001b[0;34m\u001b[0m\u001b[0m\n\u001b[0;32m--> 133\u001b[0;31m         \u001b[0mself\u001b[0m\u001b[0;34m.\u001b[0m\u001b[0m_make_selectors\u001b[0m\u001b[0;34m(\u001b[0m\u001b[0;34m)\u001b[0m\u001b[0;34m\u001b[0m\u001b[0;34m\u001b[0m\u001b[0m\n\u001b[0m\u001b[1;32m    134\u001b[0m \u001b[0;34m\u001b[0m\u001b[0m\n\u001b[1;32m    135\u001b[0m     \u001b[0;34m@\u001b[0m\u001b[0mcache_readonly\u001b[0m\u001b[0;34m\u001b[0m\u001b[0;34m\u001b[0m\u001b[0m\n",
      "\u001b[0;32m~/anaconda3/lib/python3.9/site-packages/pandas/core/reshape/reshape.py\u001b[0m in \u001b[0;36m_make_selectors\u001b[0;34m(self)\u001b[0m\n\u001b[1;32m    183\u001b[0m \u001b[0;34m\u001b[0m\u001b[0m\n\u001b[1;32m    184\u001b[0m         \u001b[0;32mif\u001b[0m \u001b[0mmask\u001b[0m\u001b[0;34m.\u001b[0m\u001b[0msum\u001b[0m\u001b[0;34m(\u001b[0m\u001b[0;34m)\u001b[0m \u001b[0;34m<\u001b[0m \u001b[0mlen\u001b[0m\u001b[0;34m(\u001b[0m\u001b[0mself\u001b[0m\u001b[0;34m.\u001b[0m\u001b[0mindex\u001b[0m\u001b[0;34m)\u001b[0m\u001b[0;34m:\u001b[0m\u001b[0;34m\u001b[0m\u001b[0;34m\u001b[0m\u001b[0m\n\u001b[0;32m--> 185\u001b[0;31m             \u001b[0;32mraise\u001b[0m \u001b[0mValueError\u001b[0m\u001b[0;34m(\u001b[0m\u001b[0;34m\"Index contains duplicate entries, cannot reshape\"\u001b[0m\u001b[0;34m)\u001b[0m\u001b[0;34m\u001b[0m\u001b[0;34m\u001b[0m\u001b[0m\n\u001b[0m\u001b[1;32m    186\u001b[0m \u001b[0;34m\u001b[0m\u001b[0m\n\u001b[1;32m    187\u001b[0m         \u001b[0mself\u001b[0m\u001b[0;34m.\u001b[0m\u001b[0mgroup_index\u001b[0m \u001b[0;34m=\u001b[0m \u001b[0mcomp_index\u001b[0m\u001b[0;34m\u001b[0m\u001b[0;34m\u001b[0m\u001b[0m\n",
      "\u001b[0;31mValueError\u001b[0m: Index contains duplicate entries, cannot reshape"
     ]
    }
   ],
   "source": [
    "pivoted = raw_df.pivot(index=['respondent_id', 'year'], columns=\"technology\", values=['expenditure'])"
   ]
  },
  {
   "cell_type": "markdown",
   "id": "b52dc0ab",
   "metadata": {},
   "source": [
    "#### Data cleaning"
   ]
  },
  {
   "cell_type": "markdown",
   "id": "1d899c71",
   "metadata": {},
   "source": [
    "(a) Impute values for missing data"
   ]
  },
  {
   "cell_type": "code",
   "execution_count": null,
   "id": "2e7b5cfb",
   "metadata": {},
   "outputs": [],
   "source": [
    "# df.fillna(0)\n",
    "# "
   ]
  },
  {
   "cell_type": "markdown",
   "id": "79601567",
   "metadata": {},
   "source": [
    "(b) Remove probable outliers"
   ]
  },
  {
   "cell_type": "markdown",
   "id": "e69a97da",
   "metadata": {},
   "source": [
    "(c) Compute consumer energy burden"
   ]
  },
  {
   "cell_type": "code",
   "execution_count": null,
   "id": "205d6b4e",
   "metadata": {},
   "outputs": [],
   "source": [
    "# burden = expenditure / income\n",
    "# normalized expenditure = expenditure / sales"
   ]
  },
  {
   "cell_type": "markdown",
   "id": "4de8b303",
   "metadata": {},
   "source": [
    "#### Save processed_data file"
   ]
  },
  {
   "cell_type": "code",
   "execution_count": 97,
   "id": "c6b3a305",
   "metadata": {},
   "outputs": [],
   "source": [
    "output_dir = os.path.join('..', 'data', 'processed')"
   ]
  },
  {
   "cell_type": "code",
   "execution_count": 98,
   "id": "4d84eab7",
   "metadata": {},
   "outputs": [],
   "source": [
    "raw_df.to_csv(os.path.join(output_dir, 'processed_data.csv'))"
   ]
  },
  {
   "cell_type": "code",
   "execution_count": null,
   "id": "a9d14ecd",
   "metadata": {},
   "outputs": [],
   "source": []
  }
 ],
 "metadata": {
  "kernelspec": {
   "display_name": "Python [conda env:root] *",
   "language": "python",
   "name": "conda-root-py"
  },
  "language_info": {
   "codemirror_mode": {
    "name": "ipython",
    "version": 3
   },
   "file_extension": ".py",
   "mimetype": "text/x-python",
   "name": "python",
   "nbconvert_exporter": "python",
   "pygments_lexer": "ipython3",
   "version": "3.9.7"
  }
 },
 "nbformat": 4,
 "nbformat_minor": 5
}

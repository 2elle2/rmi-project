{
 "cells": [
  {
   "cell_type": "markdown",
   "id": "b8b3cff5",
   "metadata": {},
   "source": [
    "## 02 Data Processing"
   ]
  },
  {
   "cell_type": "markdown",
   "id": "ec6862f2",
   "metadata": {},
   "source": [
    "#### Import relevant libraries"
   ]
  },
  {
   "cell_type": "markdown",
   "id": "c28d02a7",
   "metadata": {},
   "source": [
    "#### Load raw data"
   ]
  },
  {
   "cell_type": "markdown",
   "id": "356f5be8",
   "metadata": {},
   "source": [
    "#### Join datasets"
   ]
  },
  {
   "cell_type": "markdown",
   "id": "b52dc0ab",
   "metadata": {},
   "source": [
    "#### Data cleaning"
   ]
  },
  {
   "cell_type": "markdown",
   "id": "1d899c71",
   "metadata": {},
   "source": [
    "(a) Impute values for missing data"
   ]
  },
  {
   "cell_type": "markdown",
   "id": "79601567",
   "metadata": {},
   "source": [
    "(b) Remove probable outliers"
   ]
  },
  {
   "cell_type": "markdown",
   "id": "f41f0f46",
   "metadata": {},
   "source": [
    "#### Formatting data"
   ]
  },
  {
   "cell_type": "markdown",
   "id": "4de8b303",
   "metadata": {},
   "source": [
    "#### Pickle process_data file"
   ]
  },
  {
   "cell_type": "code",
   "execution_count": null,
   "id": "c6b3a305",
   "metadata": {},
   "outputs": [],
   "source": []
  }
 ],
 "metadata": {
  "kernelspec": {
   "display_name": "Python [conda env:root] *",
   "language": "python",
   "name": "conda-root-py"
  },
  "language_info": {
   "codemirror_mode": {
    "name": "ipython",
    "version": 3
   },
   "file_extension": ".py",
   "mimetype": "text/x-python",
   "name": "python",
   "nbconvert_exporter": "python",
   "pygments_lexer": "ipython3",
   "version": "3.9.7"
  }
 },
 "nbformat": 4,
 "nbformat_minor": 5
}

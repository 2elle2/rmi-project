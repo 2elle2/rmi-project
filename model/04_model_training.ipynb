{
 "cells": [
  {
   "cell_type": "markdown",
   "id": "behavioral-antibody",
   "metadata": {},
   "source": [
    "## 04 Model Training"
   ]
  },
  {
   "cell_type": "markdown",
   "id": "neutral-needle",
   "metadata": {},
   "source": [
    "#### Import relevant libraries"
   ]
  },
  {
   "cell_type": "code",
   "execution_count": 1,
   "id": "valued-listing",
   "metadata": {},
   "outputs": [],
   "source": [
    "import os\n",
    "import sklearn as skl\n",
    "import pandas as pd\n",
    "import numpy as np"
   ]
  },
  {
   "cell_type": "code",
   "execution_count": 2,
   "id": "mediterranean-developer",
   "metadata": {},
   "outputs": [],
   "source": [
    "from sklearn.metrics import mean_absolute_error\n",
    "from sklearn.metrics import mean_squared_error\n",
    "from sklearn.metrics import r2_score"
   ]
  },
  {
   "cell_type": "markdown",
   "id": "dangerous-effectiveness",
   "metadata": {},
   "source": [
    "#### Load model training data"
   ]
  },
  {
   "cell_type": "code",
   "execution_count": 45,
   "id": "periodic-messenger",
   "metadata": {},
   "outputs": [],
   "source": [
    "input_dir = os.path.join('..', 'data', 'processed')\n",
    "df = pd.read_csv(os.path.join(input_dir, 'model_data.csv'))"
   ]
  },
  {
   "cell_type": "code",
   "execution_count": 46,
   "id": "burning-scottish",
   "metadata": {},
   "outputs": [
    {
     "data": {
      "text/html": [
       "<div>\n",
       "<style scoped>\n",
       "    .dataframe tbody tr th:only-of-type {\n",
       "        vertical-align: middle;\n",
       "    }\n",
       "\n",
       "    .dataframe tbody tr th {\n",
       "        vertical-align: top;\n",
       "    }\n",
       "\n",
       "    .dataframe thead th {\n",
       "        text-align: right;\n",
       "    }\n",
       "</style>\n",
       "<table border=\"1\" class=\"dataframe\">\n",
       "  <thead>\n",
       "    <tr style=\"text-align: right;\">\n",
       "      <th></th>\n",
       "      <th>respondent_id</th>\n",
       "      <th>target</th>\n",
       "      <th>x0</th>\n",
       "      <th>x1</th>\n",
       "      <th>x2</th>\n",
       "      <th>x3</th>\n",
       "      <th>x4</th>\n",
       "      <th>x5</th>\n",
       "      <th>x6</th>\n",
       "      <th>x7</th>\n",
       "      <th>x8</th>\n",
       "    </tr>\n",
       "  </thead>\n",
       "  <tbody>\n",
       "    <tr>\n",
       "      <th>0</th>\n",
       "      <td>2.0</td>\n",
       "      <td>0.012967</td>\n",
       "      <td>0.268538</td>\n",
       "      <td>0.094636</td>\n",
       "      <td>27.887101</td>\n",
       "      <td>-0.244293</td>\n",
       "      <td>0</td>\n",
       "      <td>0.859689</td>\n",
       "      <td>0.801151</td>\n",
       "      <td>0.194781</td>\n",
       "      <td>0</td>\n",
       "    </tr>\n",
       "    <tr>\n",
       "      <th>1</th>\n",
       "      <td>3.0</td>\n",
       "      <td>0.019325</td>\n",
       "      <td>0.358297</td>\n",
       "      <td>0.122841</td>\n",
       "      <td>12.172580</td>\n",
       "      <td>0.219762</td>\n",
       "      <td>0</td>\n",
       "      <td>0.857886</td>\n",
       "      <td>0.000000</td>\n",
       "      <td>1.000000</td>\n",
       "      <td>0</td>\n",
       "    </tr>\n",
       "    <tr>\n",
       "      <th>2</th>\n",
       "      <td>6.0</td>\n",
       "      <td>0.018841</td>\n",
       "      <td>0.621016</td>\n",
       "      <td>0.008680</td>\n",
       "      <td>17.136237</td>\n",
       "      <td>-0.235897</td>\n",
       "      <td>0</td>\n",
       "      <td>0.847220</td>\n",
       "      <td>0.000000</td>\n",
       "      <td>1.000000</td>\n",
       "      <td>0</td>\n",
       "    </tr>\n",
       "    <tr>\n",
       "      <th>3</th>\n",
       "      <td>7.0</td>\n",
       "      <td>0.009183</td>\n",
       "      <td>0.274942</td>\n",
       "      <td>0.135522</td>\n",
       "      <td>32.556154</td>\n",
       "      <td>-0.086978</td>\n",
       "      <td>0</td>\n",
       "      <td>0.889972</td>\n",
       "      <td>0.853058</td>\n",
       "      <td>-0.000670</td>\n",
       "      <td>0</td>\n",
       "    </tr>\n",
       "    <tr>\n",
       "      <th>4</th>\n",
       "      <td>8.0</td>\n",
       "      <td>0.010767</td>\n",
       "      <td>0.525850</td>\n",
       "      <td>0.190050</td>\n",
       "      <td>18.140371</td>\n",
       "      <td>0.168089</td>\n",
       "      <td>0</td>\n",
       "      <td>0.835778</td>\n",
       "      <td>0.990068</td>\n",
       "      <td>0.009932</td>\n",
       "      <td>0</td>\n",
       "    </tr>\n",
       "  </tbody>\n",
       "</table>\n",
       "</div>"
      ],
      "text/plain": [
       "   respondent_id    target        x0        x1         x2        x3  x4  \\\n",
       "0            2.0  0.012967  0.268538  0.094636  27.887101 -0.244293   0   \n",
       "1            3.0  0.019325  0.358297  0.122841  12.172580  0.219762   0   \n",
       "2            6.0  0.018841  0.621016  0.008680  17.136237 -0.235897   0   \n",
       "3            7.0  0.009183  0.274942  0.135522  32.556154 -0.086978   0   \n",
       "4            8.0  0.010767  0.525850  0.190050  18.140371  0.168089   0   \n",
       "\n",
       "         x5        x6        x7  x8  \n",
       "0  0.859689  0.801151  0.194781   0  \n",
       "1  0.857886  0.000000  1.000000   0  \n",
       "2  0.847220  0.000000  1.000000   0  \n",
       "3  0.889972  0.853058 -0.000670   0  \n",
       "4  0.835778  0.990068  0.009932   0  "
      ]
     },
     "execution_count": 46,
     "metadata": {},
     "output_type": "execute_result"
    }
   ],
   "source": [
    "df.head()"
   ]
  },
  {
   "cell_type": "code",
   "execution_count": 81,
   "id": "emerging-psychiatry",
   "metadata": {},
   "outputs": [
    {
     "data": {
      "text/html": [
       "<div>\n",
       "<style scoped>\n",
       "    .dataframe tbody tr th:only-of-type {\n",
       "        vertical-align: middle;\n",
       "    }\n",
       "\n",
       "    .dataframe tbody tr th {\n",
       "        vertical-align: top;\n",
       "    }\n",
       "\n",
       "    .dataframe thead th {\n",
       "        text-align: right;\n",
       "    }\n",
       "</style>\n",
       "<table border=\"1\" class=\"dataframe\">\n",
       "  <thead>\n",
       "    <tr style=\"text-align: right;\">\n",
       "      <th></th>\n",
       "      <th>respondent_id</th>\n",
       "      <th>x0</th>\n",
       "      <th>x1</th>\n",
       "      <th>x2</th>\n",
       "      <th>x3</th>\n",
       "      <th>x5</th>\n",
       "      <th>x6</th>\n",
       "      <th>x7</th>\n",
       "    </tr>\n",
       "  </thead>\n",
       "  <tbody>\n",
       "    <tr>\n",
       "      <th>0</th>\n",
       "      <td>2.0</td>\n",
       "      <td>0.268538</td>\n",
       "      <td>0.094636</td>\n",
       "      <td>27.887101</td>\n",
       "      <td>-0.244293</td>\n",
       "      <td>0.859689</td>\n",
       "      <td>0.801151</td>\n",
       "      <td>0.194781</td>\n",
       "    </tr>\n",
       "    <tr>\n",
       "      <th>1</th>\n",
       "      <td>3.0</td>\n",
       "      <td>0.358297</td>\n",
       "      <td>0.122841</td>\n",
       "      <td>12.172580</td>\n",
       "      <td>0.219762</td>\n",
       "      <td>0.857886</td>\n",
       "      <td>0.000000</td>\n",
       "      <td>1.000000</td>\n",
       "    </tr>\n",
       "    <tr>\n",
       "      <th>2</th>\n",
       "      <td>6.0</td>\n",
       "      <td>0.621016</td>\n",
       "      <td>0.008680</td>\n",
       "      <td>17.136237</td>\n",
       "      <td>-0.235897</td>\n",
       "      <td>0.847220</td>\n",
       "      <td>0.000000</td>\n",
       "      <td>1.000000</td>\n",
       "    </tr>\n",
       "    <tr>\n",
       "      <th>3</th>\n",
       "      <td>7.0</td>\n",
       "      <td>0.274942</td>\n",
       "      <td>0.135522</td>\n",
       "      <td>32.556154</td>\n",
       "      <td>-0.086978</td>\n",
       "      <td>0.889972</td>\n",
       "      <td>0.853058</td>\n",
       "      <td>-0.000670</td>\n",
       "    </tr>\n",
       "    <tr>\n",
       "      <th>4</th>\n",
       "      <td>8.0</td>\n",
       "      <td>0.525850</td>\n",
       "      <td>0.190050</td>\n",
       "      <td>18.140371</td>\n",
       "      <td>0.168089</td>\n",
       "      <td>0.835778</td>\n",
       "      <td>0.990068</td>\n",
       "      <td>0.009932</td>\n",
       "    </tr>\n",
       "    <tr>\n",
       "      <th>...</th>\n",
       "      <td>...</td>\n",
       "      <td>...</td>\n",
       "      <td>...</td>\n",
       "      <td>...</td>\n",
       "      <td>...</td>\n",
       "      <td>...</td>\n",
       "      <td>...</td>\n",
       "      <td>...</td>\n",
       "    </tr>\n",
       "    <tr>\n",
       "      <th>111</th>\n",
       "      <td>281.0</td>\n",
       "      <td>0.000000</td>\n",
       "      <td>0.023523</td>\n",
       "      <td>33.495041</td>\n",
       "      <td>-0.001787</td>\n",
       "      <td>0.797537</td>\n",
       "      <td>0.000000</td>\n",
       "      <td>0.000000</td>\n",
       "    </tr>\n",
       "    <tr>\n",
       "      <th>112</th>\n",
       "      <td>288.0</td>\n",
       "      <td>0.496182</td>\n",
       "      <td>0.006634</td>\n",
       "      <td>18.193219</td>\n",
       "      <td>0.059214</td>\n",
       "      <td>0.886562</td>\n",
       "      <td>0.000000</td>\n",
       "      <td>0.000000</td>\n",
       "    </tr>\n",
       "    <tr>\n",
       "      <th>113</th>\n",
       "      <td>290.0</td>\n",
       "      <td>0.000000</td>\n",
       "      <td>0.000000</td>\n",
       "      <td>18.819757</td>\n",
       "      <td>0.000000</td>\n",
       "      <td>0.839007</td>\n",
       "      <td>0.000000</td>\n",
       "      <td>0.000000</td>\n",
       "    </tr>\n",
       "    <tr>\n",
       "      <th>114</th>\n",
       "      <td>403.0</td>\n",
       "      <td>0.408250</td>\n",
       "      <td>0.001236</td>\n",
       "      <td>14.202419</td>\n",
       "      <td>0.028103</td>\n",
       "      <td>0.883881</td>\n",
       "      <td>0.000000</td>\n",
       "      <td>0.000000</td>\n",
       "    </tr>\n",
       "    <tr>\n",
       "      <th>115</th>\n",
       "      <td>428.0</td>\n",
       "      <td>0.496460</td>\n",
       "      <td>0.000000</td>\n",
       "      <td>12.265640</td>\n",
       "      <td>0.000000</td>\n",
       "      <td>0.883781</td>\n",
       "      <td>0.000000</td>\n",
       "      <td>0.000000</td>\n",
       "    </tr>\n",
       "  </tbody>\n",
       "</table>\n",
       "<p>116 rows × 8 columns</p>\n",
       "</div>"
      ],
      "text/plain": [
       "     respondent_id        x0        x1         x2        x3        x5  \\\n",
       "0              2.0  0.268538  0.094636  27.887101 -0.244293  0.859689   \n",
       "1              3.0  0.358297  0.122841  12.172580  0.219762  0.857886   \n",
       "2              6.0  0.621016  0.008680  17.136237 -0.235897  0.847220   \n",
       "3              7.0  0.274942  0.135522  32.556154 -0.086978  0.889972   \n",
       "4              8.0  0.525850  0.190050  18.140371  0.168089  0.835778   \n",
       "..             ...       ...       ...        ...       ...       ...   \n",
       "111          281.0  0.000000  0.023523  33.495041 -0.001787  0.797537   \n",
       "112          288.0  0.496182  0.006634  18.193219  0.059214  0.886562   \n",
       "113          290.0  0.000000  0.000000  18.819757  0.000000  0.839007   \n",
       "114          403.0  0.408250  0.001236  14.202419  0.028103  0.883881   \n",
       "115          428.0  0.496460  0.000000  12.265640  0.000000  0.883781   \n",
       "\n",
       "           x6        x7  \n",
       "0    0.801151  0.194781  \n",
       "1    0.000000  1.000000  \n",
       "2    0.000000  1.000000  \n",
       "3    0.853058 -0.000670  \n",
       "4    0.990068  0.009932  \n",
       "..        ...       ...  \n",
       "111  0.000000  0.000000  \n",
       "112  0.000000  0.000000  \n",
       "113  0.000000  0.000000  \n",
       "114  0.000000  0.000000  \n",
       "115  0.000000  0.000000  \n",
       "\n",
       "[116 rows x 8 columns]"
      ]
     },
     "execution_count": 81,
     "metadata": {},
     "output_type": "execute_result"
    }
   ],
   "source": [
    "# Creating arrays and features for the target variable (expenditure / sales)\n",
    "\n",
    "# 'Normalized Cost of Energy' is a placeholder for the column name with the target variable\n",
    "target = 'target'\n",
    "\n",
    "y = df[target]\n",
    "x = df.drop(columns = ['target'])\n",
    "\n",
    "\n",
    "\n",
    "# REMOVE ONCE x4, x8 IS DONE:\n",
    "x = df.drop(columns = ['target','x4','x8'])\n",
    "x"
   ]
  },
  {
   "cell_type": "markdown",
   "id": "spread-corrections",
   "metadata": {},
   "source": [
    "#### Scale predictor variables"
   ]
  },
  {
   "cell_type": "code",
   "execution_count": 82,
   "id": "cheap-highland",
   "metadata": {},
   "outputs": [],
   "source": [
    "# Import scale from sklearn\n",
    "from sklearn.preprocessing import scale\n",
    "\n",
    "# A scaling function that does not affect categorical variables such as respondent id,\n",
    "# year, or regulation\n",
    "def scale_function(X):\n",
    "    x_scaled = X\n",
    "    x_scaled = x_scaled.drop(columns = ['respondent_id'])\n",
    "    x_scaled = scale(x_scaled)\n",
    "    x_scaled['respondent_id'] = X['respondent_id']\n",
    "    return x_scaled\n",
    "\n",
    "# Tutorial recommends that we use one-hot numeric arrays, but I would\n",
    "# like to avoid them as they create excessive columns"
   ]
  },
  {
   "cell_type": "code",
   "execution_count": 83,
   "id": "annual-liberal",
   "metadata": {},
   "outputs": [],
   "source": [
    "x = x.drop(columns = ['respondent_id'])"
   ]
  },
  {
   "cell_type": "code",
   "execution_count": 84,
   "id": "binding-cause",
   "metadata": {},
   "outputs": [],
   "source": [
    "# Scale variables - use scale_function(X) if we use categorical variables\n",
    "X_scaled = scale(x)"
   ]
  },
  {
   "cell_type": "markdown",
   "id": "legitimate-private",
   "metadata": {},
   "source": [
    "#### Split into test and train sets"
   ]
  },
  {
   "cell_type": "code",
   "execution_count": 85,
   "id": "found-hollow",
   "metadata": {},
   "outputs": [],
   "source": [
    "# Import train_test_split from sklearn\n",
    "from sklearn.model_selection import train_test_split\n",
    "\n",
    "# Create training and test sets (not quite sure how to use test_size and random_state)\n",
    "X_train, X_test, y_train, y_test = train_test_split(X_scaled, y, test_size=0.2, random_state=0)\n"
   ]
  },
  {
   "cell_type": "code",
   "execution_count": 86,
   "id": "orange-wrong",
   "metadata": {},
   "outputs": [],
   "source": [
    "np.save(os.path.join(input_dir, 'X_train'), X_train)\n",
    "np.save(os.path.join(input_dir, 'X_test'), X_test)\n",
    "np.save(os.path.join(input_dir, 'y_train'), y_train)\n",
    "np.save(os.path.join(input_dir, 'y_test'), y_test)"
   ]
  },
  {
   "cell_type": "code",
   "execution_count": null,
   "id": "exciting-legend",
   "metadata": {},
   "outputs": [],
   "source": []
  },
  {
   "cell_type": "markdown",
   "id": "indian-carolina",
   "metadata": {},
   "source": [
    "#### Fit regression model"
   ]
  },
  {
   "cell_type": "markdown",
   "id": "conditional-owner",
   "metadata": {},
   "source": [
    "(a) Linear regression"
   ]
  },
  {
   "cell_type": "code",
   "execution_count": 87,
   "id": "heated-there",
   "metadata": {},
   "outputs": [
    {
     "name": "stdout",
     "output_type": "stream",
     "text": [
      "mean absolute error: 0.016743523368629488\n",
      "r^2: -0.21507562961955906\n"
     ]
    }
   ],
   "source": [
    "# Import LinearRegression from sklearn\n",
    "from sklearn.linear_model import LinearRegression\n",
    "\n",
    "# Instantiate the regressor\n",
    "reg_lin = LinearRegression()\n",
    "\n",
    "# Fit the regressor to the training data\n",
    "reg_lin.fit(X_train, y_train)\n",
    "\n",
    "# Test the linear regression model\n",
    "predicted = reg_lin.predict(X_test)\n",
    "mae = mean_absolute_error(y_test, predicted)\n",
    "print(\"mean absolute error:\", mae)\n",
    "r2 = r2_score(y_test, predicted)\n",
    "print('r^2:', r2)"
   ]
  },
  {
   "cell_type": "code",
   "execution_count": 88,
   "id": "complex-training",
   "metadata": {},
   "outputs": [
    {
     "name": "stdout",
     "output_type": "stream",
     "text": [
      "0.00621143323778499 [-0.00045965  0.00992311  0.01107211 -0.00435233 -0.00182313 -0.00656704\n",
      "  0.00082144] -629.7567615429899\n"
     ]
    },
    {
     "name": "stderr",
     "output_type": "stream",
     "text": [
      "/Library/Frameworks/Python.framework/Versions/3.8/lib/python3.8/site-packages/sklearn/base.py:443: UserWarning: X has feature names, but LinearRegression was fitted without feature names\n",
      "  warnings.warn(\n"
     ]
    }
   ],
   "source": [
    "print(reg_lin.intercept_, reg_lin.coef_, reg_lin.score(x, y))"
   ]
  },
  {
   "cell_type": "markdown",
   "id": "useful-extreme",
   "metadata": {},
   "source": [
    "(b) Random forest"
   ]
  },
  {
   "cell_type": "code",
   "execution_count": 12,
   "id": "approximate-cutting",
   "metadata": {},
   "outputs": [
    {
     "data": {
      "text/plain": [
       "RandomForestRegressor()"
      ]
     },
     "execution_count": 12,
     "metadata": {},
     "output_type": "execute_result"
    }
   ],
   "source": [
    "# Import RandomForestRegressor from sklearn\n",
    "from sklearn.ensemble import RandomForestRegressor\n",
    "\n",
    "# Instantiate the regressor with default value for hyperparameters\n",
    "reg_forest = RandomForestRegressor(random_state=None)\n",
    "\n",
    "# Fit the regressor to the training data\n",
    "reg_forest.fit(X_train, y_train)"
   ]
  },
  {
   "cell_type": "markdown",
   "id": "signal-tribe",
   "metadata": {},
   "source": [
    "(c) Neural Network"
   ]
  },
  {
   "cell_type": "code",
   "execution_count": 13,
   "id": "signal-rabbit",
   "metadata": {},
   "outputs": [
    {
     "data": {
      "text/plain": [
       "MLPRegressor()"
      ]
     },
     "execution_count": 13,
     "metadata": {},
     "output_type": "execute_result"
    }
   ],
   "source": [
    "# Import MLPRegressor from skleatn\n",
    "from sklearn.neural_network import MLPRegressor\n",
    "\n",
    "#Instantiate the regressor with default values\n",
    "reg_neural = MLPRegressor(random_state=None)\n",
    "\n",
    "# Fit the regressor to the training data\n",
    "reg_neural.fit(X_train, y_train)"
   ]
  },
  {
   "cell_type": "markdown",
   "id": "mexican-creation",
   "metadata": {},
   "source": [
    "#### Dump model_fit file(s)"
   ]
  },
  {
   "cell_type": "code",
   "execution_count": 89,
   "id": "bridal-hungarian",
   "metadata": {},
   "outputs": [],
   "source": [
    "# Import the dump function\n",
    "from joblib import dump"
   ]
  },
  {
   "cell_type": "code",
   "execution_count": 90,
   "id": "severe-reverse",
   "metadata": {},
   "outputs": [],
   "source": [
    "# Save linear regression model to disk\n",
    "filename = os.path.join(input_dir,'lin_model_2.joblib')\n",
    "dump(reg_lin, open(filename, 'wb'))"
   ]
  },
  {
   "cell_type": "code",
   "execution_count": 15,
   "id": "prepared-effectiveness",
   "metadata": {},
   "outputs": [],
   "source": [
    "# Save random forest model to disk\n",
    "filename = os.path.join(input_dir,'forest_model_1.joblib')\n",
    "dump(reg_forest, open(filename, 'wb'))"
   ]
  },
  {
   "cell_type": "code",
   "execution_count": 16,
   "id": "fitting-register",
   "metadata": {},
   "outputs": [],
   "source": [
    "# Save neural network model to disk\n",
    "filename = os.path.join(input_dir,'neural_model_1.joblib')\n",
    "dump(reg_neural, open(filename, 'wb'))"
   ]
  }
 ],
 "metadata": {
  "kernelspec": {
   "display_name": "Python 3",
   "language": "python",
   "name": "python3"
  },
  "language_info": {
   "codemirror_mode": {
    "name": "ipython",
    "version": 3
   },
   "file_extension": ".py",
   "mimetype": "text/x-python",
   "name": "python",
   "nbconvert_exporter": "python",
   "pygments_lexer": "ipython3",
   "version": "3.9.1"
  }
 },
 "nbformat": 4,
 "nbformat_minor": 5
}

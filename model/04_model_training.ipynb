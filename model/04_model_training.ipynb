{
 "cells": [
  {
   "cell_type": "markdown",
   "id": "e1c12100",
   "metadata": {},
   "source": [
    "## 04 Model Training"
   ]
  },
  {
   "cell_type": "markdown",
   "id": "24496d0f",
   "metadata": {},
   "source": [
    "#### Import relevant libraries"
   ]
  },
  {
   "cell_type": "code",
   "execution_count": 5,
   "id": "5a82478e",
   "metadata": {},
   "outputs": [],
   "source": [
    "import os\n",
    "import sklearn as skl\n",
    "import pandas as pd\n",
    "import numpy as np"
   ]
  },
  {
   "cell_type": "markdown",
   "id": "7bf12d66",
   "metadata": {},
   "source": [
    "#### Load model training data"
   ]
  },
  {
   "cell_type": "code",
   "execution_count": 7,
   "id": "adab9951",
   "metadata": {},
   "outputs": [
    {
     "name": "stderr",
     "output_type": "stream",
     "text": [
      "/var/folders/c9/qj7_h93n2zqdn4_67hfnjgkc0000gn/T/ipykernel_14424/2736453946.py:2: DtypeWarning: Columns (5,6,7,8,11,12,13) have mixed types. Specify dtype option on import or set low_memory=False.\n",
      "  df = pd.read_csv(os.path.join(input_dir, 'processed_data.csv'))\n"
     ]
    }
   ],
   "source": [
    "input_dir = os.path.join('..', 'data', 'processed')\n",
    "df = pd.read_csv(os.path.join(input_dir, 'processed_data.csv'))"
   ]
  },
  {
   "cell_type": "code",
   "execution_count": null,
   "id": "b1743637",
   "metadata": {},
   "outputs": [],
   "source": [
    "# Creating arrays and features for the target variable (expenditure / sales)\n",
    "\n",
    "# 'Normalized Cost of Energy' is a placeholder for the column name with the target variable\n",
    "target = 'Normalized Cost of Energy'\n",
    "\n",
    "y = df[target]\n",
    "x = df.drop(columns = [target])"
   ]
  },
  {
   "cell_type": "markdown",
   "id": "1bc837d8",
   "metadata": {},
   "source": [
    "#### Scale predictor variables"
   ]
  },
  {
   "cell_type": "code",
   "execution_count": null,
   "id": "f73a59b7",
   "metadata": {},
   "outputs": [],
   "source": [
    "# Import scale from sklearn\n",
    "from sklearn.preprocessing import scale\n",
    "\n",
    "# A scaling function that does not affect categorical variables like wether or not a\n",
    "# utility is regulated. 'Categorical COlumn' is a placeholder for any columns we use\n",
    "# that have binary, object, or string values\n",
    "\n",
    "def scale_function(X):\n",
    "    x_scaled = X\n",
    "    x_scaled = x_scaled.drop(columns = ['respondent_id', 'year'])\n",
    "    x_scaled = scale(x_scaled)\n",
    "    x_scaled['respondent_id'] = X['respondent_id']\n",
    "    x_scaled['year'] = X['year']\n",
    "    return x_scaled"
   ]
  },
  {
   "cell_type": "code",
   "execution_count": null,
   "id": "f8855448",
   "metadata": {},
   "outputs": [],
   "source": [
    "# Scale variables - use scale_function(X) if we use categorical variables\n",
    "X_scaled = scale_function(X)"
   ]
  },
  {
   "cell_type": "markdown",
   "id": "dc62ee1a",
   "metadata": {},
   "source": [
    "#### Split into test and train sets"
   ]
  },
  {
   "cell_type": "code",
   "execution_count": 9,
   "id": "01c7d984",
   "metadata": {},
   "outputs": [],
   "source": [
    "# Import train_test_split from sklearn\n",
    "from sklearn.model_selection import train_test_split\n",
    "\n",
    "# Create training and test sets (not quite sure how to use test_size and random_state)\n",
    "X_train, X_test, y_train, y_test = train_test_split(X_scaled, y, test_size=None, random_state=None)\n"
   ]
  },
  {
   "cell_type": "markdown",
   "id": "6d5d3479",
   "metadata": {},
   "source": [
    "#### Fit regression model"
   ]
  },
  {
   "cell_type": "markdown",
   "id": "b1d69aa3",
   "metadata": {},
   "source": [
    "(a) Linear regression"
   ]
  },
  {
   "cell_type": "code",
   "execution_count": null,
   "id": "1240c6ff",
   "metadata": {},
   "outputs": [],
   "source": [
    "# Import LinearRegression from sklearn\n",
    "from sklearn.linear_model import LinearRegression\n",
    "\n",
    "# Instantiate the regressor\n",
    "reg_lin = LinearRegression()\n",
    "\n",
    "# Fit the regressor to the training data\n",
    "reg_lin.fit(X_train, y_train)\n",
    "\n",
    "# Predict on the test data\n",
    "y_pred_lin = reg_lin.predict(X_test)"
   ]
  },
  {
   "cell_type": "markdown",
   "id": "ad7934bb",
   "metadata": {},
   "source": [
    "(b) Random forest"
   ]
  },
  {
   "cell_type": "code",
   "execution_count": null,
   "id": "bdb0f5e3",
   "metadata": {},
   "outputs": [],
   "source": [
    "# Import RandomForestRegressor from sklearn\n",
    "from sklearn.ensemble import RandomForestRegressor\n",
    "\n",
    "# Instantiate the regressor with default value for hyperparameters\n",
    "reg_forest = RandomForestRegressor(random_state=42)\n",
    "\n",
    "# Fit the regressor to the training data\n",
    "reg_forest.fit(X_train, y_train)\n",
    "\n",
    "# Predict on the test data\n",
    "y_pred_forest = reg_forest.predict(X_test)"
   ]
  },
  {
   "cell_type": "markdown",
   "id": "9bf81160",
   "metadata": {},
   "source": [
    "(c) Neural Network"
   ]
  },
  {
   "cell_type": "code",
   "execution_count": null,
   "id": "492cfb91",
   "metadata": {},
   "outputs": [],
   "source": []
  },
  {
   "cell_type": "markdown",
   "id": "b7a4b548",
   "metadata": {},
   "source": [
    "#### Pickle model_fit file(s)"
   ]
  },
  {
   "cell_type": "code",
   "execution_count": null,
   "id": "b4a78345",
   "metadata": {},
   "outputs": [],
   "source": []
  }
 ],
 "metadata": {
  "kernelspec": {
   "display_name": "Python 3 (ipykernel)",
   "language": "python",
   "name": "python3"
  },
  "language_info": {
   "codemirror_mode": {
    "name": "ipython",
    "version": 3
   },
   "file_extension": ".py",
   "mimetype": "text/x-python",
   "name": "python",
   "nbconvert_exporter": "python",
   "pygments_lexer": "ipython3",
   "version": "3.9.1"
  }
 },
 "nbformat": 4,
 "nbformat_minor": 5
}

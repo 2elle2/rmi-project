{
 "cells": [
  {
   "cell_type": "markdown",
   "id": "e1c12100",
   "metadata": {},
   "source": [
    "## 04 Model Training"
   ]
  },
  {
   "cell_type": "markdown",
   "id": "c9f1d844",
   "metadata": {},
   "source": [
    "#### Import relevant libraries"
   ]
  },
  {
   "cell_type": "code",
   "execution_count": 26,
   "id": "5a82478e",
   "metadata": {},
   "outputs": [],
   "source": [
    "import os\n",
    "import sklearn as skl\n",
    "import pandas as pd\n",
    "import numpy as np\n",
    "import pickle"
   ]
  },
  {
   "cell_type": "markdown",
   "id": "7bf12d66",
   "metadata": {},
   "source": [
    "#### Load model training data"
   ]
  },
  {
   "cell_type": "code",
   "execution_count": 2,
   "id": "4bb14ff8",
   "metadata": {},
   "outputs": [],
   "source": [
    "input_dir = os.path.join('..', 'data', 'processed')\n",
    "df = pd.read_csv(os.path.join(input_dir, 'model_data.csv'))"
   ]
  },
  {
   "cell_type": "code",
   "execution_count": 4,
   "id": "cdbac5b8",
   "metadata": {},
   "outputs": [
    {
     "data": {
      "text/html": [
       "<div>\n",
       "<style scoped>\n",
       "    .dataframe tbody tr th:only-of-type {\n",
       "        vertical-align: middle;\n",
       "    }\n",
       "\n",
       "    .dataframe tbody tr th {\n",
       "        vertical-align: top;\n",
       "    }\n",
       "\n",
       "    .dataframe thead th {\n",
       "        text-align: right;\n",
       "    }\n",
       "</style>\n",
       "<table border=\"1\" class=\"dataframe\">\n",
       "  <thead>\n",
       "    <tr style=\"text-align: right;\">\n",
       "      <th></th>\n",
       "      <th>respondent_id</th>\n",
       "      <th>target</th>\n",
       "      <th>x0</th>\n",
       "      <th>x1</th>\n",
       "      <th>x2</th>\n",
       "    </tr>\n",
       "  </thead>\n",
       "  <tbody>\n",
       "    <tr>\n",
       "      <th>0</th>\n",
       "      <td>2.0</td>\n",
       "      <td>0.012967</td>\n",
       "      <td>3.744372</td>\n",
       "      <td>26.887101</td>\n",
       "      <td>0.002868</td>\n",
       "    </tr>\n",
       "    <tr>\n",
       "      <th>1</th>\n",
       "      <td>3.0</td>\n",
       "      <td>0.019325</td>\n",
       "      <td>2.180698</td>\n",
       "      <td>11.172580</td>\n",
       "      <td>0.000000</td>\n",
       "    </tr>\n",
       "    <tr>\n",
       "      <th>2</th>\n",
       "      <td>6.0</td>\n",
       "      <td>0.018841</td>\n",
       "      <td>5.320943</td>\n",
       "      <td>16.136237</td>\n",
       "      <td>0.000000</td>\n",
       "    </tr>\n",
       "    <tr>\n",
       "      <th>3</th>\n",
       "      <td>7.0</td>\n",
       "      <td>0.009183</td>\n",
       "      <td>4.475520</td>\n",
       "      <td>31.556154</td>\n",
       "      <td>0.080693</td>\n",
       "    </tr>\n",
       "    <tr>\n",
       "      <th>4</th>\n",
       "      <td>8.0</td>\n",
       "      <td>0.010767</td>\n",
       "      <td>4.769553</td>\n",
       "      <td>17.140371</td>\n",
       "      <td>0.000000</td>\n",
       "    </tr>\n",
       "  </tbody>\n",
       "</table>\n",
       "</div>"
      ],
      "text/plain": [
       "   respondent_id    target        x0         x1        x2\n",
       "0            2.0  0.012967  3.744372  26.887101  0.002868\n",
       "1            3.0  0.019325  2.180698  11.172580  0.000000\n",
       "2            6.0  0.018841  5.320943  16.136237  0.000000\n",
       "3            7.0  0.009183  4.475520  31.556154  0.080693\n",
       "4            8.0  0.010767  4.769553  17.140371  0.000000"
      ]
     },
     "execution_count": 4,
     "metadata": {},
     "output_type": "execute_result"
    }
   ],
   "source": [
    "df.head()"
   ]
  },
  {
   "cell_type": "code",
   "execution_count": 5,
   "id": "350c23e3",
   "metadata": {},
   "outputs": [],
   "source": [
    "# Creating arrays and features for the target variable (expenditure / sales)\n",
    "\n",
    "# 'Normalized Cost of Energy' is a placeholder for the column name with the target variable\n",
    "target = 'target'\n",
    "\n",
    "y = df[target]\n",
    "x = df.drop(columns = [target])"
   ]
  },
  {
   "cell_type": "markdown",
   "id": "1bc837d8",
   "metadata": {},
   "source": [
    "#### Scale predictor variables"
   ]
  },
  {
   "cell_type": "code",
   "execution_count": 6,
   "id": "a5d1ecc0",
   "metadata": {},
   "outputs": [],
   "source": [
    "# Import scale from sklearn\n",
    "from sklearn.preprocessing import scale\n",
    "\n",
    "# A scaling function that does not affect categorical variables such as respondent id,\n",
    "# year, or regulation\n",
    "def scale_function(X):\n",
    "    x_scaled = X\n",
    "    x_scaled = x_scaled.drop(columns = ['respondent_id'])\n",
    "    x_scaled = scale(x_scaled)\n",
    "    x_scaled['respondent_id'] = X['respondent_id']\n",
    "    return x_scaled\n",
    "\n",
    "# Tutorial recommends that we use one-hot numeric arrays, but I would\n",
    "# like to avoid them as they create excessive columns"
   ]
  },
  {
   "cell_type": "code",
   "execution_count": 14,
   "id": "664af7a6",
   "metadata": {},
   "outputs": [],
   "source": [
    "x = x.drop(columns = ['respondent_id'])"
   ]
  },
  {
   "cell_type": "code",
   "execution_count": 15,
   "id": "0e18b0b1",
   "metadata": {},
   "outputs": [],
   "source": [
    "# Scale variables - use scale_function(X) if we use categorical variables\n",
    "X_scaled = scale(x)"
   ]
  },
  {
   "cell_type": "markdown",
   "id": "dc62ee1a",
   "metadata": {},
   "source": [
    "#### Split into test and train sets"
   ]
  },
  {
   "cell_type": "code",
   "execution_count": 16,
   "id": "6cc96e91",
   "metadata": {},
   "outputs": [],
   "source": [
    "# Import train_test_split from sklearn\n",
    "from sklearn.model_selection import train_test_split\n",
    "\n",
    "# Create training and test sets (not quite sure how to use test_size and random_state)\n",
    "X_train, X_test, y_train, y_test = train_test_split(X_scaled, y, test_size=None, random_state=None)\n"
   ]
  },
  {
   "cell_type": "markdown",
   "id": "6d5d3479",
   "metadata": {},
   "source": [
    "#### Fit regression model"
   ]
  },
  {
   "cell_type": "markdown",
   "id": "b1d69aa3",
   "metadata": {},
   "source": [
    "(a) Linear regression"
   ]
  },
  {
   "cell_type": "code",
   "execution_count": 23,
   "id": "9c771442",
   "metadata": {},
   "outputs": [],
   "source": [
    "# Import LinearRegression from sklearn\n",
    "from sklearn.linear_model import LinearRegression\n",
    "\n",
    "# Instantiate the regressor\n",
    "reg_lin = LinearRegression()\n",
    "\n",
    "# Fit the regressor to the training data\n",
    "reg_lin.fit(X_train, y_train)\n",
    "\n",
    "# Test the linear regression model\n",
    "predicted = reg_lin.predict(X_test)\n"
   ]
  },
  {
   "cell_type": "code",
   "execution_count": 24,
   "id": "66fe001d",
   "metadata": {},
   "outputs": [
    {
     "name": "stdout",
     "output_type": "stream",
     "text": [
      "0.009975381422283205 [-0.03913896  0.05021351 -0.00188548] -4123.3916482001005\n"
     ]
    },
    {
     "name": "stderr",
     "output_type": "stream",
     "text": [
      "/Library/Frameworks/Python.framework/Versions/3.9/lib/python3.9/site-packages/sklearn/base.py:443: UserWarning: X has feature names, but LinearRegression was fitted without feature names\n",
      "  warnings.warn(\n"
     ]
    }
   ],
   "source": [
    "print(reg_lin.intercept_, reg_lin.coef_, reg_lin.score(x, y))"
   ]
  },
  {
   "cell_type": "markdown",
   "id": "ad7934bb",
   "metadata": {},
   "source": [
    "(b) Random forest"
   ]
  },
  {
   "cell_type": "code",
   "execution_count": 10,
   "id": "11f3c119",
   "metadata": {},
   "outputs": [
    {
     "ename": "NameError",
     "evalue": "name 'X_train' is not defined",
     "output_type": "error",
     "traceback": [
      "\u001b[0;31m---------------------------------------------------------------------------\u001b[0m",
      "\u001b[0;31mNameError\u001b[0m                                 Traceback (most recent call last)",
      "Input \u001b[0;32mIn [10]\u001b[0m, in \u001b[0;36m<cell line: 8>\u001b[0;34m()\u001b[0m\n\u001b[1;32m      5\u001b[0m reg_forest \u001b[38;5;241m=\u001b[39m RandomForestRegressor(random_state\u001b[38;5;241m=\u001b[39m\u001b[38;5;28;01mNone\u001b[39;00m)\n\u001b[1;32m      7\u001b[0m \u001b[38;5;66;03m# Fit the regressor to the training data\u001b[39;00m\n\u001b[0;32m----> 8\u001b[0m reg_forest\u001b[38;5;241m.\u001b[39mfit(\u001b[43mX_train\u001b[49m, y_train)\n\u001b[1;32m     10\u001b[0m \u001b[38;5;66;03m# Predict on the test data\u001b[39;00m\n\u001b[1;32m     11\u001b[0m y_pred_forest \u001b[38;5;241m=\u001b[39m reg_forest\u001b[38;5;241m.\u001b[39mpredict(X_test)\n",
      "\u001b[0;31mNameError\u001b[0m: name 'X_train' is not defined"
     ]
    }
   ],
   "source": [
    "# Import RandomForestRegressor from sklearn\n",
    "from sklearn.ensemble import RandomForestRegressor\n",
    "\n",
    "# Instantiate the regressor with default value for hyperparameters\n",
    "reg_forest = RandomForestRegressor(random_state=None)\n",
    "\n",
    "# Fit the regressor to the training data\n",
    "reg_forest.fit(X_train, y_train)"
   ]
  },
  {
   "cell_type": "markdown",
   "id": "9bf81160",
   "metadata": {},
   "source": [
    "(c) Neural Network"
   ]
  },
  {
   "cell_type": "code",
   "execution_count": null,
   "id": "853c05d6",
   "metadata": {},
   "outputs": [],
   "source": [
    "# Import MLPRegressor from skleatn\n",
    "from sklearn.neural_network import MLPRegressor\n",
    "\n",
    "#Instantiate the regressor with default values\n",
    "reg_neural = MLPRegressor(random_state=None)\n",
    "\n",
    "# Fit the regressor to the training data\n",
    "reg_neural.fit(X_train, y_train)"
   ]
  },
  {
   "cell_type": "markdown",
   "id": "b7a4b548",
   "metadata": {},
   "source": [
    "#### Pickle model_fit file(s)"
   ]
  },
  {
   "cell_type": "code",
   "execution_count": 28,
   "id": "565cad3f",
   "metadata": {},
   "outputs": [],
   "source": [
    "# Save linear regression model to disk\n",
    "filename = os.path.join(input_dir,'lin_model_1.pkl')\n",
    "pickle.dump(reg_lin, open(filename, 'wb'))"
   ]
  },
  {
   "cell_type": "code",
   "execution_count": null,
   "id": "6126441e",
   "metadata": {},
   "outputs": [],
   "source": [
    "# Save random forest model to disk\n",
    "filename = os.path.join(input_dir,'forest_model_1.pkl')\n",
    "pickle.dump(reg_forest, open(filename, 'wb'))"
   ]
  },
  {
   "cell_type": "code",
   "execution_count": null,
   "id": "1b798d52",
   "metadata": {},
   "outputs": [],
   "source": [
    "# Save neural network model to disk\n",
    "filename = os.path.join(input_dir,'neural_model_1.pkl')\n",
    "pickle.dump(reg_neural, open(filename, 'wb'))"
   ]
  }
 ],
 "metadata": {
  "kernelspec": {
   "display_name": "Python 3 (ipykernel)",
   "language": "python",
   "name": "python3"
  },
  "language_info": {
   "codemirror_mode": {
    "name": "ipython",
    "version": 3
   },
   "file_extension": ".py",
   "mimetype": "text/x-python",
   "name": "python",
   "nbconvert_exporter": "python",
   "pygments_lexer": "ipython3",
   "version": "3.9.1"
  }
 },
 "nbformat": 4,
 "nbformat_minor": 5
}

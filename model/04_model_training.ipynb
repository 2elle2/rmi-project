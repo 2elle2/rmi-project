{
 "cells": [
  {
   "cell_type": "markdown",
   "id": "e1c12100",
   "metadata": {},
   "source": [
    "## 04 Model Training"
   ]
  },
  {
   "cell_type": "markdown",
   "id": "795ab3db",
   "metadata": {},
   "source": [
    "#### Import relevant libraries"
   ]
  },
  {
   "cell_type": "markdown",
   "id": "7bf12d66",
   "metadata": {},
   "source": [
    "#### Load model training data"
   ]
  },
  {
   "cell_type": "markdown",
   "id": "dc62ee1a",
   "metadata": {},
   "source": [
    "#### Split into test and train sets"
   ]
  },
  {
   "cell_type": "markdown",
   "id": "1bc837d8",
   "metadata": {},
   "source": [
    "#### Scale predictor variables"
   ]
  },
  {
   "cell_type": "markdown",
   "id": "6d5d3479",
   "metadata": {},
   "source": [
    "#### Fit regression model"
   ]
  },
  {
   "cell_type": "markdown",
   "id": "b1d69aa3",
   "metadata": {},
   "source": [
    "(a) Linear regression"
   ]
  },
  {
   "cell_type": "markdown",
   "id": "ad7934bb",
   "metadata": {},
   "source": [
    "(b) Random forest"
   ]
  },
  {
   "cell_type": "markdown",
   "id": "9bf81160",
   "metadata": {},
   "source": [
    "(c) Neural Network"
   ]
  },
  {
   "cell_type": "markdown",
   "id": "b7a4b548",
   "metadata": {},
   "source": [
    "#### Pickle model_fit file(s)"
   ]
  },
  {
   "cell_type": "code",
   "execution_count": null,
   "id": "5a82478e",
   "metadata": {},
   "outputs": [],
   "source": []
  }
 ],
 "metadata": {
  "kernelspec": {
   "display_name": "Python [conda env:root] *",
   "language": "python",
   "name": "conda-root-py"
  },
  "language_info": {
   "codemirror_mode": {
    "name": "ipython",
    "version": 3
   },
   "file_extension": ".py",
   "mimetype": "text/x-python",
   "name": "python",
   "nbconvert_exporter": "python",
   "pygments_lexer": "ipython3",
   "version": "3.9.7"
  }
 },
 "nbformat": 4,
 "nbformat_minor": 5
}

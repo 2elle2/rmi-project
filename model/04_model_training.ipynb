{
 "cells": [
  {
   "cell_type": "markdown",
   "id": "917e0317",
   "metadata": {},
   "source": [
    "## 04 Model Training"
   ]
  },
  {
   "cell_type": "markdown",
   "id": "8ae223d1",
   "metadata": {},
   "source": [
    "#### Import relevant libraries"
   ]
  },
  {
   "cell_type": "code",
   "execution_count": 1,
   "id": "ec2c359f",
   "metadata": {},
   "outputs": [],
   "source": [
    "import os\n",
    "import sklearn as skl\n",
    "import pandas as pd\n",
    "import numpy as np"
   ]
  },
  {
   "cell_type": "markdown",
   "id": "6c0a37ec",
   "metadata": {},
   "source": [
    "#### Load model training data"
   ]
  },
  {
   "cell_type": "code",
   "execution_count": 2,
   "id": "439f271f",
   "metadata": {},
   "outputs": [],
   "source": [
    "input_dir = os.path.join('..', 'data', 'processed')\n",
    "df = pd.read_csv(os.path.join(input_dir, 'model_data.csv'))"
   ]
  },
  {
   "cell_type": "code",
   "execution_count": 3,
   "id": "589b5acc",
   "metadata": {},
   "outputs": [
    {
     "data": {
      "text/html": [
       "<div>\n",
       "<style scoped>\n",
       "    .dataframe tbody tr th:only-of-type {\n",
       "        vertical-align: middle;\n",
       "    }\n",
       "\n",
       "    .dataframe tbody tr th {\n",
       "        vertical-align: top;\n",
       "    }\n",
       "\n",
       "    .dataframe thead th {\n",
       "        text-align: right;\n",
       "    }\n",
       "</style>\n",
       "<table border=\"1\" class=\"dataframe\">\n",
       "  <thead>\n",
       "    <tr style=\"text-align: right;\">\n",
       "      <th></th>\n",
       "      <th>target</th>\n",
       "      <th>x01</th>\n",
       "      <th>x02</th>\n",
       "      <th>x03</th>\n",
       "      <th>x04</th>\n",
       "      <th>x05</th>\n",
       "      <th>x06</th>\n",
       "      <th>x07</th>\n",
       "      <th>x08</th>\n",
       "      <th>c09</th>\n",
       "    </tr>\n",
       "  </thead>\n",
       "  <tbody>\n",
       "    <tr>\n",
       "      <th>0</th>\n",
       "      <td>0.019042</td>\n",
       "      <td>0.351208</td>\n",
       "      <td>0.110678</td>\n",
       "      <td>95.893125</td>\n",
       "      <td>1.000000</td>\n",
       "      <td>0.290916</td>\n",
       "      <td>0.778672</td>\n",
       "      <td>0.220809</td>\n",
       "      <td>0.000000</td>\n",
       "      <td>vert_int</td>\n",
       "    </tr>\n",
       "    <tr>\n",
       "      <th>1</th>\n",
       "      <td>0.015868</td>\n",
       "      <td>0.513455</td>\n",
       "      <td>0.476233</td>\n",
       "      <td>31.004672</td>\n",
       "      <td>1.000000</td>\n",
       "      <td>0.916615</td>\n",
       "      <td>0.000000</td>\n",
       "      <td>1.000000</td>\n",
       "      <td>0.000000</td>\n",
       "      <td>vert_int</td>\n",
       "    </tr>\n",
       "    <tr>\n",
       "      <th>2</th>\n",
       "      <td>0.022832</td>\n",
       "      <td>0.642341</td>\n",
       "      <td>0.039913</td>\n",
       "      <td>54.876484</td>\n",
       "      <td>1.000005</td>\n",
       "      <td>0.024628</td>\n",
       "      <td>0.000000</td>\n",
       "      <td>1.000080</td>\n",
       "      <td>10.487586</td>\n",
       "      <td>vert_int</td>\n",
       "    </tr>\n",
       "    <tr>\n",
       "      <th>3</th>\n",
       "      <td>0.012631</td>\n",
       "      <td>0.419923</td>\n",
       "      <td>0.251899</td>\n",
       "      <td>77.037977</td>\n",
       "      <td>1.000554</td>\n",
       "      <td>0.325085</td>\n",
       "      <td>0.963355</td>\n",
       "      <td>0.000000</td>\n",
       "      <td>14.585460</td>\n",
       "      <td>vert_int</td>\n",
       "    </tr>\n",
       "    <tr>\n",
       "      <th>4</th>\n",
       "      <td>0.019896</td>\n",
       "      <td>0.610624</td>\n",
       "      <td>0.525933</td>\n",
       "      <td>65.810615</td>\n",
       "      <td>1.000000</td>\n",
       "      <td>0.537077</td>\n",
       "      <td>0.990224</td>\n",
       "      <td>0.009776</td>\n",
       "      <td>0.000000</td>\n",
       "      <td>vert_int</td>\n",
       "    </tr>\n",
       "  </tbody>\n",
       "</table>\n",
       "</div>"
      ],
      "text/plain": [
       "     target       x01       x02        x03       x04       x05       x06  \\\n",
       "0  0.019042  0.351208  0.110678  95.893125  1.000000  0.290916  0.778672   \n",
       "1  0.015868  0.513455  0.476233  31.004672  1.000000  0.916615  0.000000   \n",
       "2  0.022832  0.642341  0.039913  54.876484  1.000005  0.024628  0.000000   \n",
       "3  0.012631  0.419923  0.251899  77.037977  1.000554  0.325085  0.963355   \n",
       "4  0.019896  0.610624  0.525933  65.810615  1.000000  0.537077  0.990224   \n",
       "\n",
       "        x07        x08       c09  \n",
       "0  0.220809   0.000000  vert_int  \n",
       "1  1.000000   0.000000  vert_int  \n",
       "2  1.000080  10.487586  vert_int  \n",
       "3  0.000000  14.585460  vert_int  \n",
       "4  0.009776   0.000000  vert_int  "
      ]
     },
     "execution_count": 3,
     "metadata": {},
     "output_type": "execute_result"
    }
   ],
   "source": [
    "df.head()"
   ]
  },
  {
   "cell_type": "markdown",
   "id": "87571101",
   "metadata": {},
   "source": [
    "#### One-hot encoding categorical variables"
   ]
  },
  {
   "cell_type": "code",
   "execution_count": 4,
   "id": "de2369d4",
   "metadata": {},
   "outputs": [
    {
     "data": {
      "text/html": [
       "<div>\n",
       "<style scoped>\n",
       "    .dataframe tbody tr th:only-of-type {\n",
       "        vertical-align: middle;\n",
       "    }\n",
       "\n",
       "    .dataframe tbody tr th {\n",
       "        vertical-align: top;\n",
       "    }\n",
       "\n",
       "    .dataframe thead th {\n",
       "        text-align: right;\n",
       "    }\n",
       "</style>\n",
       "<table border=\"1\" class=\"dataframe\">\n",
       "  <thead>\n",
       "    <tr style=\"text-align: right;\">\n",
       "      <th></th>\n",
       "      <th>c09_other_wires</th>\n",
       "      <th>c09_restructured</th>\n",
       "      <th>c09_vert_int</th>\n",
       "    </tr>\n",
       "  </thead>\n",
       "  <tbody>\n",
       "    <tr>\n",
       "      <th>0</th>\n",
       "      <td>0</td>\n",
       "      <td>0</td>\n",
       "      <td>1</td>\n",
       "    </tr>\n",
       "    <tr>\n",
       "      <th>1</th>\n",
       "      <td>0</td>\n",
       "      <td>0</td>\n",
       "      <td>1</td>\n",
       "    </tr>\n",
       "    <tr>\n",
       "      <th>2</th>\n",
       "      <td>0</td>\n",
       "      <td>0</td>\n",
       "      <td>1</td>\n",
       "    </tr>\n",
       "    <tr>\n",
       "      <th>3</th>\n",
       "      <td>0</td>\n",
       "      <td>0</td>\n",
       "      <td>1</td>\n",
       "    </tr>\n",
       "    <tr>\n",
       "      <th>4</th>\n",
       "      <td>0</td>\n",
       "      <td>0</td>\n",
       "      <td>1</td>\n",
       "    </tr>\n",
       "  </tbody>\n",
       "</table>\n",
       "</div>"
      ],
      "text/plain": [
       "   c09_other_wires  c09_restructured  c09_vert_int\n",
       "0                0                 0             1\n",
       "1                0                 0             1\n",
       "2                0                 0             1\n",
       "3                0                 0             1\n",
       "4                0                 0             1"
      ]
     },
     "execution_count": 4,
     "metadata": {},
     "output_type": "execute_result"
    }
   ],
   "source": [
    "categorical_vars = df.columns[[col_name.startswith('c') for col_name in df.columns]]\n",
    "c_vars = pd.get_dummies(df[categorical_vars], drop_first=True)\n",
    "c_vars.head()"
   ]
  },
  {
   "cell_type": "markdown",
   "id": "d76cab42",
   "metadata": {},
   "source": [
    "#### Scale predictor variables"
   ]
  },
  {
   "cell_type": "code",
   "execution_count": 5,
   "id": "3faba24a",
   "metadata": {},
   "outputs": [
    {
     "data": {
      "text/html": [
       "<div>\n",
       "<style scoped>\n",
       "    .dataframe tbody tr th:only-of-type {\n",
       "        vertical-align: middle;\n",
       "    }\n",
       "\n",
       "    .dataframe tbody tr th {\n",
       "        vertical-align: top;\n",
       "    }\n",
       "\n",
       "    .dataframe thead th {\n",
       "        text-align: right;\n",
       "    }\n",
       "</style>\n",
       "<table border=\"1\" class=\"dataframe\">\n",
       "  <thead>\n",
       "    <tr style=\"text-align: right;\">\n",
       "      <th></th>\n",
       "      <th>x01</th>\n",
       "      <th>x02</th>\n",
       "      <th>x03</th>\n",
       "      <th>x04</th>\n",
       "      <th>x05</th>\n",
       "      <th>x06</th>\n",
       "      <th>x07</th>\n",
       "      <th>x08</th>\n",
       "    </tr>\n",
       "  </thead>\n",
       "  <tbody>\n",
       "    <tr>\n",
       "      <th>0</th>\n",
       "      <td>-1.208260</td>\n",
       "      <td>-0.283548</td>\n",
       "      <td>0.592913</td>\n",
       "      <td>-0.178322</td>\n",
       "      <td>0.449758</td>\n",
       "      <td>1.710097</td>\n",
       "      <td>0.053862</td>\n",
       "      <td>-0.710241</td>\n",
       "    </tr>\n",
       "    <tr>\n",
       "      <th>1</th>\n",
       "      <td>-0.490188</td>\n",
       "      <td>1.377255</td>\n",
       "      <td>-1.021040</td>\n",
       "      <td>-0.178322</td>\n",
       "      <td>2.534275</td>\n",
       "      <td>-0.481968</td>\n",
       "      <td>2.202111</td>\n",
       "      <td>-0.710241</td>\n",
       "    </tr>\n",
       "    <tr>\n",
       "      <th>2</th>\n",
       "      <td>0.080234</td>\n",
       "      <td>-0.605050</td>\n",
       "      <td>-0.427283</td>\n",
       "      <td>-0.178248</td>\n",
       "      <td>-0.437378</td>\n",
       "      <td>-0.481968</td>\n",
       "      <td>2.202332</td>\n",
       "      <td>0.048291</td>\n",
       "    </tr>\n",
       "    <tr>\n",
       "      <th>3</th>\n",
       "      <td>-0.904142</td>\n",
       "      <td>0.358051</td>\n",
       "      <td>0.123934</td>\n",
       "      <td>-0.170482</td>\n",
       "      <td>0.563595</td>\n",
       "      <td>2.230005</td>\n",
       "      <td>-0.554915</td>\n",
       "      <td>0.344676</td>\n",
       "    </tr>\n",
       "    <tr>\n",
       "      <th>4</th>\n",
       "      <td>-0.060139</td>\n",
       "      <td>1.603053</td>\n",
       "      <td>-0.155321</td>\n",
       "      <td>-0.178322</td>\n",
       "      <td>1.269845</td>\n",
       "      <td>2.305643</td>\n",
       "      <td>-0.527961</td>\n",
       "      <td>-0.710241</td>\n",
       "    </tr>\n",
       "  </tbody>\n",
       "</table>\n",
       "</div>"
      ],
      "text/plain": [
       "        x01       x02       x03       x04       x05       x06       x07  \\\n",
       "0 -1.208260 -0.283548  0.592913 -0.178322  0.449758  1.710097  0.053862   \n",
       "1 -0.490188  1.377255 -1.021040 -0.178322  2.534275 -0.481968  2.202111   \n",
       "2  0.080234 -0.605050 -0.427283 -0.178248 -0.437378 -0.481968  2.202332   \n",
       "3 -0.904142  0.358051  0.123934 -0.170482  0.563595  2.230005 -0.554915   \n",
       "4 -0.060139  1.603053 -0.155321 -0.178322  1.269845  2.305643 -0.527961   \n",
       "\n",
       "        x08  \n",
       "0 -0.710241  \n",
       "1 -0.710241  \n",
       "2  0.048291  \n",
       "3  0.344676  \n",
       "4 -0.710241  "
      ]
     },
     "execution_count": 5,
     "metadata": {},
     "output_type": "execute_result"
    }
   ],
   "source": [
    "from sklearn.preprocessing import scale\n",
    "continuous_vars = df.columns[[col_name.startswith('x') for col_name in df.columns]]\n",
    "x_vars = df[continuous_vars].copy()\n",
    "\n",
    "for col_name in continuous_vars:\n",
    "    x_vars[col_name] = scale(df[col_name])\n",
    "\n",
    "x_vars.head()"
   ]
  },
  {
   "cell_type": "markdown",
   "id": "943ad700",
   "metadata": {},
   "source": [
    "#### Split into test and train sets"
   ]
  },
  {
   "cell_type": "code",
   "execution_count": 6,
   "id": "888424cf",
   "metadata": {},
   "outputs": [],
   "source": [
    "y = df['target']\n",
    "X = x_vars.join(c_vars)"
   ]
  },
  {
   "cell_type": "code",
   "execution_count": 7,
   "id": "955e168b",
   "metadata": {},
   "outputs": [
    {
     "name": "stdout",
     "output_type": "stream",
     "text": [
      "(92, 11) (92,)\n",
      "(24, 11) (24,)\n"
     ]
    }
   ],
   "source": [
    "from sklearn.model_selection import train_test_split\n",
    "X_train, X_test, y_train, y_test = train_test_split(X, y, test_size=0.2, random_state=123)\n",
    "print(X_train.shape, y_train.shape); print(X_test.shape, y_test.shape);"
   ]
  },
  {
   "cell_type": "markdown",
   "id": "8bd1769d",
   "metadata": {},
   "source": [
    "Save as csv for use in fit evaluation step"
   ]
  },
  {
   "cell_type": "code",
   "execution_count": 8,
   "id": "c6846405",
   "metadata": {},
   "outputs": [],
   "source": [
    "X_train.to_csv(os.path.join(input_dir, 'X_train.csv'), index=False)\n",
    "X_test.to_csv(os.path.join(input_dir, 'X_test.csv'), index=False)\n",
    "y_train.to_csv(os.path.join(input_dir, 'y_train.csv'), index=False)\n",
    "y_test.to_csv(os.path.join(input_dir, 'y_test.csv'), index=False)"
   ]
  },
  {
   "cell_type": "code",
   "execution_count": 9,
   "id": "86aa234e",
   "metadata": {},
   "outputs": [],
   "source": [
    "np.save(os.path.join(input_dir, 'X_train'), X_train)\n",
    "np.save(os.path.join(input_dir, 'X_test'), X_test)\n",
    "np.save(os.path.join(input_dir, 'y_train'), y_train)\n",
    "np.save(os.path.join(input_dir, 'y_test'), y_test)"
   ]
  },
  {
   "cell_type": "markdown",
   "id": "6aed606a",
   "metadata": {},
   "source": [
    "#### Fit regression model"
   ]
  },
  {
   "cell_type": "markdown",
   "id": "66a87804",
   "metadata": {},
   "source": [
    "(a) Linear regression"
   ]
  },
  {
   "cell_type": "code",
   "execution_count": 10,
   "id": "f17c4f67",
   "metadata": {},
   "outputs": [
    {
     "name": "stdout",
     "output_type": "stream",
     "text": [
      "0.04136570420241568 [-0.0160827  -0.00161387 -0.00104436 -0.00302767  0.00448619 -0.00021513\n",
      " -0.00020368 -0.0041874  -0.0255398  -0.00886454 -0.03421114]\n"
     ]
    }
   ],
   "source": [
    "# Import LinearRegression from sklearn\n",
    "from sklearn.linear_model import LinearRegression\n",
    "\n",
    "# Instantiate the regressor\n",
    "reg_lin = LinearRegression()\n",
    "\n",
    "# Fit the regressor to the training data\n",
    "reg_lin.fit(X_train, y_train)\n",
    "\n",
    "# Test the linear regression model\n",
    "predicted = reg_lin.predict(X_test)\n",
    "print(reg_lin.intercept_, reg_lin.coef_)"
   ]
  },
  {
   "cell_type": "markdown",
   "id": "6ff21f77",
   "metadata": {},
   "source": [
    "(b) Random forest"
   ]
  },
  {
   "cell_type": "code",
   "execution_count": 11,
   "id": "11285bf1",
   "metadata": {},
   "outputs": [
    {
     "data": {
      "text/plain": [
       "array([0.33819844, 0.02471854, 0.29471404, 0.1622484 , 0.05630196,\n",
       "       0.01280448, 0.02497056, 0.0439977 , 0.02562598, 0.00839059,\n",
       "       0.0080293 ])"
      ]
     },
     "execution_count": 11,
     "metadata": {},
     "output_type": "execute_result"
    }
   ],
   "source": [
    "# Import RandomForestRegressor from sklearn\n",
    "from sklearn.ensemble import RandomForestRegressor\n",
    "\n",
    "# Instantiate the regressor with default value for hyperparameters\n",
    "reg_forest = RandomForestRegressor(random_state=123)\n",
    "\n",
    "# Fit the regressor to the training data\n",
    "reg_forest.fit(X_train, y_train)\n",
    "reg_forest.feature_importances_"
   ]
  },
  {
   "cell_type": "markdown",
   "id": "e8bfa1c6",
   "metadata": {},
   "source": [
    "(c) Neural Network"
   ]
  },
  {
   "cell_type": "code",
   "execution_count": 12,
   "id": "35823124",
   "metadata": {},
   "outputs": [
    {
     "data": {
      "text/plain": [
       "MLPRegressor(random_state=123)"
      ]
     },
     "execution_count": 12,
     "metadata": {},
     "output_type": "execute_result"
    }
   ],
   "source": [
    "# Import MLPRegressor from skleatn\n",
    "from sklearn.neural_network import MLPRegressor\n",
    "\n",
    "#Instantiate the regressor with default values\n",
    "reg_neural = MLPRegressor(random_state=123)\n",
    "\n",
    "# Fit the regressor to the training data\n",
    "reg_neural.fit(X_train, y_train)"
   ]
  },
  {
   "cell_type": "markdown",
   "id": "13d247f9",
   "metadata": {},
   "source": [
    "#### Dump model_fit file(s)"
   ]
  },
  {
   "cell_type": "code",
   "execution_count": 13,
   "id": "1a72eab8",
   "metadata": {},
   "outputs": [],
   "source": [
    "# Import the dump function\n",
    "from joblib import dump"
   ]
  },
  {
   "cell_type": "code",
   "execution_count": 14,
   "id": "69515972",
   "metadata": {},
   "outputs": [],
   "source": [
    "# Save linear regression model to disk\n",
    "filename = os.path.join(input_dir,'lin_model_3.joblib')\n",
    "dump(reg_lin, open(filename, 'wb'))"
   ]
  },
  {
   "cell_type": "code",
   "execution_count": 15,
   "id": "301eb7d6",
   "metadata": {},
   "outputs": [],
   "source": [
    "# Save random forest model to disk\n",
    "filename = os.path.join(input_dir,'forest_model_1.joblib')\n",
    "dump(reg_forest, open(filename, 'wb'))"
   ]
  },
  {
   "cell_type": "code",
   "execution_count": 16,
   "id": "b6d94477",
   "metadata": {},
   "outputs": [],
   "source": [
    "# Save neural network model to disk\n",
    "filename = os.path.join(input_dir,'neural_model_1.joblib')\n",
    "dump(reg_neural, open(filename, 'wb'))"
   ]
  },
  {
   "cell_type": "code",
   "execution_count": null,
   "id": "a8265a08",
   "metadata": {},
   "outputs": [],
   "source": []
  }
 ],
 "metadata": {
  "kernelspec": {
   "display_name": "Python 3 (ipykernel)",
   "language": "python",
   "name": "python3"
  },
  "language_info": {
   "codemirror_mode": {
    "name": "ipython",
    "version": 3
   },
   "file_extension": ".py",
   "mimetype": "text/x-python",
   "name": "python",
   "nbconvert_exporter": "python",
   "pygments_lexer": "ipython3",
   "version": "3.9.7"
  }
 },
 "nbformat": 4,
 "nbformat_minor": 5
}

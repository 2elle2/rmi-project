{
 "cells": [
  {
   "cell_type": "markdown",
   "metadata": {},
   "source": [
    "## 05 Model Evaluation"
   ]
  },
  {
   "cell_type": "markdown",
   "metadata": {},
   "source": [
    "#### Import relevant libraries"
   ]
  },
  {
   "cell_type": "code",
   "execution_count": 8,
   "metadata": {},
   "outputs": [
    {
     "name": "stdout",
     "output_type": "stream",
     "text": [
      "Collecting scikit-learn\n",
      "  Downloading scikit_learn-1.0.2-cp38-cp38-macosx_10_13_x86_64.whl (7.9 MB)\n",
      "\u001b[2K     \u001b[90m━━━━━━━━━━━━━━━━━━━━━━━━━━━━━━━━━━━━━━━━\u001b[0m \u001b[32m7.9/7.9 MB\u001b[0m \u001b[31m20.6 MB/s\u001b[0m eta \u001b[36m0:00:00\u001b[0m00:01\u001b[0m00:01\u001b[0m\n",
      "\u001b[?25hRequirement already satisfied: scipy in /Library/Frameworks/Python.framework/Versions/3.8/lib/python3.8/site-packages (1.4.1)\n",
      "Collecting scipy\n",
      "  Downloading scipy-1.8.0-cp38-cp38-macosx_12_0_universal2.macosx_10_9_x86_64.whl (55.3 MB)\n",
      "\u001b[2K     \u001b[90m━━━━━━━━━━━━━━━━━━━━━━━━━━━━━━━━━━━━━━━━\u001b[0m \u001b[32m55.3/55.3 MB\u001b[0m \u001b[31m19.2 MB/s\u001b[0m eta \u001b[36m0:00:00\u001b[0m00:01\u001b[0m00:01\u001b[0m\n",
      "\u001b[?25hRequirement already satisfied: matplotlib in /Library/Frameworks/Python.framework/Versions/3.8/lib/python3.8/site-packages (3.2.1)\n",
      "Collecting matplotlib\n",
      "  Downloading matplotlib-3.5.1-cp38-cp38-macosx_10_9_x86_64.whl (7.3 MB)\n",
      "\u001b[2K     \u001b[90m━━━━━━━━━━━━━━━━━━━━━━━━━━━━━━━━━━━━━━━━\u001b[0m \u001b[32m7.3/7.3 MB\u001b[0m \u001b[31m11.9 MB/s\u001b[0m eta \u001b[36m0:00:00\u001b[0m00:01\u001b[0m00:01\u001b[0m\n",
      "\u001b[?25hCollecting threadpoolctl>=2.0.0\n",
      "  Downloading threadpoolctl-3.1.0-py3-none-any.whl (14 kB)\n",
      "Requirement already satisfied: numpy>=1.14.6 in /Library/Frameworks/Python.framework/Versions/3.8/lib/python3.8/site-packages (from scikit-learn) (1.22.3)\n",
      "Collecting joblib>=0.11\n",
      "  Downloading joblib-1.1.0-py2.py3-none-any.whl (306 kB)\n",
      "\u001b[2K     \u001b[90m━━━━━━━━━━━━━━━━━━━━━━━━━━━━━━━━━━━━━━\u001b[0m \u001b[32m307.0/307.0 KB\u001b[0m \u001b[31m17.3 MB/s\u001b[0m eta \u001b[36m0:00:00\u001b[0m\n",
      "\u001b[?25hRequirement already satisfied: kiwisolver>=1.0.1 in /Library/Frameworks/Python.framework/Versions/3.8/lib/python3.8/site-packages (from matplotlib) (1.2.0)\n",
      "Requirement already satisfied: packaging>=20.0 in /Library/Frameworks/Python.framework/Versions/3.8/lib/python3.8/site-packages (from matplotlib) (20.4)\n",
      "Collecting pillow>=6.2.0\n",
      "  Downloading Pillow-9.1.0-cp38-cp38-macosx_10_9_x86_64.whl (3.1 MB)\n",
      "\u001b[2K     \u001b[90m━━━━━━━━━━━━━━━━━━━━━━━━━━━━━━━━━━━━━━━━\u001b[0m \u001b[32m3.1/3.1 MB\u001b[0m \u001b[31m19.9 MB/s\u001b[0m eta \u001b[36m0:00:00\u001b[0ma \u001b[36m0:00:01\u001b[0m\n",
      "\u001b[?25hRequirement already satisfied: cycler>=0.10 in /Library/Frameworks/Python.framework/Versions/3.8/lib/python3.8/site-packages (from matplotlib) (0.10.0)\n",
      "Collecting fonttools>=4.22.0\n",
      "  Downloading fonttools-4.33.3-py3-none-any.whl (930 kB)\n",
      "\u001b[2K     \u001b[90m━━━━━━━━━━━━━━━━━━━━━━━━━━━━━━━━━━━━━━\u001b[0m \u001b[32m930.9/930.9 KB\u001b[0m \u001b[31m16.8 MB/s\u001b[0m eta \u001b[36m0:00:00\u001b[0ma \u001b[36m0:00:01\u001b[0m\n",
      "\u001b[?25hRequirement already satisfied: python-dateutil>=2.7 in /Library/Frameworks/Python.framework/Versions/3.8/lib/python3.8/site-packages (from matplotlib) (2.8.1)\n",
      "Requirement already satisfied: pyparsing>=2.2.1 in /Library/Frameworks/Python.framework/Versions/3.8/lib/python3.8/site-packages (from matplotlib) (2.4.7)\n",
      "Requirement already satisfied: six in /Library/Frameworks/Python.framework/Versions/3.8/lib/python3.8/site-packages (from cycler>=0.10->matplotlib) (1.14.0)\n",
      "Installing collected packages: threadpoolctl, scipy, pillow, joblib, fonttools, scikit-learn, matplotlib\n",
      "  Attempting uninstall: scipy\n",
      "    Found existing installation: scipy 1.4.1\n",
      "    Uninstalling scipy-1.4.1:\n",
      "      Successfully uninstalled scipy-1.4.1\n",
      "  Attempting uninstall: matplotlib\n",
      "    Found existing installation: matplotlib 3.2.1\n",
      "    Uninstalling matplotlib-3.2.1:\n",
      "      Successfully uninstalled matplotlib-3.2.1\n",
      "Successfully installed fonttools-4.33.3 joblib-1.1.0 matplotlib-3.5.1 pillow-9.1.0 scikit-learn-1.0.2 scipy-1.8.0 threadpoolctl-3.1.0\n",
      "Note: you may need to restart the kernel to use updated packages.\n"
     ]
    }
   ],
   "source": [
    "pip install -U scikit-learn scipy matplotlib"
   ]
  },
  {
   "cell_type": "code",
   "execution_count": 22,
   "metadata": {},
   "outputs": [],
   "source": [
    "import os\n",
    "from joblib import dump, load\n",
    "import numpy as np\n",
    "import pandas as pd"
   ]
  },
  {
   "cell_type": "markdown",
   "metadata": {},
   "source": [
    "#### Load model_fit file"
   ]
  },
  {
   "cell_type": "code",
   "execution_count": 2,
   "metadata": {},
   "outputs": [],
   "source": [
    "input_dir = os.path.join('..', 'data', 'processed')\n",
    "lin_model = load(os.path.join(input_dir, 'lin_model_2.pkl'))"
   ]
  },
  {
   "cell_type": "code",
   "execution_count": 3,
   "metadata": {},
   "outputs": [
    {
     "name": "stdout",
     "output_type": "stream",
     "text": [
      "LinearRegression()\n"
     ]
    }
   ],
   "source": [
    "print(lin_model)"
   ]
  },
  {
   "cell_type": "markdown",
   "metadata": {},
   "source": [
    "#### Load in test and train datasets from model training step"
   ]
  },
  {
   "cell_type": "code",
   "execution_count": 8,
   "metadata": {},
   "outputs": [],
   "source": [
    "X_train = np.load(os.path.join(input_dir, 'X_train.npy'))\n",
    "X_test = np.load(os.path.join(input_dir, 'X_test.npy'))\n",
    "y_train = np.load(os.path.join(input_dir, 'Y_train.npy'))\n",
    "y_test = np.load(os.path.join(input_dir, 'y_test.npy'))"
   ]
  },
  {
   "cell_type": "code",
   "execution_count": 14,
   "metadata": {},
   "outputs": [],
   "source": [
    "# Predict on the test data \n",
    "y_pred_lin = lin_model.predict(X_test)"
   ]
  },
  {
   "cell_type": "code",
   "execution_count": 25,
   "metadata": {},
   "outputs": [
    {
     "data": {
      "text/html": [
       "<div>\n",
       "<style scoped>\n",
       "    .dataframe tbody tr th:only-of-type {\n",
       "        vertical-align: middle;\n",
       "    }\n",
       "\n",
       "    .dataframe tbody tr th {\n",
       "        vertical-align: top;\n",
       "    }\n",
       "\n",
       "    .dataframe thead th {\n",
       "        text-align: right;\n",
       "    }\n",
       "</style>\n",
       "<table border=\"1\" class=\"dataframe\">\n",
       "  <thead>\n",
       "    <tr style=\"text-align: right;\">\n",
       "      <th></th>\n",
       "      <th>Actual</th>\n",
       "      <th>Predicted</th>\n",
       "    </tr>\n",
       "  </thead>\n",
       "  <tbody>\n",
       "    <tr>\n",
       "      <th>0</th>\n",
       "      <td>-0.011143</td>\n",
       "      <td>0.017332</td>\n",
       "    </tr>\n",
       "    <tr>\n",
       "      <th>1</th>\n",
       "      <td>0.035763</td>\n",
       "      <td>0.000749</td>\n",
       "    </tr>\n",
       "    <tr>\n",
       "      <th>2</th>\n",
       "      <td>0.005074</td>\n",
       "      <td>0.004527</td>\n",
       "    </tr>\n",
       "    <tr>\n",
       "      <th>3</th>\n",
       "      <td>0.013494</td>\n",
       "      <td>0.007075</td>\n",
       "    </tr>\n",
       "    <tr>\n",
       "      <th>4</th>\n",
       "      <td>0.006932</td>\n",
       "      <td>0.011190</td>\n",
       "    </tr>\n",
       "    <tr>\n",
       "      <th>5</th>\n",
       "      <td>0.023854</td>\n",
       "      <td>0.020851</td>\n",
       "    </tr>\n",
       "    <tr>\n",
       "      <th>6</th>\n",
       "      <td>0.023928</td>\n",
       "      <td>0.013931</td>\n",
       "    </tr>\n",
       "    <tr>\n",
       "      <th>7</th>\n",
       "      <td>0.021072</td>\n",
       "      <td>0.012101</td>\n",
       "    </tr>\n",
       "    <tr>\n",
       "      <th>8</th>\n",
       "      <td>0.004868</td>\n",
       "      <td>0.015350</td>\n",
       "    </tr>\n",
       "    <tr>\n",
       "      <th>9</th>\n",
       "      <td>0.002663</td>\n",
       "      <td>0.004696</td>\n",
       "    </tr>\n",
       "    <tr>\n",
       "      <th>10</th>\n",
       "      <td>0.045627</td>\n",
       "      <td>0.005491</td>\n",
       "    </tr>\n",
       "    <tr>\n",
       "      <th>11</th>\n",
       "      <td>0.018841</td>\n",
       "      <td>0.007240</td>\n",
       "    </tr>\n",
       "    <tr>\n",
       "      <th>12</th>\n",
       "      <td>0.000425</td>\n",
       "      <td>0.001456</td>\n",
       "    </tr>\n",
       "    <tr>\n",
       "      <th>13</th>\n",
       "      <td>0.011201</td>\n",
       "      <td>0.019340</td>\n",
       "    </tr>\n",
       "    <tr>\n",
       "      <th>14</th>\n",
       "      <td>0.049718</td>\n",
       "      <td>0.017482</td>\n",
       "    </tr>\n",
       "    <tr>\n",
       "      <th>15</th>\n",
       "      <td>0.002139</td>\n",
       "      <td>0.005770</td>\n",
       "    </tr>\n",
       "    <tr>\n",
       "      <th>16</th>\n",
       "      <td>-0.005677</td>\n",
       "      <td>0.014697</td>\n",
       "    </tr>\n",
       "    <tr>\n",
       "      <th>17</th>\n",
       "      <td>-0.017719</td>\n",
       "      <td>0.005121</td>\n",
       "    </tr>\n",
       "    <tr>\n",
       "      <th>18</th>\n",
       "      <td>0.018860</td>\n",
       "      <td>0.006635</td>\n",
       "    </tr>\n",
       "    <tr>\n",
       "      <th>19</th>\n",
       "      <td>0.015714</td>\n",
       "      <td>0.002132</td>\n",
       "    </tr>\n",
       "    <tr>\n",
       "      <th>20</th>\n",
       "      <td>0.010826</td>\n",
       "      <td>0.005023</td>\n",
       "    </tr>\n",
       "    <tr>\n",
       "      <th>21</th>\n",
       "      <td>-0.011003</td>\n",
       "      <td>0.002308</td>\n",
       "    </tr>\n",
       "    <tr>\n",
       "      <th>22</th>\n",
       "      <td>0.031644</td>\n",
       "      <td>0.002767</td>\n",
       "    </tr>\n",
       "    <tr>\n",
       "      <th>23</th>\n",
       "      <td>-0.026040</td>\n",
       "      <td>0.002576</td>\n",
       "    </tr>\n",
       "  </tbody>\n",
       "</table>\n",
       "</div>"
      ],
      "text/plain": [
       "      Actual  Predicted\n",
       "0  -0.011143   0.017332\n",
       "1   0.035763   0.000749\n",
       "2   0.005074   0.004527\n",
       "3   0.013494   0.007075\n",
       "4   0.006932   0.011190\n",
       "5   0.023854   0.020851\n",
       "6   0.023928   0.013931\n",
       "7   0.021072   0.012101\n",
       "8   0.004868   0.015350\n",
       "9   0.002663   0.004696\n",
       "10  0.045627   0.005491\n",
       "11  0.018841   0.007240\n",
       "12  0.000425   0.001456\n",
       "13  0.011201   0.019340\n",
       "14  0.049718   0.017482\n",
       "15  0.002139   0.005770\n",
       "16 -0.005677   0.014697\n",
       "17 -0.017719   0.005121\n",
       "18  0.018860   0.006635\n",
       "19  0.015714   0.002132\n",
       "20  0.010826   0.005023\n",
       "21 -0.011003   0.002308\n",
       "22  0.031644   0.002767\n",
       "23 -0.026040   0.002576"
      ]
     },
     "execution_count": 25,
     "metadata": {},
     "output_type": "execute_result"
    }
   ],
   "source": [
    "lin_df = pd.DataFrame({'Actual': y_test, 'Predicted': y_pred_lin})\n",
    "lin_df"
   ]
  },
  {
   "cell_type": "markdown",
   "metadata": {},
   "source": [
    "#### Compute fit statistics"
   ]
  },
  {
   "cell_type": "markdown",
   "metadata": {},
   "source": [
    "(a) Bias := $\\sum (\\hat{y_i} - y_i) $"
   ]
  },
  {
   "cell_type": "code",
   "execution_count": null,
   "metadata": {},
   "outputs": [],
   "source": []
  },
  {
   "cell_type": "markdown",
   "metadata": {},
   "source": [
    "(b) Mean Absolute Error := $\\frac{1}{n} \\sum |\\hat{y_i} - y_i|$"
   ]
  },
  {
   "cell_type": "code",
   "execution_count": 11,
   "metadata": {},
   "outputs": [],
   "source": [
    "# Import mean_absolute_error, mean_squared_error from sklearn\n",
    "from sklearn.metrics import mean_absolute_error, mean_squared_error"
   ]
  },
  {
   "cell_type": "code",
   "execution_count": 18,
   "metadata": {},
   "outputs": [
    {
     "name": "stdout",
     "output_type": "stream",
     "text": [
      "MAE of Linear Regression: 0.014649815852365763\n"
     ]
    }
   ],
   "source": [
    "# Compare MAE of the models\n",
    "mae_lin = mean_absolute_error(y_test, y_pred_lin)\n",
    "print(\"MAE of Linear Regression: {}\".format(mae_lin))\n",
    "# rmse_forest = np.sqrt(mean_squared_error(y_test, y_pred_forest))\n",
    "# print(\"RMSE of Random Forest: {}\".format(rmse_forest))"
   ]
  },
  {
   "cell_type": "markdown",
   "metadata": {},
   "source": [
    "(c) Mean Square Error := $\\frac{1}{n} \\sum (\\hat{y_i} - y_i)^2$"
   ]
  },
  {
   "cell_type": "code",
   "execution_count": 19,
   "metadata": {},
   "outputs": [
    {
     "name": "stdout",
     "output_type": "stream",
     "text": [
      "RMSE of Linear Regression: 0.018707422606678542\n"
     ]
    }
   ],
   "source": [
    "# Compare RMSE of the models\n",
    "rmse_lin = np.sqrt(mean_squared_error(y_test, y_pred_lin))\n",
    "print(\"RMSE of Linear Regression: {}\".format(rmse_lin))\n",
    "# rmse_forest = np.sqrt(mean_squared_error(y_test, y_pred_forest))\n",
    "# print(\"RMSE of Random Forest: {}\".format(rmse_forest))"
   ]
  },
  {
   "cell_type": "markdown",
   "metadata": {},
   "source": [
    "(d) R squared := $1 - \\frac{RSS}{TSS}$ := $1- \\frac{\\sum (\\hat{y_i}-y_i)^2}{\\sum (y_i - \\mu)^2}$"
   ]
  },
  {
   "cell_type": "code",
   "execution_count": 10,
   "metadata": {},
   "outputs": [
    {
     "name": "stdout",
     "output_type": "stream",
     "text": [
      "R^2 of Linear Regression: -0.03445705421152834\n"
     ]
    }
   ],
   "source": [
    "# Compare R^2 of the models\n",
    "print(\"R^2 of Linear Regression: {}\".format(lin_model.score(X_test, y_test)))\n",
    "# print(\"R^2 of Random Forest: {}\".format(reg_forest.score(X_test, y_test)))"
   ]
  },
  {
   "cell_type": "markdown",
   "metadata": {},
   "source": [
    "#### Partial dependence plots"
   ]
  },
  {
   "cell_type": "code",
   "execution_count": 26,
   "metadata": {},
   "outputs": [],
   "source": [
    "import matplotlib.pyplot as plt"
   ]
  },
  {
   "cell_type": "code",
   "execution_count": 35,
   "metadata": {},
   "outputs": [
    {
     "ename": "ValueError",
     "evalue": "x and y must be the same size",
     "output_type": "error",
     "traceback": [
      "\u001b[0;31m---------------------------------------------------------------------------\u001b[0m",
      "\u001b[0;31mValueError\u001b[0m                                Traceback (most recent call last)",
      "\u001b[0;32m<ipython-input-35-29027169f929>\u001b[0m in \u001b[0;36m<module>\u001b[0;34m\u001b[0m\n\u001b[0;32m----> 1\u001b[0;31m \u001b[0mplt\u001b[0m\u001b[0;34m.\u001b[0m\u001b[0mscatter\u001b[0m\u001b[0;34m(\u001b[0m\u001b[0mX_test\u001b[0m\u001b[0;34m,\u001b[0m \u001b[0my_test\u001b[0m\u001b[0;34m,\u001b[0m \u001b[0mcolor\u001b[0m\u001b[0;34m=\u001b[0m\u001b[0;34m\"black\"\u001b[0m\u001b[0;34m)\u001b[0m\u001b[0;34m\u001b[0m\u001b[0;34m\u001b[0m\u001b[0m\n\u001b[0m\u001b[1;32m      2\u001b[0m \u001b[0mplt\u001b[0m\u001b[0;34m.\u001b[0m\u001b[0mplot\u001b[0m\u001b[0;34m(\u001b[0m\u001b[0mX_test\u001b[0m\u001b[0;34m,\u001b[0m\u001b[0my_pred_lin\u001b[0m\u001b[0;34m,\u001b[0m \u001b[0mcolor\u001b[0m\u001b[0;34m=\u001b[0m\u001b[0;34m\"blue\"\u001b[0m\u001b[0;34m,\u001b[0m \u001b[0mlinewidth\u001b[0m\u001b[0;34m=\u001b[0m\u001b[0;36m3\u001b[0m\u001b[0;34m)\u001b[0m\u001b[0;34m\u001b[0m\u001b[0;34m\u001b[0m\u001b[0m\n\u001b[1;32m      3\u001b[0m \u001b[0;34m\u001b[0m\u001b[0m\n\u001b[1;32m      4\u001b[0m \u001b[0mplt\u001b[0m\u001b[0;34m.\u001b[0m\u001b[0mxticks\u001b[0m\u001b[0;34m(\u001b[0m\u001b[0;34m(\u001b[0m\u001b[0;34m)\u001b[0m\u001b[0;34m)\u001b[0m\u001b[0;34m\u001b[0m\u001b[0;34m\u001b[0m\u001b[0m\n\u001b[1;32m      5\u001b[0m \u001b[0mplt\u001b[0m\u001b[0;34m.\u001b[0m\u001b[0myticks\u001b[0m\u001b[0;34m(\u001b[0m\u001b[0;34m(\u001b[0m\u001b[0;34m)\u001b[0m\u001b[0;34m)\u001b[0m\u001b[0;34m\u001b[0m\u001b[0;34m\u001b[0m\u001b[0m\n",
      "\u001b[0;32m/Library/Frameworks/Python.framework/Versions/3.8/lib/python3.8/site-packages/matplotlib/pyplot.py\u001b[0m in \u001b[0;36mscatter\u001b[0;34m(x, y, s, c, marker, cmap, norm, vmin, vmax, alpha, linewidths, edgecolors, plotnonfinite, data, **kwargs)\u001b[0m\n\u001b[1;32m   2805\u001b[0m         \u001b[0mvmin\u001b[0m\u001b[0;34m=\u001b[0m\u001b[0;32mNone\u001b[0m\u001b[0;34m,\u001b[0m \u001b[0mvmax\u001b[0m\u001b[0;34m=\u001b[0m\u001b[0;32mNone\u001b[0m\u001b[0;34m,\u001b[0m \u001b[0malpha\u001b[0m\u001b[0;34m=\u001b[0m\u001b[0;32mNone\u001b[0m\u001b[0;34m,\u001b[0m \u001b[0mlinewidths\u001b[0m\u001b[0;34m=\u001b[0m\u001b[0;32mNone\u001b[0m\u001b[0;34m,\u001b[0m \u001b[0;34m*\u001b[0m\u001b[0;34m,\u001b[0m\u001b[0;34m\u001b[0m\u001b[0;34m\u001b[0m\u001b[0m\n\u001b[1;32m   2806\u001b[0m         edgecolors=None, plotnonfinite=False, data=None, **kwargs):\n\u001b[0;32m-> 2807\u001b[0;31m     __ret = gca().scatter(\n\u001b[0m\u001b[1;32m   2808\u001b[0m         \u001b[0mx\u001b[0m\u001b[0;34m,\u001b[0m \u001b[0my\u001b[0m\u001b[0;34m,\u001b[0m \u001b[0ms\u001b[0m\u001b[0;34m=\u001b[0m\u001b[0ms\u001b[0m\u001b[0;34m,\u001b[0m \u001b[0mc\u001b[0m\u001b[0;34m=\u001b[0m\u001b[0mc\u001b[0m\u001b[0;34m,\u001b[0m \u001b[0mmarker\u001b[0m\u001b[0;34m=\u001b[0m\u001b[0mmarker\u001b[0m\u001b[0;34m,\u001b[0m \u001b[0mcmap\u001b[0m\u001b[0;34m=\u001b[0m\u001b[0mcmap\u001b[0m\u001b[0;34m,\u001b[0m \u001b[0mnorm\u001b[0m\u001b[0;34m=\u001b[0m\u001b[0mnorm\u001b[0m\u001b[0;34m,\u001b[0m\u001b[0;34m\u001b[0m\u001b[0;34m\u001b[0m\u001b[0m\n\u001b[1;32m   2809\u001b[0m         \u001b[0mvmin\u001b[0m\u001b[0;34m=\u001b[0m\u001b[0mvmin\u001b[0m\u001b[0;34m,\u001b[0m \u001b[0mvmax\u001b[0m\u001b[0;34m=\u001b[0m\u001b[0mvmax\u001b[0m\u001b[0;34m,\u001b[0m \u001b[0malpha\u001b[0m\u001b[0;34m=\u001b[0m\u001b[0malpha\u001b[0m\u001b[0;34m,\u001b[0m \u001b[0mlinewidths\u001b[0m\u001b[0;34m=\u001b[0m\u001b[0mlinewidths\u001b[0m\u001b[0;34m,\u001b[0m\u001b[0;34m\u001b[0m\u001b[0;34m\u001b[0m\u001b[0m\n",
      "\u001b[0;32m/Library/Frameworks/Python.framework/Versions/3.8/lib/python3.8/site-packages/matplotlib/__init__.py\u001b[0m in \u001b[0;36minner\u001b[0;34m(ax, data, *args, **kwargs)\u001b[0m\n\u001b[1;32m   1410\u001b[0m     \u001b[0;32mdef\u001b[0m \u001b[0minner\u001b[0m\u001b[0;34m(\u001b[0m\u001b[0max\u001b[0m\u001b[0;34m,\u001b[0m \u001b[0;34m*\u001b[0m\u001b[0margs\u001b[0m\u001b[0;34m,\u001b[0m \u001b[0mdata\u001b[0m\u001b[0;34m=\u001b[0m\u001b[0;32mNone\u001b[0m\u001b[0;34m,\u001b[0m \u001b[0;34m**\u001b[0m\u001b[0mkwargs\u001b[0m\u001b[0;34m)\u001b[0m\u001b[0;34m:\u001b[0m\u001b[0;34m\u001b[0m\u001b[0;34m\u001b[0m\u001b[0m\n\u001b[1;32m   1411\u001b[0m         \u001b[0;32mif\u001b[0m \u001b[0mdata\u001b[0m \u001b[0;32mis\u001b[0m \u001b[0;32mNone\u001b[0m\u001b[0;34m:\u001b[0m\u001b[0;34m\u001b[0m\u001b[0;34m\u001b[0m\u001b[0m\n\u001b[0;32m-> 1412\u001b[0;31m             \u001b[0;32mreturn\u001b[0m \u001b[0mfunc\u001b[0m\u001b[0;34m(\u001b[0m\u001b[0max\u001b[0m\u001b[0;34m,\u001b[0m \u001b[0;34m*\u001b[0m\u001b[0mmap\u001b[0m\u001b[0;34m(\u001b[0m\u001b[0msanitize_sequence\u001b[0m\u001b[0;34m,\u001b[0m \u001b[0margs\u001b[0m\u001b[0;34m)\u001b[0m\u001b[0;34m,\u001b[0m \u001b[0;34m**\u001b[0m\u001b[0mkwargs\u001b[0m\u001b[0;34m)\u001b[0m\u001b[0;34m\u001b[0m\u001b[0;34m\u001b[0m\u001b[0m\n\u001b[0m\u001b[1;32m   1413\u001b[0m \u001b[0;34m\u001b[0m\u001b[0m\n\u001b[1;32m   1414\u001b[0m         \u001b[0mbound\u001b[0m \u001b[0;34m=\u001b[0m \u001b[0mnew_sig\u001b[0m\u001b[0;34m.\u001b[0m\u001b[0mbind\u001b[0m\u001b[0;34m(\u001b[0m\u001b[0max\u001b[0m\u001b[0;34m,\u001b[0m \u001b[0;34m*\u001b[0m\u001b[0margs\u001b[0m\u001b[0;34m,\u001b[0m \u001b[0;34m**\u001b[0m\u001b[0mkwargs\u001b[0m\u001b[0;34m)\u001b[0m\u001b[0;34m\u001b[0m\u001b[0;34m\u001b[0m\u001b[0m\n",
      "\u001b[0;32m/Library/Frameworks/Python.framework/Versions/3.8/lib/python3.8/site-packages/matplotlib/axes/_axes.py\u001b[0m in \u001b[0;36mscatter\u001b[0;34m(self, x, y, s, c, marker, cmap, norm, vmin, vmax, alpha, linewidths, edgecolors, plotnonfinite, **kwargs)\u001b[0m\n\u001b[1;32m   4367\u001b[0m         \u001b[0my\u001b[0m \u001b[0;34m=\u001b[0m \u001b[0mnp\u001b[0m\u001b[0;34m.\u001b[0m\u001b[0mma\u001b[0m\u001b[0;34m.\u001b[0m\u001b[0mravel\u001b[0m\u001b[0;34m(\u001b[0m\u001b[0my\u001b[0m\u001b[0;34m)\u001b[0m\u001b[0;34m\u001b[0m\u001b[0;34m\u001b[0m\u001b[0m\n\u001b[1;32m   4368\u001b[0m         \u001b[0;32mif\u001b[0m \u001b[0mx\u001b[0m\u001b[0;34m.\u001b[0m\u001b[0msize\u001b[0m \u001b[0;34m!=\u001b[0m \u001b[0my\u001b[0m\u001b[0;34m.\u001b[0m\u001b[0msize\u001b[0m\u001b[0;34m:\u001b[0m\u001b[0;34m\u001b[0m\u001b[0;34m\u001b[0m\u001b[0m\n\u001b[0;32m-> 4369\u001b[0;31m             \u001b[0;32mraise\u001b[0m \u001b[0mValueError\u001b[0m\u001b[0;34m(\u001b[0m\u001b[0;34m\"x and y must be the same size\"\u001b[0m\u001b[0;34m)\u001b[0m\u001b[0;34m\u001b[0m\u001b[0;34m\u001b[0m\u001b[0m\n\u001b[0m\u001b[1;32m   4370\u001b[0m \u001b[0;34m\u001b[0m\u001b[0m\n\u001b[1;32m   4371\u001b[0m         \u001b[0;32mif\u001b[0m \u001b[0ms\u001b[0m \u001b[0;32mis\u001b[0m \u001b[0;32mNone\u001b[0m\u001b[0;34m:\u001b[0m\u001b[0;34m\u001b[0m\u001b[0;34m\u001b[0m\u001b[0m\n",
      "\u001b[0;31mValueError\u001b[0m: x and y must be the same size"
     ]
    },
    {
     "data": {
      "image/png": "[encoded data removed]",
      "text/plain": [
       "<Figure size 432x288 with 1 Axes>"
      ]
     },
     "metadata": {
      "needs_background": "light"
     },
     "output_type": "display_data"
    }
   ],
   "source": [
    "plt.scatter(X_test, y_test, color=\"black\")\n",
    "plt.plot(X_test,y_pred_lin, color=\"blue\", linewidth=3)\n",
    "\n",
    "plt.xticks(())\n",
    "plt.yticks(())\n",
    "\n",
    "plt.show()"
   ]
  },
  {
   "cell_type": "code",
   "execution_count": 36,
   "metadata": {},
   "outputs": [
    {
     "data": {
      "text/plain": [
       "array([[-0.12167091,  0.03425728, -0.46347593],\n",
       "       [-0.37182311, -0.49096128, -0.46347593],\n",
       "       [-0.02814728, -0.14785136, -0.46347593],\n",
       "       [-0.19200573, -0.22481458, -0.46347593],\n",
       "       [ 0.33496566,  0.26786651, -0.46347593],\n",
       "       [-0.16685894,  0.06913453, -0.46347593],\n",
       "       [-0.17501011, -0.07503532, -0.46347593],\n",
       "       [ 0.25030352,  0.2279852 , -0.25162233],\n",
       "       [-0.17153832,  0.03969957,  1.76768688],\n",
       "       [-0.01177919, -0.13173164, -0.46347593],\n",
       "       [-0.0223822 , -0.12415562, -0.46347593],\n",
       "       [-0.13820243, -0.17959387, -0.46347593],\n",
       "       [-0.28575305, -0.40980539, -0.46347593],\n",
       "       [-0.16494757,  0.04051892, -0.46347593],\n",
       "       [-0.20940609, -0.02971203, -0.42589374],\n",
       "       [-0.15965426, -0.16073739,  1.26396701],\n",
       "       [-0.19034997, -0.06809987, -0.36666225],\n",
       "       [ 0.09213747, -0.04225714, -0.46347593],\n",
       "       [ 0.08122651, -0.02061288, -0.46347593],\n",
       "       [-0.16322496, -0.30083079, -0.46347593],\n",
       "       [ 0.17848791,  0.02309858, -0.46347593],\n",
       "       [-0.23929066, -0.35661126, -0.46347593],\n",
       "       [-0.04558241, -0.19648243, -0.46347593],\n",
       "       [-0.09717934, -0.24051464, -0.46347593]])"
      ]
     },
     "execution_count": 36,
     "metadata": {},
     "output_type": "execute_result"
    }
   ],
   "source": [
    "X_test"
   ]
  },
  {
   "cell_type": "code",
   "execution_count": 37,
   "metadata": {},
   "outputs": [
    {
     "data": {
      "text/plain": [
       "array([-0.01114266,  0.03576302,  0.00507351,  0.0134936 ,  0.00693174,\n",
       "        0.02385409,  0.0239278 ,  0.02107181,  0.00486842,  0.00266337,\n",
       "        0.04562736,  0.01884121,  0.00042494,  0.01120106,  0.04971815,\n",
       "        0.00213938, -0.00567732, -0.01771883,  0.01886048,  0.01571375,\n",
       "        0.01082631, -0.01100319,  0.03164391, -0.02604012])"
      ]
     },
     "execution_count": 37,
     "metadata": {},
     "output_type": "execute_result"
    }
   ],
   "source": [
    "y_test"
   ]
  },
  {
   "cell_type": "code",
   "execution_count": 40,
   "metadata": {},
   "outputs": [
    {
     "data": {
      "text/plain": [
       "array([[-1.69343978e-01, -2.85904218e-01, -4.63475933e-01],\n",
       "       [-1.65996428e-01,  7.70121467e-02,  1.01029646e-01],\n",
       "       [-1.25618730e-01,  1.36569105e-01,  3.00769415e+00],\n",
       "       [-1.71265601e-01, -9.29178827e-02, -4.63475933e-01],\n",
       "       [-1.75166842e-01, -2.02234202e-02, -4.63475933e-01],\n",
       "       [-1.05908755e-01, -8.59298673e-02,  7.86098343e-01],\n",
       "       [-1.96211100e-01, -2.07845584e-01, -4.63475933e-01],\n",
       "       [ 7.81646796e-02, -7.98710364e-02, -4.63475933e-01],\n",
       "       [-7.46122390e-02,  1.18423447e-01,  5.10623080e-01],\n",
       "       [-2.09839160e-01, -1.14563238e-01,  2.92552324e+00],\n",
       "       [-8.75980084e-02, -2.27431175e-01, -4.63475933e-01],\n",
       "       [-2.33651703e-01, -1.83200197e-01, -2.34530350e-01],\n",
       "       [-1.35986504e-01, -2.73726798e-01, -4.63475933e-01],\n",
       "       [-1.62354638e-01, -1.58976405e-02,  1.44639959e+00],\n",
       "       [-7.86826631e-03,  6.69743259e-02,  1.21451586e-01],\n",
       "       [-2.96710912e-01, -4.11631119e-01, -4.63475933e-01],\n",
       "       [-1.06257082e-01, -5.83262862e-02, -3.54089029e-01],\n",
       "       [-2.64321972e-01, -3.78433639e-01, -4.63475933e-01],\n",
       "       [-3.94525626e-02, -1.11876443e-01, -4.63475933e-01],\n",
       "       [-1.02577217e-01, -1.49927142e-02,  7.42431887e-01],\n",
       "       [ 1.05898909e+01,  1.05559807e+01, -4.63475933e-01],\n",
       "       [-1.58865779e-01, -6.02471191e-03,  2.48789626e+00],\n",
       "       [ 2.56557476e-01,  1.87969003e-01, -2.90398550e-01],\n",
       "       [-2.82000588e-02,  6.63907529e-02,  4.23854442e-01],\n",
       "       [-2.00000632e-01, -3.28307901e-01, -4.63475933e-01],\n",
       "       [-5.49917679e-02, -1.58891485e-01, -4.63475933e-01],\n",
       "       [-2.40847291e-01, -2.75525359e-01, -4.63475933e-01],\n",
       "       [-1.43411977e-01, -8.65039104e-02,  9.15114705e-01],\n",
       "       [-2.63997084e-01, -2.63385750e-01,  3.20640794e-01],\n",
       "       [-2.27029406e-01, -3.52261852e-01, -4.63475933e-01],\n",
       "       [-1.36640138e-01, -1.60187184e-01, -4.63475933e-01],\n",
       "       [ 2.72848935e-01,  9.38872381e-02, -4.63475933e-01],\n",
       "       [-3.56146818e-01, -4.59048654e-01, -4.63475933e-01],\n",
       "       [-1.31867197e-01, -1.84710955e-01, -4.63475933e-01],\n",
       "       [-1.95245618e-01,  2.57225807e-02, -4.28375120e-01],\n",
       "       [-7.78959168e-02,  8.70084508e-02, -4.63475933e-01],\n",
       "       [ 7.90207958e-02, -6.03071381e-02, -4.63475933e-01],\n",
       "       [ 3.02012213e-01,  1.12403806e-01, -4.63475933e-01],\n",
       "       [-2.16533444e-01, -2.00722110e-01,  4.91288615e-01],\n",
       "       [-2.16250206e-01, -1.50799618e-01,  5.83968418e-01],\n",
       "       [-1.60703926e-01,  2.81856909e-02, -4.28859617e-01],\n",
       "       [-2.37935102e-01, -1.97659057e-01, -3.39543372e-01],\n",
       "       [-8.86681161e-02,  1.36612493e-01,  5.10861514e-01],\n",
       "       [-2.03636400e-01, -3.05366237e-01, -4.63475933e-01],\n",
       "       [-2.56355312e-01, -9.67074080e-02, -4.63475933e-01],\n",
       "       [-4.78085176e-02, -1.26215658e-01, -4.63475933e-01],\n",
       "       [-9.09685995e-02, -9.02840720e-02,  1.51095647e+00],\n",
       "       [-1.42878389e-01,  1.89190191e-02, -4.55124566e-01],\n",
       "       [ 2.94454196e-01,  1.02151563e-01, -4.63475933e-01],\n",
       "       [-1.37430742e-01, -1.57576033e-01, -4.38011401e-01],\n",
       "       [ 2.76809356e-01,  1.79953515e-01, -4.63475933e-01],\n",
       "       [-1.87746975e-01, -9.80078964e-02, -4.63475933e-01],\n",
       "       [-1.91183620e-01, -9.86956473e-02,  3.83355317e-01],\n",
       "       [-2.88470422e-02, -1.38905175e-01, -4.63475933e-01],\n",
       "       [-8.09661373e-04, -1.45228528e-01, -4.63475933e-01],\n",
       "       [-2.14810197e-01, -2.96837328e-01, -4.33956378e-01],\n",
       "       [-1.62841951e-01, -2.37757328e-02, -2.27153349e-01],\n",
       "       [-2.56521372e-01, -1.35860528e-01, -4.63475933e-01],\n",
       "       [-1.52071462e-01, -2.16477147e-01, -4.63475933e-01],\n",
       "       [-4.69622135e-02, -1.47056840e-01, -4.63475933e-01],\n",
       "       [-1.61431703e-01, -2.36295103e-01,  1.03350188e+00],\n",
       "       [-1.24175842e-01, -6.71139510e-03,  6.43592925e-01],\n",
       "       [-1.40117693e-01, -5.50719697e-02,  3.93159290e-01],\n",
       "       [ 2.02691526e-01,  1.71738577e-01, -4.63475933e-01],\n",
       "       [ 4.80510788e-02, -8.61731448e-02, -4.63475933e-01],\n",
       "       [ 2.04329533e-01,  4.50780781e-01, -4.63475933e-01],\n",
       "       [-1.91301604e-01, -3.18378796e-01, -4.63475933e-01],\n",
       "       [ 2.67650355e-02, -1.13644483e-01, -4.63475933e-01],\n",
       "       [-4.88769717e-02,  4.29541232e-02, -4.63475933e-01],\n",
       "       [-2.32921006e-01,  2.77553846e-03, -2.29492845e-01],\n",
       "       [-1.32046416e-01, -6.23379625e-02,  8.95697331e-01],\n",
       "       [-1.37506866e-01, -2.01475823e-01, -4.63475933e-01],\n",
       "       [ 4.46154697e-02,  3.62677690e-01,  2.42923666e+00],\n",
       "       [-2.29079030e-01, -3.16750616e-01, -4.63475933e-01],\n",
       "       [-1.92990982e-01, -2.37615380e-01, -4.63475933e-01],\n",
       "       [-5.99611180e-02, -7.07453275e-02, -4.63475933e-01],\n",
       "       [-8.99737414e-02, -1.43424058e-02, -4.63475933e-01],\n",
       "       [-1.97382022e-01, -3.11440865e-01, -4.63475933e-01],\n",
       "       [-1.85853621e-01,  3.46914919e-01,  6.48871206e+00],\n",
       "       [-1.54383787e-01, -2.17874945e-01, -3.33594716e-01],\n",
       "       [-1.48120723e-01, -2.73142833e-01, -4.63475933e-01],\n",
       "       [ 3.31678633e-01,  1.89851476e-01, -4.63475933e-01],\n",
       "       [-4.50525652e-02, -1.76912378e-01, -4.63475933e-01],\n",
       "       [-1.40970295e-01,  4.29716814e-02,  1.13112684e+00],\n",
       "       [ 4.44338564e-01,  2.57549161e-01, -4.16448819e-02],\n",
       "       [ 2.21021538e-01,  3.64021851e-02, -4.63475933e-01],\n",
       "       [-2.19081740e-01, -3.34831280e-01, -4.63475933e-01],\n",
       "       [-7.87985628e-02, -1.59165803e-01,  3.69785761e-01],\n",
       "       [-1.17932681e-01, -5.54793011e-02,  1.81704552e+00],\n",
       "       [-1.95677447e-01, -2.79770627e-01, -4.63475933e-01],\n",
       "       [-1.88051660e-01, -2.98228262e-01, -4.63475933e-01],\n",
       "       [-1.57031747e-01, -5.10431869e-02,  2.68304351e+00]])"
      ]
     },
     "execution_count": 40,
     "metadata": {},
     "output_type": "execute_result"
    }
   ],
   "source": [
    "X_train"
   ]
  },
  {
   "cell_type": "code",
   "execution_count": 41,
   "metadata": {},
   "outputs": [
    {
     "data": {
      "text/plain": [
       "array([-0.03416866,  0.00282226,  0.00802667,  0.01898949, -0.00115089,\n",
       "       -0.00585645,  0.01926142, -0.08323259,  0.00918286,  0.01056196,\n",
       "       -0.01120898, -0.01284825, -0.02440359, -0.01753855,  0.00261526,\n",
       "        0.00320057,  0.01324831,  0.00280169, -0.00445395,  0.00914361,\n",
       "        0.11471146,  0.00261659,  0.0114677 ,  0.03150316, -0.00277388,\n",
       "       -0.01451882,  0.01932547,  0.0224298 ,  0.02713702,  0.02838264,\n",
       "        0.0107673 ,  0.00445981, -0.02658048,  0.01361626,  0.02789873,\n",
       "        0.01315932,  0.01372656, -0.05660601,  0.00716223,  0.00461677,\n",
       "        0.01296707,  0.046154  , -0.00410798, -0.02142341,  0.0296849 ,\n",
       "        0.01556336,  0.02034431,  0.01317397, -0.00013197,  0.01073645,\n",
       "        0.02640134, -0.00601328,  0.02094803, -0.00445634,  0.02572893,\n",
       "        0.0352473 ,  0.0078961 , -0.02029348,  0.00393277,  0.01477046,\n",
       "        0.02947542,  0.00091622,  0.03081215,  0.0007616 , -0.00621125,\n",
       "        0.06792122, -0.00112131,  0.00657209,  0.0392824 ,  0.01829193,\n",
       "        0.01448253,  0.02021458,  0.02565113,  0.00894003,  0.04181957,\n",
       "       -0.00959371,  0.02327803, -0.00486802,  0.00964248, -0.02859675,\n",
       "       -0.05501284, -0.00541747, -0.0333289 ,  0.03241809, -0.00099435,\n",
       "        0.0073241 , -0.04544589,  0.01049249,  0.04831679, -0.00173006,\n",
       "       -0.06479271,  0.00802811])"
      ]
     },
     "execution_count": 41,
     "metadata": {},
     "output_type": "execute_result"
    }
   ],
   "source": [
    "y_train"
   ]
  }
 ],
 "metadata": {
  "kernelspec": {
   "display_name": "Python 3",
   "language": "python",
   "name": "python3"
  },
  "language_info": {
   "codemirror_mode": {
    "name": "ipython",
    "version": 3
   },
   "file_extension": ".py",
   "mimetype": "text/x-python",
   "name": "python",
   "nbconvert_exporter": "python",
   "pygments_lexer": "ipython3",
   "version": "3.8.5"
  }
 },
 "nbformat": 4,
 "nbformat_minor": 5
}

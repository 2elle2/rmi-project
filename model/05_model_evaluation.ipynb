{
 "cells": [
  {
   "cell_type": "markdown",
   "id": "5ec0c074",
   "metadata": {},
   "source": [
    "## 05 Model Evaluation"
   ]
  },
  {
   "cell_type": "markdown",
   "id": "021bc0ce",
   "metadata": {},
   "source": [
    "#### Import relevant libraries"
   ]
  },
  {
   "cell_type": "code",
   "execution_count": 1,
   "id": "dc3f610a",
   "metadata": {},
   "outputs": [],
   "source": [
    "import os\n",
    "import numpy as np\n",
    "import pandas as pd\n",
    "from joblib import dump, load\n",
    "\n",
    "import matplotlib.pyplot as plt\n",
    "%matplotlib inline"
   ]
  },
  {
   "cell_type": "code",
   "execution_count": 2,
   "id": "983d35d3",
   "metadata": {},
   "outputs": [],
   "source": [
    "# Import mean_absolute_error, mean_squared_error from sklearn\n",
    "from sklearn.metrics import mean_absolute_error, mean_squared_error, r2_score"
   ]
  },
  {
   "cell_type": "markdown",
   "id": "afd776a2",
   "metadata": {},
   "source": [
    "#### Load model_fit file"
   ]
  },
  {
   "cell_type": "code",
   "execution_count": 3,
   "id": "eb9c483d",
   "metadata": {},
   "outputs": [],
   "source": [
    "input_dir = os.path.join('..', 'data', 'processed')\n",
    "plots_dir = os.path.join('..', 'data', 'figures')\n",
    "lin_model = load(os.path.join(input_dir, 'lin_model_3.joblib'))\n",
    "rf_model = load(os.path.join(input_dir, 'forest_model_1.joblib'))\n",
    "nnet_model = load(os.path.join(input_dir, 'neural_model_1.joblib'))"
   ]
  },
  {
   "cell_type": "markdown",
   "id": "1b6230a5",
   "metadata": {},
   "source": [
    "#### Load in test and train data"
   ]
  },
  {
   "cell_type": "code",
   "execution_count": 4,
   "id": "08b600a2",
   "metadata": {},
   "outputs": [],
   "source": [
    "X_train = pd.read_csv(os.path.join(input_dir, 'X_train.csv'))\n",
    "X_test = pd.read_csv(os.path.join(input_dir, 'X_test.csv'))\n",
    "y_train = np.array(pd.read_csv(os.path.join(input_dir, 'y_train.csv'))['target'])\n",
    "y_test = np.array(pd.read_csv(os.path.join(input_dir, 'y_test.csv'))['target'])"
   ]
  },
  {
   "cell_type": "code",
   "execution_count": 5,
   "id": "20c3daee",
   "metadata": {},
   "outputs": [],
   "source": [
    "X_train = X_train.rename(columns={\n",
    "    'c09_other_wires': 'c09',\n",
    "    'c09_restructured': 'c09b',\n",
    "    'c09_vert_int': 'c09c',\n",
    "    \n",
    "})\n",
    "X_test = X_test.rename(columns={\n",
    "    'c09_other_wires': 'c09',\n",
    "    'c09_restructured': 'c09b',\n",
    "    'c09_vert_int': 'c09c',\n",
    "    \n",
    "})"
   ]
  },
  {
   "cell_type": "markdown",
   "id": "ffc06a6a",
   "metadata": {},
   "source": [
    "#### Predict on test set using trained models"
   ]
  },
  {
   "cell_type": "code",
   "execution_count": 6,
   "id": "0062d5e9",
   "metadata": {},
   "outputs": [
    {
     "name": "stderr",
     "output_type": "stream",
     "text": [
      "/home/julian/anaconda3/lib/python3.9/site-packages/sklearn/base.py:488: FutureWarning: The feature names should match those that were passed during fit. Starting version 1.2, an error will be raised.\n",
      "Feature names unseen at fit time:\n",
      "- c09\n",
      "- c09b\n",
      "- c09c\n",
      "Feature names seen at fit time, yet now missing:\n",
      "- c09_other_wires\n",
      "- c09_restructured\n",
      "- c09_vert_int\n",
      "\n",
      "  warnings.warn(message, FutureWarning)\n",
      "/home/julian/anaconda3/lib/python3.9/site-packages/sklearn/base.py:488: FutureWarning: The feature names should match those that were passed during fit. Starting version 1.2, an error will be raised.\n",
      "Feature names unseen at fit time:\n",
      "- c09\n",
      "- c09b\n",
      "- c09c\n",
      "Feature names seen at fit time, yet now missing:\n",
      "- c09_other_wires\n",
      "- c09_restructured\n",
      "- c09_vert_int\n",
      "\n",
      "  warnings.warn(message, FutureWarning)\n",
      "/home/julian/anaconda3/lib/python3.9/site-packages/sklearn/base.py:488: FutureWarning: The feature names should match those that were passed during fit. Starting version 1.2, an error will be raised.\n",
      "Feature names unseen at fit time:\n",
      "- c09\n",
      "- c09b\n",
      "- c09c\n",
      "Feature names seen at fit time, yet now missing:\n",
      "- c09_other_wires\n",
      "- c09_restructured\n",
      "- c09_vert_int\n",
      "\n",
      "  warnings.warn(message, FutureWarning)\n"
     ]
    }
   ],
   "source": [
    "y_pred_lin = lin_model.predict(X_test)\n",
    "y_pred_rf = rf_model.predict(X_test)\n",
    "y_pred_nnet = nnet_model.predict(X_test)"
   ]
  },
  {
   "cell_type": "code",
   "execution_count": 7,
   "id": "fe7a1e15",
   "metadata": {},
   "outputs": [
    {
     "data": {
      "image/png": "[encoded data removed]",
      "text/plain": [
       "<Figure size 432x288 with 1 Axes>"
      ]
     },
     "metadata": {
      "needs_background": "light"
     },
     "output_type": "display_data"
    }
   ],
   "source": [
    "lin_df = pd.DataFrame({'Actual': y_test, 'Predicted': y_pred_lin})\n",
    "\n",
    "fig, ax = plt.subplots()\n",
    "ax.scatter(y_pred_lin, y_test)\n",
    "lims = [\n",
    "    np.min([ax.get_xlim(), ax.get_ylim()]),  # min of both axes\n",
    "    np.max([ax.get_xlim(), ax.get_ylim()]),  # max of both axes\n",
    "]\n",
    "ax.plot(lims, lims, 'k-', alpha=0.75, zorder=0)\n",
    "ax.set_aspect('equal')\n",
    "ax.set_xlabel('Predicted')\n",
    "ax.set_ylabel('Actual')\n",
    "ax.set_title('Predicted vs Actual Normalized Cost of Energy')\n",
    "ax.set_xlim(lims)\n",
    "ax.set_ylim(lims)\n",
    "\n",
    "fig.savefig(os.path.join(plots_dir, 'lm_actual_vs_pred_scatter.png'), dpi=300)"
   ]
  },
  {
   "cell_type": "code",
   "execution_count": 8,
   "id": "f4e1dcd1",
   "metadata": {},
   "outputs": [
    {
     "data": {
      "image/png": "[encoded data removed]",
      "text/plain": [
       "<Figure size 432x288 with 1 Axes>"
      ]
     },
     "metadata": {
      "needs_background": "light"
     },
     "output_type": "display_data"
    }
   ],
   "source": [
    "lin_df = pd.DataFrame({'Actual': y_test, 'Predicted': y_pred_rf})\n",
    "\n",
    "fig, ax = plt.subplots()\n",
    "ax.scatter(y_pred_rf, y_test)\n",
    "lims = [\n",
    "    np.min([ax.get_xlim(), ax.get_ylim()]),  # min of both axes\n",
    "    np.max([ax.get_xlim(), ax.get_ylim()]),  # max of both axes\n",
    "]\n",
    "ax.plot(lims, lims, 'k-', alpha=0.75, zorder=0)\n",
    "ax.set_aspect('equal')\n",
    "ax.set_xlabel('Predicted')\n",
    "ax.set_ylabel('Actual')\n",
    "ax.set_title('Predicted vs Actual Normalized Cost of Energy')\n",
    "ax.set_xlim(lims)\n",
    "ax.set_ylim(lims)\n",
    "\n",
    "fig.savefig(os.path.join(plots_dir, 'rf_actual_vs_pred_scatter.png'), dpi=300)"
   ]
  },
  {
   "cell_type": "markdown",
   "id": "1c3cdb70",
   "metadata": {},
   "source": [
    "#### Compute fit statistics"
   ]
  },
  {
   "cell_type": "markdown",
   "id": "45605c7c",
   "metadata": {},
   "source": [
    "(a) Bias := $\\sum (\\hat{y_i} - y_i) $"
   ]
  },
  {
   "cell_type": "code",
   "execution_count": 9,
   "id": "4f00a04c",
   "metadata": {},
   "outputs": [
    {
     "name": "stdout",
     "output_type": "stream",
     "text": [
      "Bias of Linear Regression: 0.008616496534022612\n",
      "Bias of Random Forest: 0.09022174710548558\n"
     ]
    }
   ],
   "source": [
    "bias_lin = sum(y_pred_lin - y_test)\n",
    "bias_rf = sum(y_pred_rf - y_test)\n",
    "\n",
    "print(\"Bias of Linear Regression: {}\".format(bias_lin))\n",
    "print(\"Bias of Random Forest: {}\".format(bias_rf))"
   ]
  },
  {
   "cell_type": "markdown",
   "id": "db94bd22",
   "metadata": {},
   "source": [
    "(b) Mean Absolute Error := $\\frac{1}{n} \\sum |\\hat{y_i} - y_i|$"
   ]
  },
  {
   "cell_type": "code",
   "execution_count": 10,
   "id": "b5ec464f",
   "metadata": {},
   "outputs": [
    {
     "name": "stdout",
     "output_type": "stream",
     "text": [
      "MAE of Linear Regression: 0.012528023610104732\n",
      "MAE of Random Forest Model: 0.009766764961744029\n"
     ]
    }
   ],
   "source": [
    "mae_lin = mean_absolute_error(y_test, y_pred_lin)\n",
    "mae_rf = mean_absolute_error(y_test, y_pred_rf)\n",
    "\n",
    "print(\"MAE of Linear Regression: {}\".format(mae_lin))\n",
    "print(\"MAE of Random Forest Model: {}\".format(mae_rf))"
   ]
  },
  {
   "cell_type": "markdown",
   "id": "d7563520",
   "metadata": {},
   "source": [
    "(c) Root Mean Square Error := $\\sqrt{\\frac{1}{n} \\sum (\\hat{y_i} - y_i)^2}$"
   ]
  },
  {
   "cell_type": "code",
   "execution_count": 11,
   "id": "fc28f4d1",
   "metadata": {},
   "outputs": [
    {
     "name": "stdout",
     "output_type": "stream",
     "text": [
      "RMSE of Linear Regression: 0.0171803646022663\n",
      "RMSE of Random Forest: 0.01337897230712203\n"
     ]
    }
   ],
   "source": [
    "rmse_lin = np.sqrt(mean_squared_error(y_test, y_pred_lin))\n",
    "rmse_rf = np.sqrt(mean_squared_error(y_test, y_pred_rf))\n",
    "\n",
    "print(\"RMSE of Linear Regression: {}\".format(rmse_lin))\n",
    "print(\"RMSE of Random Forest: {}\".format(rmse_rf))"
   ]
  },
  {
   "cell_type": "markdown",
   "id": "0e942a4e",
   "metadata": {},
   "source": [
    "(d) R squared := $1 - \\frac{RSS}{TSS}$ := $1- \\frac{\\sum (\\hat{y_i}-y_i)^2}{\\sum (y_i - \\mu)^2}$"
   ]
  },
  {
   "cell_type": "code",
   "execution_count": 12,
   "id": "9bec0e10",
   "metadata": {},
   "outputs": [
    {
     "name": "stdout",
     "output_type": "stream",
     "text": [
      "R^2 of Linear Regression: -0.27700613526232676\n",
      "R^2 of Random Forest: 0.22558502753631327\n"
     ]
    }
   ],
   "source": [
    "r2_lin = r2_score(y_test, y_pred_lin)\n",
    "r2_rf = r2_score(y_test, y_pred_rf)\n",
    "\n",
    "print(\"R^2 of Linear Regression: {}\".format(r2_lin))\n",
    "print(\"R^2 of Random Forest: {}\".format(r2_rf))"
   ]
  },
  {
   "cell_type": "code",
   "execution_count": 13,
   "id": "a714b754",
   "metadata": {},
   "outputs": [
    {
     "name": "stdout",
     "output_type": "stream",
     "text": [
      "[0.33819844 0.02471854 0.29471404 0.1622484  0.05630196 0.01280448\n",
      " 0.02497056 0.0439977  0.02562598 0.00839059 0.0080293 ]\n"
     ]
    },
    {
     "data": {
      "image/png": "[encoded data removed]",
      "text/plain": [
       "<Figure size 432x288 with 1 Axes>"
      ]
     },
     "metadata": {
      "needs_background": "light"
     },
     "output_type": "display_data"
    }
   ],
   "source": [
    "print(rf_model.feature_importances_)\n",
    "variable_importance_df = pd.DataFrame({\n",
    "    'variable': np.array(['x01', 'x02', 'x03', 'x04', 'x05', 'x06', 'x07', 'x08', 'c09a', 'c09b', 'c09c']),\n",
    "    'values': rf_model.feature_importances_,\n",
    "})\n",
    "variable_importance_df = variable_importance_df.sort_values(by=['values'])\n",
    "plt.barh(variable_importance_df['variable'], variable_importance_df['values'])\n",
    "plt.savefig(os.path.join(plots_dir, 'rf_variable_importance_plot.png'), dpi=300)"
   ]
  },
  {
   "cell_type": "markdown",
   "id": "6da6c80f",
   "metadata": {},
   "source": [
    "#### Coefficient value estimates, p-values and std error for each feature variable"
   ]
  },
  {
   "cell_type": "code",
   "execution_count": 14,
   "id": "96a55ed6",
   "metadata": {},
   "outputs": [
    {
     "data": {
      "text/html": [
       "<div>\n",
       "<style scoped>\n",
       "    .dataframe tbody tr th:only-of-type {\n",
       "        vertical-align: middle;\n",
       "    }\n",
       "\n",
       "    .dataframe tbody tr th {\n",
       "        vertical-align: top;\n",
       "    }\n",
       "\n",
       "    .dataframe thead th {\n",
       "        text-align: right;\n",
       "    }\n",
       "</style>\n",
       "<table border=\"1\" class=\"dataframe\">\n",
       "  <thead>\n",
       "    <tr style=\"text-align: right;\">\n",
       "      <th></th>\n",
       "      <th>variables</th>\n",
       "      <th>coeff</th>\n",
       "    </tr>\n",
       "  </thead>\n",
       "  <tbody>\n",
       "    <tr>\n",
       "      <th>0</th>\n",
       "      <td>x01</td>\n",
       "      <td>-0.016083</td>\n",
       "    </tr>\n",
       "    <tr>\n",
       "      <th>1</th>\n",
       "      <td>x02</td>\n",
       "      <td>-0.001614</td>\n",
       "    </tr>\n",
       "    <tr>\n",
       "      <th>2</th>\n",
       "      <td>x03</td>\n",
       "      <td>-0.001044</td>\n",
       "    </tr>\n",
       "    <tr>\n",
       "      <th>3</th>\n",
       "      <td>x04</td>\n",
       "      <td>-0.003028</td>\n",
       "    </tr>\n",
       "    <tr>\n",
       "      <th>4</th>\n",
       "      <td>x05</td>\n",
       "      <td>0.004486</td>\n",
       "    </tr>\n",
       "    <tr>\n",
       "      <th>5</th>\n",
       "      <td>x06</td>\n",
       "      <td>-0.000215</td>\n",
       "    </tr>\n",
       "    <tr>\n",
       "      <th>6</th>\n",
       "      <td>x07</td>\n",
       "      <td>-0.000204</td>\n",
       "    </tr>\n",
       "    <tr>\n",
       "      <th>7</th>\n",
       "      <td>x08</td>\n",
       "      <td>-0.004187</td>\n",
       "    </tr>\n",
       "    <tr>\n",
       "      <th>8</th>\n",
       "      <td>c09</td>\n",
       "      <td>-0.025540</td>\n",
       "    </tr>\n",
       "    <tr>\n",
       "      <th>9</th>\n",
       "      <td>c09b</td>\n",
       "      <td>-0.008865</td>\n",
       "    </tr>\n",
       "    <tr>\n",
       "      <th>10</th>\n",
       "      <td>c09c</td>\n",
       "      <td>-0.034211</td>\n",
       "    </tr>\n",
       "  </tbody>\n",
       "</table>\n",
       "</div>"
      ],
      "text/plain": [
       "   variables     coeff\n",
       "0        x01 -0.016083\n",
       "1        x02 -0.001614\n",
       "2        x03 -0.001044\n",
       "3        x04 -0.003028\n",
       "4        x05  0.004486\n",
       "5        x06 -0.000215\n",
       "6        x07 -0.000204\n",
       "7        x08 -0.004187\n",
       "8        c09 -0.025540\n",
       "9       c09b -0.008865\n",
       "10      c09c -0.034211"
      ]
     },
     "execution_count": 14,
     "metadata": {},
     "output_type": "execute_result"
    }
   ],
   "source": [
    "results = pd.DataFrame({\n",
    "    'variables': X_train.columns,\n",
    "    'coeff': lin_model.coef_,\n",
    "})\n",
    "results"
   ]
  },
  {
   "cell_type": "markdown",
   "id": "f83573df",
   "metadata": {},
   "source": [
    "Train fit analysis from OLS statsmodel package"
   ]
  },
  {
   "cell_type": "code",
   "execution_count": 15,
   "id": "817b5d64",
   "metadata": {},
   "outputs": [],
   "source": [
    "import statsmodels.api as sm"
   ]
  },
  {
   "cell_type": "code",
   "execution_count": 16,
   "id": "49d25e6a",
   "metadata": {},
   "outputs": [
    {
     "name": "stderr",
     "output_type": "stream",
     "text": [
      "/home/julian/anaconda3/lib/python3.9/site-packages/statsmodels/tsa/tsatools.py:142: FutureWarning: In a future version of pandas all arguments of concat except for the argument 'objs' will be keyword-only\n",
      "  x = pd.concat(x[::order], 1)\n"
     ]
    },
    {
     "data": {
      "text/html": [
       "<table class=\"simpletable\">\n",
       "<caption>OLS Regression Results</caption>\n",
       "<tr>\n",
       "  <th>Dep. Variable:</th>            <td>y</td>        <th>  R-squared:         </th> <td>   0.346</td>\n",
       "</tr>\n",
       "<tr>\n",
       "  <th>Model:</th>                   <td>OLS</td>       <th>  Adj. R-squared:    </th> <td>   0.256</td>\n",
       "</tr>\n",
       "<tr>\n",
       "  <th>Method:</th>             <td>Least Squares</td>  <th>  F-statistic:       </th> <td>   3.848</td>\n",
       "</tr>\n",
       "<tr>\n",
       "  <th>Date:</th>             <td>Wed, 11 May 2022</td> <th>  Prob (F-statistic):</th> <td>0.000183</td>\n",
       "</tr>\n",
       "<tr>\n",
       "  <th>Time:</th>                 <td>19:59:16</td>     <th>  Log-Likelihood:    </th> <td>  235.44</td>\n",
       "</tr>\n",
       "<tr>\n",
       "  <th>No. Observations:</th>      <td>    92</td>      <th>  AIC:               </th> <td>  -446.9</td>\n",
       "</tr>\n",
       "<tr>\n",
       "  <th>Df Residuals:</th>          <td>    80</td>      <th>  BIC:               </th> <td>  -416.6</td>\n",
       "</tr>\n",
       "<tr>\n",
       "  <th>Df Model:</th>              <td>    11</td>      <th>                     </th>     <td> </td>   \n",
       "</tr>\n",
       "<tr>\n",
       "  <th>Covariance Type:</th>      <td>nonrobust</td>    <th>                     </th>     <td> </td>   \n",
       "</tr>\n",
       "</table>\n",
       "<table class=\"simpletable\">\n",
       "<tr>\n",
       "    <td></td>       <th>coef</th>     <th>std err</th>      <th>t</th>      <th>P>|t|</th>  <th>[0.025</th>    <th>0.975]</th>  \n",
       "</tr>\n",
       "<tr>\n",
       "  <th>const</th> <td>    0.0414</td> <td>    0.022</td> <td>    1.845</td> <td> 0.069</td> <td>   -0.003</td> <td>    0.086</td>\n",
       "</tr>\n",
       "<tr>\n",
       "  <th>x01</th>   <td>   -0.0161</td> <td>    0.003</td> <td>   -4.604</td> <td> 0.000</td> <td>   -0.023</td> <td>   -0.009</td>\n",
       "</tr>\n",
       "<tr>\n",
       "  <th>x02</th>   <td>   -0.0016</td> <td>    0.003</td> <td>   -0.474</td> <td> 0.637</td> <td>   -0.008</td> <td>    0.005</td>\n",
       "</tr>\n",
       "<tr>\n",
       "  <th>x03</th>   <td>   -0.0010</td> <td>    0.003</td> <td>   -0.406</td> <td> 0.686</td> <td>   -0.006</td> <td>    0.004</td>\n",
       "</tr>\n",
       "<tr>\n",
       "  <th>x04</th>   <td>   -0.0030</td> <td>    0.002</td> <td>   -1.352</td> <td> 0.180</td> <td>   -0.007</td> <td>    0.001</td>\n",
       "</tr>\n",
       "<tr>\n",
       "  <th>x05</th>   <td>    0.0045</td> <td>    0.003</td> <td>    1.440</td> <td> 0.154</td> <td>   -0.002</td> <td>    0.011</td>\n",
       "</tr>\n",
       "<tr>\n",
       "  <th>x06</th>   <td>   -0.0002</td> <td>    0.003</td> <td>   -0.075</td> <td> 0.940</td> <td>   -0.006</td> <td>    0.005</td>\n",
       "</tr>\n",
       "<tr>\n",
       "  <th>x07</th>   <td>   -0.0002</td> <td>    0.003</td> <td>   -0.081</td> <td> 0.936</td> <td>   -0.005</td> <td>    0.005</td>\n",
       "</tr>\n",
       "<tr>\n",
       "  <th>x08</th>   <td>   -0.0042</td> <td>    0.003</td> <td>   -1.352</td> <td> 0.180</td> <td>   -0.010</td> <td>    0.002</td>\n",
       "</tr>\n",
       "<tr>\n",
       "  <th>c09</th>   <td>   -0.0255</td> <td>    0.023</td> <td>   -1.093</td> <td> 0.278</td> <td>   -0.072</td> <td>    0.021</td>\n",
       "</tr>\n",
       "<tr>\n",
       "  <th>c09b</th>  <td>   -0.0089</td> <td>    0.024</td> <td>   -0.365</td> <td> 0.716</td> <td>   -0.057</td> <td>    0.039</td>\n",
       "</tr>\n",
       "<tr>\n",
       "  <th>c09c</th>  <td>   -0.0342</td> <td>    0.023</td> <td>   -1.517</td> <td> 0.133</td> <td>   -0.079</td> <td>    0.011</td>\n",
       "</tr>\n",
       "</table>\n",
       "<table class=\"simpletable\">\n",
       "<tr>\n",
       "  <th>Omnibus:</th>       <td>26.106</td> <th>  Durbin-Watson:     </th> <td>   2.071</td>\n",
       "</tr>\n",
       "<tr>\n",
       "  <th>Prob(Omnibus):</th> <td> 0.000</td> <th>  Jarque-Bera (JB):  </th> <td>  65.631</td>\n",
       "</tr>\n",
       "<tr>\n",
       "  <th>Skew:</th>          <td> 0.958</td> <th>  Prob(JB):          </th> <td>5.60e-15</td>\n",
       "</tr>\n",
       "<tr>\n",
       "  <th>Kurtosis:</th>      <td> 6.668</td> <th>  Cond. No.          </th> <td>    35.8</td>\n",
       "</tr>\n",
       "</table><br/><br/>Notes:<br/>[1] Standard Errors assume that the covariance matrix of the errors is correctly specified."
      ],
      "text/plain": [
       "<class 'statsmodels.iolib.summary.Summary'>\n",
       "\"\"\"\n",
       "                            OLS Regression Results                            \n",
       "==============================================================================\n",
       "Dep. Variable:                      y   R-squared:                       0.346\n",
       "Model:                            OLS   Adj. R-squared:                  0.256\n",
       "Method:                 Least Squares   F-statistic:                     3.848\n",
       "Date:                Wed, 11 May 2022   Prob (F-statistic):           0.000183\n",
       "Time:                        19:59:16   Log-Likelihood:                 235.44\n",
       "No. Observations:                  92   AIC:                            -446.9\n",
       "Df Residuals:                      80   BIC:                            -416.6\n",
       "Df Model:                          11                                         \n",
       "Covariance Type:            nonrobust                                         \n",
       "==============================================================================\n",
       "                 coef    std err          t      P>|t|      [0.025      0.975]\n",
       "------------------------------------------------------------------------------\n",
       "const          0.0414      0.022      1.845      0.069      -0.003       0.086\n",
       "x01           -0.0161      0.003     -4.604      0.000      -0.023      -0.009\n",
       "x02           -0.0016      0.003     -0.474      0.637      -0.008       0.005\n",
       "x03           -0.0010      0.003     -0.406      0.686      -0.006       0.004\n",
       "x04           -0.0030      0.002     -1.352      0.180      -0.007       0.001\n",
       "x05            0.0045      0.003      1.440      0.154      -0.002       0.011\n",
       "x06           -0.0002      0.003     -0.075      0.940      -0.006       0.005\n",
       "x07           -0.0002      0.003     -0.081      0.936      -0.005       0.005\n",
       "x08           -0.0042      0.003     -1.352      0.180      -0.010       0.002\n",
       "c09           -0.0255      0.023     -1.093      0.278      -0.072       0.021\n",
       "c09b          -0.0089      0.024     -0.365      0.716      -0.057       0.039\n",
       "c09c          -0.0342      0.023     -1.517      0.133      -0.079       0.011\n",
       "==============================================================================\n",
       "Omnibus:                       26.106   Durbin-Watson:                   2.071\n",
       "Prob(Omnibus):                  0.000   Jarque-Bera (JB):               65.631\n",
       "Skew:                           0.958   Prob(JB):                     5.60e-15\n",
       "Kurtosis:                       6.668   Cond. No.                         35.8\n",
       "==============================================================================\n",
       "\n",
       "Notes:\n",
       "[1] Standard Errors assume that the covariance matrix of the errors is correctly specified.\n",
       "\"\"\""
      ]
     },
     "execution_count": 16,
     "metadata": {},
     "output_type": "execute_result"
    }
   ],
   "source": [
    "X2_train = sm.add_constant(X_train)\n",
    "ols_result = sm.OLS(y_train, X2_train).fit()\n",
    "ols_result.summary()"
   ]
  },
  {
   "cell_type": "markdown",
   "id": "30a9c42d",
   "metadata": {},
   "source": [
    "#### Partial dependence plots"
   ]
  },
  {
   "cell_type": "code",
   "execution_count": null,
   "id": "26adda04",
   "metadata": {},
   "outputs": [],
   "source": []
  }
 ],
 "metadata": {
  "kernelspec": {
   "display_name": "Python 3 (ipykernel)",
   "language": "python",
   "name": "python3"
  },
  "language_info": {
   "codemirror_mode": {
    "name": "ipython",
    "version": 3
   },
   "file_extension": ".py",
   "mimetype": "text/x-python",
   "name": "python",
   "nbconvert_exporter": "python",
   "pygments_lexer": "ipython3",
   "version": "3.9.7"
  }
 },
 "nbformat": 4,
 "nbformat_minor": 5
}

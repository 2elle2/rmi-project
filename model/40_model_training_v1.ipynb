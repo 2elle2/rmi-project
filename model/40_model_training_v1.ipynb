{
 "cells": [
  {
   "cell_type": "markdown",
   "id": "eb417d5f",
   "metadata": {},
   "source": [
    "## Model Training (model v01)"
   ]
  },
  {
   "cell_type": "markdown",
   "id": "f023a3b5",
   "metadata": {},
   "source": [
    "#### Import relevant libraries"
   ]
  },
  {
   "cell_type": "code",
   "execution_count": 1,
   "id": "be747e66",
   "metadata": {},
   "outputs": [],
   "source": [
    "import os\n",
    "import sklearn as skl\n",
    "import pandas as pd\n",
    "import numpy as np"
   ]
  },
  {
   "cell_type": "markdown",
   "id": "1e25c1d5",
   "metadata": {},
   "source": [
    "#### Load model training data"
   ]
  },
  {
   "cell_type": "code",
   "execution_count": 2,
   "id": "0af56b65",
   "metadata": {},
   "outputs": [],
   "source": [
    "input_dir = os.path.join('..', 'data', 'processed', 'model_v1')\n",
    "df = pd.read_csv(os.path.join(input_dir, 'model_data.csv'))"
   ]
  },
  {
   "cell_type": "code",
   "execution_count": 3,
   "id": "e671715f",
   "metadata": {},
   "outputs": [
    {
     "data": {
      "text/html": [
       "<div>\n",
       "<style scoped>\n",
       "    .dataframe tbody tr th:only-of-type {\n",
       "        vertical-align: middle;\n",
       "    }\n",
       "\n",
       "    .dataframe tbody tr th {\n",
       "        vertical-align: top;\n",
       "    }\n",
       "\n",
       "    .dataframe thead th {\n",
       "        text-align: right;\n",
       "    }\n",
       "</style>\n",
       "<table border=\"1\" class=\"dataframe\">\n",
       "  <thead>\n",
       "    <tr style=\"text-align: right;\">\n",
       "      <th></th>\n",
       "      <th>target</th>\n",
       "      <th>x01</th>\n",
       "      <th>x02</th>\n",
       "      <th>x03</th>\n",
       "      <th>x04</th>\n",
       "      <th>x05</th>\n",
       "      <th>x06</th>\n",
       "      <th>x07</th>\n",
       "      <th>x08</th>\n",
       "      <th>x09</th>\n",
       "      <th>c10</th>\n",
       "    </tr>\n",
       "  </thead>\n",
       "  <tbody>\n",
       "    <tr>\n",
       "      <th>0</th>\n",
       "      <td>0.019042</td>\n",
       "      <td>0.351208</td>\n",
       "      <td>0.110678</td>\n",
       "      <td>95.893125</td>\n",
       "      <td>1.000000</td>\n",
       "      <td>0.475068</td>\n",
       "      <td>0.349169</td>\n",
       "      <td>0.114363</td>\n",
       "      <td>0.000000</td>\n",
       "      <td>0.105000</td>\n",
       "      <td>vert_int</td>\n",
       "    </tr>\n",
       "    <tr>\n",
       "      <th>1</th>\n",
       "      <td>0.015868</td>\n",
       "      <td>0.513455</td>\n",
       "      <td>0.476233</td>\n",
       "      <td>31.004672</td>\n",
       "      <td>1.000000</td>\n",
       "      <td>0.288965</td>\n",
       "      <td>0.000000</td>\n",
       "      <td>0.925652</td>\n",
       "      <td>0.000000</td>\n",
       "      <td>0.128800</td>\n",
       "      <td>vert_int</td>\n",
       "    </tr>\n",
       "    <tr>\n",
       "      <th>2</th>\n",
       "      <td>0.022832</td>\n",
       "      <td>0.642341</td>\n",
       "      <td>0.039913</td>\n",
       "      <td>54.876484</td>\n",
       "      <td>1.000005</td>\n",
       "      <td>0.407213</td>\n",
       "      <td>0.645221</td>\n",
       "      <td>0.066756</td>\n",
       "      <td>10.487586</td>\n",
       "      <td>0.103387</td>\n",
       "      <td>vert_int</td>\n",
       "    </tr>\n",
       "    <tr>\n",
       "      <th>3</th>\n",
       "      <td>0.012631</td>\n",
       "      <td>0.419923</td>\n",
       "      <td>0.251899</td>\n",
       "      <td>77.037977</td>\n",
       "      <td>1.000554</td>\n",
       "      <td>0.375943</td>\n",
       "      <td>0.061440</td>\n",
       "      <td>0.057746</td>\n",
       "      <td>14.585460</td>\n",
       "      <td>0.110000</td>\n",
       "      <td>vert_int</td>\n",
       "    </tr>\n",
       "    <tr>\n",
       "      <th>4</th>\n",
       "      <td>0.019896</td>\n",
       "      <td>0.610624</td>\n",
       "      <td>0.525933</td>\n",
       "      <td>65.810615</td>\n",
       "      <td>1.000000</td>\n",
       "      <td>0.784067</td>\n",
       "      <td>0.929888</td>\n",
       "      <td>0.007142</td>\n",
       "      <td>0.000000</td>\n",
       "      <td>0.099000</td>\n",
       "      <td>vert_int</td>\n",
       "    </tr>\n",
       "  </tbody>\n",
       "</table>\n",
       "</div>"
      ],
      "text/plain": [
       "     target       x01       x02        x03       x04       x05       x06  \\\n",
       "0  0.019042  0.351208  0.110678  95.893125  1.000000  0.475068  0.349169   \n",
       "1  0.015868  0.513455  0.476233  31.004672  1.000000  0.288965  0.000000   \n",
       "2  0.022832  0.642341  0.039913  54.876484  1.000005  0.407213  0.645221   \n",
       "3  0.012631  0.419923  0.251899  77.037977  1.000554  0.375943  0.061440   \n",
       "4  0.019896  0.610624  0.525933  65.810615  1.000000  0.784067  0.929888   \n",
       "\n",
       "        x07        x08       x09       c10  \n",
       "0  0.114363   0.000000  0.105000  vert_int  \n",
       "1  0.925652   0.000000  0.128800  vert_int  \n",
       "2  0.066756  10.487586  0.103387  vert_int  \n",
       "3  0.057746  14.585460  0.110000  vert_int  \n",
       "4  0.007142   0.000000  0.099000  vert_int  "
      ]
     },
     "execution_count": 3,
     "metadata": {},
     "output_type": "execute_result"
    }
   ],
   "source": [
    "df.head()"
   ]
  },
  {
   "cell_type": "markdown",
   "id": "e4991611",
   "metadata": {},
   "source": [
    "#### One-hot encoding categorical variables"
   ]
  },
  {
   "cell_type": "code",
   "execution_count": 4,
   "id": "8b9a147a",
   "metadata": {},
   "outputs": [
    {
     "data": {
      "text/html": [
       "<div>\n",
       "<style scoped>\n",
       "    .dataframe tbody tr th:only-of-type {\n",
       "        vertical-align: middle;\n",
       "    }\n",
       "\n",
       "    .dataframe tbody tr th {\n",
       "        vertical-align: top;\n",
       "    }\n",
       "\n",
       "    .dataframe thead th {\n",
       "        text-align: right;\n",
       "    }\n",
       "</style>\n",
       "<table border=\"1\" class=\"dataframe\">\n",
       "  <thead>\n",
       "    <tr style=\"text-align: right;\">\n",
       "      <th></th>\n",
       "      <th>c10_other_wires</th>\n",
       "      <th>c10_restructured</th>\n",
       "      <th>c10_vert_int</th>\n",
       "    </tr>\n",
       "  </thead>\n",
       "  <tbody>\n",
       "    <tr>\n",
       "      <th>0</th>\n",
       "      <td>0</td>\n",
       "      <td>0</td>\n",
       "      <td>1</td>\n",
       "    </tr>\n",
       "    <tr>\n",
       "      <th>1</th>\n",
       "      <td>0</td>\n",
       "      <td>0</td>\n",
       "      <td>1</td>\n",
       "    </tr>\n",
       "    <tr>\n",
       "      <th>2</th>\n",
       "      <td>0</td>\n",
       "      <td>0</td>\n",
       "      <td>1</td>\n",
       "    </tr>\n",
       "    <tr>\n",
       "      <th>3</th>\n",
       "      <td>0</td>\n",
       "      <td>0</td>\n",
       "      <td>1</td>\n",
       "    </tr>\n",
       "    <tr>\n",
       "      <th>4</th>\n",
       "      <td>0</td>\n",
       "      <td>0</td>\n",
       "      <td>1</td>\n",
       "    </tr>\n",
       "  </tbody>\n",
       "</table>\n",
       "</div>"
      ],
      "text/plain": [
       "   c10_other_wires  c10_restructured  c10_vert_int\n",
       "0                0                 0             1\n",
       "1                0                 0             1\n",
       "2                0                 0             1\n",
       "3                0                 0             1\n",
       "4                0                 0             1"
      ]
     },
     "execution_count": 4,
     "metadata": {},
     "output_type": "execute_result"
    }
   ],
   "source": [
    "categorical_vars = df.columns[[col_name.startswith('c') for col_name in df.columns]]\n",
    "c_vars = pd.get_dummies(df[categorical_vars], drop_first=True)\n",
    "c_vars.head()"
   ]
  },
  {
   "cell_type": "markdown",
   "id": "7c7c0dc0",
   "metadata": {},
   "source": [
    "#### Scale predictor variables"
   ]
  },
  {
   "cell_type": "code",
   "execution_count": 5,
   "id": "91bb412c",
   "metadata": {},
   "outputs": [
    {
     "data": {
      "text/html": [
       "<div>\n",
       "<style scoped>\n",
       "    .dataframe tbody tr th:only-of-type {\n",
       "        vertical-align: middle;\n",
       "    }\n",
       "\n",
       "    .dataframe tbody tr th {\n",
       "        vertical-align: top;\n",
       "    }\n",
       "\n",
       "    .dataframe thead th {\n",
       "        text-align: right;\n",
       "    }\n",
       "</style>\n",
       "<table border=\"1\" class=\"dataframe\">\n",
       "  <thead>\n",
       "    <tr style=\"text-align: right;\">\n",
       "      <th></th>\n",
       "      <th>x01</th>\n",
       "      <th>x02</th>\n",
       "      <th>x03</th>\n",
       "      <th>x04</th>\n",
       "      <th>x05</th>\n",
       "      <th>x06</th>\n",
       "      <th>x07</th>\n",
       "      <th>x08</th>\n",
       "      <th>x09</th>\n",
       "    </tr>\n",
       "  </thead>\n",
       "  <tbody>\n",
       "    <tr>\n",
       "      <th>0</th>\n",
       "      <td>-1.208260</td>\n",
       "      <td>-0.283548</td>\n",
       "      <td>0.592913</td>\n",
       "      <td>-0.178322</td>\n",
       "      <td>0.261409</td>\n",
       "      <td>-0.286949</td>\n",
       "      <td>-0.182708</td>\n",
       "      <td>-0.710241</td>\n",
       "      <td>0.024730</td>\n",
       "    </tr>\n",
       "    <tr>\n",
       "      <th>1</th>\n",
       "      <td>-0.490188</td>\n",
       "      <td>1.377255</td>\n",
       "      <td>-1.021040</td>\n",
       "      <td>-0.178322</td>\n",
       "      <td>-0.735858</td>\n",
       "      <td>-1.370272</td>\n",
       "      <td>3.645462</td>\n",
       "      <td>-0.710241</td>\n",
       "      <td>1.943890</td>\n",
       "    </tr>\n",
       "    <tr>\n",
       "      <th>2</th>\n",
       "      <td>0.080234</td>\n",
       "      <td>-0.605050</td>\n",
       "      <td>-0.427283</td>\n",
       "      <td>-0.178248</td>\n",
       "      <td>-0.102204</td>\n",
       "      <td>0.631572</td>\n",
       "      <td>-0.407347</td>\n",
       "      <td>0.048291</td>\n",
       "      <td>-0.105376</td>\n",
       "    </tr>\n",
       "    <tr>\n",
       "      <th>3</th>\n",
       "      <td>-0.904142</td>\n",
       "      <td>0.358051</td>\n",
       "      <td>0.123934</td>\n",
       "      <td>-0.170482</td>\n",
       "      <td>-0.269769</td>\n",
       "      <td>-1.179649</td>\n",
       "      <td>-0.449864</td>\n",
       "      <td>0.344676</td>\n",
       "      <td>0.427914</td>\n",
       "    </tr>\n",
       "    <tr>\n",
       "      <th>4</th>\n",
       "      <td>-0.060139</td>\n",
       "      <td>1.603053</td>\n",
       "      <td>-0.155321</td>\n",
       "      <td>-0.178322</td>\n",
       "      <td>1.917238</td>\n",
       "      <td>1.514773</td>\n",
       "      <td>-0.688644</td>\n",
       "      <td>-0.710241</td>\n",
       "      <td>-0.459092</td>\n",
       "    </tr>\n",
       "  </tbody>\n",
       "</table>\n",
       "</div>"
      ],
      "text/plain": [
       "        x01       x02       x03       x04       x05       x06       x07  \\\n",
       "0 -1.208260 -0.283548  0.592913 -0.178322  0.261409 -0.286949 -0.182708   \n",
       "1 -0.490188  1.377255 -1.021040 -0.178322 -0.735858 -1.370272  3.645462   \n",
       "2  0.080234 -0.605050 -0.427283 -0.178248 -0.102204  0.631572 -0.407347   \n",
       "3 -0.904142  0.358051  0.123934 -0.170482 -0.269769 -1.179649 -0.449864   \n",
       "4 -0.060139  1.603053 -0.155321 -0.178322  1.917238  1.514773 -0.688644   \n",
       "\n",
       "        x08       x09  \n",
       "0 -0.710241  0.024730  \n",
       "1 -0.710241  1.943890  \n",
       "2  0.048291 -0.105376  \n",
       "3  0.344676  0.427914  \n",
       "4 -0.710241 -0.459092  "
      ]
     },
     "execution_count": 5,
     "metadata": {},
     "output_type": "execute_result"
    }
   ],
   "source": [
    "from sklearn.preprocessing import scale\n",
    "continuous_vars = df.columns[[col_name.startswith('x') for col_name in df.columns]]\n",
    "x_vars = df[continuous_vars].copy()\n",
    "\n",
    "for col_name in continuous_vars:\n",
    "    x_vars[col_name] = scale(df[col_name])\n",
    "\n",
    "x_vars.head()"
   ]
  },
  {
   "cell_type": "markdown",
   "id": "b2ce533e",
   "metadata": {},
   "source": [
    "#### Split into test and train sets"
   ]
  },
  {
   "cell_type": "code",
   "execution_count": 6,
   "id": "c0d976fb",
   "metadata": {},
   "outputs": [],
   "source": [
    "y = df['target']\n",
    "X = x_vars.join(c_vars)"
   ]
  },
  {
   "cell_type": "code",
   "execution_count": 7,
   "id": "36d685b0",
   "metadata": {},
   "outputs": [
    {
     "name": "stdout",
     "output_type": "stream",
     "text": [
      "(92, 12) (92,)\n",
      "(24, 12) (24,)\n"
     ]
    }
   ],
   "source": [
    "from sklearn.model_selection import train_test_split\n",
    "X_train, X_test, y_train, y_test = train_test_split(X, y, test_size=0.2, random_state=123)\n",
    "print(X_train.shape, y_train.shape); print(X_test.shape, y_test.shape);"
   ]
  },
  {
   "cell_type": "markdown",
   "id": "021db8d2",
   "metadata": {},
   "source": [
    "Save as csv for use in fit evaluation step"
   ]
  },
  {
   "cell_type": "code",
   "execution_count": 8,
   "id": "19b95149",
   "metadata": {},
   "outputs": [],
   "source": [
    "X_train.to_csv(os.path.join(input_dir, 'X_train.csv'), index=False)\n",
    "X_test.to_csv(os.path.join(input_dir, 'X_test.csv'), index=False)\n",
    "y_train.to_csv(os.path.join(input_dir, 'y_train.csv'), index=False)\n",
    "y_test.to_csv(os.path.join(input_dir, 'y_test.csv'), index=False)"
   ]
  },
  {
   "cell_type": "code",
   "execution_count": 9,
   "id": "2f80ed2a",
   "metadata": {},
   "outputs": [],
   "source": [
    "np.save(os.path.join(input_dir, 'X_train'), X_train)\n",
    "np.save(os.path.join(input_dir, 'X_test'), X_test)\n",
    "np.save(os.path.join(input_dir, 'y_train'), y_train)\n",
    "np.save(os.path.join(input_dir, 'y_test'), y_test)"
   ]
  },
  {
   "cell_type": "markdown",
   "id": "76a6813e",
   "metadata": {},
   "source": [
    "#### Fit regression model"
   ]
  },
  {
   "cell_type": "markdown",
   "id": "2a9f2f80",
   "metadata": {},
   "source": [
    "(a) Linear regression"
   ]
  },
  {
   "cell_type": "code",
   "execution_count": 10,
   "id": "39b9bfa6",
   "metadata": {},
   "outputs": [
    {
     "name": "stdout",
     "output_type": "stream",
     "text": [
      "0.002729871414864221 [-0.01651227  0.00059818 -0.00101134 -0.0028236  -0.00144282 -0.00148311\n",
      "  0.00248967 -0.0035695  -0.00384262  0.01391957  0.02816026  0.00383816]\n"
     ]
    }
   ],
   "source": [
    "# Import LinearRegression from sklearn\n",
    "from sklearn.linear_model import LinearRegression\n",
    "\n",
    "# Instantiate the regressor\n",
    "reg_lin = LinearRegression()\n",
    "\n",
    "# Fit the regressor to the training data\n",
    "reg_lin.fit(X_train, y_train)\n",
    "\n",
    "# Test the linear regression model\n",
    "predicted = reg_lin.predict(X_test)\n",
    "print(reg_lin.intercept_, reg_lin.coef_)"
   ]
  },
  {
   "cell_type": "markdown",
   "id": "ba02ece3",
   "metadata": {},
   "source": [
    "(b) Random forest"
   ]
  },
  {
   "cell_type": "code",
   "execution_count": 11,
   "id": "8ea88154",
   "metadata": {},
   "outputs": [
    {
     "data": {
      "text/plain": [
       "array([0.30062526, 0.02746705, 0.22348862, 0.10843147, 0.05933366,\n",
       "       0.1028969 , 0.0864483 , 0.02783408, 0.04170127, 0.01547497,\n",
       "       0.00285231, 0.00344612])"
      ]
     },
     "execution_count": 11,
     "metadata": {},
     "output_type": "execute_result"
    }
   ],
   "source": [
    "# Import RandomForestRegressor from sklearn\n",
    "from sklearn.ensemble import RandomForestRegressor\n",
    "\n",
    "# Instantiate the regressor with default value for hyperparameters\n",
    "reg_forest = RandomForestRegressor(random_state=123)\n",
    "\n",
    "# Fit the regressor to the training data\n",
    "reg_forest.fit(X_train, y_train)\n",
    "reg_forest.feature_importances_"
   ]
  },
  {
   "cell_type": "markdown",
   "id": "4dfb045e",
   "metadata": {},
   "source": [
    "(c) Neural Network"
   ]
  },
  {
   "cell_type": "code",
   "execution_count": 12,
   "id": "7cbf4414",
   "metadata": {},
   "outputs": [
    {
     "data": {
      "text/plain": [
       "MLPRegressor(random_state=123)"
      ]
     },
     "execution_count": 12,
     "metadata": {},
     "output_type": "execute_result"
    }
   ],
   "source": [
    "# Import MLPRegressor from skleatn\n",
    "from sklearn.neural_network import MLPRegressor\n",
    "\n",
    "#Instantiate the regressor with default values\n",
    "reg_neural = MLPRegressor(random_state=123)\n",
    "\n",
    "# Fit the regressor to the training data\n",
    "reg_neural.fit(X_train, y_train)"
   ]
  },
  {
   "cell_type": "markdown",
   "id": "a5891653",
   "metadata": {},
   "source": [
    "#### Dump model_fit file(s)"
   ]
  },
  {
   "cell_type": "code",
   "execution_count": 13,
   "id": "2c5098a1",
   "metadata": {},
   "outputs": [],
   "source": [
    "# Import the dump function\n",
    "from joblib import dump"
   ]
  },
  {
   "cell_type": "code",
   "execution_count": 14,
   "id": "acd5b33c",
   "metadata": {},
   "outputs": [],
   "source": [
    "# Save linear regression model to disk\n",
    "filename = os.path.join(input_dir,'lin_model_3.joblib')\n",
    "dump(reg_lin, open(filename, 'wb'))"
   ]
  },
  {
   "cell_type": "code",
   "execution_count": 15,
   "id": "a816b5ac",
   "metadata": {},
   "outputs": [],
   "source": [
    "# Save random forest model to disk\n",
    "filename = os.path.join(input_dir,'forest_model_1.joblib')\n",
    "dump(reg_forest, open(filename, 'wb'))"
   ]
  },
  {
   "cell_type": "code",
   "execution_count": 16,
   "id": "36a08b74",
   "metadata": {},
   "outputs": [],
   "source": [
    "# Save neural network model to disk\n",
    "filename = os.path.join(input_dir,'neural_model_1.joblib')\n",
    "dump(reg_neural, open(filename, 'wb'))"
   ]
  },
  {
   "cell_type": "code",
   "execution_count": null,
   "id": "c0c77a3b",
   "metadata": {},
   "outputs": [],
   "source": []
  }
 ],
 "metadata": {
  "kernelspec": {
   "display_name": "Python 3 (ipykernel)",
   "language": "python",
   "name": "python3"
  },
  "language_info": {
   "codemirror_mode": {
    "name": "ipython",
    "version": 3
   },
   "file_extension": ".py",
   "mimetype": "text/x-python",
   "name": "python",
   "nbconvert_exporter": "python",
   "pygments_lexer": "ipython3",
   "version": "3.9.7"
  }
 },
 "nbformat": 4,
 "nbformat_minor": 5
}

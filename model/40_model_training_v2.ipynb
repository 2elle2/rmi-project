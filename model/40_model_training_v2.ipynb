{
 "cells": [
  {
   "cell_type": "markdown",
   "id": "1af02380",
   "metadata": {},
   "source": [
    "## Model Training (model v2)"
   ]
  },
  {
   "cell_type": "markdown",
   "id": "dd63ee28",
   "metadata": {},
   "source": [
    "#### Import relevant libraries"
   ]
  },
  {
   "cell_type": "code",
   "execution_count": 1,
   "id": "7b610ab0",
   "metadata": {},
   "outputs": [],
   "source": [
    "import os\n",
    "import sklearn as skl\n",
    "import pandas as pd\n",
    "import numpy as np"
   ]
  },
  {
   "cell_type": "markdown",
   "id": "eeb2cdd4",
   "metadata": {},
   "source": [
    "#### Load model training data"
   ]
  },
  {
   "cell_type": "code",
   "execution_count": 2,
   "id": "0f677319",
   "metadata": {},
   "outputs": [],
   "source": [
    "#directory (folder) for model v2\n",
    "input_dir = os.path.join('..', 'data', 'processed', 'model_v2')\n",
    "df = pd.read_csv(os.path.join(input_dir, 'model_data_v2.csv'))"
   ]
  },
  {
   "cell_type": "code",
   "execution_count": 3,
   "id": "5d1bbc9f",
   "metadata": {},
   "outputs": [
    {
     "data": {
      "text/html": [
       "<div>\n",
       "<style scoped>\n",
       "    .dataframe tbody tr th:only-of-type {\n",
       "        vertical-align: middle;\n",
       "    }\n",
       "\n",
       "    .dataframe tbody tr th {\n",
       "        vertical-align: top;\n",
       "    }\n",
       "\n",
       "    .dataframe thead th {\n",
       "        text-align: right;\n",
       "    }\n",
       "</style>\n",
       "<table border=\"1\" class=\"dataframe\">\n",
       "  <thead>\n",
       "    <tr style=\"text-align: right;\">\n",
       "      <th></th>\n",
       "      <th>target</th>\n",
       "      <th>x01</th>\n",
       "      <th>x02</th>\n",
       "      <th>x03</th>\n",
       "      <th>x04</th>\n",
       "      <th>x05</th>\n",
       "      <th>x06</th>\n",
       "      <th>x07</th>\n",
       "      <th>x08</th>\n",
       "      <th>x09</th>\n",
       "      <th>c10</th>\n",
       "    </tr>\n",
       "  </thead>\n",
       "  <tbody>\n",
       "    <tr>\n",
       "      <th>0</th>\n",
       "      <td>0.024761</td>\n",
       "      <td>0.277673</td>\n",
       "      <td>0.074652</td>\n",
       "      <td>76.268450</td>\n",
       "      <td>1.0</td>\n",
       "      <td>0.000764</td>\n",
       "      <td>0.780306</td>\n",
       "      <td>0.219694</td>\n",
       "      <td>0.0</td>\n",
       "      <td>0.105</td>\n",
       "      <td>vert_int</td>\n",
       "    </tr>\n",
       "    <tr>\n",
       "      <th>1</th>\n",
       "      <td>0.004686</td>\n",
       "      <td>0.535174</td>\n",
       "      <td>0.340114</td>\n",
       "      <td>56.872832</td>\n",
       "      <td>1.0</td>\n",
       "      <td>0.000791</td>\n",
       "      <td>0.826090</td>\n",
       "      <td>0.173910</td>\n",
       "      <td>0.0</td>\n",
       "      <td>0.105</td>\n",
       "      <td>vert_int</td>\n",
       "    </tr>\n",
       "    <tr>\n",
       "      <th>2</th>\n",
       "      <td>0.002276</td>\n",
       "      <td>0.590562</td>\n",
       "      <td>0.256538</td>\n",
       "      <td>39.581972</td>\n",
       "      <td>1.0</td>\n",
       "      <td>0.000789</td>\n",
       "      <td>0.847292</td>\n",
       "      <td>0.152708</td>\n",
       "      <td>0.0</td>\n",
       "      <td>0.105</td>\n",
       "      <td>vert_int</td>\n",
       "    </tr>\n",
       "    <tr>\n",
       "      <th>3</th>\n",
       "      <td>0.025767</td>\n",
       "      <td>0.532942</td>\n",
       "      <td>0.190320</td>\n",
       "      <td>48.594641</td>\n",
       "      <td>1.0</td>\n",
       "      <td>0.000893</td>\n",
       "      <td>0.714805</td>\n",
       "      <td>0.285195</td>\n",
       "      <td>0.0</td>\n",
       "      <td>0.105</td>\n",
       "      <td>vert_int</td>\n",
       "    </tr>\n",
       "    <tr>\n",
       "      <th>4</th>\n",
       "      <td>0.035918</td>\n",
       "      <td>0.544757</td>\n",
       "      <td>0.132016</td>\n",
       "      <td>63.100622</td>\n",
       "      <td>1.0</td>\n",
       "      <td>0.000833</td>\n",
       "      <td>0.788407</td>\n",
       "      <td>0.211593</td>\n",
       "      <td>0.0</td>\n",
       "      <td>0.105</td>\n",
       "      <td>vert_int</td>\n",
       "    </tr>\n",
       "  </tbody>\n",
       "</table>\n",
       "</div>"
      ],
      "text/plain": [
       "     target       x01       x02        x03  x04       x05       x06       x07  \\\n",
       "0  0.024761  0.277673  0.074652  76.268450  1.0  0.000764  0.780306  0.219694   \n",
       "1  0.004686  0.535174  0.340114  56.872832  1.0  0.000791  0.826090  0.173910   \n",
       "2  0.002276  0.590562  0.256538  39.581972  1.0  0.000789  0.847292  0.152708   \n",
       "3  0.025767  0.532942  0.190320  48.594641  1.0  0.000893  0.714805  0.285195   \n",
       "4  0.035918  0.544757  0.132016  63.100622  1.0  0.000833  0.788407  0.211593   \n",
       "\n",
       "   x08    x09       c10  \n",
       "0  0.0  0.105  vert_int  \n",
       "1  0.0  0.105  vert_int  \n",
       "2  0.0  0.105  vert_int  \n",
       "3  0.0  0.105  vert_int  \n",
       "4  0.0  0.105  vert_int  "
      ]
     },
     "execution_count": 3,
     "metadata": {},
     "output_type": "execute_result"
    }
   ],
   "source": [
    "df.head()"
   ]
  },
  {
   "cell_type": "markdown",
   "id": "a3b05fd3",
   "metadata": {},
   "source": [
    "#### One-hot encoding categorical variables"
   ]
  },
  {
   "cell_type": "code",
   "execution_count": 4,
   "id": "6678a69a",
   "metadata": {},
   "outputs": [
    {
     "data": {
      "text/html": [
       "<div>\n",
       "<style scoped>\n",
       "    .dataframe tbody tr th:only-of-type {\n",
       "        vertical-align: middle;\n",
       "    }\n",
       "\n",
       "    .dataframe tbody tr th {\n",
       "        vertical-align: top;\n",
       "    }\n",
       "\n",
       "    .dataframe thead th {\n",
       "        text-align: right;\n",
       "    }\n",
       "</style>\n",
       "<table border=\"1\" class=\"dataframe\">\n",
       "  <thead>\n",
       "    <tr style=\"text-align: right;\">\n",
       "      <th></th>\n",
       "      <th>c10_other_wires</th>\n",
       "      <th>c10_restructured</th>\n",
       "      <th>c10_vert_int</th>\n",
       "    </tr>\n",
       "  </thead>\n",
       "  <tbody>\n",
       "    <tr>\n",
       "      <th>0</th>\n",
       "      <td>0</td>\n",
       "      <td>0</td>\n",
       "      <td>1</td>\n",
       "    </tr>\n",
       "    <tr>\n",
       "      <th>1</th>\n",
       "      <td>0</td>\n",
       "      <td>0</td>\n",
       "      <td>1</td>\n",
       "    </tr>\n",
       "    <tr>\n",
       "      <th>2</th>\n",
       "      <td>0</td>\n",
       "      <td>0</td>\n",
       "      <td>1</td>\n",
       "    </tr>\n",
       "    <tr>\n",
       "      <th>3</th>\n",
       "      <td>0</td>\n",
       "      <td>0</td>\n",
       "      <td>1</td>\n",
       "    </tr>\n",
       "    <tr>\n",
       "      <th>4</th>\n",
       "      <td>0</td>\n",
       "      <td>0</td>\n",
       "      <td>1</td>\n",
       "    </tr>\n",
       "  </tbody>\n",
       "</table>\n",
       "</div>"
      ],
      "text/plain": [
       "   c10_other_wires  c10_restructured  c10_vert_int\n",
       "0                0                 0             1\n",
       "1                0                 0             1\n",
       "2                0                 0             1\n",
       "3                0                 0             1\n",
       "4                0                 0             1"
      ]
     },
     "execution_count": 4,
     "metadata": {},
     "output_type": "execute_result"
    }
   ],
   "source": [
    "categorical_vars = df.columns[[col_name.startswith('c') for col_name in df.columns]]\n",
    "c_vars = pd.get_dummies(df[categorical_vars], drop_first=True)\n",
    "c_vars.head()"
   ]
  },
  {
   "cell_type": "markdown",
   "id": "83ab1ca3",
   "metadata": {},
   "source": [
    "#### Scale predictor variables"
   ]
  },
  {
   "cell_type": "code",
   "execution_count": 5,
   "id": "638ed35c",
   "metadata": {},
   "outputs": [
    {
     "data": {
      "text/html": [
       "<div>\n",
       "<style scoped>\n",
       "    .dataframe tbody tr th:only-of-type {\n",
       "        vertical-align: middle;\n",
       "    }\n",
       "\n",
       "    .dataframe tbody tr th {\n",
       "        vertical-align: top;\n",
       "    }\n",
       "\n",
       "    .dataframe thead th {\n",
       "        text-align: right;\n",
       "    }\n",
       "</style>\n",
       "<table border=\"1\" class=\"dataframe\">\n",
       "  <thead>\n",
       "    <tr style=\"text-align: right;\">\n",
       "      <th></th>\n",
       "      <th>x01</th>\n",
       "      <th>x02</th>\n",
       "      <th>x03</th>\n",
       "      <th>x04</th>\n",
       "      <th>x05</th>\n",
       "      <th>x06</th>\n",
       "      <th>x07</th>\n",
       "      <th>x08</th>\n",
       "      <th>x09</th>\n",
       "    </tr>\n",
       "  </thead>\n",
       "  <tbody>\n",
       "    <tr>\n",
       "      <th>0</th>\n",
       "      <td>-1.220731</td>\n",
       "      <td>-0.276929</td>\n",
       "      <td>0.220831</td>\n",
       "      <td>-0.082296</td>\n",
       "      <td>9.577562</td>\n",
       "      <td>1.744026</td>\n",
       "      <td>-0.008585</td>\n",
       "      <td>-0.720454</td>\n",
       "      <td>0.02726</td>\n",
       "    </tr>\n",
       "    <tr>\n",
       "      <th>1</th>\n",
       "      <td>-0.421940</td>\n",
       "      <td>0.536039</td>\n",
       "      <td>-0.164504</td>\n",
       "      <td>-0.082296</td>\n",
       "      <td>9.921034</td>\n",
       "      <td>1.873865</td>\n",
       "      <td>-0.097223</td>\n",
       "      <td>-0.720454</td>\n",
       "      <td>0.02726</td>\n",
       "    </tr>\n",
       "    <tr>\n",
       "      <th>2</th>\n",
       "      <td>-0.250120</td>\n",
       "      <td>0.280091</td>\n",
       "      <td>-0.508024</td>\n",
       "      <td>-0.082296</td>\n",
       "      <td>9.897009</td>\n",
       "      <td>1.933992</td>\n",
       "      <td>-0.138270</td>\n",
       "      <td>-0.720454</td>\n",
       "      <td>0.02726</td>\n",
       "    </tr>\n",
       "    <tr>\n",
       "      <th>3</th>\n",
       "      <td>-0.428864</td>\n",
       "      <td>0.077299</td>\n",
       "      <td>-0.328968</td>\n",
       "      <td>-0.082296</td>\n",
       "      <td>11.223231</td>\n",
       "      <td>1.558269</td>\n",
       "      <td>0.118226</td>\n",
       "      <td>-0.720454</td>\n",
       "      <td>0.02726</td>\n",
       "    </tr>\n",
       "    <tr>\n",
       "      <th>4</th>\n",
       "      <td>-0.392212</td>\n",
       "      <td>-0.101255</td>\n",
       "      <td>-0.040776</td>\n",
       "      <td>-0.082296</td>\n",
       "      <td>10.457989</td>\n",
       "      <td>1.766999</td>\n",
       "      <td>-0.024268</td>\n",
       "      <td>-0.720454</td>\n",
       "      <td>0.02726</td>\n",
       "    </tr>\n",
       "  </tbody>\n",
       "</table>\n",
       "</div>"
      ],
      "text/plain": [
       "        x01       x02       x03       x04        x05       x06       x07  \\\n",
       "0 -1.220731 -0.276929  0.220831 -0.082296   9.577562  1.744026 -0.008585   \n",
       "1 -0.421940  0.536039 -0.164504 -0.082296   9.921034  1.873865 -0.097223   \n",
       "2 -0.250120  0.280091 -0.508024 -0.082296   9.897009  1.933992 -0.138270   \n",
       "3 -0.428864  0.077299 -0.328968 -0.082296  11.223231  1.558269  0.118226   \n",
       "4 -0.392212 -0.101255 -0.040776 -0.082296  10.457989  1.766999 -0.024268   \n",
       "\n",
       "        x08      x09  \n",
       "0 -0.720454  0.02726  \n",
       "1 -0.720454  0.02726  \n",
       "2 -0.720454  0.02726  \n",
       "3 -0.720454  0.02726  \n",
       "4 -0.720454  0.02726  "
      ]
     },
     "execution_count": 5,
     "metadata": {},
     "output_type": "execute_result"
    }
   ],
   "source": [
    "from sklearn.preprocessing import scale\n",
    "continuous_vars = df.columns[[col_name.startswith('x') for col_name in df.columns]]\n",
    "x_vars = df[continuous_vars].copy()\n",
    "\n",
    "for col_name in continuous_vars:\n",
    "    x_vars[col_name] = scale(df[col_name])\n",
    "\n",
    "x_vars.head()"
   ]
  },
  {
   "cell_type": "markdown",
   "id": "cd038f84",
   "metadata": {},
   "source": [
    "#### Split into test and train sets"
   ]
  },
  {
   "cell_type": "code",
   "execution_count": 6,
   "id": "6e7cfbfe",
   "metadata": {},
   "outputs": [],
   "source": [
    "y = df['target']\n",
    "X = x_vars.join(c_vars)"
   ]
  },
  {
   "cell_type": "code",
   "execution_count": 7,
   "id": "4306fdcf",
   "metadata": {},
   "outputs": [
    {
     "name": "stdout",
     "output_type": "stream",
     "text": [
      "(852, 12) (852,)\n",
      "(214, 12) (214,)\n"
     ]
    }
   ],
   "source": [
    "from sklearn.model_selection import train_test_split\n",
    "X_train, X_test, y_train, y_test = train_test_split(X, y, test_size=0.2, random_state=123)\n",
    "print(X_train.shape, y_train.shape); print(X_test.shape, y_test.shape);"
   ]
  },
  {
   "cell_type": "markdown",
   "id": "d68cb6da",
   "metadata": {},
   "source": [
    "Save as csv for use in fit evaluation step"
   ]
  },
  {
   "cell_type": "code",
   "execution_count": 8,
   "id": "1d72cd33",
   "metadata": {},
   "outputs": [],
   "source": [
    "X_train.to_csv(os.path.join(input_dir, 'X_train.csv'), index=False)\n",
    "X_test.to_csv(os.path.join(input_dir, 'X_test.csv'), index=False)\n",
    "y_train.to_csv(os.path.join(input_dir, 'y_train.csv'), index=False)\n",
    "y_test.to_csv(os.path.join(input_dir, 'y_test.csv'), index=False)"
   ]
  },
  {
   "cell_type": "code",
   "execution_count": 9,
   "id": "bf69a15e",
   "metadata": {},
   "outputs": [],
   "source": [
    "np.save(os.path.join(input_dir, 'X_train'), X_train)\n",
    "np.save(os.path.join(input_dir, 'X_test'), X_test)\n",
    "np.save(os.path.join(input_dir, 'y_train'), y_train)\n",
    "np.save(os.path.join(input_dir, 'y_test'), y_test)"
   ]
  },
  {
   "cell_type": "markdown",
   "id": "f414e6fa",
   "metadata": {},
   "source": [
    "#### Fit regression model"
   ]
  },
  {
   "cell_type": "markdown",
   "id": "5be69482",
   "metadata": {},
   "source": [
    "(a) Linear regression"
   ]
  },
  {
   "cell_type": "code",
   "execution_count": 10,
   "id": "6ec4c663",
   "metadata": {},
   "outputs": [
    {
     "data": {
      "text/plain": [
       "Series([], Name: target, dtype: float64)"
      ]
     },
     "execution_count": 10,
     "metadata": {},
     "output_type": "execute_result"
    }
   ],
   "source": [
    "import matplotlib.pyplot as plt\n",
    "y_train[y_train.isnull().values]"
   ]
  },
  {
   "cell_type": "code",
   "execution_count": 11,
   "id": "2169cc09",
   "metadata": {},
   "outputs": [
    {
     "name": "stdout",
     "output_type": "stream",
     "text": [
      "0.031210762884090144 [-0.00308202  0.00297225 -0.00712664 -0.0043552   0.00019937  0.00415474\n",
      "  0.00357574 -0.00676372 -0.0007218  -0.04227457 -0.02044243 -0.01659954]\n"
     ]
    }
   ],
   "source": [
    "# Import LinearRegression from sklearn\n",
    "from sklearn.linear_model import LinearRegression\n",
    "\n",
    "# Instantiate the regressor\n",
    "reg_lin = LinearRegression()\n",
    "\n",
    "# Fit the regressor to the training data\n",
    "reg_lin.fit(X_train, y_train)\n",
    "\n",
    "# Test the linear regression model\n",
    "predicted = reg_lin.predict(X_test)\n",
    "print(reg_lin.intercept_, reg_lin.coef_)"
   ]
  },
  {
   "cell_type": "markdown",
   "id": "85ceff5d",
   "metadata": {},
   "source": [
    "(b) Random forest"
   ]
  },
  {
   "cell_type": "code",
   "execution_count": 12,
   "id": "e35adf7c",
   "metadata": {},
   "outputs": [
    {
     "data": {
      "text/plain": [
       "array([0.16289627, 0.06888482, 0.18715575, 0.14345853, 0.15467481,\n",
       "       0.0667995 , 0.05931025, 0.02914767, 0.10035449, 0.01626613,\n",
       "       0.00336824, 0.00768353])"
      ]
     },
     "execution_count": 12,
     "metadata": {},
     "output_type": "execute_result"
    }
   ],
   "source": [
    "# Import RandomForestRegressor from sklearn\n",
    "from sklearn.ensemble import RandomForestRegressor\n",
    "\n",
    "# Instantiate the regressor with default value for hyperparameters\n",
    "reg_forest = RandomForestRegressor(random_state=123)\n",
    "\n",
    "# Fit the regressor to the training data\n",
    "reg_forest.fit(X_train, y_train)\n",
    "reg_forest.feature_importances_"
   ]
  },
  {
   "cell_type": "markdown",
   "id": "85275860",
   "metadata": {},
   "source": [
    "(c) Neural Network"
   ]
  },
  {
   "cell_type": "code",
   "execution_count": 13,
   "id": "f294bb52",
   "metadata": {},
   "outputs": [
    {
     "data": {
      "text/plain": [
       "MLPRegressor(random_state=123)"
      ]
     },
     "execution_count": 13,
     "metadata": {},
     "output_type": "execute_result"
    }
   ],
   "source": [
    "# Import MLPRegressor from skleatn\n",
    "from sklearn.neural_network import MLPRegressor\n",
    "\n",
    "#Instantiate the regressor with default values\n",
    "reg_neural = MLPRegressor(random_state=123)\n",
    "\n",
    "# Fit the regressor to the training data\n",
    "reg_neural.fit(X_train, y_train)"
   ]
  },
  {
   "cell_type": "markdown",
   "id": "b118cb0d",
   "metadata": {},
   "source": [
    "#### Dump model_fit file(s)"
   ]
  },
  {
   "cell_type": "code",
   "execution_count": 14,
   "id": "c3571de0",
   "metadata": {},
   "outputs": [],
   "source": [
    "# Import the dump function\n",
    "from joblib import dump"
   ]
  },
  {
   "cell_type": "code",
   "execution_count": 15,
   "id": "77882290",
   "metadata": {},
   "outputs": [],
   "source": [
    "# Save linear regression model to disk\n",
    "filename = os.path.join(input_dir,'lin_model_v2_1.joblib')\n",
    "dump(reg_lin, open(filename, 'wb'))"
   ]
  },
  {
   "cell_type": "code",
   "execution_count": 16,
   "id": "8993fcd5",
   "metadata": {},
   "outputs": [],
   "source": [
    "# Save random forest model to disk\n",
    "filename = os.path.join(input_dir,'forest_model_v2_1.joblib')\n",
    "dump(reg_forest, open(filename, 'wb'))"
   ]
  },
  {
   "cell_type": "code",
   "execution_count": 17,
   "id": "246e3148",
   "metadata": {},
   "outputs": [],
   "source": [
    "# Save neural network model to disk\n",
    "filename = os.path.join(input_dir,'neural_model_v2_1.joblib')\n",
    "dump(reg_neural, open(filename, 'wb'))"
   ]
  },
  {
   "cell_type": "code",
   "execution_count": null,
   "id": "f67163f5",
   "metadata": {},
   "outputs": [],
   "source": []
  }
 ],
 "metadata": {
  "kernelspec": {
   "display_name": "Python 3 (ipykernel)",
   "language": "python",
   "name": "python3"
  },
  "language_info": {
   "codemirror_mode": {
    "name": "ipython",
    "version": 3
   },
   "file_extension": ".py",
   "mimetype": "text/x-python",
   "name": "python",
   "nbconvert_exporter": "python",
   "pygments_lexer": "ipython3",
   "version": "3.9.7"
  }
 },
 "nbformat": 4,
 "nbformat_minor": 5
}

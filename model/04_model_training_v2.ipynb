{
 "cells": [
  {
   "cell_type": "markdown",
   "metadata": {},
   "source": [
    "## 04 Model Training (v2)"
   ]
  },
  {
   "cell_type": "markdown",
   "metadata": {},
   "source": [
    "#### Import relevant libraries"
   ]
  },
  {
   "cell_type": "code",
   "execution_count": 1,
   "metadata": {},
   "outputs": [],
   "source": [
    "import os\n",
    "import sklearn as skl\n",
    "import pandas as pd\n",
    "import numpy as np"
   ]
  },
  {
   "cell_type": "markdown",
   "metadata": {},
   "source": [
    "#### Load model training data"
   ]
  },
  {
   "cell_type": "code",
   "execution_count": 2,
   "metadata": {},
   "outputs": [],
   "source": [
    "#directory (folder) for model v2\n",
    "model_v2_dir = os.path.join('..', 'data', 'processed', 'model_v2')\n",
    "df = pd.read_csv(os.path.join(model_v2_dir, 'model_2_data.csv'))"
   ]
  },
  {
   "cell_type": "code",
   "execution_count": 3,
   "metadata": {},
   "outputs": [
    {
     "data": {
      "text/html": [
       "<div>\n",
       "<style scoped>\n",
       "    .dataframe tbody tr th:only-of-type {\n",
       "        vertical-align: middle;\n",
       "    }\n",
       "\n",
       "    .dataframe tbody tr th {\n",
       "        vertical-align: top;\n",
       "    }\n",
       "\n",
       "    .dataframe thead th {\n",
       "        text-align: right;\n",
       "    }\n",
       "</style>\n",
       "<table border=\"1\" class=\"dataframe\">\n",
       "  <thead>\n",
       "    <tr style=\"text-align: right;\">\n",
       "      <th></th>\n",
       "      <th>target</th>\n",
       "      <th>x01</th>\n",
       "      <th>x02</th>\n",
       "      <th>x03</th>\n",
       "      <th>x04</th>\n",
       "      <th>x05</th>\n",
       "      <th>x06</th>\n",
       "      <th>x07</th>\n",
       "      <th>x08</th>\n",
       "      <th>c09</th>\n",
       "    </tr>\n",
       "  </thead>\n",
       "  <tbody>\n",
       "    <tr>\n",
       "      <th>0</th>\n",
       "      <td>0.024761</td>\n",
       "      <td>0.277673</td>\n",
       "      <td>0.074652</td>\n",
       "      <td>76.268450</td>\n",
       "      <td>1.0</td>\n",
       "      <td>0.234956</td>\n",
       "      <td>0.780306</td>\n",
       "      <td>0.219694</td>\n",
       "      <td>0.0</td>\n",
       "      <td>vert_int</td>\n",
       "    </tr>\n",
       "    <tr>\n",
       "      <th>1</th>\n",
       "      <td>0.004686</td>\n",
       "      <td>0.535174</td>\n",
       "      <td>0.340114</td>\n",
       "      <td>56.872832</td>\n",
       "      <td>1.0</td>\n",
       "      <td>0.258488</td>\n",
       "      <td>0.826090</td>\n",
       "      <td>0.173910</td>\n",
       "      <td>0.0</td>\n",
       "      <td>vert_int</td>\n",
       "    </tr>\n",
       "    <tr>\n",
       "      <th>2</th>\n",
       "      <td>0.002276</td>\n",
       "      <td>0.590562</td>\n",
       "      <td>0.256538</td>\n",
       "      <td>39.581972</td>\n",
       "      <td>1.0</td>\n",
       "      <td>0.283575</td>\n",
       "      <td>0.847292</td>\n",
       "      <td>0.152708</td>\n",
       "      <td>0.0</td>\n",
       "      <td>vert_int</td>\n",
       "    </tr>\n",
       "    <tr>\n",
       "      <th>3</th>\n",
       "      <td>0.025767</td>\n",
       "      <td>0.532942</td>\n",
       "      <td>0.190320</td>\n",
       "      <td>48.594641</td>\n",
       "      <td>1.0</td>\n",
       "      <td>0.297706</td>\n",
       "      <td>0.714805</td>\n",
       "      <td>0.285195</td>\n",
       "      <td>0.0</td>\n",
       "      <td>vert_int</td>\n",
       "    </tr>\n",
       "    <tr>\n",
       "      <th>4</th>\n",
       "      <td>0.035918</td>\n",
       "      <td>0.544757</td>\n",
       "      <td>0.132016</td>\n",
       "      <td>63.100622</td>\n",
       "      <td>1.0</td>\n",
       "      <td>0.284825</td>\n",
       "      <td>0.788407</td>\n",
       "      <td>0.211593</td>\n",
       "      <td>0.0</td>\n",
       "      <td>vert_int</td>\n",
       "    </tr>\n",
       "  </tbody>\n",
       "</table>\n",
       "</div>"
      ],
      "text/plain": [
       "     target       x01       x02        x03  x04       x05       x06       x07  \\\n",
       "0  0.024761  0.277673  0.074652  76.268450  1.0  0.234956  0.780306  0.219694   \n",
       "1  0.004686  0.535174  0.340114  56.872832  1.0  0.258488  0.826090  0.173910   \n",
       "2  0.002276  0.590562  0.256538  39.581972  1.0  0.283575  0.847292  0.152708   \n",
       "3  0.025767  0.532942  0.190320  48.594641  1.0  0.297706  0.714805  0.285195   \n",
       "4  0.035918  0.544757  0.132016  63.100622  1.0  0.284825  0.788407  0.211593   \n",
       "\n",
       "   x08       c09  \n",
       "0  0.0  vert_int  \n",
       "1  0.0  vert_int  \n",
       "2  0.0  vert_int  \n",
       "3  0.0  vert_int  \n",
       "4  0.0  vert_int  "
      ]
     },
     "execution_count": 3,
     "metadata": {},
     "output_type": "execute_result"
    }
   ],
   "source": [
    "df.head()"
   ]
  },
  {
   "cell_type": "markdown",
   "metadata": {},
   "source": [
    "#### One-hot encoding categorical variables"
   ]
  },
  {
   "cell_type": "code",
   "execution_count": 4,
   "metadata": {},
   "outputs": [
    {
     "data": {
      "text/html": [
       "<div>\n",
       "<style scoped>\n",
       "    .dataframe tbody tr th:only-of-type {\n",
       "        vertical-align: middle;\n",
       "    }\n",
       "\n",
       "    .dataframe tbody tr th {\n",
       "        vertical-align: top;\n",
       "    }\n",
       "\n",
       "    .dataframe thead th {\n",
       "        text-align: right;\n",
       "    }\n",
       "</style>\n",
       "<table border=\"1\" class=\"dataframe\">\n",
       "  <thead>\n",
       "    <tr style=\"text-align: right;\">\n",
       "      <th></th>\n",
       "      <th>c09_other_wires</th>\n",
       "      <th>c09_restructured</th>\n",
       "      <th>c09_vert_int</th>\n",
       "    </tr>\n",
       "  </thead>\n",
       "  <tbody>\n",
       "    <tr>\n",
       "      <th>0</th>\n",
       "      <td>0</td>\n",
       "      <td>0</td>\n",
       "      <td>1</td>\n",
       "    </tr>\n",
       "    <tr>\n",
       "      <th>1</th>\n",
       "      <td>0</td>\n",
       "      <td>0</td>\n",
       "      <td>1</td>\n",
       "    </tr>\n",
       "    <tr>\n",
       "      <th>2</th>\n",
       "      <td>0</td>\n",
       "      <td>0</td>\n",
       "      <td>1</td>\n",
       "    </tr>\n",
       "    <tr>\n",
       "      <th>3</th>\n",
       "      <td>0</td>\n",
       "      <td>0</td>\n",
       "      <td>1</td>\n",
       "    </tr>\n",
       "    <tr>\n",
       "      <th>4</th>\n",
       "      <td>0</td>\n",
       "      <td>0</td>\n",
       "      <td>1</td>\n",
       "    </tr>\n",
       "  </tbody>\n",
       "</table>\n",
       "</div>"
      ],
      "text/plain": [
       "   c09_other_wires  c09_restructured  c09_vert_int\n",
       "0                0                 0             1\n",
       "1                0                 0             1\n",
       "2                0                 0             1\n",
       "3                0                 0             1\n",
       "4                0                 0             1"
      ]
     },
     "execution_count": 4,
     "metadata": {},
     "output_type": "execute_result"
    }
   ],
   "source": [
    "categorical_vars = df.columns[[col_name.startswith('c') for col_name in df.columns]]\n",
    "c_vars = pd.get_dummies(df[categorical_vars], drop_first=True)\n",
    "c_vars.head()"
   ]
  },
  {
   "cell_type": "markdown",
   "metadata": {},
   "source": [
    "#### Scale predictor variables"
   ]
  },
  {
   "cell_type": "code",
   "execution_count": 5,
   "metadata": {},
   "outputs": [
    {
     "data": {
      "text/html": [
       "<div>\n",
       "<style scoped>\n",
       "    .dataframe tbody tr th:only-of-type {\n",
       "        vertical-align: middle;\n",
       "    }\n",
       "\n",
       "    .dataframe tbody tr th {\n",
       "        vertical-align: top;\n",
       "    }\n",
       "\n",
       "    .dataframe thead th {\n",
       "        text-align: right;\n",
       "    }\n",
       "</style>\n",
       "<table border=\"1\" class=\"dataframe\">\n",
       "  <thead>\n",
       "    <tr style=\"text-align: right;\">\n",
       "      <th></th>\n",
       "      <th>x01</th>\n",
       "      <th>x02</th>\n",
       "      <th>x03</th>\n",
       "      <th>x04</th>\n",
       "      <th>x05</th>\n",
       "      <th>x06</th>\n",
       "      <th>x07</th>\n",
       "      <th>x08</th>\n",
       "    </tr>\n",
       "  </thead>\n",
       "  <tbody>\n",
       "    <tr>\n",
       "      <th>0</th>\n",
       "      <td>-1.223755</td>\n",
       "      <td>-0.275048</td>\n",
       "      <td>0.225081</td>\n",
       "      <td>-0.081346</td>\n",
       "      <td>0.049230</td>\n",
       "      <td>1.749408</td>\n",
       "      <td>-0.006572</td>\n",
       "      <td>-0.717901</td>\n",
       "    </tr>\n",
       "    <tr>\n",
       "      <th>1</th>\n",
       "      <td>-0.423770</td>\n",
       "      <td>0.539339</td>\n",
       "      <td>-0.160312</td>\n",
       "      <td>-0.081346</td>\n",
       "      <td>0.059663</td>\n",
       "      <td>1.879485</td>\n",
       "      <td>-0.095378</td>\n",
       "      <td>-0.717901</td>\n",
       "    </tr>\n",
       "    <tr>\n",
       "      <th>2</th>\n",
       "      <td>-0.251693</td>\n",
       "      <td>0.282944</td>\n",
       "      <td>-0.503884</td>\n",
       "      <td>-0.081346</td>\n",
       "      <td>0.070785</td>\n",
       "      <td>1.939722</td>\n",
       "      <td>-0.136504</td>\n",
       "      <td>-0.717901</td>\n",
       "    </tr>\n",
       "    <tr>\n",
       "      <th>3</th>\n",
       "      <td>-0.430705</td>\n",
       "      <td>0.079798</td>\n",
       "      <td>-0.324801</td>\n",
       "      <td>-0.081346</td>\n",
       "      <td>0.077051</td>\n",
       "      <td>1.563311</td>\n",
       "      <td>0.120481</td>\n",
       "      <td>-0.717901</td>\n",
       "    </tr>\n",
       "    <tr>\n",
       "      <th>4</th>\n",
       "      <td>-0.393997</td>\n",
       "      <td>-0.099067</td>\n",
       "      <td>-0.036565</td>\n",
       "      <td>-0.081346</td>\n",
       "      <td>0.071340</td>\n",
       "      <td>1.772423</td>\n",
       "      <td>-0.022285</td>\n",
       "      <td>-0.717901</td>\n",
       "    </tr>\n",
       "  </tbody>\n",
       "</table>\n",
       "</div>"
      ],
      "text/plain": [
       "        x01       x02       x03       x04       x05       x06       x07  \\\n",
       "0 -1.223755 -0.275048  0.225081 -0.081346  0.049230  1.749408 -0.006572   \n",
       "1 -0.423770  0.539339 -0.160312 -0.081346  0.059663  1.879485 -0.095378   \n",
       "2 -0.251693  0.282944 -0.503884 -0.081346  0.070785  1.939722 -0.136504   \n",
       "3 -0.430705  0.079798 -0.324801 -0.081346  0.077051  1.563311  0.120481   \n",
       "4 -0.393997 -0.099067 -0.036565 -0.081346  0.071340  1.772423 -0.022285   \n",
       "\n",
       "        x08  \n",
       "0 -0.717901  \n",
       "1 -0.717901  \n",
       "2 -0.717901  \n",
       "3 -0.717901  \n",
       "4 -0.717901  "
      ]
     },
     "execution_count": 5,
     "metadata": {},
     "output_type": "execute_result"
    }
   ],
   "source": [
    "from sklearn.preprocessing import scale\n",
    "continuous_vars = df.columns[[col_name.startswith('x') for col_name in df.columns]]\n",
    "x_vars = df[continuous_vars].copy()\n",
    "\n",
    "for col_name in continuous_vars:\n",
    "    x_vars[col_name] = scale(df[col_name])\n",
    "\n",
    "x_vars.head()"
   ]
  },
  {
   "cell_type": "markdown",
   "metadata": {},
   "source": [
    "#### Split into test and train sets"
   ]
  },
  {
   "cell_type": "code",
   "execution_count": 6,
   "metadata": {},
   "outputs": [],
   "source": [
    "y = df['target']\n",
    "X = x_vars.join(c_vars)"
   ]
  },
  {
   "cell_type": "code",
   "execution_count": 7,
   "metadata": {},
   "outputs": [
    {
     "name": "stdout",
     "output_type": "stream",
     "text": [
      "(856, 11) (856,)\n",
      "(215, 11) (215,)\n"
     ]
    }
   ],
   "source": [
    "from sklearn.model_selection import train_test_split\n",
    "X_train, X_test, y_train, y_test = train_test_split(X, y, test_size=0.2, random_state=123)\n",
    "print(X_train.shape, y_train.shape); print(X_test.shape, y_test.shape);"
   ]
  },
  {
   "cell_type": "markdown",
   "metadata": {},
   "source": [
    "Save as csv for use in fit evaluation step"
   ]
  },
  {
   "cell_type": "code",
   "execution_count": 8,
   "metadata": {},
   "outputs": [],
   "source": [
    "X_train.to_csv(os.path.join(model_v2_dir, 'X_train.csv'), index=False)\n",
    "X_test.to_csv(os.path.join(model_v2_dir, 'X_test.csv'), index=False)\n",
    "y_train.to_csv(os.path.join(model_v2_dir, 'y_train.csv'), index=False)\n",
    "y_test.to_csv(os.path.join(model_v2_dir, 'y_test.csv'), index=False)"
   ]
  },
  {
   "cell_type": "code",
   "execution_count": 9,
   "metadata": {},
   "outputs": [],
   "source": [
    "np.save(os.path.join(model_v2_dir, 'X_train'), X_train)\n",
    "np.save(os.path.join(model_v2_dir, 'X_test'), X_test)\n",
    "np.save(os.path.join(model_v2_dir, 'y_train'), y_train)\n",
    "np.save(os.path.join(model_v2_dir, 'y_test'), y_test)"
   ]
  },
  {
   "cell_type": "markdown",
   "metadata": {},
   "source": [
    "#### Fit regression model"
   ]
  },
  {
   "cell_type": "markdown",
   "metadata": {},
   "source": [
    "(a) Linear regression"
   ]
  },
  {
   "cell_type": "code",
   "execution_count": 10,
   "metadata": {},
   "outputs": [
    {
     "name": "stdout",
     "output_type": "stream",
     "text": [
      "-0.19965944134703173 [ 0.06999916  0.05312202 -0.45028993 -0.39870787  0.01638194  0.02441756\n",
      " -0.03542413 -0.14889198  1.80128843  0.78160843  0.2743148 ]\n"
     ]
    }
   ],
   "source": [
    "# Import LinearRegression from sklearn\n",
    "from sklearn.linear_model import LinearRegression\n",
    "\n",
    "# Instantiate the regressor\n",
    "reg_lin = LinearRegression()\n",
    "\n",
    "# Fit the regressor to the training data\n",
    "reg_lin.fit(X_train, y_train)\n",
    "\n",
    "# Test the linear regression model\n",
    "predicted = reg_lin.predict(X_test)\n",
    "print(reg_lin.intercept_, reg_lin.coef_)"
   ]
  },
  {
   "cell_type": "markdown",
   "metadata": {},
   "source": [
    "(b) Random forest"
   ]
  },
  {
   "cell_type": "code",
   "execution_count": 11,
   "metadata": {},
   "outputs": [
    {
     "data": {
      "text/plain": [
       "array([0.19530254, 0.02053476, 0.53014203, 0.15175003, 0.0348578 ,\n",
       "       0.01129251, 0.01076165, 0.02652324, 0.01199936, 0.00225218,\n",
       "       0.00458389])"
      ]
     },
     "execution_count": 11,
     "metadata": {},
     "output_type": "execute_result"
    }
   ],
   "source": [
    "# Import RandomForestRegressor from sklearn\n",
    "from sklearn.ensemble import RandomForestRegressor\n",
    "\n",
    "# Instantiate the regressor with default value for hyperparameters\n",
    "reg_forest = RandomForestRegressor(random_state=123)\n",
    "\n",
    "# Fit the regressor to the training data\n",
    "reg_forest.fit(X_train, y_train)\n",
    "reg_forest.feature_importances_"
   ]
  },
  {
   "cell_type": "markdown",
   "metadata": {},
   "source": [
    "(c) Neural Network"
   ]
  },
  {
   "cell_type": "code",
   "execution_count": 12,
   "metadata": {},
   "outputs": [
    {
     "name": "stderr",
     "output_type": "stream",
     "text": [
      "/Library/Frameworks/Python.framework/Versions/3.8/lib/python3.8/site-packages/sklearn/neural_network/_multilayer_perceptron.py:692: ConvergenceWarning: Stochastic Optimizer: Maximum iterations (200) reached and the optimization hasn't converged yet.\n",
      "  warnings.warn(\n"
     ]
    },
    {
     "data": {
      "text/plain": [
       "MLPRegressor(random_state=123)"
      ]
     },
     "execution_count": 12,
     "metadata": {},
     "output_type": "execute_result"
    }
   ],
   "source": [
    "# Import MLPRegressor from skleatn\n",
    "from sklearn.neural_network import MLPRegressor\n",
    "\n",
    "#Instantiate the regressor with default values\n",
    "reg_neural = MLPRegressor(random_state=123)\n",
    "\n",
    "# Fit the regressor to the training data\n",
    "reg_neural.fit(X_train, y_train)"
   ]
  },
  {
   "cell_type": "markdown",
   "metadata": {},
   "source": [
    "#### Dump model_fit file(s)"
   ]
  },
  {
   "cell_type": "code",
   "execution_count": 13,
   "metadata": {},
   "outputs": [],
   "source": [
    "# Import the dump function\n",
    "from joblib import dump"
   ]
  },
  {
   "cell_type": "code",
   "execution_count": 14,
   "metadata": {},
   "outputs": [],
   "source": [
    "# Save linear regression model to disk\n",
    "filename = os.path.join(model_v2_dir,'lin_model_v2_1.joblib')\n",
    "dump(reg_lin, open(filename, 'wb'))"
   ]
  },
  {
   "cell_type": "code",
   "execution_count": 15,
   "metadata": {},
   "outputs": [],
   "source": [
    "# Save random forest model to disk\n",
    "filename = os.path.join(model_v2_dir,'forest_model_v2_1.joblib')\n",
    "dump(reg_forest, open(filename, 'wb'))"
   ]
  },
  {
   "cell_type": "code",
   "execution_count": 16,
   "metadata": {},
   "outputs": [],
   "source": [
    "# Save neural network model to disk\n",
    "filename = os.path.join(model_v2_dir,'neural_model_v2_1.joblib')\n",
    "dump(reg_neural, open(filename, 'wb'))"
   ]
  },
  {
   "cell_type": "code",
   "execution_count": null,
   "metadata": {},
   "outputs": [],
   "source": []
  }
 ],
 "metadata": {
  "kernelspec": {
   "display_name": "Python 3",
   "language": "python",
   "name": "python3"
  },
  "language_info": {
   "codemirror_mode": {
    "name": "ipython",
    "version": 3
   },
   "file_extension": ".py",
   "mimetype": "text/x-python",
   "name": "python",
   "nbconvert_exporter": "python",
   "pygments_lexer": "ipython3",
   "version": "3.8.5"
  }
 },
 "nbformat": 4,
 "nbformat_minor": 5
}

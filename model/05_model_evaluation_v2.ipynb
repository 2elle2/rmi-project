{
 "cells": [
  {
   "cell_type": "markdown",
   "metadata": {},
   "source": [
    "## 05 Model Evaluation (v2)"
   ]
  },
  {
   "cell_type": "markdown",
   "metadata": {},
   "source": [
    "#### Import relevant libraries"
   ]
  },
  {
   "cell_type": "code",
   "execution_count": 1,
   "metadata": {},
   "outputs": [],
   "source": [
    "import os\n",
    "import numpy as np\n",
    "import pandas as pd\n",
    "from joblib import dump, load\n",
    "\n",
    "import matplotlib.pyplot as plt\n",
    "%matplotlib inline"
   ]
  },
  {
   "cell_type": "code",
   "execution_count": 2,
   "metadata": {},
   "outputs": [],
   "source": [
    "# Import mean_absolute_error, mean_squared_error from sklearn\n",
    "from sklearn.metrics import mean_absolute_error, mean_squared_error, r2_score"
   ]
  },
  {
   "cell_type": "markdown",
   "metadata": {},
   "source": [
    "#### Load model_fit file"
   ]
  },
  {
   "cell_type": "code",
   "execution_count": 3,
   "metadata": {},
   "outputs": [],
   "source": [
    "#directory (folder) for model v2\n",
    "model_v2_dir = os.path.join('..', 'data', 'processed', 'model_v2')\n",
    "\n",
    "plots_dir = os.path.join('..', 'data', 'figures', 'model_v2')\n",
    "\n",
    "lin_model = load(os.path.join(model_v2_dir, 'lin_model_v2_1.joblib'))\n",
    "rf_model = load(os.path.join(model_v2_dir, 'forest_model_v2_1.joblib'))\n",
    "nnet_model = load(os.path.join(model_v2_dir, 'neural_model_v2_1.joblib'))"
   ]
  },
  {
   "cell_type": "markdown",
   "metadata": {},
   "source": [
    "#### Load in test and train data"
   ]
  },
  {
   "cell_type": "code",
   "execution_count": 4,
   "metadata": {},
   "outputs": [],
   "source": [
    "X_train = pd.read_csv(os.path.join(model_v2_dir, 'X_train.csv'))\n",
    "X_test = pd.read_csv(os.path.join(model_v2_dir, 'X_test.csv'))\n",
    "y_train = np.array(pd.read_csv(os.path.join(model_v2_dir, 'y_train.csv'))['target'])\n",
    "y_test = np.array(pd.read_csv(os.path.join(model_v2_dir, 'y_test.csv'))['target'])"
   ]
  },
  {
   "cell_type": "code",
   "execution_count": 5,
   "metadata": {},
   "outputs": [],
   "source": [
    "X_train = X_train.rename(columns={\n",
    "    'c09_other_wires': 'c09',\n",
    "    'c09_restructured': 'c09b',\n",
    "    'c09_vert_int': 'c09c',\n",
    "    \n",
    "})\n",
    "X_test = X_test.rename(columns={\n",
    "    'c09_other_wires': 'c09',\n",
    "    'c09_restructured': 'c09b',\n",
    "    'c09_vert_int': 'c09c',\n",
    "    \n",
    "})"
   ]
  },
  {
   "cell_type": "markdown",
   "metadata": {},
   "source": [
    "#### Predict on test set using trained models"
   ]
  },
  {
   "cell_type": "code",
   "execution_count": 6,
   "metadata": {},
   "outputs": [
    {
     "name": "stderr",
     "output_type": "stream",
     "text": [
      "/Library/Frameworks/Python.framework/Versions/3.8/lib/python3.8/site-packages/sklearn/base.py:493: FutureWarning: The feature names should match those that were passed during fit. Starting version 1.2, an error will be raised.\n",
      "Feature names unseen at fit time:\n",
      "- c09\n",
      "- c09b\n",
      "- c09c\n",
      "Feature names seen at fit time, yet now missing:\n",
      "- c09_other_wires\n",
      "- c09_restructured\n",
      "- c09_vert_int\n",
      "\n",
      "  warnings.warn(message, FutureWarning)\n",
      "/Library/Frameworks/Python.framework/Versions/3.8/lib/python3.8/site-packages/sklearn/base.py:493: FutureWarning: The feature names should match those that were passed during fit. Starting version 1.2, an error will be raised.\n",
      "Feature names unseen at fit time:\n",
      "- c09\n",
      "- c09b\n",
      "- c09c\n",
      "Feature names seen at fit time, yet now missing:\n",
      "- c09_other_wires\n",
      "- c09_restructured\n",
      "- c09_vert_int\n",
      "\n",
      "  warnings.warn(message, FutureWarning)\n",
      "/Library/Frameworks/Python.framework/Versions/3.8/lib/python3.8/site-packages/sklearn/base.py:493: FutureWarning: The feature names should match those that were passed during fit. Starting version 1.2, an error will be raised.\n",
      "Feature names unseen at fit time:\n",
      "- c09\n",
      "- c09b\n",
      "- c09c\n",
      "Feature names seen at fit time, yet now missing:\n",
      "- c09_other_wires\n",
      "- c09_restructured\n",
      "- c09_vert_int\n",
      "\n",
      "  warnings.warn(message, FutureWarning)\n"
     ]
    }
   ],
   "source": [
    "y_pred_lin = lin_model.predict(X_test)\n",
    "y_pred_rf = rf_model.predict(X_test)\n",
    "y_pred_nnet = nnet_model.predict(X_test)"
   ]
  },
  {
   "cell_type": "code",
   "execution_count": 7,
   "metadata": {},
   "outputs": [
    {
     "data": {
      "image/png": "[encoded data removed]",
      "text/plain": [
       "<Figure size 432x288 with 1 Axes>"
      ]
     },
     "metadata": {
      "needs_background": "light"
     },
     "output_type": "display_data"
    }
   ],
   "source": [
    "lin_df = pd.DataFrame({'Actual': y_test, 'Predicted': y_pred_lin})\n",
    "\n",
    "fig, ax = plt.subplots()\n",
    "ax.scatter(y_pred_lin, y_test)\n",
    "lims = [\n",
    "    np.min([ax.get_xlim(), ax.get_ylim()]),  # min of both axes\n",
    "    np.max([ax.get_xlim(), ax.get_ylim()]),  # max of both axes\n",
    "]\n",
    "ax.plot(lims, lims, 'k-', alpha=0.75, zorder=0)\n",
    "ax.set_aspect('equal')\n",
    "ax.set_xlabel('Predicted')\n",
    "ax.set_ylabel('Actual')\n",
    "ax.set_title('Predicted vs Actual Normalized Cost of Energy')\n",
    "ax.set_xlim(lims)\n",
    "ax.set_ylim(lims)\n",
    "\n",
    "fig.savefig(os.path.join(plots_dir, 'lm_actual_vs_pred_scatter.png'), dpi=300)"
   ]
  },
  {
   "cell_type": "code",
   "execution_count": 8,
   "metadata": {},
   "outputs": [
    {
     "data": {
      "text/html": [
       "<div>\n",
       "<style scoped>\n",
       "    .dataframe tbody tr th:only-of-type {\n",
       "        vertical-align: middle;\n",
       "    }\n",
       "\n",
       "    .dataframe tbody tr th {\n",
       "        vertical-align: top;\n",
       "    }\n",
       "\n",
       "    .dataframe thead th {\n",
       "        text-align: right;\n",
       "    }\n",
       "</style>\n",
       "<table border=\"1\" class=\"dataframe\">\n",
       "  <thead>\n",
       "    <tr style=\"text-align: right;\">\n",
       "      <th></th>\n",
       "      <th>Actual</th>\n",
       "      <th>Predicted</th>\n",
       "    </tr>\n",
       "  </thead>\n",
       "  <tbody>\n",
       "    <tr>\n",
       "      <th>0</th>\n",
       "      <td>0.065813</td>\n",
       "      <td>-1.123389</td>\n",
       "    </tr>\n",
       "    <tr>\n",
       "      <th>1</th>\n",
       "      <td>-0.017532</td>\n",
       "      <td>2.074596</td>\n",
       "    </tr>\n",
       "    <tr>\n",
       "      <th>2</th>\n",
       "      <td>0.034066</td>\n",
       "      <td>0.630468</td>\n",
       "    </tr>\n",
       "    <tr>\n",
       "      <th>3</th>\n",
       "      <td>0.041836</td>\n",
       "      <td>0.236960</td>\n",
       "    </tr>\n",
       "    <tr>\n",
       "      <th>4</th>\n",
       "      <td>0.024043</td>\n",
       "      <td>0.242741</td>\n",
       "    </tr>\n",
       "    <tr>\n",
       "      <th>...</th>\n",
       "      <td>...</td>\n",
       "      <td>...</td>\n",
       "    </tr>\n",
       "    <tr>\n",
       "      <th>210</th>\n",
       "      <td>0.071436</td>\n",
       "      <td>0.427473</td>\n",
       "    </tr>\n",
       "    <tr>\n",
       "      <th>211</th>\n",
       "      <td>0.085105</td>\n",
       "      <td>0.249576</td>\n",
       "    </tr>\n",
       "    <tr>\n",
       "      <th>212</th>\n",
       "      <td>-0.026935</td>\n",
       "      <td>-0.562345</td>\n",
       "    </tr>\n",
       "    <tr>\n",
       "      <th>213</th>\n",
       "      <td>0.076367</td>\n",
       "      <td>-0.193515</td>\n",
       "    </tr>\n",
       "    <tr>\n",
       "      <th>214</th>\n",
       "      <td>0.002043</td>\n",
       "      <td>-1.145876</td>\n",
       "    </tr>\n",
       "  </tbody>\n",
       "</table>\n",
       "<p>215 rows × 2 columns</p>\n",
       "</div>"
      ],
      "text/plain": [
       "       Actual  Predicted\n",
       "0    0.065813  -1.123389\n",
       "1   -0.017532   2.074596\n",
       "2    0.034066   0.630468\n",
       "3    0.041836   0.236960\n",
       "4    0.024043   0.242741\n",
       "..        ...        ...\n",
       "210  0.071436   0.427473\n",
       "211  0.085105   0.249576\n",
       "212 -0.026935  -0.562345\n",
       "213  0.076367  -0.193515\n",
       "214  0.002043  -1.145876\n",
       "\n",
       "[215 rows x 2 columns]"
      ]
     },
     "execution_count": 8,
     "metadata": {},
     "output_type": "execute_result"
    }
   ],
   "source": [
    "# lin_df[lin_df['Actual'] > 10]\n",
    "lin_df"
   ]
  },
  {
   "cell_type": "code",
   "execution_count": 9,
   "metadata": {},
   "outputs": [
    {
     "data": {
      "image/png": "[encoded data removed]",
      "text/plain": [
       "<Figure size 432x288 with 1 Axes>"
      ]
     },
     "metadata": {
      "needs_background": "light"
     },
     "output_type": "display_data"
    }
   ],
   "source": [
    "rf_df = pd.DataFrame({'Actual': y_test, 'Predicted': y_pred_rf})\n",
    "\n",
    "fig, ax = plt.subplots()\n",
    "ax.scatter(y_pred_rf, y_test)\n",
    "lims = [\n",
    "    np.min([ax.get_xlim(), ax.get_ylim()]),  # min of both axes\n",
    "    np.max([ax.get_xlim(), ax.get_ylim()]),  # max of both axes\n",
    "]\n",
    "ax.plot(lims, lims, 'k-', alpha=0.75, zorder=0)\n",
    "ax.set_aspect('equal')\n",
    "ax.set_xlabel('Predicted')\n",
    "ax.set_ylabel('Actual')\n",
    "ax.set_title('Predicted vs Actual Normalized Cost of Energy')\n",
    "ax.set_xlim(lims)\n",
    "ax.set_ylim(lims)\n",
    "\n",
    "fig.savefig(os.path.join(plots_dir, 'rf_actual_vs_pred_scatter.png'), dpi=300)"
   ]
  },
  {
   "cell_type": "markdown",
   "metadata": {},
   "source": [
    "#### Compute fit statistics"
   ]
  },
  {
   "cell_type": "markdown",
   "metadata": {},
   "source": [
    "(a) Bias := $\\sum (\\hat{y_i} - y_i) $"
   ]
  },
  {
   "cell_type": "code",
   "execution_count": 10,
   "metadata": {},
   "outputs": [
    {
     "name": "stdout",
     "output_type": "stream",
     "text": [
      "Bias of Linear Regression: -326.20730810343196\n",
      "Bias of Random Forest: -242.36801450523097\n"
     ]
    }
   ],
   "source": [
    "bias_lin = sum(y_pred_lin - y_test)\n",
    "bias_rf = sum(y_pred_rf - y_test)\n",
    "\n",
    "print(\"Bias of Linear Regression: {}\".format(bias_lin))\n",
    "print(\"Bias of Random Forest: {}\".format(bias_rf))"
   ]
  },
  {
   "cell_type": "markdown",
   "metadata": {},
   "source": [
    "(b) Mean Absolute Error := $\\frac{1}{n} \\sum |\\hat{y_i} - y_i|$"
   ]
  },
  {
   "cell_type": "code",
   "execution_count": 11,
   "metadata": {},
   "outputs": [
    {
     "name": "stdout",
     "output_type": "stream",
     "text": [
      "MAE of Linear Regression: 2.851189571149119\n",
      "MAE of Random Forest Model: 2.137554408326399\n"
     ]
    }
   ],
   "source": [
    "mae_lin = mean_absolute_error(y_test, y_pred_lin)\n",
    "mae_rf = mean_absolute_error(y_test, y_pred_rf)\n",
    "\n",
    "print(\"MAE of Linear Regression: {}\".format(mae_lin))\n",
    "print(\"MAE of Random Forest Model: {}\".format(mae_rf))"
   ]
  },
  {
   "cell_type": "markdown",
   "metadata": {},
   "source": [
    "(c) Root Mean Square Error := $\\sqrt{\\frac{1}{n} \\sum (\\hat{y_i} - y_i)^2}$"
   ]
  },
  {
   "cell_type": "code",
   "execution_count": 12,
   "metadata": {},
   "outputs": [
    {
     "name": "stdout",
     "output_type": "stream",
     "text": [
      "RMSE of Linear Regression: 29.76112936350808\n",
      "RMSE of Random Forest: 24.143872638281334\n"
     ]
    }
   ],
   "source": [
    "rmse_lin = np.sqrt(mean_squared_error(y_test, y_pred_lin))\n",
    "rmse_rf = np.sqrt(mean_squared_error(y_test, y_pred_rf))\n",
    "\n",
    "print(\"RMSE of Linear Regression: {}\".format(rmse_lin))\n",
    "print(\"RMSE of Random Forest: {}\".format(rmse_rf))"
   ]
  },
  {
   "cell_type": "markdown",
   "metadata": {},
   "source": [
    "(d) R squared := $1 - \\frac{RSS}{TSS}$ := $1- \\frac{\\sum (\\hat{y_i}-y_i)^2}{\\sum (y_i - \\mu)^2}$"
   ]
  },
  {
   "cell_type": "code",
   "execution_count": 13,
   "metadata": {},
   "outputs": [
    {
     "name": "stdout",
     "output_type": "stream",
     "text": [
      "R^2 of Linear Regression: 0.0043459353188400884\n",
      "R^2 of Random Forest: 0.34472512118877274\n"
     ]
    }
   ],
   "source": [
    "r2_lin = r2_score(y_test, y_pred_lin)\n",
    "r2_rf = r2_score(y_test, y_pred_rf)\n",
    "\n",
    "print(\"R^2 of Linear Regression: {}\".format(r2_lin))\n",
    "print(\"R^2 of Random Forest: {}\".format(r2_rf))"
   ]
  },
  {
   "cell_type": "code",
   "execution_count": 14,
   "metadata": {},
   "outputs": [
    {
     "name": "stdout",
     "output_type": "stream",
     "text": [
      "[0.19530254 0.02053476 0.53014203 0.15175003 0.0348578  0.01129251\n",
      " 0.01076165 0.02652324 0.01199936 0.00225218 0.00458389]\n"
     ]
    },
    {
     "data": {
      "image/png": "[encoded data removed]",
      "text/plain": [
       "<Figure size 432x288 with 1 Axes>"
      ]
     },
     "metadata": {
      "needs_background": "light"
     },
     "output_type": "display_data"
    }
   ],
   "source": [
    "print(rf_model.feature_importances_)\n",
    "variable_importance_df = pd.DataFrame({\n",
    "    'variable': np.array(['x01', 'x02', 'x03', 'x04', 'x05', 'x06', 'x07', 'x08', 'c09a', 'c09b', 'c09c']),\n",
    "    'values': rf_model.feature_importances_,\n",
    "})\n",
    "variable_importance_df = variable_importance_df.sort_values(by=['values'])\n",
    "plt.barh(variable_importance_df['variable'], variable_importance_df['values'])\n",
    "plt.savefig(os.path.join(plots_dir, 'rf_variable_importance_plot.png'), dpi=300)"
   ]
  },
  {
   "cell_type": "markdown",
   "metadata": {},
   "source": [
    "#### Coefficient value estimates, p-values and std error for each feature variable"
   ]
  },
  {
   "cell_type": "code",
   "execution_count": 15,
   "metadata": {},
   "outputs": [
    {
     "data": {
      "text/html": [
       "<div>\n",
       "<style scoped>\n",
       "    .dataframe tbody tr th:only-of-type {\n",
       "        vertical-align: middle;\n",
       "    }\n",
       "\n",
       "    .dataframe tbody tr th {\n",
       "        vertical-align: top;\n",
       "    }\n",
       "\n",
       "    .dataframe thead th {\n",
       "        text-align: right;\n",
       "    }\n",
       "</style>\n",
       "<table border=\"1\" class=\"dataframe\">\n",
       "  <thead>\n",
       "    <tr style=\"text-align: right;\">\n",
       "      <th></th>\n",
       "      <th>variables</th>\n",
       "      <th>coeff</th>\n",
       "    </tr>\n",
       "  </thead>\n",
       "  <tbody>\n",
       "    <tr>\n",
       "      <th>0</th>\n",
       "      <td>x01</td>\n",
       "      <td>0.069999</td>\n",
       "    </tr>\n",
       "    <tr>\n",
       "      <th>1</th>\n",
       "      <td>x02</td>\n",
       "      <td>0.053122</td>\n",
       "    </tr>\n",
       "    <tr>\n",
       "      <th>2</th>\n",
       "      <td>x03</td>\n",
       "      <td>-0.450290</td>\n",
       "    </tr>\n",
       "    <tr>\n",
       "      <th>3</th>\n",
       "      <td>x04</td>\n",
       "      <td>-0.398708</td>\n",
       "    </tr>\n",
       "    <tr>\n",
       "      <th>4</th>\n",
       "      <td>x05</td>\n",
       "      <td>0.016382</td>\n",
       "    </tr>\n",
       "    <tr>\n",
       "      <th>5</th>\n",
       "      <td>x06</td>\n",
       "      <td>0.024418</td>\n",
       "    </tr>\n",
       "    <tr>\n",
       "      <th>6</th>\n",
       "      <td>x07</td>\n",
       "      <td>-0.035424</td>\n",
       "    </tr>\n",
       "    <tr>\n",
       "      <th>7</th>\n",
       "      <td>x08</td>\n",
       "      <td>-0.148892</td>\n",
       "    </tr>\n",
       "    <tr>\n",
       "      <th>8</th>\n",
       "      <td>c09</td>\n",
       "      <td>1.801288</td>\n",
       "    </tr>\n",
       "    <tr>\n",
       "      <th>9</th>\n",
       "      <td>c09b</td>\n",
       "      <td>0.781608</td>\n",
       "    </tr>\n",
       "    <tr>\n",
       "      <th>10</th>\n",
       "      <td>c09c</td>\n",
       "      <td>0.274315</td>\n",
       "    </tr>\n",
       "  </tbody>\n",
       "</table>\n",
       "</div>"
      ],
      "text/plain": [
       "   variables     coeff\n",
       "0        x01  0.069999\n",
       "1        x02  0.053122\n",
       "2        x03 -0.450290\n",
       "3        x04 -0.398708\n",
       "4        x05  0.016382\n",
       "5        x06  0.024418\n",
       "6        x07 -0.035424\n",
       "7        x08 -0.148892\n",
       "8        c09  1.801288\n",
       "9       c09b  0.781608\n",
       "10      c09c  0.274315"
      ]
     },
     "execution_count": 15,
     "metadata": {},
     "output_type": "execute_result"
    }
   ],
   "source": [
    "results = pd.DataFrame({\n",
    "    'variables': X_train.columns,\n",
    "    'coeff': lin_model.coef_,\n",
    "})\n",
    "results"
   ]
  },
  {
   "cell_type": "markdown",
   "metadata": {},
   "source": [
    "Train fit analysis from OLS statsmodel package"
   ]
  },
  {
   "cell_type": "code",
   "execution_count": 16,
   "metadata": {},
   "outputs": [],
   "source": [
    "import statsmodels.api as sm"
   ]
  },
  {
   "cell_type": "code",
   "execution_count": 17,
   "metadata": {},
   "outputs": [
    {
     "data": {
      "text/html": [
       "<table class=\"simpletable\">\n",
       "<caption>OLS Regression Results</caption>\n",
       "<tr>\n",
       "  <th>Dep. Variable:</th>            <td>y</td>        <th>  R-squared:         </th> <td>   0.005</td>\n",
       "</tr>\n",
       "<tr>\n",
       "  <th>Model:</th>                   <td>OLS</td>       <th>  Adj. R-squared:    </th> <td>  -0.008</td>\n",
       "</tr>\n",
       "<tr>\n",
       "  <th>Method:</th>             <td>Least Squares</td>  <th>  F-statistic:       </th> <td>  0.3687</td>\n",
       "</tr>\n",
       "<tr>\n",
       "  <th>Date:</th>             <td>Sat, 21 May 2022</td> <th>  Prob (F-statistic):</th>  <td> 0.968</td> \n",
       "</tr>\n",
       "<tr>\n",
       "  <th>Time:</th>                 <td>15:40:37</td>     <th>  Log-Likelihood:    </th> <td> -3531.2</td>\n",
       "</tr>\n",
       "<tr>\n",
       "  <th>No. Observations:</th>      <td>   856</td>      <th>  AIC:               </th> <td>   7086.</td>\n",
       "</tr>\n",
       "<tr>\n",
       "  <th>Df Residuals:</th>          <td>   844</td>      <th>  BIC:               </th> <td>   7143.</td>\n",
       "</tr>\n",
       "<tr>\n",
       "  <th>Df Model:</th>              <td>    11</td>      <th>                     </th>     <td> </td>   \n",
       "</tr>\n",
       "<tr>\n",
       "  <th>Covariance Type:</th>      <td>nonrobust</td>    <th>                     </th>     <td> </td>   \n",
       "</tr>\n",
       "</table>\n",
       "<table class=\"simpletable\">\n",
       "<tr>\n",
       "    <td></td>       <th>coef</th>     <th>std err</th>      <th>t</th>      <th>P>|t|</th>  <th>[0.025</th>    <th>0.975]</th>  \n",
       "</tr>\n",
       "<tr>\n",
       "  <th>const</th> <td>   -0.1997</td> <td>    6.240</td> <td>   -0.032</td> <td> 0.974</td> <td>  -12.446</td> <td>   12.047</td>\n",
       "</tr>\n",
       "<tr>\n",
       "  <th>x01</th>   <td>    0.0700</td> <td>    0.629</td> <td>    0.111</td> <td> 0.911</td> <td>   -1.164</td> <td>    1.304</td>\n",
       "</tr>\n",
       "<tr>\n",
       "  <th>x02</th>   <td>    0.0531</td> <td>    0.567</td> <td>    0.094</td> <td> 0.925</td> <td>   -1.060</td> <td>    1.166</td>\n",
       "</tr>\n",
       "<tr>\n",
       "  <th>x03</th>   <td>   -0.4503</td> <td>    0.598</td> <td>   -0.753</td> <td> 0.451</td> <td>   -1.623</td> <td>    0.723</td>\n",
       "</tr>\n",
       "<tr>\n",
       "  <th>x04</th>   <td>   -0.3987</td> <td>    0.509</td> <td>   -0.783</td> <td> 0.434</td> <td>   -1.398</td> <td>    0.601</td>\n",
       "</tr>\n",
       "<tr>\n",
       "  <th>x05</th>   <td>    0.0164</td> <td>    0.464</td> <td>    0.035</td> <td> 0.972</td> <td>   -0.895</td> <td>    0.927</td>\n",
       "</tr>\n",
       "<tr>\n",
       "  <th>x06</th>   <td>    0.0244</td> <td>    0.590</td> <td>    0.041</td> <td> 0.967</td> <td>   -1.133</td> <td>    1.182</td>\n",
       "</tr>\n",
       "<tr>\n",
       "  <th>x07</th>   <td>   -0.0354</td> <td>    0.538</td> <td>   -0.066</td> <td> 0.948</td> <td>   -1.091</td> <td>    1.020</td>\n",
       "</tr>\n",
       "<tr>\n",
       "  <th>x08</th>   <td>   -0.1489</td> <td>    0.740</td> <td>   -0.201</td> <td> 0.841</td> <td>   -1.602</td> <td>    1.304</td>\n",
       "</tr>\n",
       "<tr>\n",
       "  <th>c09</th>   <td>    1.8013</td> <td>    6.323</td> <td>    0.285</td> <td> 0.776</td> <td>  -10.610</td> <td>   14.212</td>\n",
       "</tr>\n",
       "<tr>\n",
       "  <th>c09b</th>  <td>    0.7816</td> <td>    6.700</td> <td>    0.117</td> <td> 0.907</td> <td>  -12.368</td> <td>   13.932</td>\n",
       "</tr>\n",
       "<tr>\n",
       "  <th>c09c</th>  <td>    0.2743</td> <td>    6.273</td> <td>    0.044</td> <td> 0.965</td> <td>  -12.037</td> <td>   12.586</td>\n",
       "</tr>\n",
       "</table>\n",
       "<table class=\"simpletable\">\n",
       "<tr>\n",
       "  <th>Omnibus:</th>       <td>2280.444</td> <th>  Durbin-Watson:     </th>   <td>   2.001</td>  \n",
       "</tr>\n",
       "<tr>\n",
       "  <th>Prob(Omnibus):</th>  <td> 0.000</td>  <th>  Jarque-Bera (JB):  </th> <td>25452681.408</td>\n",
       "</tr>\n",
       "<tr>\n",
       "  <th>Skew:</th>           <td>28.994</td>  <th>  Prob(JB):          </th>   <td>    0.00</td>  \n",
       "</tr>\n",
       "<tr>\n",
       "  <th>Kurtosis:</th>       <td>845.772</td> <th>  Cond. No.          </th>   <td>    34.5</td>  \n",
       "</tr>\n",
       "</table><br/><br/>Notes:<br/>[1] Standard Errors assume that the covariance matrix of the errors is correctly specified."
      ],
      "text/plain": [
       "<class 'statsmodels.iolib.summary.Summary'>\n",
       "\"\"\"\n",
       "                            OLS Regression Results                            \n",
       "==============================================================================\n",
       "Dep. Variable:                      y   R-squared:                       0.005\n",
       "Model:                            OLS   Adj. R-squared:                 -0.008\n",
       "Method:                 Least Squares   F-statistic:                    0.3687\n",
       "Date:                Sat, 21 May 2022   Prob (F-statistic):              0.968\n",
       "Time:                        15:40:37   Log-Likelihood:                -3531.2\n",
       "No. Observations:                 856   AIC:                             7086.\n",
       "Df Residuals:                     844   BIC:                             7143.\n",
       "Df Model:                          11                                         \n",
       "Covariance Type:            nonrobust                                         \n",
       "==============================================================================\n",
       "                 coef    std err          t      P>|t|      [0.025      0.975]\n",
       "------------------------------------------------------------------------------\n",
       "const         -0.1997      6.240     -0.032      0.974     -12.446      12.047\n",
       "x01            0.0700      0.629      0.111      0.911      -1.164       1.304\n",
       "x02            0.0531      0.567      0.094      0.925      -1.060       1.166\n",
       "x03           -0.4503      0.598     -0.753      0.451      -1.623       0.723\n",
       "x04           -0.3987      0.509     -0.783      0.434      -1.398       0.601\n",
       "x05            0.0164      0.464      0.035      0.972      -0.895       0.927\n",
       "x06            0.0244      0.590      0.041      0.967      -1.133       1.182\n",
       "x07           -0.0354      0.538     -0.066      0.948      -1.091       1.020\n",
       "x08           -0.1489      0.740     -0.201      0.841      -1.602       1.304\n",
       "c09            1.8013      6.323      0.285      0.776     -10.610      14.212\n",
       "c09b           0.7816      6.700      0.117      0.907     -12.368      13.932\n",
       "c09c           0.2743      6.273      0.044      0.965     -12.037      12.586\n",
       "==============================================================================\n",
       "Omnibus:                     2280.444   Durbin-Watson:                   2.001\n",
       "Prob(Omnibus):                  0.000   Jarque-Bera (JB):         25452681.408\n",
       "Skew:                          28.994   Prob(JB):                         0.00\n",
       "Kurtosis:                     845.772   Cond. No.                         34.5\n",
       "==============================================================================\n",
       "\n",
       "Notes:\n",
       "[1] Standard Errors assume that the covariance matrix of the errors is correctly specified.\n",
       "\"\"\""
      ]
     },
     "execution_count": 17,
     "metadata": {},
     "output_type": "execute_result"
    }
   ],
   "source": [
    "X2_train = sm.add_constant(X_train)\n",
    "ols_result = sm.OLS(y_train, X2_train).fit()\n",
    "ols_result.summary()"
   ]
  },
  {
   "cell_type": "markdown",
   "metadata": {},
   "source": [
    "#### Partial dependence plots"
   ]
  },
  {
   "cell_type": "code",
   "execution_count": null,
   "metadata": {},
   "outputs": [],
   "source": []
  }
 ],
 "metadata": {
  "kernelspec": {
   "display_name": "Python 3",
   "language": "python",
   "name": "python3"
  },
  "language_info": {
   "codemirror_mode": {
    "name": "ipython",
    "version": 3
   },
   "file_extension": ".py",
   "mimetype": "text/x-python",
   "name": "python",
   "nbconvert_exporter": "python",
   "pygments_lexer": "ipython3",
   "version": "3.8.5"
  }
 },
 "nbformat": 4,
 "nbformat_minor": 5
}
